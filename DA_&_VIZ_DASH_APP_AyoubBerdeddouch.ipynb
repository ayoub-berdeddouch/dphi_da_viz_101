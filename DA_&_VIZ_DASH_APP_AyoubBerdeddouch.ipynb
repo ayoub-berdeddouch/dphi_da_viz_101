{
 "cells": [
  {
   "cell_type": "code",
   "execution_count": 129,
   "metadata": {
    "ExecuteTime": {
     "end_time": "2021-03-23T17:55:12.643762Z",
     "start_time": "2021-03-23T17:55:12.632767Z"
    },
    "id": "yqaRGJMOdRb-"
   },
   "outputs": [],
   "source": [
    "import numpy as np\n",
    "import pandas as pd\n",
    "import matplotlib.pyplot as plt\n",
    "import seaborn as sns\n",
    "import bokeh\n",
    "import plotly\n",
    "import plotly.express as px\n",
    "import plotly.graph_objects as go\n",
    "import plotly.offline as py"
   ]
  },
  {
   "cell_type": "code",
   "execution_count": 130,
   "metadata": {
    "ExecuteTime": {
     "end_time": "2021-03-23T17:55:12.659750Z",
     "start_time": "2021-03-23T17:55:12.646759Z"
    },
    "id": "BzJS7_E1dnxn"
   },
   "outputs": [],
   "source": [
    "#!pip install dash \n",
    "#import dash"
   ]
  },
  {
   "cell_type": "markdown",
   "metadata": {
    "id": "00IJ1Sz_-o2P"
   },
   "source": [
    "# Overview\n",
    "Throughout this assignment, you will be performing certain well-defined tasks that’ll not only strengthen your concepts of Plotly and Dash, but will also help you learn a number of new concepts that are useful in analyzing, summarizing and visualizing data in the real world. \n",
    "\n",
    "Here is a template notebook with all the tasks mentioned in detail. **Please complete the tasks within the designated section only.**\n"
   ]
  },
  {
   "cell_type": "markdown",
   "metadata": {
    "id": "ZTfhIScP_AHG"
   },
   "source": [
    "## Task 1: Data Loading and Data Aggregation\n",
    "* Load the 3 data files into the variables data_18, data_19, data_20. \n",
    "\n",
    "* Data aggregation is the process of gathering data and presenting it in a summarized format. The data may be gathered from multiple data sources with the intent of combining these data sources into a summary for data analysis.         \n",
    "Similar to how this dataset involves 3 data files, you’ll often be working on combining information from 2 or more files and analysing it. More often than not, GroupBy is a very useful tool for this purpose. \n",
    "\n",
    "  Go through this article to learn more some helpful aggregation tools in Python: https://www.bmc.com/blogs/pandas-group-merge-concatenate-join/ \n",
    "\n",
    "  **You don't need to aggregate/ merge the datasets in this assignment, it is only for reading purposes.**"
   ]
  },
  {
   "cell_type": "code",
   "execution_count": 131,
   "metadata": {
    "ExecuteTime": {
     "end_time": "2021-03-23T17:55:14.570544Z",
     "start_time": "2021-03-23T17:55:12.676741Z"
    },
    "id": "dJJ-zNZl-HzF"
   },
   "outputs": [],
   "source": [
    "data_2018 = pd.read_csv('https://raw.githubusercontent.com/dphi-official/Datasets/master/IT_Salary_Survey_EU_18-20/Survey_2018.csv')\n",
    "data_2019 = pd.read_csv('https://raw.githubusercontent.com/dphi-official/Datasets/master/IT_Salary_Survey_EU_18-20/Survey_2019.csv')\n",
    "data_2020 = pd.read_csv('https://raw.githubusercontent.com/dphi-official/Datasets/master/IT_Salary_Survey_EU_18-20/Survey_2020.csv')\n"
   ]
  },
  {
   "cell_type": "markdown",
   "metadata": {
    "id": "Bfin9S4pACEA"
   },
   "source": [
    "## Task 2: Data Analysis\n",
    "* Display the first 5 rows of the 2018 survey data\n",
    "* Display a concise summary of the 2020 data and list out 3 observations/inferences that you observe from the result. For this you will need to use the info() method.\n",
    "* Display the descriptive statistics of the 2018 survey data\n",
    "* Display the number of missing values in each column of the 2018 survey data\n",
    "How many people responded to the survey in each of the 3 years? Has the number increased or decreased over the years?\n",
    "* Display all the unique values and their frequency in the column - “Number of vacation days” of 2020 data. Write down your observations (at least one) for this result. \n"
   ]
  },
  {
   "cell_type": "code",
   "execution_count": 132,
   "metadata": {
    "ExecuteTime": {
     "end_time": "2021-03-23T17:55:14.601221Z",
     "start_time": "2021-03-23T17:55:14.570544Z"
    },
    "colab": {
     "base_uri": "https://localhost:8080/",
     "height": 302
    },
    "id": "I0uRKB6QAW3O",
    "outputId": "12d8e7a4-b69d-4003-e313-1cd98ea451f4"
   },
   "outputs": [
    {
     "data": {
      "text/html": [
       "<div>\n",
       "<style scoped>\n",
       "    .dataframe tbody tr th:only-of-type {\n",
       "        vertical-align: middle;\n",
       "    }\n",
       "\n",
       "    .dataframe tbody tr th {\n",
       "        vertical-align: top;\n",
       "    }\n",
       "\n",
       "    .dataframe thead th {\n",
       "        text-align: right;\n",
       "    }\n",
       "</style>\n",
       "<table border=\"1\" class=\"dataframe\">\n",
       "  <thead>\n",
       "    <tr style=\"text-align: right;\">\n",
       "      <th></th>\n",
       "      <th>Timestamp</th>\n",
       "      <th>Age</th>\n",
       "      <th>Gender</th>\n",
       "      <th>City</th>\n",
       "      <th>Position</th>\n",
       "      <th>Years of experience</th>\n",
       "      <th>Your level</th>\n",
       "      <th>Current Salary</th>\n",
       "      <th>Salary one year ago</th>\n",
       "      <th>Salary two years ago</th>\n",
       "      <th>Are you getting any Stock Options?</th>\n",
       "      <th>Main language at work</th>\n",
       "      <th>Company size</th>\n",
       "      <th>Company type</th>\n",
       "    </tr>\n",
       "  </thead>\n",
       "  <tbody>\n",
       "    <tr>\n",
       "      <th>0</th>\n",
       "      <td>14/12/2018 12:41:33</td>\n",
       "      <td>43.0</td>\n",
       "      <td>M</td>\n",
       "      <td>München</td>\n",
       "      <td>QA Ingenieur</td>\n",
       "      <td>11.0</td>\n",
       "      <td>Senior</td>\n",
       "      <td>77000.0</td>\n",
       "      <td>76200.0</td>\n",
       "      <td>68000.0</td>\n",
       "      <td>No</td>\n",
       "      <td>Deutsch</td>\n",
       "      <td>100-1000</td>\n",
       "      <td>Product</td>\n",
       "    </tr>\n",
       "    <tr>\n",
       "      <th>1</th>\n",
       "      <td>14/12/2018 12:42:09</td>\n",
       "      <td>33.0</td>\n",
       "      <td>F</td>\n",
       "      <td>München</td>\n",
       "      <td>Senior PHP Magento developer</td>\n",
       "      <td>8.0</td>\n",
       "      <td>Senior</td>\n",
       "      <td>65000.0</td>\n",
       "      <td>55000.0</td>\n",
       "      <td>55000.0</td>\n",
       "      <td>No</td>\n",
       "      <td>Deutsch</td>\n",
       "      <td>50-100</td>\n",
       "      <td>Product</td>\n",
       "    </tr>\n",
       "    <tr>\n",
       "      <th>2</th>\n",
       "      <td>14/12/2018 12:47:36</td>\n",
       "      <td>32.0</td>\n",
       "      <td>M</td>\n",
       "      <td>München</td>\n",
       "      <td>Software Engineer</td>\n",
       "      <td>10.0</td>\n",
       "      <td>Senior</td>\n",
       "      <td>88000.0</td>\n",
       "      <td>73000.0</td>\n",
       "      <td>54000.0</td>\n",
       "      <td>No</td>\n",
       "      <td>Deutsch</td>\n",
       "      <td>1000+</td>\n",
       "      <td>Product</td>\n",
       "    </tr>\n",
       "    <tr>\n",
       "      <th>3</th>\n",
       "      <td>14/12/2018 12:50:15</td>\n",
       "      <td>25.0</td>\n",
       "      <td>M</td>\n",
       "      <td>München</td>\n",
       "      <td>Senior Frontend Developer</td>\n",
       "      <td>6.0</td>\n",
       "      <td>Senior</td>\n",
       "      <td>78000.0</td>\n",
       "      <td>55000.0</td>\n",
       "      <td>45000.0</td>\n",
       "      <td>Yes</td>\n",
       "      <td>English</td>\n",
       "      <td>1000+</td>\n",
       "      <td>Product</td>\n",
       "    </tr>\n",
       "    <tr>\n",
       "      <th>4</th>\n",
       "      <td>14/12/2018 12:50:31</td>\n",
       "      <td>39.0</td>\n",
       "      <td>M</td>\n",
       "      <td>München</td>\n",
       "      <td>UX Designer</td>\n",
       "      <td>10.0</td>\n",
       "      <td>Senior</td>\n",
       "      <td>69000.0</td>\n",
       "      <td>60000.0</td>\n",
       "      <td>52000.0</td>\n",
       "      <td>No</td>\n",
       "      <td>English</td>\n",
       "      <td>100-1000</td>\n",
       "      <td>Ecom retailer</td>\n",
       "    </tr>\n",
       "  </tbody>\n",
       "</table>\n",
       "</div>"
      ],
      "text/plain": [
       "             Timestamp   Age Gender     City                       Position  \\\n",
       "0  14/12/2018 12:41:33  43.0      M  München                   QA Ingenieur   \n",
       "1  14/12/2018 12:42:09  33.0      F  München  Senior PHP Magento developer    \n",
       "2  14/12/2018 12:47:36  32.0      M  München              Software Engineer   \n",
       "3  14/12/2018 12:50:15  25.0      M  München      Senior Frontend Developer   \n",
       "4  14/12/2018 12:50:31  39.0      M  München                    UX Designer   \n",
       "\n",
       "   Years of experience Your level  Current Salary  Salary one year ago  \\\n",
       "0                 11.0     Senior         77000.0              76200.0   \n",
       "1                  8.0     Senior         65000.0              55000.0   \n",
       "2                 10.0     Senior         88000.0              73000.0   \n",
       "3                  6.0     Senior         78000.0              55000.0   \n",
       "4                 10.0     Senior         69000.0              60000.0   \n",
       "\n",
       "   Salary two years ago Are you getting any Stock Options?  \\\n",
       "0               68000.0                                 No   \n",
       "1               55000.0                                 No   \n",
       "2               54000.0                                 No   \n",
       "3               45000.0                                Yes   \n",
       "4               52000.0                                 No   \n",
       "\n",
       "  Main language at work Company size   Company type  \n",
       "0               Deutsch     100-1000        Product  \n",
       "1               Deutsch       50-100        Product  \n",
       "2               Deutsch        1000+        Product  \n",
       "3               English        1000+        Product  \n",
       "4               English     100-1000  Ecom retailer  "
      ]
     },
     "execution_count": 132,
     "metadata": {},
     "output_type": "execute_result"
    }
   ],
   "source": [
    "data_2018.head()"
   ]
  },
  {
   "cell_type": "code",
   "execution_count": 133,
   "metadata": {
    "ExecuteTime": {
     "end_time": "2021-03-23T17:55:14.633183Z",
     "start_time": "2021-03-23T17:55:14.604203Z"
    },
    "colab": {
     "base_uri": "https://localhost:8080/"
    },
    "id": "dURTFU4Jf-wD",
    "outputId": "f9376ef1-2443-4976-cb7e-06a4d85362ba"
   },
   "outputs": [
    {
     "name": "stdout",
     "output_type": "stream",
     "text": [
      "<class 'pandas.core.frame.DataFrame'>\n",
      "RangeIndex: 765 entries, 0 to 764\n",
      "Data columns (total 14 columns):\n",
      " #   Column                              Non-Null Count  Dtype  \n",
      "---  ------                              --------------  -----  \n",
      " 0   Timestamp                           765 non-null    object \n",
      " 1   Age                                 672 non-null    float64\n",
      " 2   Gender                              751 non-null    object \n",
      " 3   City                                736 non-null    object \n",
      " 4   Position                            737 non-null    object \n",
      " 5   Years of experience                 732 non-null    float64\n",
      " 6   Your level                          743 non-null    object \n",
      " 7   Current Salary                      750 non-null    float64\n",
      " 8   Salary one year ago                 596 non-null    float64\n",
      " 9   Salary two years ago                463 non-null    float64\n",
      " 10  Are you getting any Stock Options?  742 non-null    object \n",
      " 11  Main language at work               750 non-null    object \n",
      " 12  Company size                        750 non-null    object \n",
      " 13  Company type                        730 non-null    object \n",
      "dtypes: float64(5), object(9)\n",
      "memory usage: 83.8+ KB\n"
     ]
    }
   ],
   "source": [
    "data_2018.info()"
   ]
  },
  {
   "cell_type": "code",
   "execution_count": 134,
   "metadata": {
    "ExecuteTime": {
     "end_time": "2021-03-23T17:55:14.679156Z",
     "start_time": "2021-03-23T17:55:14.636182Z"
    },
    "colab": {
     "base_uri": "https://localhost:8080/",
     "height": 288
    },
    "id": "1mXFTKZXggsy",
    "outputId": "260bd776-54b7-4310-bd43-376331c2b9f1"
   },
   "outputs": [
    {
     "data": {
      "text/html": [
       "<div>\n",
       "<style scoped>\n",
       "    .dataframe tbody tr th:only-of-type {\n",
       "        vertical-align: middle;\n",
       "    }\n",
       "\n",
       "    .dataframe tbody tr th {\n",
       "        vertical-align: top;\n",
       "    }\n",
       "\n",
       "    .dataframe thead th {\n",
       "        text-align: right;\n",
       "    }\n",
       "</style>\n",
       "<table border=\"1\" class=\"dataframe\">\n",
       "  <thead>\n",
       "    <tr style=\"text-align: right;\">\n",
       "      <th></th>\n",
       "      <th>Age</th>\n",
       "      <th>Years of experience</th>\n",
       "      <th>Current Salary</th>\n",
       "      <th>Salary one year ago</th>\n",
       "      <th>Salary two years ago</th>\n",
       "    </tr>\n",
       "  </thead>\n",
       "  <tbody>\n",
       "    <tr>\n",
       "      <th>count</th>\n",
       "      <td>672.000000</td>\n",
       "      <td>732.000000</td>\n",
       "      <td>750.000000</td>\n",
       "      <td>596.000000</td>\n",
       "      <td>463.000000</td>\n",
       "    </tr>\n",
       "    <tr>\n",
       "      <th>mean</th>\n",
       "      <td>32.183036</td>\n",
       "      <td>8.548497</td>\n",
       "      <td>68381.765333</td>\n",
       "      <td>62187.278523</td>\n",
       "      <td>58013.475162</td>\n",
       "    </tr>\n",
       "    <tr>\n",
       "      <th>std</th>\n",
       "      <td>5.107268</td>\n",
       "      <td>4.729557</td>\n",
       "      <td>21196.306557</td>\n",
       "      <td>20163.008663</td>\n",
       "      <td>20413.048908</td>\n",
       "    </tr>\n",
       "    <tr>\n",
       "      <th>min</th>\n",
       "      <td>21.000000</td>\n",
       "      <td>0.000000</td>\n",
       "      <td>10300.000000</td>\n",
       "      <td>10001.000000</td>\n",
       "      <td>10001.000000</td>\n",
       "    </tr>\n",
       "    <tr>\n",
       "      <th>25%</th>\n",
       "      <td>29.000000</td>\n",
       "      <td>5.000000</td>\n",
       "      <td>57000.000000</td>\n",
       "      <td>52000.000000</td>\n",
       "      <td>48000.000000</td>\n",
       "    </tr>\n",
       "    <tr>\n",
       "      <th>50%</th>\n",
       "      <td>32.000000</td>\n",
       "      <td>8.000000</td>\n",
       "      <td>65000.000000</td>\n",
       "      <td>60000.000000</td>\n",
       "      <td>56000.000000</td>\n",
       "    </tr>\n",
       "    <tr>\n",
       "      <th>75%</th>\n",
       "      <td>35.000000</td>\n",
       "      <td>11.000000</td>\n",
       "      <td>75000.000000</td>\n",
       "      <td>70000.000000</td>\n",
       "      <td>67000.000000</td>\n",
       "    </tr>\n",
       "    <tr>\n",
       "      <th>max</th>\n",
       "      <td>60.000000</td>\n",
       "      <td>38.000000</td>\n",
       "      <td>200000.000000</td>\n",
       "      <td>200000.000000</td>\n",
       "      <td>150000.000000</td>\n",
       "    </tr>\n",
       "  </tbody>\n",
       "</table>\n",
       "</div>"
      ],
      "text/plain": [
       "              Age  Years of experience  Current Salary  Salary one year ago  \\\n",
       "count  672.000000           732.000000      750.000000           596.000000   \n",
       "mean    32.183036             8.548497    68381.765333         62187.278523   \n",
       "std      5.107268             4.729557    21196.306557         20163.008663   \n",
       "min     21.000000             0.000000    10300.000000         10001.000000   \n",
       "25%     29.000000             5.000000    57000.000000         52000.000000   \n",
       "50%     32.000000             8.000000    65000.000000         60000.000000   \n",
       "75%     35.000000            11.000000    75000.000000         70000.000000   \n",
       "max     60.000000            38.000000   200000.000000        200000.000000   \n",
       "\n",
       "       Salary two years ago  \n",
       "count            463.000000  \n",
       "mean           58013.475162  \n",
       "std            20413.048908  \n",
       "min            10001.000000  \n",
       "25%            48000.000000  \n",
       "50%            56000.000000  \n",
       "75%            67000.000000  \n",
       "max           150000.000000  "
      ]
     },
     "execution_count": 134,
     "metadata": {},
     "output_type": "execute_result"
    }
   ],
   "source": [
    "data_2018.describe()"
   ]
  },
  {
   "cell_type": "code",
   "execution_count": 135,
   "metadata": {
    "ExecuteTime": {
     "end_time": "2021-03-23T17:55:14.709138Z",
     "start_time": "2021-03-23T17:55:14.684154Z"
    },
    "colab": {
     "base_uri": "https://localhost:8080/"
    },
    "id": "4AsZke1CgqBj",
    "outputId": "9d784d5f-1151-43ae-dbb7-58dd396bd657"
   },
   "outputs": [
    {
     "data": {
      "text/plain": [
       "Timestamp                               0\n",
       "Age                                    93\n",
       "Gender                                 14\n",
       "City                                   29\n",
       "Position                               28\n",
       "Years of experience                    33\n",
       "Your level                             22\n",
       "Current Salary                         15\n",
       "Salary one year ago                   169\n",
       "Salary two years ago                  302\n",
       "Are you getting any Stock Options?     23\n",
       "Main language at work                  15\n",
       "Company size                           15\n",
       "Company type                           35\n",
       "dtype: int64"
      ]
     },
     "execution_count": 135,
     "metadata": {},
     "output_type": "execute_result"
    }
   ],
   "source": [
    "data_2018.isnull().sum()"
   ]
  },
  {
   "cell_type": "code",
   "execution_count": 136,
   "metadata": {
    "ExecuteTime": {
     "end_time": "2021-03-23T17:55:14.741122Z",
     "start_time": "2021-03-23T17:55:14.713136Z"
    },
    "colab": {
     "base_uri": "https://localhost:8080/"
    },
    "id": "EbVoLtSohhRs",
    "outputId": "8bd9b9ef-08d0-4fc3-d946-11f45da9c28e"
   },
   "outputs": [
    {
     "data": {
      "text/plain": [
       "Zeitstempel                                                                                               0\n",
       "Age                                                                                                     109\n",
       "Gender                                                                                                    0\n",
       "City                                                                                                      0\n",
       "Seniority level                                                                                          15\n",
       "Position (without seniority)                                                                              1\n",
       "Years of experience                                                                                       0\n",
       "Your main technology / programming language                                                              14\n",
       "Yearly brutto salary (without bonus and stocks)                                                           1\n",
       "Yearly bonus                                                                                            461\n",
       "Yearly stocks                                                                                           788\n",
       "Yearly brutto salary (without bonus and stocks) one year ago. Only answer if staying in same country    388\n",
       "Yearly bonus one year ago. Only answer if staying in same country                                       734\n",
       "Yearly stocks one year ago. Only answer if staying in same country                                      852\n",
       "Number of vacation days                                                                                  60\n",
       "Number of home office days per month                                                                    352\n",
       "Main language at work                                                                                     5\n",
       "Company name                                                                                            734\n",
       "Company size                                                                                             14\n",
       "Company type                                                                                             31\n",
       "Сontract duration                                                                                        29\n",
       "Company business sector                                                                                 145\n",
       "0                                                                                                       991\n",
       "dtype: int64"
      ]
     },
     "execution_count": 136,
     "metadata": {},
     "output_type": "execute_result"
    }
   ],
   "source": [
    "data_2019.isnull().sum()"
   ]
  },
  {
   "cell_type": "code",
   "execution_count": 137,
   "metadata": {
    "ExecuteTime": {
     "end_time": "2021-03-23T17:55:14.773101Z",
     "start_time": "2021-03-23T17:55:14.744118Z"
    },
    "colab": {
     "base_uri": "https://localhost:8080/"
    },
    "id": "lPUb5SoVhpfp",
    "outputId": "59e60b2b-4312-4256-8bd6-d6141d363788"
   },
   "outputs": [
    {
     "data": {
      "text/plain": [
       "Timestamp                                                                                                                    0\n",
       "Age                                                                                                                         27\n",
       "Gender                                                                                                                      10\n",
       "City                                                                                                                         0\n",
       "Position                                                                                                                     6\n",
       "Total years of experience                                                                                                   16\n",
       "Years of experience in Germany                                                                                              32\n",
       "Seniority level                                                                                                             12\n",
       "Your main technology / programming language                                                                                127\n",
       "Other technologies/programming languages you use often                                                                     157\n",
       "Yearly brutto salary (without bonus and stocks) in EUR                                                                       0\n",
       "Yearly bonus + stocks in EUR                                                                                               424\n",
       "Annual brutto salary (without bonus and stocks) one year ago. Only answer if staying in the same country                   368\n",
       "Annual bonus+stocks one year ago. Only answer if staying in same country                                                   639\n",
       "Number of vacation days                                                                                                     68\n",
       "Employment status                                                                                                           17\n",
       "Сontract duration                                                                                                           29\n",
       "Main language at work                                                                                                       16\n",
       "Company size                                                                                                                18\n",
       "Company type                                                                                                                25\n",
       "Have you lost your job due to the coronavirus outbreak?                                                                     20\n",
       "Have you been forced to have a shorter working week (Kurzarbeit)? If yes, how many hours per week                          880\n",
       "Have you received additional monetary support from your employer due to Work From Home? If yes, how much in 2020 in EUR    791\n",
       "dtype: int64"
      ]
     },
     "execution_count": 137,
     "metadata": {},
     "output_type": "execute_result"
    }
   ],
   "source": [
    "data_2020.isnull().sum()"
   ]
  },
  {
   "cell_type": "markdown",
   "metadata": {
    "id": "1vgiXrDkjU-N"
   },
   "source": [
    "**The number of Null rows has grown through the years**"
   ]
  },
  {
   "cell_type": "code",
   "execution_count": 138,
   "metadata": {
    "ExecuteTime": {
     "end_time": "2021-03-23T17:55:14.789093Z",
     "start_time": "2021-03-23T17:55:14.778098Z"
    },
    "colab": {
     "base_uri": "https://localhost:8080/"
    },
    "id": "AOzBQ8HqiWtw",
    "outputId": "1f204f8d-e8d5-4475-d59d-566080694fc6"
   },
   "outputs": [
    {
     "data": {
      "text/plain": [
       "30                                              488\n",
       "28                                              233\n",
       "27                                              102\n",
       "25                                               91\n",
       "26                                               71\n",
       "24                                               67\n",
       "29                                               24\n",
       "20                                               13\n",
       "21                                               10\n",
       "32                                                8\n",
       "22                                                8\n",
       "31                                                8\n",
       "35                                                5\n",
       "36                                                5\n",
       "23                                                4\n",
       "40                                                4\n",
       "0                                                 4\n",
       "14                                                3\n",
       "33                                                3\n",
       "unlimited                                         3\n",
       "45                                                3\n",
       "unlimited                                         2\n",
       "15                                                2\n",
       "12                                                2\n",
       "Unlimited                                         2\n",
       "(no idea)                                         1\n",
       "3                                                 1\n",
       "99                                                1\n",
       "~25                                               1\n",
       "23+                                               1\n",
       "16                                                1\n",
       "1                                                 1\n",
       "5                                                 1\n",
       "365                                               1\n",
       "37.5                                              1\n",
       "38                                                1\n",
       "34                                                1\n",
       "60                                                1\n",
       "Unlimited                                         1\n",
       "30 in contract (but theoretically unlimited)      1\n",
       "50                                                1\n",
       "39                                                1\n",
       "10                                                1\n",
       "37                                                1\n",
       "24 labour days                                    1\n",
       "Name: Number of vacation days, dtype: int64"
      ]
     },
     "execution_count": 138,
     "metadata": {},
     "output_type": "execute_result"
    }
   ],
   "source": [
    "data_2020['Number of vacation days'].value_counts()"
   ]
  },
  {
   "cell_type": "markdown",
   "metadata": {
    "id": "EH5a6ktjj08Y"
   },
   "source": [
    "**the unique values of this column goes from 1 day to unlimetted for some reaseons and there are some missing values= 68ones**"
   ]
  },
  {
   "cell_type": "markdown",
   "metadata": {
    "id": "wptPzyquAXbR"
   },
   "source": [
    "## Task 3: Data Cleaning\n",
    "* Rename the column ‘Position ‘ in the 2020 data to ‘Position’. (without the blank space)\n",
    "* Check for missing values in 2020 data for all the columns. If there are no missing values, proceed to the next step. If there are missing values in the dataset,\n",
    "  * For categorical variables, fill the missing values with the mode of the data. Remember if the data type of any variable is ‘object’, it is categorical variable. \n",
    "  * For numerical variables, fill the missing values with the mean of the data.\n",
    "\n",
    "Here's a good blog that displays multiple methods of filling (imputing) missing values: https://jamesrledoux.com/code/imputation \n",
    "* Drop the timestamp column for all the three years data since the date and time at which a person filled the survey is irrelevant to us. The year matters and we already know that from the dataset’s name.\n",
    "* Perform any other data cleaning steps you believe are necessary. (removing outliers, handling missing values in a way to beautify visualizations, making the categories uniform i.e python and Python should mean the same thing etc.) Note that the same steps will have to be performed for all 3 data files."
   ]
  },
  {
   "cell_type": "code",
   "execution_count": 139,
   "metadata": {
    "ExecuteTime": {
     "end_time": "2021-03-23T17:55:14.819075Z",
     "start_time": "2021-03-23T17:55:14.793090Z"
    },
    "id": "gID97unM78N_"
   },
   "outputs": [],
   "source": [
    "data_2020.rename(columns = {'Position ':'Position'}, inplace = True)"
   ]
  },
  {
   "cell_type": "code",
   "execution_count": 140,
   "metadata": {
    "ExecuteTime": {
     "end_time": "2021-03-23T17:55:14.835065Z",
     "start_time": "2021-03-23T17:55:14.822073Z"
    },
    "colab": {
     "base_uri": "https://localhost:8080/"
    },
    "id": "Eqjj9eYhCP3T",
    "outputId": "6549a6f9-2502-432b-ff5f-6e7c4ff0d79b"
   },
   "outputs": [
    {
     "data": {
      "text/plain": [
       "Timestamp                                                                                                                    0\n",
       "Age                                                                                                                         27\n",
       "Gender                                                                                                                      10\n",
       "City                                                                                                                         0\n",
       "Position                                                                                                                     6\n",
       "Total years of experience                                                                                                   16\n",
       "Years of experience in Germany                                                                                              32\n",
       "Seniority level                                                                                                             12\n",
       "Your main technology / programming language                                                                                127\n",
       "Other technologies/programming languages you use often                                                                     157\n",
       "Yearly brutto salary (without bonus and stocks) in EUR                                                                       0\n",
       "Yearly bonus + stocks in EUR                                                                                               424\n",
       "Annual brutto salary (without bonus and stocks) one year ago. Only answer if staying in the same country                   368\n",
       "Annual bonus+stocks one year ago. Only answer if staying in same country                                                   639\n",
       "Number of vacation days                                                                                                     68\n",
       "Employment status                                                                                                           17\n",
       "Сontract duration                                                                                                           29\n",
       "Main language at work                                                                                                       16\n",
       "Company size                                                                                                                18\n",
       "Company type                                                                                                                25\n",
       "Have you lost your job due to the coronavirus outbreak?                                                                     20\n",
       "Have you been forced to have a shorter working week (Kurzarbeit)? If yes, how many hours per week                          880\n",
       "Have you received additional monetary support from your employer due to Work From Home? If yes, how much in 2020 in EUR    791\n",
       "dtype: int64"
      ]
     },
     "execution_count": 140,
     "metadata": {},
     "output_type": "execute_result"
    }
   ],
   "source": [
    "# checking missing values\n",
    "data_2020.isnull().sum()"
   ]
  },
  {
   "cell_type": "code",
   "execution_count": 141,
   "metadata": {
    "ExecuteTime": {
     "end_time": "2021-03-23T17:55:14.867046Z",
     "start_time": "2021-03-23T17:55:14.837064Z"
    },
    "colab": {
     "base_uri": "https://localhost:8080/"
    },
    "id": "9dwB6RN8k6Hm",
    "outputId": "af7f4f3b-d34b-46b8-89d9-98ec89bbce4f"
   },
   "outputs": [
    {
     "name": "stdout",
     "output_type": "stream",
     "text": [
      "<class 'pandas.core.frame.DataFrame'>\n",
      "RangeIndex: 1253 entries, 0 to 1252\n",
      "Data columns (total 23 columns):\n",
      " #   Column                                                                                                                   Non-Null Count  Dtype  \n",
      "---  ------                                                                                                                   --------------  -----  \n",
      " 0   Timestamp                                                                                                                1253 non-null   object \n",
      " 1   Age                                                                                                                      1226 non-null   float64\n",
      " 2   Gender                                                                                                                   1243 non-null   object \n",
      " 3   City                                                                                                                     1253 non-null   object \n",
      " 4   Position                                                                                                                 1247 non-null   object \n",
      " 5   Total years of experience                                                                                                1237 non-null   object \n",
      " 6   Years of experience in Germany                                                                                           1221 non-null   object \n",
      " 7   Seniority level                                                                                                          1241 non-null   object \n",
      " 8   Your main technology / programming language                                                                              1126 non-null   object \n",
      " 9   Other technologies/programming languages you use often                                                                   1096 non-null   object \n",
      " 10  Yearly brutto salary (without bonus and stocks) in EUR                                                                   1253 non-null   float64\n",
      " 11  Yearly bonus + stocks in EUR                                                                                             829 non-null    object \n",
      " 12  Annual brutto salary (without bonus and stocks) one year ago. Only answer if staying in the same country                 885 non-null    float64\n",
      " 13  Annual bonus+stocks one year ago. Only answer if staying in same country                                                 614 non-null    object \n",
      " 14  Number of vacation days                                                                                                  1185 non-null   object \n",
      " 15  Employment status                                                                                                        1236 non-null   object \n",
      " 16  Сontract duration                                                                                                        1224 non-null   object \n",
      " 17  Main language at work                                                                                                    1237 non-null   object \n",
      " 18  Company size                                                                                                             1235 non-null   object \n",
      " 19  Company type                                                                                                             1228 non-null   object \n",
      " 20  Have you lost your job due to the coronavirus outbreak?                                                                  1233 non-null   object \n",
      " 21  Have you been forced to have a shorter working week (Kurzarbeit)? If yes, how many hours per week                        373 non-null    float64\n",
      " 22  Have you received additional monetary support from your employer due to Work From Home? If yes, how much in 2020 in EUR  462 non-null    object \n",
      "dtypes: float64(4), object(19)\n",
      "memory usage: 225.3+ KB\n"
     ]
    }
   ],
   "source": [
    "data_2020.info()"
   ]
  },
  {
   "cell_type": "code",
   "execution_count": 142,
   "metadata": {
    "ExecuteTime": {
     "end_time": "2021-03-23T17:55:14.883038Z",
     "start_time": "2021-03-23T17:55:14.870045Z"
    },
    "id": "KYmRAurw5m_O"
   },
   "outputs": [],
   "source": [
    "from sklearn.impute import SimpleImputer\n",
    "imputer_mean = SimpleImputer(missing_values=np.nan, strategy='mean')"
   ]
  },
  {
   "cell_type": "code",
   "execution_count": 143,
   "metadata": {
    "ExecuteTime": {
     "end_time": "2021-03-23T17:55:14.898030Z",
     "start_time": "2021-03-23T17:55:14.886036Z"
    },
    "colab": {
     "base_uri": "https://localhost:8080/"
    },
    "id": "FtZdmiDJ2IKf",
    "outputId": "38ac7954-11cf-49c4-9772-2b3cef4cebdc"
   },
   "outputs": [
    {
     "data": {
      "text/plain": [
       "0"
      ]
     },
     "execution_count": 143,
     "metadata": {},
     "output_type": "execute_result"
    }
   ],
   "source": [
    "# numeric features for year 2020\n",
    "features_num_2020 = ['Age',\n",
    "                'Yearly brutto salary (without bonus and stocks) in EUR',\n",
    "                'Have you been forced to have a shorter working week (Kurzarbeit)? If yes, how many hours per week',]\n",
    "\n",
    "# categorical features\n",
    "features_cat_2020 = ['Gender', 'City', 'Position',\n",
    "       'Total years of experience', 'Years of experience in Germany',\n",
    "       'Seniority level', 'Your main technology / programming language',\n",
    "       'Other technologies/programming languages you use often',\n",
    "       'Number of vacation days',\n",
    "       'Employment status', 'Сontract duration',\n",
    "       'Main language at work', 'Company size', 'Company type',\n",
    "       'Have you lost your job due to the coronavirus outbreak?',\n",
    "       'Have you been forced to have a shorter working week (Kurzarbeit)? If yes, how many hours per week',\n",
    "       'Have you received additional monetary support from your employer due to Work From Home? If yes, how much in 2020 in EUR']\n",
    "\n",
    "# features we ignore in the following\n",
    "features_not_used_2020 = ['Timestamp',\n",
    "                     'Annual brutto salary (without bonus and stocks) one year ago. Only answer if staying in the same country',\n",
    "                     'Annual bonus+stocks one year ago. Only answer if staying in same country']\n",
    "\n",
    "\n",
    "# check if we have captured all features\n",
    "len(features_cat_2020 + features_num_2020 + features_not_used_2020) - len(data_2020.columns)"
   ]
  },
  {
   "cell_type": "code",
   "execution_count": 144,
   "metadata": {
    "ExecuteTime": {
     "end_time": "2021-03-23T17:55:14.929011Z",
     "start_time": "2021-03-23T17:55:14.901027Z"
    },
    "id": "kE5UmPJp50pI"
   },
   "outputs": [],
   "source": [
    "for col in features_num_2020:\n",
    "  data_2020[col] = imputer_mean.fit_transform(data_2020[col].values.reshape(-1, 1))"
   ]
  },
  {
   "cell_type": "code",
   "execution_count": 145,
   "metadata": {
    "ExecuteTime": {
     "end_time": "2021-03-23T17:55:14.945002Z",
     "start_time": "2021-03-23T17:55:14.936008Z"
    },
    "id": "aj1LqVbE6U3R"
   },
   "outputs": [],
   "source": [
    "imputer_mode = SimpleImputer(missing_values=np.nan, strategy='most_frequent')"
   ]
  },
  {
   "cell_type": "code",
   "execution_count": 146,
   "metadata": {
    "ExecuteTime": {
     "end_time": "2021-03-23T17:55:15.024954Z",
     "start_time": "2021-03-23T17:55:14.947999Z"
    },
    "id": "rKr1GF1C-akm"
   },
   "outputs": [],
   "source": [
    "for col in features_cat_2020:\n",
    "  data_2020[col] = imputer_mode.fit_transform(data_2020[col].values.reshape(-1, 1))"
   ]
  },
  {
   "cell_type": "code",
   "execution_count": 147,
   "metadata": {
    "ExecuteTime": {
     "end_time": "2021-03-23T17:55:15.104907Z",
     "start_time": "2021-03-23T17:55:15.026953Z"
    },
    "colab": {
     "base_uri": "https://localhost:8080/"
    },
    "id": "WvWIPEURmBo4",
    "outputId": "3aa33c36-2976-42b9-f654-8cb846a81a8a"
   },
   "outputs": [
    {
     "data": {
      "text/plain": [
       "Timestamp                                                                                                                  0\n",
       "Age                                                                                                                        0\n",
       "Gender                                                                                                                     0\n",
       "City                                                                                                                       0\n",
       "Position                                                                                                                   0\n",
       "Total years of experience                                                                                                  0\n",
       "Years of experience in Germany                                                                                             0\n",
       "Seniority level                                                                                                            0\n",
       "Your main technology / programming language                                                                                0\n",
       "Other technologies/programming languages you use often                                                                     0\n",
       "Yearly brutto salary (without bonus and stocks) in EUR                                                                     0\n",
       "Yearly bonus + stocks in EUR                                                                                               0\n",
       "Annual brutto salary (without bonus and stocks) one year ago. Only answer if staying in the same country                   0\n",
       "Annual bonus+stocks one year ago. Only answer if staying in same country                                                   0\n",
       "Number of vacation days                                                                                                    0\n",
       "Employment status                                                                                                          0\n",
       "Сontract duration                                                                                                          0\n",
       "Main language at work                                                                                                      0\n",
       "Company size                                                                                                               0\n",
       "Company type                                                                                                               0\n",
       "Have you lost your job due to the coronavirus outbreak?                                                                    0\n",
       "Have you been forced to have a shorter working week (Kurzarbeit)? If yes, how many hours per week                          0\n",
       "Have you received additional monetary support from your employer due to Work From Home? If yes, how much in 2020 in EUR    0\n",
       "dtype: int64"
      ]
     },
     "execution_count": 147,
     "metadata": {},
     "output_type": "execute_result"
    }
   ],
   "source": [
    "# numeric columns\n",
    "data_2020.fillna(data_2020.select_dtypes(include='number').mean().iloc[0],inplace=True)\n",
    "\n",
    "# categorical columns\n",
    "data_2020.fillna(data_2020.select_dtypes(include='object').mode().iloc[0],inplace=True)\n",
    "\n",
    "data_2020.isnull().sum()"
   ]
  },
  {
   "cell_type": "code",
   "execution_count": 148,
   "metadata": {
    "ExecuteTime": {
     "end_time": "2021-03-23T17:55:15.120898Z",
     "start_time": "2021-03-23T17:55:15.107907Z"
    },
    "id": "rC9SQ65WlVLu"
   },
   "outputs": [],
   "source": [
    "#renaming \n",
    "data_2019.rename(columns={\"Zeitstempel\": \"Timestamp\"},inplace=True)\n",
    "#drop timestamp\n",
    "data_2018.drop('Timestamp',axis=1, inplace=True)\n",
    "data_2019.drop('Timestamp',axis=1, inplace=True)\n",
    "data_2020.drop('Timestamp',axis=1, inplace=True)\n",
    "\n"
   ]
  },
  {
   "cell_type": "code",
   "execution_count": 149,
   "metadata": {
    "ExecuteTime": {
     "end_time": "2021-03-23T17:55:15.152880Z",
     "start_time": "2021-03-23T17:55:15.123898Z"
    },
    "colab": {
     "base_uri": "https://localhost:8080/"
    },
    "id": "wz9_P0Q0rYky",
    "outputId": "50ec1b36-a7f8-4c6b-bbd6-0cdff4677d92"
   },
   "outputs": [
    {
     "data": {
      "text/plain": [
       "Age                                    93\n",
       "Gender                                 14\n",
       "City                                   29\n",
       "Position                               28\n",
       "Years of experience                    33\n",
       "Your level                             22\n",
       "Current Salary                         15\n",
       "Salary one year ago                   169\n",
       "Salary two years ago                  302\n",
       "Are you getting any Stock Options?     23\n",
       "Main language at work                  15\n",
       "Company size                           15\n",
       "Company type                           35\n",
       "dtype: int64"
      ]
     },
     "execution_count": 149,
     "metadata": {},
     "output_type": "execute_result"
    }
   ],
   "source": [
    "data_2018.isnull().sum()"
   ]
  },
  {
   "cell_type": "code",
   "execution_count": 150,
   "metadata": {
    "ExecuteTime": {
     "end_time": "2021-03-23T17:55:15.183862Z",
     "start_time": "2021-03-23T17:55:15.155878Z"
    },
    "colab": {
     "base_uri": "https://localhost:8080/"
    },
    "id": "Ai3bg_SNF6jF",
    "outputId": "6d256de9-07e5-4c02-f9dc-9d4182c0df63"
   },
   "outputs": [
    {
     "name": "stdout",
     "output_type": "stream",
     "text": [
      "<class 'pandas.core.frame.DataFrame'>\n",
      "RangeIndex: 765 entries, 0 to 764\n",
      "Data columns (total 13 columns):\n",
      " #   Column                              Non-Null Count  Dtype  \n",
      "---  ------                              --------------  -----  \n",
      " 0   Age                                 672 non-null    float64\n",
      " 1   Gender                              751 non-null    object \n",
      " 2   City                                736 non-null    object \n",
      " 3   Position                            737 non-null    object \n",
      " 4   Years of experience                 732 non-null    float64\n",
      " 5   Your level                          743 non-null    object \n",
      " 6   Current Salary                      750 non-null    float64\n",
      " 7   Salary one year ago                 596 non-null    float64\n",
      " 8   Salary two years ago                463 non-null    float64\n",
      " 9   Are you getting any Stock Options?  742 non-null    object \n",
      " 10  Main language at work               750 non-null    object \n",
      " 11  Company size                        750 non-null    object \n",
      " 12  Company type                        730 non-null    object \n",
      "dtypes: float64(5), object(8)\n",
      "memory usage: 77.8+ KB\n"
     ]
    }
   ],
   "source": [
    "data_2018.info()"
   ]
  },
  {
   "cell_type": "code",
   "execution_count": 151,
   "metadata": {
    "ExecuteTime": {
     "end_time": "2021-03-23T17:55:15.198852Z",
     "start_time": "2021-03-23T17:55:15.186860Z"
    },
    "id": "wBy-vj8MIUGi"
   },
   "outputs": [],
   "source": [
    "data_2019.drop(['0'],axis=1,inplace=True)\n",
    "data_2018.rename(columns = {'Your level':'Seniority level'}, inplace = True)\n",
    "data_2019.rename(columns = {'Position (without seniority)':'Position'}, inplace = True)\n",
    "data_2019.rename(columns = {'Company name ':'Company name'}, inplace = True)"
   ]
  },
  {
   "cell_type": "code",
   "execution_count": 152,
   "metadata": {
    "ExecuteTime": {
     "end_time": "2021-03-23T17:55:15.214843Z",
     "start_time": "2021-03-23T17:55:15.202850Z"
    },
    "id": "55h0lnm-GPev"
   },
   "outputs": [],
   "source": [
    "features_num_2018 = ['Age', 'Years of experience',\n",
    "                     'Current Salary', 'Salary one year ago','Salary two years ago']\n",
    "features_cat_2018 = ['Gender', 'City','Position','Seniority level', 'Are you getting any Stock Options?','Main language at work','Company size','Company type']\n",
    "\n",
    "features_num_2019 = ['Age', 'Years of experience',\n",
    "                     'Number of vacation days','Number of home office days per month']\n",
    "\n",
    "features_cat_2019 = ['Gender', 'City','Position','Seniority level', 'Your main technology / programming language',\n",
    "                     'Main language at work','Company size','Company type','Company name',\n",
    "                     'Сontract duration','Company business sector']\n",
    "\n",
    "features_not_used_2019 = ['Yearly brutto salary (without bonus and stocks)','Yearly bonus','Yearly stocks',\n",
    "                          'Yearly brutto salary (without bonus and stocks) one year ago. Only answer if staying in same country',\n",
    "                          'Yearly bonus one year ago. Only answer if staying in same country',\n",
    "                          'Yearly stocks one year ago. Only answer if staying in same country',\n",
    "\n",
    "                          ]"
   ]
  },
  {
   "cell_type": "code",
   "execution_count": 153,
   "metadata": {
    "ExecuteTime": {
     "end_time": "2021-03-23T17:55:15.262815Z",
     "start_time": "2021-03-23T17:55:15.222841Z"
    },
    "id": "6JNkSXspF4cG"
   },
   "outputs": [],
   "source": [
    "# numerical\n",
    "for col in features_num_2018:\n",
    "  data_2018[col] = imputer_mean.fit_transform(data_2018[col].values.reshape(-1, 1))\n",
    "\n",
    "# categorical\n",
    "for col in features_cat_2018:\n",
    "  data_2018[col] = imputer_mode.fit_transform(data_2018[col].values.reshape(-1, 1))"
   ]
  },
  {
   "cell_type": "code",
   "execution_count": 154,
   "metadata": {
    "ExecuteTime": {
     "end_time": "2021-03-23T17:55:15.344775Z",
     "start_time": "2021-03-23T17:55:15.269813Z"
    },
    "id": "-W9Zs28CI9VA"
   },
   "outputs": [],
   "source": [
    "# numerical\n",
    "for col in features_num_2019:\n",
    "  data_2019[col] = imputer_mean.fit_transform(data_2019[col].values.reshape(-1, 1))\n",
    "\n",
    "# categorical\n",
    "for col in features_cat_2019:\n",
    "  data_2019[col] = imputer_mode.fit_transform(data_2019[col].values.reshape(-1, 1))\n",
    "\n",
    "# not used columns\n",
    "for col in features_not_used_2019:\n",
    "  data_2019[col] = imputer_mean.fit_transform(data_2019[col].values.reshape(-1, 1))\n"
   ]
  },
  {
   "cell_type": "code",
   "execution_count": 155,
   "metadata": {
    "ExecuteTime": {
     "end_time": "2021-03-23T17:55:15.373751Z",
     "start_time": "2021-03-23T17:55:15.349773Z"
    },
    "colab": {
     "base_uri": "https://localhost:8080/"
    },
    "id": "lh0d5M0DKOtC",
    "outputId": "0890f5cf-0bf9-469c-b7c3-7d82af85d2a8"
   },
   "outputs": [
    {
     "data": {
      "text/plain": [
       "Age                                   0\n",
       "Gender                                0\n",
       "City                                  0\n",
       "Position                              0\n",
       "Years of experience                   0\n",
       "Seniority level                       0\n",
       "Current Salary                        0\n",
       "Salary one year ago                   0\n",
       "Salary two years ago                  0\n",
       "Are you getting any Stock Options?    0\n",
       "Main language at work                 0\n",
       "Company size                          0\n",
       "Company type                          0\n",
       "dtype: int64"
      ]
     },
     "execution_count": 155,
     "metadata": {},
     "output_type": "execute_result"
    }
   ],
   "source": [
    "# checking missing values after\n",
    "data_2018.isnull().sum()"
   ]
  },
  {
   "cell_type": "code",
   "execution_count": 156,
   "metadata": {
    "ExecuteTime": {
     "end_time": "2021-03-23T17:55:15.389741Z",
     "start_time": "2021-03-23T17:55:15.376749Z"
    },
    "colab": {
     "base_uri": "https://localhost:8080/"
    },
    "id": "mBj82FzLKYa5",
    "outputId": "8d2a3473-f2ea-4630-dcaa-0b17242dd7f5"
   },
   "outputs": [
    {
     "data": {
      "text/plain": [
       "Age                                                                                                     0\n",
       "Gender                                                                                                  0\n",
       "City                                                                                                    0\n",
       "Seniority level                                                                                         0\n",
       "Position                                                                                                0\n",
       "Years of experience                                                                                     0\n",
       "Your main technology / programming language                                                             0\n",
       "Yearly brutto salary (without bonus and stocks)                                                         0\n",
       "Yearly bonus                                                                                            0\n",
       "Yearly stocks                                                                                           0\n",
       "Yearly brutto salary (without bonus and stocks) one year ago. Only answer if staying in same country    0\n",
       "Yearly bonus one year ago. Only answer if staying in same country                                       0\n",
       "Yearly stocks one year ago. Only answer if staying in same country                                      0\n",
       "Number of vacation days                                                                                 0\n",
       "Number of home office days per month                                                                    0\n",
       "Main language at work                                                                                   0\n",
       "Company name                                                                                            0\n",
       "Company size                                                                                            0\n",
       "Company type                                                                                            0\n",
       "Сontract duration                                                                                       0\n",
       "Company business sector                                                                                 0\n",
       "dtype: int64"
      ]
     },
     "execution_count": 156,
     "metadata": {},
     "output_type": "execute_result"
    }
   ],
   "source": [
    "# checking missing values after\n",
    "data_2019.isnull().sum()"
   ]
  },
  {
   "cell_type": "code",
   "execution_count": 157,
   "metadata": {
    "ExecuteTime": {
     "end_time": "2021-03-23T17:55:15.419723Z",
     "start_time": "2021-03-23T17:55:15.392740Z"
    },
    "colab": {
     "base_uri": "https://localhost:8080/"
    },
    "id": "7yS0R9wHuZa9",
    "outputId": "a8e0ecdc-020e-4889-e15a-b19d4d252b1e"
   },
   "outputs": [
    {
     "data": {
      "text/plain": [
       "Age                                                                                                                        0\n",
       "Gender                                                                                                                     0\n",
       "City                                                                                                                       0\n",
       "Position                                                                                                                   0\n",
       "Total years of experience                                                                                                  0\n",
       "Years of experience in Germany                                                                                             0\n",
       "Seniority level                                                                                                            0\n",
       "Your main technology / programming language                                                                                0\n",
       "Other technologies/programming languages you use often                                                                     0\n",
       "Yearly brutto salary (without bonus and stocks) in EUR                                                                     0\n",
       "Yearly bonus + stocks in EUR                                                                                               0\n",
       "Annual brutto salary (without bonus and stocks) one year ago. Only answer if staying in the same country                   0\n",
       "Annual bonus+stocks one year ago. Only answer if staying in same country                                                   0\n",
       "Number of vacation days                                                                                                    0\n",
       "Employment status                                                                                                          0\n",
       "Сontract duration                                                                                                          0\n",
       "Main language at work                                                                                                      0\n",
       "Company size                                                                                                               0\n",
       "Company type                                                                                                               0\n",
       "Have you lost your job due to the coronavirus outbreak?                                                                    0\n",
       "Have you been forced to have a shorter working week (Kurzarbeit)? If yes, how many hours per week                          0\n",
       "Have you received additional monetary support from your employer due to Work From Home? If yes, how much in 2020 in EUR    0\n",
       "dtype: int64"
      ]
     },
     "execution_count": 157,
     "metadata": {},
     "output_type": "execute_result"
    }
   ],
   "source": [
    "data_2020.isnull().sum()"
   ]
  },
  {
   "cell_type": "code",
   "execution_count": 158,
   "metadata": {
    "ExecuteTime": {
     "end_time": "2021-03-23T17:55:15.435715Z",
     "start_time": "2021-03-23T17:55:15.422722Z"
    },
    "colab": {
     "base_uri": "https://localhost:8080/"
    },
    "id": "hmCMJBwhty9q",
    "outputId": "adfb889e-6916-4b3b-e0d8-29c1f96d5c50"
   },
   "outputs": [
    {
     "data": {
      "text/plain": [
       "English                                  596\n",
       "Deutsch                                  134\n",
       "Russian                                   29\n",
       "French                                     2\n",
       "Polish                                     2\n",
       "Team - Russian; Cross-team - English;      1\n",
       "Deutsch/Englisch                           1\n",
       "Name: Main language at work, dtype: int64"
      ]
     },
     "execution_count": 158,
     "metadata": {},
     "output_type": "execute_result"
    }
   ],
   "source": [
    "data_2018['Main language at work'].value_counts()"
   ]
  },
  {
   "cell_type": "code",
   "execution_count": 159,
   "metadata": {
    "ExecuteTime": {
     "end_time": "2021-03-23T17:55:15.466696Z",
     "start_time": "2021-03-23T17:55:15.438713Z"
    },
    "colab": {
     "base_uri": "https://localhost:8080/"
    },
    "id": "RPmBD3BWPvEO",
    "outputId": "fdcd4aa1-8209-4e29-bd46-bd63ce0786cf"
   },
   "outputs": [
    {
     "data": {
      "text/plain": [
       "array(['TypeScript', 'Ruby', 'Javascript / Typescript', 'Javascript',\n",
       "       'C# .NET', 'AWS, GCP, Python,K8s', 'Typescript', 'PHP', 'Java',\n",
       "       'Aws Hadoop Postgre Typescript', 'C++', 'Kotlin', 'kotlin',\n",
       "       'NodeJS', 'iOS', 'Kubernetes', 'Charles', 'SQL', 'Go', 'java',\n",
       "       'Python', 'Figma', 'JavaScript', 'Go/Python', 'React', 'С#', 'Php',\n",
       "       'ruby on rails', 'JavaScript/ES6', '.NET', 'Hardware', 'C#',\n",
       "       'Google Cloud Platform', 'Js', 'android', 'JavaScript ', 'Scala',\n",
       "       'python', 'C#, .net core', 'VHDL', 'Power BI', 'PHP ', 'none',\n",
       "       'Android', 'Swift', 'ML', 'php', 'Scala, React.js', 'Ml/Python',\n",
       "       'JavaScript/TypeScript', 'Ruby on Rails', 'Azure, SAP', 'Frontend',\n",
       "       'Java, JavaScript', 'yaml', 'Python ', 'JS', 'Java ', '-', 'Agile',\n",
       "       'C', 'TypeScript, JavaScript', 'Pegasystems platform ',\n",
       "       'C++, Java, Embedded C', 'Cloud', 'DC Management', '--', 'SWIFT',\n",
       "       'Java, angular, Aws', 'Swift, objective-c', 'Golang', 'go',\n",
       "       'DevOps', '.net', 'Node.js', 'R', 'Java, Javascript', 'Bash',\n",
       "       '.Net', 'Network', 'nothing', 'Qlik BI Tool, SQL', 'Blockchain',\n",
       "       'Angular', 'Autonomous Driving', 'c#', 'Js, TypeScript, Angular',\n",
       "       'T-SQL', 'c++', 'Java, terraform', 'Pascal, VB.NET, C#', 'Oracle',\n",
       "       'Javascript ', 'Angular, React', 'Elixir',\n",
       "       'NodeJS, Typescript, AWS', 'Erlang', 'Java, JS', 'Objective-C',\n",
       "       'QA', 'C++/C#', 'ABAP', 'Java/Kotlin', 'Typescript / Angular',\n",
       "       'React/Typescript', 'Golang ', 'Salesforce ', 'javascript',\n",
       "       'Java/C++', 'Scala / Python', 'Java/Scala', 'Web developer',\n",
       "       'JavaScript/Typescript', 'TypeScript, React',\n",
       "       'Python / JavaScript (React)', 'JavaScript / typescript',\n",
       "       'Terraform', 'JAVA', 'Apache Spark',\n",
       "       'Computer Networking,  Network Security ', 'SAP BW / ABAP',\n",
       "       'Go, PHP, SQL', 'Kotlin ', 'Jira', 'Qml', 'AWS', 'C#/.NET',\n",
       "       'Kotlin, Java', 'Linux Kernel', 'several', 'Android/Kotlin',\n",
       "       'embedded', 'Java/Groovy', 'typescript', 'Python + SQL',\n",
       "       'Typescript, Web apps', 'Terraform ', 'Java, .Net',\n",
       "       'Python, statistics, SQL', 'Sql, BQ, tableau, gtm, ga', 'React ',\n",
       "       'Business Development Manager Operation ', 'Management',\n",
       "       'Java, Kotlin', 'Nodejs', 'TS', 'sql', 'Spark, Pytorch', 'C/C++',\n",
       "       'java/scala/go/clouds/devops',\n",
       "       'Linux/UNIX, GIT, Virtualisation Platforms, *shell(s) scripts',\n",
       "       'Python, SQL', 'DWH', 'Azure', 'Sketch, Figma', 'js', 'k8s',\n",
       "       'Frontend: react, node.js', 'VB, RPA, Python', 'FBD', 'C, C++',\n",
       "       'Swift, Objective-C, iOS', 'Embedded', 'JavaScript / TypeScript',\n",
       "       'SAP / ABAP', 'Kubrrnetes', 'networking, linux, automation, cloud',\n",
       "       'UML', 'Spark', 'Js, reactJS ', 'Cobol', 'SRE', 'Clojure',\n",
       "       'JS, WDIO', 'Terraform, Kubernetes, AWS, GCP, Ansible, Puppet',\n",
       "       'Spring', 'swift', 'Офмф', 'React JS', 'Typescript ',\n",
       "       'TypeScript/Angular', 'golang', 'Kotlin/PHP', 'SAP ABAP', 'AI',\n",
       "       'pythin', 'julia', 'Java & PHP', 'Sql ', 'C++/c',\n",
       "       'Angular, Typescript', 'Pyrhon', 'PM tools', 'Grails, Groovy',\n",
       "       'python ', 'React / JavaScript', 'Perl',\n",
       "       'Python, cloud computing ', 'Haskell', 'JavScript',\n",
       "       'Python (Django)', 'Network Automation',\n",
       "       'Kubernetes, Terraform, GCP', 'PowerShell', 'python, scala',\n",
       "       'Django, Flask, Plotly Dash', 'Sql', 'Javascript, Angular',\n",
       "       'SAS,SQL,Python', 'Node', 'Python/SQL', 'php, js, python, docker',\n",
       "       'C, Matlab', 'TypeScript, Kotlin', 'Apotheker',\n",
       "       'JavaScript, TypeScript', 'Tricentis Tosca', 'Swift/Kotlin',\n",
       "       'Java & Distributed Systems Stuff', 'jenkins bash',\n",
       "       'Test Management ', 'NodeJS/TS', 'PHP/MySQL',\n",
       "       'Angular, TypeScript', 'NLP, Python',\n",
       "       'Python, Whole Apache Data Science Stack, AWS', 'Embedded C++',\n",
       "       'NodsJs', 'Javascript/Typescript', 'Linux',\n",
       "       'Kuberenetes, Openstack', 'c/c++', 'JS, Java', 'Python, Pytorch',\n",
       "       'PS, Sketch, React, CSS3', 'Python/NLP', 'Scala, Apache Spark',\n",
       "       'Swift, Objective-C', 'React.js / TypeScript', 'BI, DWH, ETL/ELT',\n",
       "       'GCP', 'Web', 'PL/SQL', 'SAP', 'scala', 'Java / Scala', 'Magento',\n",
       "       'Python, database technologies', 'C++, C#', 'Java Backend',\n",
       "       '.net, c++, spss, embeddded', '.Net, Angular', 'Atlassian JIRA',\n",
       "       'Qlik', 'spark', 'consumer analysis'], dtype=object)"
      ]
     },
     "execution_count": 159,
     "metadata": {},
     "output_type": "execute_result"
    }
   ],
   "source": [
    "data_2020['Your main technology / programming language'].unique()"
   ]
  },
  {
   "cell_type": "code",
   "execution_count": 160,
   "metadata": {
    "ExecuteTime": {
     "end_time": "2021-03-23T17:55:15.482687Z",
     "start_time": "2021-03-23T17:55:15.469695Z"
    },
    "id": "VQZCcadsQP3W"
   },
   "outputs": [],
   "source": [
    "# replacing some entries..\n",
    "data_2020['Your main technology / programming language'] = data_2020['Your main technology / programming language'].replace(['python ',' python','pythin',' Python','Python ','Pyrhon'], 'Python')\n",
    "data_2020['Your main technology / programming language'] = data_2020['Your main technology / programming language'].replace(['c++','c++ ',' c++','C++ ',' C++'], 'C++')\n",
    "# Upper case for all prog languages\n",
    "data_2020['Your main technology / programming language'] = data_2020['Your main technology / programming language'].str.upper()\n"
   ]
  },
  {
   "cell_type": "code",
   "execution_count": 161,
   "metadata": {
    "ExecuteTime": {
     "end_time": "2021-03-23T17:55:15.498678Z",
     "start_time": "2021-03-23T17:55:15.485685Z"
    },
    "colab": {
     "base_uri": "https://localhost:8080/"
    },
    "id": "zj3VLnYSQa2v",
    "outputId": "46d7c8cc-393e-48e2-a3df-937829bd7dc6"
   },
   "outputs": [
    {
     "data": {
      "text/plain": [
       "array(['TYPESCRIPT', 'RUBY', 'JAVASCRIPT / TYPESCRIPT', 'JAVASCRIPT',\n",
       "       'C# .NET', 'AWS, GCP, PYTHON,K8S', 'PHP', 'JAVA',\n",
       "       'AWS HADOOP POSTGRE TYPESCRIPT', 'C++', 'KOTLIN', 'NODEJS', 'IOS',\n",
       "       'KUBERNETES', 'CHARLES', 'SQL', 'GO', 'PYTHON', 'FIGMA',\n",
       "       'GO/PYTHON', 'REACT', 'С#', 'RUBY ON RAILS', 'JAVASCRIPT/ES6',\n",
       "       '.NET', 'HARDWARE', 'C#', 'GOOGLE CLOUD PLATFORM', 'JS', 'ANDROID',\n",
       "       'JAVASCRIPT ', 'SCALA', 'C#, .NET CORE', 'VHDL', 'POWER BI',\n",
       "       'PHP ', 'NONE', 'SWIFT', 'ML', 'SCALA, REACT.JS', 'ML/PYTHON',\n",
       "       'JAVASCRIPT/TYPESCRIPT', 'AZURE, SAP', 'FRONTEND',\n",
       "       'JAVA, JAVASCRIPT', 'YAML', 'JAVA ', '-', 'AGILE', 'C',\n",
       "       'TYPESCRIPT, JAVASCRIPT', 'PEGASYSTEMS PLATFORM ',\n",
       "       'C++, JAVA, EMBEDDED C', 'CLOUD', 'DC MANAGEMENT', '--',\n",
       "       'JAVA, ANGULAR, AWS', 'SWIFT, OBJECTIVE-C', 'GOLANG', 'DEVOPS',\n",
       "       'NODE.JS', 'R', 'BASH', 'NETWORK', 'NOTHING', 'QLIK BI TOOL, SQL',\n",
       "       'BLOCKCHAIN', 'ANGULAR', 'AUTONOMOUS DRIVING',\n",
       "       'JS, TYPESCRIPT, ANGULAR', 'T-SQL', 'JAVA, TERRAFORM',\n",
       "       'PASCAL, VB.NET, C#', 'ORACLE', 'ANGULAR, REACT', 'ELIXIR',\n",
       "       'NODEJS, TYPESCRIPT, AWS', 'ERLANG', 'JAVA, JS', 'OBJECTIVE-C',\n",
       "       'QA', 'C++/C#', 'ABAP', 'JAVA/KOTLIN', 'TYPESCRIPT / ANGULAR',\n",
       "       'REACT/TYPESCRIPT', 'GOLANG ', 'SALESFORCE ', 'JAVA/C++',\n",
       "       'SCALA / PYTHON', 'JAVA/SCALA', 'WEB DEVELOPER',\n",
       "       'TYPESCRIPT, REACT', 'PYTHON / JAVASCRIPT (REACT)', 'TERRAFORM',\n",
       "       'APACHE SPARK', 'COMPUTER NETWORKING,  NETWORK SECURITY ',\n",
       "       'SAP BW / ABAP', 'GO, PHP, SQL', 'KOTLIN ', 'JIRA', 'QML', 'AWS',\n",
       "       'C#/.NET', 'KOTLIN, JAVA', 'LINUX KERNEL', 'SEVERAL',\n",
       "       'ANDROID/KOTLIN', 'EMBEDDED', 'JAVA/GROOVY', 'PYTHON + SQL',\n",
       "       'TYPESCRIPT, WEB APPS', 'TERRAFORM ', 'JAVA, .NET',\n",
       "       'PYTHON, STATISTICS, SQL', 'SQL, BQ, TABLEAU, GTM, GA', 'REACT ',\n",
       "       'BUSINESS DEVELOPMENT MANAGER OPERATION ', 'MANAGEMENT',\n",
       "       'JAVA, KOTLIN', 'TS', 'SPARK, PYTORCH', 'C/C++',\n",
       "       'JAVA/SCALA/GO/CLOUDS/DEVOPS',\n",
       "       'LINUX/UNIX, GIT, VIRTUALISATION PLATFORMS, *SHELL(S) SCRIPTS',\n",
       "       'PYTHON, SQL', 'DWH', 'AZURE', 'SKETCH, FIGMA', 'K8S',\n",
       "       'FRONTEND: REACT, NODE.JS', 'VB, RPA, PYTHON', 'FBD', 'C, C++',\n",
       "       'SWIFT, OBJECTIVE-C, IOS', 'SAP / ABAP', 'KUBRRNETES',\n",
       "       'NETWORKING, LINUX, AUTOMATION, CLOUD', 'UML', 'SPARK',\n",
       "       'JS, REACTJS ', 'COBOL', 'SRE', 'CLOJURE', 'JS, WDIO',\n",
       "       'TERRAFORM, KUBERNETES, AWS, GCP, ANSIBLE, PUPPET', 'SPRING',\n",
       "       'ОФМФ', 'REACT JS', 'TYPESCRIPT ', 'TYPESCRIPT/ANGULAR',\n",
       "       'KOTLIN/PHP', 'SAP ABAP', 'AI', 'JULIA', 'JAVA & PHP', 'SQL ',\n",
       "       'C++/C', 'ANGULAR, TYPESCRIPT', 'PM TOOLS', 'GRAILS, GROOVY',\n",
       "       'REACT / JAVASCRIPT', 'PERL', 'PYTHON, CLOUD COMPUTING ',\n",
       "       'HASKELL', 'JAVSCRIPT', 'PYTHON (DJANGO)', 'NETWORK AUTOMATION',\n",
       "       'KUBERNETES, TERRAFORM, GCP', 'POWERSHELL', 'PYTHON, SCALA',\n",
       "       'DJANGO, FLASK, PLOTLY DASH', 'JAVASCRIPT, ANGULAR',\n",
       "       'SAS,SQL,PYTHON', 'NODE', 'PYTHON/SQL', 'PHP, JS, PYTHON, DOCKER',\n",
       "       'C, MATLAB', 'TYPESCRIPT, KOTLIN', 'APOTHEKER',\n",
       "       'JAVASCRIPT, TYPESCRIPT', 'TRICENTIS TOSCA', 'SWIFT/KOTLIN',\n",
       "       'JAVA & DISTRIBUTED SYSTEMS STUFF', 'JENKINS BASH',\n",
       "       'TEST MANAGEMENT ', 'NODEJS/TS', 'PHP/MYSQL', 'NLP, PYTHON',\n",
       "       'PYTHON, WHOLE APACHE DATA SCIENCE STACK, AWS', 'EMBEDDED C++',\n",
       "       'NODSJS', 'LINUX', 'KUBERENETES, OPENSTACK', 'JS, JAVA',\n",
       "       'PYTHON, PYTORCH', 'PS, SKETCH, REACT, CSS3', 'PYTHON/NLP',\n",
       "       'SCALA, APACHE SPARK', 'REACT.JS / TYPESCRIPT', 'BI, DWH, ETL/ELT',\n",
       "       'GCP', 'WEB', 'PL/SQL', 'SAP', 'JAVA / SCALA', 'MAGENTO',\n",
       "       'PYTHON, DATABASE TECHNOLOGIES', 'C++, C#', 'JAVA BACKEND',\n",
       "       '.NET, C++, SPSS, EMBEDDDED', '.NET, ANGULAR', 'ATLASSIAN JIRA',\n",
       "       'QLIK', 'CONSUMER ANALYSIS'], dtype=object)"
      ]
     },
     "execution_count": 161,
     "metadata": {},
     "output_type": "execute_result"
    }
   ],
   "source": [
    "data_2020['Your main technology / programming language'].unique()"
   ]
  },
  {
   "cell_type": "markdown",
   "metadata": {
    "id": "s8RT70fOCb_T"
   },
   "source": [
    "## Task 4: Data Visualization using Plotly\n",
    "**Note:** All the tasks below need to be completed using only Plotly and no other Data Visualization library.\n",
    "\n",
    "* Create a pie chart to analyze the Company types in the year 2019. Are Consulting / Agency companies more popular than Startups? \n",
    "* Create a line plot of the Total years of experience vs the current salary(taking the median salary for each of the different experience years) of the year 2018.\n",
    "* Now, create the above plot again and add 2 more line plots to the same graph, that display the Total years of experience vs the median Yearly brutto salary (without bonus and stocks) of the year 2019 and 2020.\n",
    "* Create a bar chart to analyse the popularity of the main technology/ programming languages amongst the respondents in the year 2020. Which technology is the most popular? Which technology is the least popular (with less than 4 responses)?\n",
    "* Create a pie plot indicating the gender ratio of the respondents in the year 2020.\n"
   ]
  },
  {
   "cell_type": "code",
   "execution_count": 162,
   "metadata": {
    "ExecuteTime": {
     "end_time": "2021-03-23T17:55:15.514668Z",
     "start_time": "2021-03-23T17:55:15.502684Z"
    },
    "id": "cPXXq4JVUe-6"
   },
   "outputs": [],
   "source": [
    "cmp_tp  = data_2019['Company type'].value_counts()\n",
    "cmp_tp_un = data_2019['Company type'].dropna().unique()"
   ]
  },
  {
   "cell_type": "code",
   "execution_count": 163,
   "metadata": {
    "ExecuteTime": {
     "end_time": "2021-03-23T17:55:15.545650Z",
     "start_time": "2021-03-23T17:55:15.518666Z"
    },
    "colab": {
     "base_uri": "https://localhost:8080/"
    },
    "id": "2DzYbH9sbdIW",
    "outputId": "203072f4-ceea-4184-b782-6b941ef73f03"
   },
   "outputs": [
    {
     "data": {
      "text/plain": [
       "array(['Startup', 'Product', 'Consulting / Agency',\n",
       "       'Bodyshop / Outsource', 'University', 'Bank', 'Outsource'],\n",
       "      dtype=object)"
      ]
     },
     "execution_count": 163,
     "metadata": {},
     "output_type": "execute_result"
    }
   ],
   "source": [
    "cmp_tp_un"
   ]
  },
  {
   "cell_type": "code",
   "execution_count": 164,
   "metadata": {
    "ExecuteTime": {
     "end_time": "2021-03-23T17:55:15.560641Z",
     "start_time": "2021-03-23T17:55:15.548648Z"
    },
    "id": "Zps2BoHAaRMu"
   },
   "outputs": [],
   "source": [
    "cmp_fig = [cmp_tp[0],cmp_tp[1],cmp_tp[2],cmp_tp[3],cmp_tp[4],cmp_tp[5],cmp_tp[6]]"
   ]
  },
  {
   "cell_type": "code",
   "execution_count": 165,
   "metadata": {
    "ExecuteTime": {
     "end_time": "2021-03-23T17:55:15.575633Z",
     "start_time": "2021-03-23T17:55:15.563639Z"
    },
    "colab": {
     "base_uri": "https://localhost:8080/"
    },
    "id": "2EoGEJy4bvmc",
    "outputId": "0cbb4ae0-a8b4-4f36-f7d0-77f08c02b824"
   },
   "outputs": [
    {
     "data": {
      "text/plain": [
       "[650, 181, 117, 30, 6, 6, 1]"
      ]
     },
     "execution_count": 165,
     "metadata": {},
     "output_type": "execute_result"
    }
   ],
   "source": [
    "cmp_fig"
   ]
  },
  {
   "cell_type": "code",
   "execution_count": 166,
   "metadata": {
    "ExecuteTime": {
     "end_time": "2021-03-23T17:55:15.590624Z",
     "start_time": "2021-03-23T17:55:15.578631Z"
    },
    "id": "Y6rtHF4babLz"
   },
   "outputs": [],
   "source": [
    "df_cmpfig = pd.DataFrame(cmp_fig,columns=[\"Number\"], index= cmp_tp_un)"
   ]
  },
  {
   "cell_type": "code",
   "execution_count": 167,
   "metadata": {
    "ExecuteTime": {
     "end_time": "2021-03-23T17:55:15.621605Z",
     "start_time": "2021-03-23T17:55:15.593622Z"
    },
    "colab": {
     "base_uri": "https://localhost:8080/",
     "height": 258
    },
    "id": "ysmfjSaybIqc",
    "outputId": "bead45e8-e408-4eab-d640-3f01ef9205d1"
   },
   "outputs": [
    {
     "data": {
      "text/html": [
       "<div>\n",
       "<style scoped>\n",
       "    .dataframe tbody tr th:only-of-type {\n",
       "        vertical-align: middle;\n",
       "    }\n",
       "\n",
       "    .dataframe tbody tr th {\n",
       "        vertical-align: top;\n",
       "    }\n",
       "\n",
       "    .dataframe thead th {\n",
       "        text-align: right;\n",
       "    }\n",
       "</style>\n",
       "<table border=\"1\" class=\"dataframe\">\n",
       "  <thead>\n",
       "    <tr style=\"text-align: right;\">\n",
       "      <th></th>\n",
       "      <th>Number</th>\n",
       "    </tr>\n",
       "  </thead>\n",
       "  <tbody>\n",
       "    <tr>\n",
       "      <th>Startup</th>\n",
       "      <td>650</td>\n",
       "    </tr>\n",
       "    <tr>\n",
       "      <th>Product</th>\n",
       "      <td>181</td>\n",
       "    </tr>\n",
       "    <tr>\n",
       "      <th>Consulting / Agency</th>\n",
       "      <td>117</td>\n",
       "    </tr>\n",
       "    <tr>\n",
       "      <th>Bodyshop / Outsource</th>\n",
       "      <td>30</td>\n",
       "    </tr>\n",
       "    <tr>\n",
       "      <th>University</th>\n",
       "      <td>6</td>\n",
       "    </tr>\n",
       "    <tr>\n",
       "      <th>Bank</th>\n",
       "      <td>6</td>\n",
       "    </tr>\n",
       "    <tr>\n",
       "      <th>Outsource</th>\n",
       "      <td>1</td>\n",
       "    </tr>\n",
       "  </tbody>\n",
       "</table>\n",
       "</div>"
      ],
      "text/plain": [
       "                      Number\n",
       "Startup                  650\n",
       "Product                  181\n",
       "Consulting / Agency      117\n",
       "Bodyshop / Outsource      30\n",
       "University                 6\n",
       "Bank                       6\n",
       "Outsource                  1"
      ]
     },
     "execution_count": 167,
     "metadata": {},
     "output_type": "execute_result"
    }
   ],
   "source": [
    "df_cmpfig"
   ]
  },
  {
   "cell_type": "code",
   "execution_count": 168,
   "metadata": {
    "ExecuteTime": {
     "end_time": "2021-03-23T17:55:16.156293Z",
     "start_time": "2021-03-23T17:55:15.624603Z"
    },
    "colab": {
     "base_uri": "https://localhost:8080/",
     "height": 542
    },
    "id": "ROEb1ukbCoTi",
    "outputId": "f8c498e9-8165-4518-a4ae-4a29d5cb3a33"
   },
   "outputs": [
    {
     "data": {
      "application/vnd.plotly.v1+json": {
       "config": {
        "plotlyServerURL": "https://plot.ly"
       },
       "data": [
        {
         "domain": {
          "x": [
           0,
           1
          ],
          "y": [
           0,
           1
          ]
         },
         "hovertemplate": "label=%{label}<br>Number=%{value}<extra></extra>",
         "labels": [
          "Startup",
          "Product",
          "Consulting / Agency",
          "Bodyshop / Outsource",
          "University",
          "Bank",
          "Outsource"
         ],
         "legendgroup": "",
         "name": "",
         "showlegend": true,
         "type": "pie",
         "values": [
          650,
          181,
          117,
          30,
          6,
          6,
          1
         ]
        }
       ],
       "layout": {
        "legend": {
         "tracegroupgap": 0
        },
        "template": {
         "data": {
          "bar": [
           {
            "error_x": {
             "color": "#2a3f5f"
            },
            "error_y": {
             "color": "#2a3f5f"
            },
            "marker": {
             "line": {
              "color": "#E5ECF6",
              "width": 0.5
             }
            },
            "type": "bar"
           }
          ],
          "barpolar": [
           {
            "marker": {
             "line": {
              "color": "#E5ECF6",
              "width": 0.5
             }
            },
            "type": "barpolar"
           }
          ],
          "carpet": [
           {
            "aaxis": {
             "endlinecolor": "#2a3f5f",
             "gridcolor": "white",
             "linecolor": "white",
             "minorgridcolor": "white",
             "startlinecolor": "#2a3f5f"
            },
            "baxis": {
             "endlinecolor": "#2a3f5f",
             "gridcolor": "white",
             "linecolor": "white",
             "minorgridcolor": "white",
             "startlinecolor": "#2a3f5f"
            },
            "type": "carpet"
           }
          ],
          "choropleth": [
           {
            "colorbar": {
             "outlinewidth": 0,
             "ticks": ""
            },
            "type": "choropleth"
           }
          ],
          "contour": [
           {
            "colorbar": {
             "outlinewidth": 0,
             "ticks": ""
            },
            "colorscale": [
             [
              0,
              "#0d0887"
             ],
             [
              0.1111111111111111,
              "#46039f"
             ],
             [
              0.2222222222222222,
              "#7201a8"
             ],
             [
              0.3333333333333333,
              "#9c179e"
             ],
             [
              0.4444444444444444,
              "#bd3786"
             ],
             [
              0.5555555555555556,
              "#d8576b"
             ],
             [
              0.6666666666666666,
              "#ed7953"
             ],
             [
              0.7777777777777778,
              "#fb9f3a"
             ],
             [
              0.8888888888888888,
              "#fdca26"
             ],
             [
              1,
              "#f0f921"
             ]
            ],
            "type": "contour"
           }
          ],
          "contourcarpet": [
           {
            "colorbar": {
             "outlinewidth": 0,
             "ticks": ""
            },
            "type": "contourcarpet"
           }
          ],
          "heatmap": [
           {
            "colorbar": {
             "outlinewidth": 0,
             "ticks": ""
            },
            "colorscale": [
             [
              0,
              "#0d0887"
             ],
             [
              0.1111111111111111,
              "#46039f"
             ],
             [
              0.2222222222222222,
              "#7201a8"
             ],
             [
              0.3333333333333333,
              "#9c179e"
             ],
             [
              0.4444444444444444,
              "#bd3786"
             ],
             [
              0.5555555555555556,
              "#d8576b"
             ],
             [
              0.6666666666666666,
              "#ed7953"
             ],
             [
              0.7777777777777778,
              "#fb9f3a"
             ],
             [
              0.8888888888888888,
              "#fdca26"
             ],
             [
              1,
              "#f0f921"
             ]
            ],
            "type": "heatmap"
           }
          ],
          "heatmapgl": [
           {
            "colorbar": {
             "outlinewidth": 0,
             "ticks": ""
            },
            "colorscale": [
             [
              0,
              "#0d0887"
             ],
             [
              0.1111111111111111,
              "#46039f"
             ],
             [
              0.2222222222222222,
              "#7201a8"
             ],
             [
              0.3333333333333333,
              "#9c179e"
             ],
             [
              0.4444444444444444,
              "#bd3786"
             ],
             [
              0.5555555555555556,
              "#d8576b"
             ],
             [
              0.6666666666666666,
              "#ed7953"
             ],
             [
              0.7777777777777778,
              "#fb9f3a"
             ],
             [
              0.8888888888888888,
              "#fdca26"
             ],
             [
              1,
              "#f0f921"
             ]
            ],
            "type": "heatmapgl"
           }
          ],
          "histogram": [
           {
            "marker": {
             "colorbar": {
              "outlinewidth": 0,
              "ticks": ""
             }
            },
            "type": "histogram"
           }
          ],
          "histogram2d": [
           {
            "colorbar": {
             "outlinewidth": 0,
             "ticks": ""
            },
            "colorscale": [
             [
              0,
              "#0d0887"
             ],
             [
              0.1111111111111111,
              "#46039f"
             ],
             [
              0.2222222222222222,
              "#7201a8"
             ],
             [
              0.3333333333333333,
              "#9c179e"
             ],
             [
              0.4444444444444444,
              "#bd3786"
             ],
             [
              0.5555555555555556,
              "#d8576b"
             ],
             [
              0.6666666666666666,
              "#ed7953"
             ],
             [
              0.7777777777777778,
              "#fb9f3a"
             ],
             [
              0.8888888888888888,
              "#fdca26"
             ],
             [
              1,
              "#f0f921"
             ]
            ],
            "type": "histogram2d"
           }
          ],
          "histogram2dcontour": [
           {
            "colorbar": {
             "outlinewidth": 0,
             "ticks": ""
            },
            "colorscale": [
             [
              0,
              "#0d0887"
             ],
             [
              0.1111111111111111,
              "#46039f"
             ],
             [
              0.2222222222222222,
              "#7201a8"
             ],
             [
              0.3333333333333333,
              "#9c179e"
             ],
             [
              0.4444444444444444,
              "#bd3786"
             ],
             [
              0.5555555555555556,
              "#d8576b"
             ],
             [
              0.6666666666666666,
              "#ed7953"
             ],
             [
              0.7777777777777778,
              "#fb9f3a"
             ],
             [
              0.8888888888888888,
              "#fdca26"
             ],
             [
              1,
              "#f0f921"
             ]
            ],
            "type": "histogram2dcontour"
           }
          ],
          "mesh3d": [
           {
            "colorbar": {
             "outlinewidth": 0,
             "ticks": ""
            },
            "type": "mesh3d"
           }
          ],
          "parcoords": [
           {
            "line": {
             "colorbar": {
              "outlinewidth": 0,
              "ticks": ""
             }
            },
            "type": "parcoords"
           }
          ],
          "pie": [
           {
            "automargin": true,
            "type": "pie"
           }
          ],
          "scatter": [
           {
            "marker": {
             "colorbar": {
              "outlinewidth": 0,
              "ticks": ""
             }
            },
            "type": "scatter"
           }
          ],
          "scatter3d": [
           {
            "line": {
             "colorbar": {
              "outlinewidth": 0,
              "ticks": ""
             }
            },
            "marker": {
             "colorbar": {
              "outlinewidth": 0,
              "ticks": ""
             }
            },
            "type": "scatter3d"
           }
          ],
          "scattercarpet": [
           {
            "marker": {
             "colorbar": {
              "outlinewidth": 0,
              "ticks": ""
             }
            },
            "type": "scattercarpet"
           }
          ],
          "scattergeo": [
           {
            "marker": {
             "colorbar": {
              "outlinewidth": 0,
              "ticks": ""
             }
            },
            "type": "scattergeo"
           }
          ],
          "scattergl": [
           {
            "marker": {
             "colorbar": {
              "outlinewidth": 0,
              "ticks": ""
             }
            },
            "type": "scattergl"
           }
          ],
          "scattermapbox": [
           {
            "marker": {
             "colorbar": {
              "outlinewidth": 0,
              "ticks": ""
             }
            },
            "type": "scattermapbox"
           }
          ],
          "scatterpolar": [
           {
            "marker": {
             "colorbar": {
              "outlinewidth": 0,
              "ticks": ""
             }
            },
            "type": "scatterpolar"
           }
          ],
          "scatterpolargl": [
           {
            "marker": {
             "colorbar": {
              "outlinewidth": 0,
              "ticks": ""
             }
            },
            "type": "scatterpolargl"
           }
          ],
          "scatterternary": [
           {
            "marker": {
             "colorbar": {
              "outlinewidth": 0,
              "ticks": ""
             }
            },
            "type": "scatterternary"
           }
          ],
          "surface": [
           {
            "colorbar": {
             "outlinewidth": 0,
             "ticks": ""
            },
            "colorscale": [
             [
              0,
              "#0d0887"
             ],
             [
              0.1111111111111111,
              "#46039f"
             ],
             [
              0.2222222222222222,
              "#7201a8"
             ],
             [
              0.3333333333333333,
              "#9c179e"
             ],
             [
              0.4444444444444444,
              "#bd3786"
             ],
             [
              0.5555555555555556,
              "#d8576b"
             ],
             [
              0.6666666666666666,
              "#ed7953"
             ],
             [
              0.7777777777777778,
              "#fb9f3a"
             ],
             [
              0.8888888888888888,
              "#fdca26"
             ],
             [
              1,
              "#f0f921"
             ]
            ],
            "type": "surface"
           }
          ],
          "table": [
           {
            "cells": {
             "fill": {
              "color": "#EBF0F8"
             },
             "line": {
              "color": "white"
             }
            },
            "header": {
             "fill": {
              "color": "#C8D4E3"
             },
             "line": {
              "color": "white"
             }
            },
            "type": "table"
           }
          ]
         },
         "layout": {
          "annotationdefaults": {
           "arrowcolor": "#2a3f5f",
           "arrowhead": 0,
           "arrowwidth": 1
          },
          "coloraxis": {
           "colorbar": {
            "outlinewidth": 0,
            "ticks": ""
           }
          },
          "colorscale": {
           "diverging": [
            [
             0,
             "#8e0152"
            ],
            [
             0.1,
             "#c51b7d"
            ],
            [
             0.2,
             "#de77ae"
            ],
            [
             0.3,
             "#f1b6da"
            ],
            [
             0.4,
             "#fde0ef"
            ],
            [
             0.5,
             "#f7f7f7"
            ],
            [
             0.6,
             "#e6f5d0"
            ],
            [
             0.7,
             "#b8e186"
            ],
            [
             0.8,
             "#7fbc41"
            ],
            [
             0.9,
             "#4d9221"
            ],
            [
             1,
             "#276419"
            ]
           ],
           "sequential": [
            [
             0,
             "#0d0887"
            ],
            [
             0.1111111111111111,
             "#46039f"
            ],
            [
             0.2222222222222222,
             "#7201a8"
            ],
            [
             0.3333333333333333,
             "#9c179e"
            ],
            [
             0.4444444444444444,
             "#bd3786"
            ],
            [
             0.5555555555555556,
             "#d8576b"
            ],
            [
             0.6666666666666666,
             "#ed7953"
            ],
            [
             0.7777777777777778,
             "#fb9f3a"
            ],
            [
             0.8888888888888888,
             "#fdca26"
            ],
            [
             1,
             "#f0f921"
            ]
           ],
           "sequentialminus": [
            [
             0,
             "#0d0887"
            ],
            [
             0.1111111111111111,
             "#46039f"
            ],
            [
             0.2222222222222222,
             "#7201a8"
            ],
            [
             0.3333333333333333,
             "#9c179e"
            ],
            [
             0.4444444444444444,
             "#bd3786"
            ],
            [
             0.5555555555555556,
             "#d8576b"
            ],
            [
             0.6666666666666666,
             "#ed7953"
            ],
            [
             0.7777777777777778,
             "#fb9f3a"
            ],
            [
             0.8888888888888888,
             "#fdca26"
            ],
            [
             1,
             "#f0f921"
            ]
           ]
          },
          "colorway": [
           "#636efa",
           "#EF553B",
           "#00cc96",
           "#ab63fa",
           "#FFA15A",
           "#19d3f3",
           "#FF6692",
           "#B6E880",
           "#FF97FF",
           "#FECB52"
          ],
          "font": {
           "color": "#2a3f5f"
          },
          "geo": {
           "bgcolor": "white",
           "lakecolor": "white",
           "landcolor": "#E5ECF6",
           "showlakes": true,
           "showland": true,
           "subunitcolor": "white"
          },
          "hoverlabel": {
           "align": "left"
          },
          "hovermode": "closest",
          "mapbox": {
           "style": "light"
          },
          "paper_bgcolor": "white",
          "plot_bgcolor": "#E5ECF6",
          "polar": {
           "angularaxis": {
            "gridcolor": "white",
            "linecolor": "white",
            "ticks": ""
           },
           "bgcolor": "#E5ECF6",
           "radialaxis": {
            "gridcolor": "white",
            "linecolor": "white",
            "ticks": ""
           }
          },
          "scene": {
           "xaxis": {
            "backgroundcolor": "#E5ECF6",
            "gridcolor": "white",
            "gridwidth": 2,
            "linecolor": "white",
            "showbackground": true,
            "ticks": "",
            "zerolinecolor": "white"
           },
           "yaxis": {
            "backgroundcolor": "#E5ECF6",
            "gridcolor": "white",
            "gridwidth": 2,
            "linecolor": "white",
            "showbackground": true,
            "ticks": "",
            "zerolinecolor": "white"
           },
           "zaxis": {
            "backgroundcolor": "#E5ECF6",
            "gridcolor": "white",
            "gridwidth": 2,
            "linecolor": "white",
            "showbackground": true,
            "ticks": "",
            "zerolinecolor": "white"
           }
          },
          "shapedefaults": {
           "line": {
            "color": "#2a3f5f"
           }
          },
          "ternary": {
           "aaxis": {
            "gridcolor": "white",
            "linecolor": "white",
            "ticks": ""
           },
           "baxis": {
            "gridcolor": "white",
            "linecolor": "white",
            "ticks": ""
           },
           "bgcolor": "#E5ECF6",
           "caxis": {
            "gridcolor": "white",
            "linecolor": "white",
            "ticks": ""
           }
          },
          "title": {
           "x": 0.05
          },
          "xaxis": {
           "automargin": true,
           "gridcolor": "white",
           "linecolor": "white",
           "ticks": "",
           "title": {
            "standoff": 15
           },
           "zerolinecolor": "white",
           "zerolinewidth": 2
          },
          "yaxis": {
           "automargin": true,
           "gridcolor": "white",
           "linecolor": "white",
           "ticks": "",
           "title": {
            "standoff": 15
           },
           "zerolinecolor": "white",
           "zerolinewidth": 2
          }
         }
        },
        "title": {
         "text": "Company types in the year 2019"
        }
       }
      },
      "text/html": [
       "<div>\n",
       "        \n",
       "        \n",
       "            <div id=\"19f05aee-850a-45f1-877c-05631c9ae7bb\" class=\"plotly-graph-div\" style=\"height:525px; width:100%;\"></div>\n",
       "            <script type=\"text/javascript\">\n",
       "                require([\"plotly\"], function(Plotly) {\n",
       "                    window.PLOTLYENV=window.PLOTLYENV || {};\n",
       "                    \n",
       "                if (document.getElementById(\"19f05aee-850a-45f1-877c-05631c9ae7bb\")) {\n",
       "                    Plotly.newPlot(\n",
       "                        '19f05aee-850a-45f1-877c-05631c9ae7bb',\n",
       "                        [{\"domain\": {\"x\": [0.0, 1.0], \"y\": [0.0, 1.0]}, \"hovertemplate\": \"label=%{label}<br>Number=%{value}<extra></extra>\", \"labels\": [\"Startup\", \"Product\", \"Consulting / Agency\", \"Bodyshop / Outsource\", \"University\", \"Bank\", \"Outsource\"], \"legendgroup\": \"\", \"name\": \"\", \"showlegend\": true, \"type\": \"pie\", \"values\": [650, 181, 117, 30, 6, 6, 1]}],\n",
       "                        {\"legend\": {\"tracegroupgap\": 0}, \"template\": {\"data\": {\"bar\": [{\"error_x\": {\"color\": \"#2a3f5f\"}, \"error_y\": {\"color\": \"#2a3f5f\"}, \"marker\": {\"line\": {\"color\": \"#E5ECF6\", \"width\": 0.5}}, \"type\": \"bar\"}], \"barpolar\": [{\"marker\": {\"line\": {\"color\": \"#E5ECF6\", \"width\": 0.5}}, \"type\": \"barpolar\"}], \"carpet\": [{\"aaxis\": {\"endlinecolor\": \"#2a3f5f\", \"gridcolor\": \"white\", \"linecolor\": \"white\", \"minorgridcolor\": \"white\", \"startlinecolor\": \"#2a3f5f\"}, \"baxis\": {\"endlinecolor\": \"#2a3f5f\", \"gridcolor\": \"white\", \"linecolor\": \"white\", \"minorgridcolor\": \"white\", \"startlinecolor\": \"#2a3f5f\"}, \"type\": \"carpet\"}], \"choropleth\": [{\"colorbar\": {\"outlinewidth\": 0, \"ticks\": \"\"}, \"type\": \"choropleth\"}], \"contour\": [{\"colorbar\": {\"outlinewidth\": 0, \"ticks\": \"\"}, \"colorscale\": [[0.0, \"#0d0887\"], [0.1111111111111111, \"#46039f\"], [0.2222222222222222, \"#7201a8\"], [0.3333333333333333, \"#9c179e\"], [0.4444444444444444, \"#bd3786\"], [0.5555555555555556, \"#d8576b\"], [0.6666666666666666, \"#ed7953\"], [0.7777777777777778, \"#fb9f3a\"], [0.8888888888888888, \"#fdca26\"], [1.0, \"#f0f921\"]], \"type\": \"contour\"}], \"contourcarpet\": [{\"colorbar\": {\"outlinewidth\": 0, \"ticks\": \"\"}, \"type\": \"contourcarpet\"}], \"heatmap\": [{\"colorbar\": {\"outlinewidth\": 0, \"ticks\": \"\"}, \"colorscale\": [[0.0, \"#0d0887\"], [0.1111111111111111, \"#46039f\"], [0.2222222222222222, \"#7201a8\"], [0.3333333333333333, \"#9c179e\"], [0.4444444444444444, \"#bd3786\"], [0.5555555555555556, \"#d8576b\"], [0.6666666666666666, \"#ed7953\"], [0.7777777777777778, \"#fb9f3a\"], [0.8888888888888888, \"#fdca26\"], [1.0, \"#f0f921\"]], \"type\": \"heatmap\"}], \"heatmapgl\": [{\"colorbar\": {\"outlinewidth\": 0, \"ticks\": \"\"}, \"colorscale\": [[0.0, \"#0d0887\"], [0.1111111111111111, \"#46039f\"], [0.2222222222222222, \"#7201a8\"], [0.3333333333333333, \"#9c179e\"], [0.4444444444444444, \"#bd3786\"], [0.5555555555555556, \"#d8576b\"], [0.6666666666666666, \"#ed7953\"], [0.7777777777777778, \"#fb9f3a\"], [0.8888888888888888, \"#fdca26\"], [1.0, \"#f0f921\"]], \"type\": \"heatmapgl\"}], \"histogram\": [{\"marker\": {\"colorbar\": {\"outlinewidth\": 0, \"ticks\": \"\"}}, \"type\": \"histogram\"}], \"histogram2d\": [{\"colorbar\": {\"outlinewidth\": 0, \"ticks\": \"\"}, \"colorscale\": [[0.0, \"#0d0887\"], [0.1111111111111111, \"#46039f\"], [0.2222222222222222, \"#7201a8\"], [0.3333333333333333, \"#9c179e\"], [0.4444444444444444, \"#bd3786\"], [0.5555555555555556, \"#d8576b\"], [0.6666666666666666, \"#ed7953\"], [0.7777777777777778, \"#fb9f3a\"], [0.8888888888888888, \"#fdca26\"], [1.0, \"#f0f921\"]], \"type\": \"histogram2d\"}], \"histogram2dcontour\": [{\"colorbar\": {\"outlinewidth\": 0, \"ticks\": \"\"}, \"colorscale\": [[0.0, \"#0d0887\"], [0.1111111111111111, \"#46039f\"], [0.2222222222222222, \"#7201a8\"], [0.3333333333333333, \"#9c179e\"], [0.4444444444444444, \"#bd3786\"], [0.5555555555555556, \"#d8576b\"], [0.6666666666666666, \"#ed7953\"], [0.7777777777777778, \"#fb9f3a\"], [0.8888888888888888, \"#fdca26\"], [1.0, \"#f0f921\"]], \"type\": \"histogram2dcontour\"}], \"mesh3d\": [{\"colorbar\": {\"outlinewidth\": 0, \"ticks\": \"\"}, \"type\": \"mesh3d\"}], \"parcoords\": [{\"line\": {\"colorbar\": {\"outlinewidth\": 0, \"ticks\": \"\"}}, \"type\": \"parcoords\"}], \"pie\": [{\"automargin\": true, \"type\": \"pie\"}], \"scatter\": [{\"marker\": {\"colorbar\": {\"outlinewidth\": 0, \"ticks\": \"\"}}, \"type\": \"scatter\"}], \"scatter3d\": [{\"line\": {\"colorbar\": {\"outlinewidth\": 0, \"ticks\": \"\"}}, \"marker\": {\"colorbar\": {\"outlinewidth\": 0, \"ticks\": \"\"}}, \"type\": \"scatter3d\"}], \"scattercarpet\": [{\"marker\": {\"colorbar\": {\"outlinewidth\": 0, \"ticks\": \"\"}}, \"type\": \"scattercarpet\"}], \"scattergeo\": [{\"marker\": {\"colorbar\": {\"outlinewidth\": 0, \"ticks\": \"\"}}, \"type\": \"scattergeo\"}], \"scattergl\": [{\"marker\": {\"colorbar\": {\"outlinewidth\": 0, \"ticks\": \"\"}}, \"type\": \"scattergl\"}], \"scattermapbox\": [{\"marker\": {\"colorbar\": {\"outlinewidth\": 0, \"ticks\": \"\"}}, \"type\": \"scattermapbox\"}], \"scatterpolar\": [{\"marker\": {\"colorbar\": {\"outlinewidth\": 0, \"ticks\": \"\"}}, \"type\": \"scatterpolar\"}], \"scatterpolargl\": [{\"marker\": {\"colorbar\": {\"outlinewidth\": 0, \"ticks\": \"\"}}, \"type\": \"scatterpolargl\"}], \"scatterternary\": [{\"marker\": {\"colorbar\": {\"outlinewidth\": 0, \"ticks\": \"\"}}, \"type\": \"scatterternary\"}], \"surface\": [{\"colorbar\": {\"outlinewidth\": 0, \"ticks\": \"\"}, \"colorscale\": [[0.0, \"#0d0887\"], [0.1111111111111111, \"#46039f\"], [0.2222222222222222, \"#7201a8\"], [0.3333333333333333, \"#9c179e\"], [0.4444444444444444, \"#bd3786\"], [0.5555555555555556, \"#d8576b\"], [0.6666666666666666, \"#ed7953\"], [0.7777777777777778, \"#fb9f3a\"], [0.8888888888888888, \"#fdca26\"], [1.0, \"#f0f921\"]], \"type\": \"surface\"}], \"table\": [{\"cells\": {\"fill\": {\"color\": \"#EBF0F8\"}, \"line\": {\"color\": \"white\"}}, \"header\": {\"fill\": {\"color\": \"#C8D4E3\"}, \"line\": {\"color\": \"white\"}}, \"type\": \"table\"}]}, \"layout\": {\"annotationdefaults\": {\"arrowcolor\": \"#2a3f5f\", \"arrowhead\": 0, \"arrowwidth\": 1}, \"coloraxis\": {\"colorbar\": {\"outlinewidth\": 0, \"ticks\": \"\"}}, \"colorscale\": {\"diverging\": [[0, \"#8e0152\"], [0.1, \"#c51b7d\"], [0.2, \"#de77ae\"], [0.3, \"#f1b6da\"], [0.4, \"#fde0ef\"], [0.5, \"#f7f7f7\"], [0.6, \"#e6f5d0\"], [0.7, \"#b8e186\"], [0.8, \"#7fbc41\"], [0.9, \"#4d9221\"], [1, \"#276419\"]], \"sequential\": [[0.0, \"#0d0887\"], [0.1111111111111111, \"#46039f\"], [0.2222222222222222, \"#7201a8\"], [0.3333333333333333, \"#9c179e\"], [0.4444444444444444, \"#bd3786\"], [0.5555555555555556, \"#d8576b\"], [0.6666666666666666, \"#ed7953\"], [0.7777777777777778, \"#fb9f3a\"], [0.8888888888888888, \"#fdca26\"], [1.0, \"#f0f921\"]], \"sequentialminus\": [[0.0, \"#0d0887\"], [0.1111111111111111, \"#46039f\"], [0.2222222222222222, \"#7201a8\"], [0.3333333333333333, \"#9c179e\"], [0.4444444444444444, \"#bd3786\"], [0.5555555555555556, \"#d8576b\"], [0.6666666666666666, \"#ed7953\"], [0.7777777777777778, \"#fb9f3a\"], [0.8888888888888888, \"#fdca26\"], [1.0, \"#f0f921\"]]}, \"colorway\": [\"#636efa\", \"#EF553B\", \"#00cc96\", \"#ab63fa\", \"#FFA15A\", \"#19d3f3\", \"#FF6692\", \"#B6E880\", \"#FF97FF\", \"#FECB52\"], \"font\": {\"color\": \"#2a3f5f\"}, \"geo\": {\"bgcolor\": \"white\", \"lakecolor\": \"white\", \"landcolor\": \"#E5ECF6\", \"showlakes\": true, \"showland\": true, \"subunitcolor\": \"white\"}, \"hoverlabel\": {\"align\": \"left\"}, \"hovermode\": \"closest\", \"mapbox\": {\"style\": \"light\"}, \"paper_bgcolor\": \"white\", \"plot_bgcolor\": \"#E5ECF6\", \"polar\": {\"angularaxis\": {\"gridcolor\": \"white\", \"linecolor\": \"white\", \"ticks\": \"\"}, \"bgcolor\": \"#E5ECF6\", \"radialaxis\": {\"gridcolor\": \"white\", \"linecolor\": \"white\", \"ticks\": \"\"}}, \"scene\": {\"xaxis\": {\"backgroundcolor\": \"#E5ECF6\", \"gridcolor\": \"white\", \"gridwidth\": 2, \"linecolor\": \"white\", \"showbackground\": true, \"ticks\": \"\", \"zerolinecolor\": \"white\"}, \"yaxis\": {\"backgroundcolor\": \"#E5ECF6\", \"gridcolor\": \"white\", \"gridwidth\": 2, \"linecolor\": \"white\", \"showbackground\": true, \"ticks\": \"\", \"zerolinecolor\": \"white\"}, \"zaxis\": {\"backgroundcolor\": \"#E5ECF6\", \"gridcolor\": \"white\", \"gridwidth\": 2, \"linecolor\": \"white\", \"showbackground\": true, \"ticks\": \"\", \"zerolinecolor\": \"white\"}}, \"shapedefaults\": {\"line\": {\"color\": \"#2a3f5f\"}}, \"ternary\": {\"aaxis\": {\"gridcolor\": \"white\", \"linecolor\": \"white\", \"ticks\": \"\"}, \"baxis\": {\"gridcolor\": \"white\", \"linecolor\": \"white\", \"ticks\": \"\"}, \"bgcolor\": \"#E5ECF6\", \"caxis\": {\"gridcolor\": \"white\", \"linecolor\": \"white\", \"ticks\": \"\"}}, \"title\": {\"x\": 0.05}, \"xaxis\": {\"automargin\": true, \"gridcolor\": \"white\", \"linecolor\": \"white\", \"ticks\": \"\", \"title\": {\"standoff\": 15}, \"zerolinecolor\": \"white\", \"zerolinewidth\": 2}, \"yaxis\": {\"automargin\": true, \"gridcolor\": \"white\", \"linecolor\": \"white\", \"ticks\": \"\", \"title\": {\"standoff\": 15}, \"zerolinecolor\": \"white\", \"zerolinewidth\": 2}}}, \"title\": {\"text\": \"Company types in the year 2019\"}},\n",
       "                        {\"responsive\": true}\n",
       "                    ).then(function(){\n",
       "                            \n",
       "var gd = document.getElementById('19f05aee-850a-45f1-877c-05631c9ae7bb');\n",
       "var x = new MutationObserver(function (mutations, observer) {{\n",
       "        var display = window.getComputedStyle(gd).display;\n",
       "        if (!display || display === 'none') {{\n",
       "            console.log([gd, 'removed!']);\n",
       "            Plotly.purge(gd);\n",
       "            observer.disconnect();\n",
       "        }}\n",
       "}});\n",
       "\n",
       "// Listen for the removal of the full notebook cells\n",
       "var notebookContainer = gd.closest('#notebook-container');\n",
       "if (notebookContainer) {{\n",
       "    x.observe(notebookContainer, {childList: true});\n",
       "}}\n",
       "\n",
       "// Listen for the clearing of the current output cell\n",
       "var outputEl = gd.closest('.output');\n",
       "if (outputEl) {{\n",
       "    x.observe(outputEl, {childList: true});\n",
       "}}\n",
       "\n",
       "                        })\n",
       "                };\n",
       "                });\n",
       "            </script>\n",
       "        </div>"
      ]
     },
     "metadata": {},
     "output_type": "display_data"
    }
   ],
   "source": [
    "fig = px.pie(df_cmpfig, values='Number', names=df_cmpfig.index, title='Company types in the year 2019')\n",
    "fig.show()\n"
   ]
  },
  {
   "cell_type": "markdown",
   "metadata": {
    "id": "pPXdODg5dWRb"
   },
   "source": [
    "**Startups are the majority leading over Consulting/Agencies**"
   ]
  },
  {
   "cell_type": "code",
   "execution_count": 169,
   "metadata": {
    "ExecuteTime": {
     "end_time": "2021-03-23T17:55:16.172283Z",
     "start_time": "2021-03-23T17:55:16.161290Z"
    },
    "colab": {
     "base_uri": "https://localhost:8080/"
    },
    "id": "6ksr1ff_K0aP",
    "outputId": "317d8768-a142-4514-d0d3-cf06e99b2b4c"
   },
   "outputs": [
    {
     "data": {
      "text/plain": [
       "65000.0"
      ]
     },
     "execution_count": 169,
     "metadata": {},
     "output_type": "execute_result"
    }
   ],
   "source": [
    "data_2018['Current Salary'].median()"
   ]
  },
  {
   "cell_type": "code",
   "execution_count": 170,
   "metadata": {
    "ExecuteTime": {
     "end_time": "2021-03-23T17:55:16.204264Z",
     "start_time": "2021-03-23T17:55:16.178280Z"
    },
    "colab": {
     "base_uri": "https://localhost:8080/"
    },
    "id": "0TBOWMqBQoj2",
    "outputId": "9444e4b6-e971-4858-88a5-230ee28b159f"
   },
   "outputs": [
    {
     "data": {
      "text/plain": [
       "Current Salary\n",
       "10300.0      1.000000\n",
       "13000.0      2.000000\n",
       "15000.0     10.000000\n",
       "17532.0      2.000000\n",
       "19200.0      2.000000\n",
       "              ...    \n",
       "150000.0     8.548497\n",
       "165000.0    15.000000\n",
       "176000.0    13.000000\n",
       "180000.0    18.000000\n",
       "200000.0    20.000000\n",
       "Name: Years of experience, Length: 140, dtype: float64"
      ]
     },
     "execution_count": 170,
     "metadata": {},
     "output_type": "execute_result"
    }
   ],
   "source": [
    "data_2018['Years of experience'].groupby(by=data_2018['Current Salary']).median()"
   ]
  },
  {
   "cell_type": "markdown",
   "metadata": {
    "id": "F8C0rcZJTUw3"
   },
   "source": [
    "**In the line plot for years of experience vs salary, you need to take the median salary for each experience year. For eg. median of all the salaries of people with years of experience as 5 and so on. Otherwise, the plots will be too cluttered and won't make sense.**"
   ]
  },
  {
   "cell_type": "code",
   "execution_count": 171,
   "metadata": {
    "ExecuteTime": {
     "end_time": "2021-03-23T17:55:16.236246Z",
     "start_time": "2021-03-23T17:55:16.207263Z"
    },
    "colab": {
     "base_uri": "https://localhost:8080/"
    },
    "id": "1fC_rt-HWgQI",
    "outputId": "ade830ea-f6b3-4a79-d5ad-e161150ddbd6"
   },
   "outputs": [
    {
     "data": {
      "text/plain": [
       "{0.0: [236, 708, 714], 0.5: [120, 158], 1.0: [35, 47, 54, 57, 77, 263, 327, 358, 393, 397, 422, 451, 634, 649, 684, 742, 749, 760, 761, 762], 1.5: [209, 581], 2.0: [34, 100, 186, 196, 353, 430, 455, 469, 470, 487, 492, 493, 535, 569, 589, 693, 724], 2.5: [157, 190, 266, 294, 454], 3.0: [8, 15, 44, 61, 70, 73, 87, 96, 104, 108, 110, 123, 131, 146, 154, 193, 194, 232, 234, 251, 254, 338, 363, 370, 398, 407, 434, 436, 445, 538, 601, 611, 672, 677, 679, 685, 706, 725, 748], 4.0: [17, 24, 33, 58, 63, 65, 74, 90, 91, 113, 128, 129, 138, 176, 181, 191, 201, 204, 246, 247, 257, 262, 310, 314, 332, 351, 362, 365, 367, 395, 396, 444, 466, 471, 507, 529, 532, 539, 556, 575, 595, 604, 657, 666, 669, 670, 750], 4.5: [588], 5.0: [6, 22, 29, 38, 64, 67, 69, 78, 82, 86, 107, 116, 121, 126, 141, 144, 148, 172, 173, 174, 182, 195, 202, 203, 211, 216, 220, 230, 238, 244, 250, 256, 259, 271, 277, 283, 291, 293, 299, 305, 308, 312, 315, 318, 328, 329, 337, 341, 357, 377, 405, 415, 428, 433, 443, 463, 482, 488, 491, 497, 500, 524, 546, 551, 580, 582, 585, 592, 596, 597, 606, 608, 620, 622, 623, 625, 631, 663, 665, 688, 690, 698, 716, 718, 720, 745], 6.0: [3, 13, 46, 48, 66, 71, 84, 97, 117, 133, 145, 151, 155, 198, 206, 212, 222, 224, 225, 267, 325, 331, 340, 345, 369, 380, 384, 400, 408, 427, 435, 437, 438, 441, 460, 506, 513, 522, 526, 540, 547, 550, 586, 603, 618, 624, 626, 627, 655, 667, 704, 730], 7.0: [40, 43, 51, 68, 72, 124, 125, 132, 139, 150, 164, 183, 189, 215, 237, 239, 241, 285, 287, 304, 309, 326, 344, 347, 349, 374, 383, 386, 394, 403, 467, 483, 494, 527, 530, 531, 544, 552, 560, 562, 564, 565, 587, 619, 628, 664, 675, 676, 682, 686, 694, 697, 701, 707, 722, 727], 7.5: [52], 8.0: [1, 5, 7, 9, 11, 28, 76, 79, 85, 101, 119, 127, 143, 161, 163, 175, 178, 180, 185, 197, 207, 219, 248, 274, 279, 296, 311, 317, 320, 336, 342, 343, 352, 356, 364, 390, 419, 439, 446, 447, 450, 465, 472, 496, 504, 505, 543, 591, 594, 599, 600, 605, 607, 617, 632, 633, 639, 652, 692, 713, 726, 744], 8.548497267759563: [12, 80, 92, 111, 136, 208, 235, 300, 307, 322, 477, 498, 519, 528, 602, 641, 642, 687, 733, 734, 736, 737, 738, 739, 740, 741, 747, 752, 754, 757, 758, 759, 763], 9.0: [39, 56, 122, 170, 192, 223, 227, 231, 280, 288, 289, 306, 359, 368, 381, 387, 399, 412, 413, 418, 448, 452, 457, 459, 464, 512, 514, 523, 525, 574, 577, 593, 638, 648, 654, 673, 696, 711, 732], 10.0: [2, 4, 20, 21, 23, 30, 32, 36, 37, 42, 45, 50, 53, 55, 59, 60, 75, 83, 94, 99, 102, 105, 112, 130, 140, 162, 167, 213, 228, 240, 249, 253, 258, 264, 269, 272, 273, 275, 276, 295, 301, 303, 323, 324, 330, 335, 346, 348, 350, 361, 366, 373, 376, 378, 382, 388, 391, 392, 402, 409, 411, 421, 449, 456, 468, 473, 474, 480, 489, 490, 503, 510, 511, 515, 518, 533, 545, 554, 558, 559, 563, 567, 571, 572, 579, 615, 621, 640, 643, 646, 647, 658, 659, 668, 671, 681, 689, 691, 699, 709, ...], 11.0: [0, 14, 16, 49, 62, 109, 160, 166, 179, 229, 245, 255, 281, 284, 355, 371, 401, 404, 406, 410, 432, 475, 481, 521, 534, 557, 612, 630, 651, 653, 661, 700, 717, 719, 728, 753], 12.0: [27, 31, 81, 95, 114, 149, 169, 177, 184, 200, 226, 242, 268, 297, 302, 313, 316, 333, 334, 360, 389, 414, 417, 423, 440, 458, 462, 501, 509, 516, 536, 537, 555, 561, 609, 616, 635, 636, 656, 660, 678, 721, 723, 735], 13.0: [115, 142, 165, 187, 199, 205, 214, 217, 292, 379, 479, 495, 499, 541], 14.0: [88, 93, 135, 153, 188, 372, 425, 583, 584, 610, 614, 645], 15.0: [25, 26, 89, 106, 134, 137, 159, 168, 171, 218, 233, 252, 265, 270, 321, 385, 416, 424, 426, 429, 476, 478, 486, 502, 508, 517, 520, 542, 553, 573, 576, 590, 637, 644, 662, 674, 680, 683, 702], 16.0: [221, 282, 431, 629], 17.0: [18, 118, 152, 286, 290, 695, 751], 18.0: [10, 103, 261, 278, 375, 420, 442, 485, 570, 598, 613, 650, 703, 729], 19.0: [19, 98, 156, 578], 20.0: [41, 147, 210, 243, 260, 298, 319, 354, 461, 484, 549, 566, 705, 712, 743], 21.0: [568], 25.0: [339, 746], 30.0: [453, 756], 38.0: [548]}"
      ]
     },
     "execution_count": 171,
     "metadata": {},
     "output_type": "execute_result"
    }
   ],
   "source": [
    "grp = data_2018.groupby('Years of experience').groups\n",
    "grp"
   ]
  },
  {
   "cell_type": "code",
   "execution_count": 172,
   "metadata": {
    "ExecuteTime": {
     "end_time": "2021-03-23T17:55:16.252238Z",
     "start_time": "2021-03-23T17:55:16.239245Z"
    },
    "id": "oL8yDCor5ZaL"
   },
   "outputs": [],
   "source": [
    "# year 2018\n",
    "groupe = data_2018.groupby('Years of experience')\n",
    "ddf = groupe['Current Salary'].agg(np.median)"
   ]
  },
  {
   "cell_type": "code",
   "execution_count": 173,
   "metadata": {
    "ExecuteTime": {
     "end_time": "2021-03-23T17:55:16.284219Z",
     "start_time": "2021-03-23T17:55:16.255235Z"
    },
    "colab": {
     "base_uri": "https://localhost:8080/",
     "height": 228
    },
    "id": "IwrzTXH16M9K",
    "outputId": "eef4677b-19f3-4e81-e6c4-5954f8eb3407"
   },
   "outputs": [
    {
     "data": {
      "text/html": [
       "<div>\n",
       "<style scoped>\n",
       "    .dataframe tbody tr th:only-of-type {\n",
       "        vertical-align: middle;\n",
       "    }\n",
       "\n",
       "    .dataframe tbody tr th {\n",
       "        vertical-align: top;\n",
       "    }\n",
       "\n",
       "    .dataframe thead th {\n",
       "        text-align: right;\n",
       "    }\n",
       "</style>\n",
       "<table border=\"1\" class=\"dataframe\">\n",
       "  <thead>\n",
       "    <tr style=\"text-align: right;\">\n",
       "      <th></th>\n",
       "      <th>Current Salary</th>\n",
       "    </tr>\n",
       "    <tr>\n",
       "      <th>Years of experience</th>\n",
       "      <th></th>\n",
       "    </tr>\n",
       "  </thead>\n",
       "  <tbody>\n",
       "    <tr>\n",
       "      <th>0.0</th>\n",
       "      <td>50000.0</td>\n",
       "    </tr>\n",
       "    <tr>\n",
       "      <th>0.5</th>\n",
       "      <td>46000.0</td>\n",
       "    </tr>\n",
       "    <tr>\n",
       "      <th>1.0</th>\n",
       "      <td>46000.0</td>\n",
       "    </tr>\n",
       "    <tr>\n",
       "      <th>1.5</th>\n",
       "      <td>58000.0</td>\n",
       "    </tr>\n",
       "    <tr>\n",
       "      <th>2.0</th>\n",
       "      <td>50000.0</td>\n",
       "    </tr>\n",
       "  </tbody>\n",
       "</table>\n",
       "</div>"
      ],
      "text/plain": [
       "                     Current Salary\n",
       "Years of experience                \n",
       "0.0                         50000.0\n",
       "0.5                         46000.0\n",
       "1.0                         46000.0\n",
       "1.5                         58000.0\n",
       "2.0                         50000.0"
      ]
     },
     "execution_count": 173,
     "metadata": {},
     "output_type": "execute_result"
    }
   ],
   "source": [
    "d1 = pd.DataFrame(ddf)\n",
    "d1.head()"
   ]
  },
  {
   "cell_type": "code",
   "execution_count": 174,
   "metadata": {
    "ExecuteTime": {
     "end_time": "2021-03-23T17:55:16.771933Z",
     "start_time": "2021-03-23T17:55:16.287217Z"
    },
    "colab": {
     "base_uri": "https://localhost:8080/",
     "height": 542
    },
    "id": "UiTa937VXLd4",
    "outputId": "394e14a6-1169-4c42-cacb-6475d02dca98"
   },
   "outputs": [
    {
     "data": {
      "application/vnd.plotly.v1+json": {
       "config": {
        "plotlyServerURL": "https://plot.ly"
       },
       "data": [
        {
         "hovertemplate": "x=%{x}<br>Current Salary=%{y}<extra></extra>",
         "legendgroup": "",
         "line": {
          "color": "#636efa",
          "dash": "solid"
         },
         "mode": "lines",
         "name": "",
         "showlegend": false,
         "type": "scatter",
         "x": [
          0,
          0.5,
          1,
          1.5,
          2,
          2.5,
          3,
          4,
          4.5,
          5,
          6,
          7,
          7.5,
          8,
          8.548497267759563,
          9,
          10,
          11,
          12,
          13,
          14,
          15,
          16,
          17,
          18,
          19,
          20,
          21,
          25,
          30,
          38
         ],
         "xaxis": "x",
         "y": [
          50000,
          46000,
          46000,
          58000,
          50000,
          50000,
          55555,
          60000,
          39150,
          60000,
          64000,
          68000,
          65000,
          70000,
          68381.76533333333,
          70000,
          70000,
          71000,
          71000,
          73500,
          71500,
          68000,
          90500,
          80000,
          72500,
          84000,
          80000,
          90000,
          109000,
          64000,
          58000
         ],
         "yaxis": "y"
        }
       ],
       "layout": {
        "legend": {
         "tracegroupgap": 0
        },
        "template": {
         "data": {
          "bar": [
           {
            "error_x": {
             "color": "#2a3f5f"
            },
            "error_y": {
             "color": "#2a3f5f"
            },
            "marker": {
             "line": {
              "color": "#E5ECF6",
              "width": 0.5
             }
            },
            "type": "bar"
           }
          ],
          "barpolar": [
           {
            "marker": {
             "line": {
              "color": "#E5ECF6",
              "width": 0.5
             }
            },
            "type": "barpolar"
           }
          ],
          "carpet": [
           {
            "aaxis": {
             "endlinecolor": "#2a3f5f",
             "gridcolor": "white",
             "linecolor": "white",
             "minorgridcolor": "white",
             "startlinecolor": "#2a3f5f"
            },
            "baxis": {
             "endlinecolor": "#2a3f5f",
             "gridcolor": "white",
             "linecolor": "white",
             "minorgridcolor": "white",
             "startlinecolor": "#2a3f5f"
            },
            "type": "carpet"
           }
          ],
          "choropleth": [
           {
            "colorbar": {
             "outlinewidth": 0,
             "ticks": ""
            },
            "type": "choropleth"
           }
          ],
          "contour": [
           {
            "colorbar": {
             "outlinewidth": 0,
             "ticks": ""
            },
            "colorscale": [
             [
              0,
              "#0d0887"
             ],
             [
              0.1111111111111111,
              "#46039f"
             ],
             [
              0.2222222222222222,
              "#7201a8"
             ],
             [
              0.3333333333333333,
              "#9c179e"
             ],
             [
              0.4444444444444444,
              "#bd3786"
             ],
             [
              0.5555555555555556,
              "#d8576b"
             ],
             [
              0.6666666666666666,
              "#ed7953"
             ],
             [
              0.7777777777777778,
              "#fb9f3a"
             ],
             [
              0.8888888888888888,
              "#fdca26"
             ],
             [
              1,
              "#f0f921"
             ]
            ],
            "type": "contour"
           }
          ],
          "contourcarpet": [
           {
            "colorbar": {
             "outlinewidth": 0,
             "ticks": ""
            },
            "type": "contourcarpet"
           }
          ],
          "heatmap": [
           {
            "colorbar": {
             "outlinewidth": 0,
             "ticks": ""
            },
            "colorscale": [
             [
              0,
              "#0d0887"
             ],
             [
              0.1111111111111111,
              "#46039f"
             ],
             [
              0.2222222222222222,
              "#7201a8"
             ],
             [
              0.3333333333333333,
              "#9c179e"
             ],
             [
              0.4444444444444444,
              "#bd3786"
             ],
             [
              0.5555555555555556,
              "#d8576b"
             ],
             [
              0.6666666666666666,
              "#ed7953"
             ],
             [
              0.7777777777777778,
              "#fb9f3a"
             ],
             [
              0.8888888888888888,
              "#fdca26"
             ],
             [
              1,
              "#f0f921"
             ]
            ],
            "type": "heatmap"
           }
          ],
          "heatmapgl": [
           {
            "colorbar": {
             "outlinewidth": 0,
             "ticks": ""
            },
            "colorscale": [
             [
              0,
              "#0d0887"
             ],
             [
              0.1111111111111111,
              "#46039f"
             ],
             [
              0.2222222222222222,
              "#7201a8"
             ],
             [
              0.3333333333333333,
              "#9c179e"
             ],
             [
              0.4444444444444444,
              "#bd3786"
             ],
             [
              0.5555555555555556,
              "#d8576b"
             ],
             [
              0.6666666666666666,
              "#ed7953"
             ],
             [
              0.7777777777777778,
              "#fb9f3a"
             ],
             [
              0.8888888888888888,
              "#fdca26"
             ],
             [
              1,
              "#f0f921"
             ]
            ],
            "type": "heatmapgl"
           }
          ],
          "histogram": [
           {
            "marker": {
             "colorbar": {
              "outlinewidth": 0,
              "ticks": ""
             }
            },
            "type": "histogram"
           }
          ],
          "histogram2d": [
           {
            "colorbar": {
             "outlinewidth": 0,
             "ticks": ""
            },
            "colorscale": [
             [
              0,
              "#0d0887"
             ],
             [
              0.1111111111111111,
              "#46039f"
             ],
             [
              0.2222222222222222,
              "#7201a8"
             ],
             [
              0.3333333333333333,
              "#9c179e"
             ],
             [
              0.4444444444444444,
              "#bd3786"
             ],
             [
              0.5555555555555556,
              "#d8576b"
             ],
             [
              0.6666666666666666,
              "#ed7953"
             ],
             [
              0.7777777777777778,
              "#fb9f3a"
             ],
             [
              0.8888888888888888,
              "#fdca26"
             ],
             [
              1,
              "#f0f921"
             ]
            ],
            "type": "histogram2d"
           }
          ],
          "histogram2dcontour": [
           {
            "colorbar": {
             "outlinewidth": 0,
             "ticks": ""
            },
            "colorscale": [
             [
              0,
              "#0d0887"
             ],
             [
              0.1111111111111111,
              "#46039f"
             ],
             [
              0.2222222222222222,
              "#7201a8"
             ],
             [
              0.3333333333333333,
              "#9c179e"
             ],
             [
              0.4444444444444444,
              "#bd3786"
             ],
             [
              0.5555555555555556,
              "#d8576b"
             ],
             [
              0.6666666666666666,
              "#ed7953"
             ],
             [
              0.7777777777777778,
              "#fb9f3a"
             ],
             [
              0.8888888888888888,
              "#fdca26"
             ],
             [
              1,
              "#f0f921"
             ]
            ],
            "type": "histogram2dcontour"
           }
          ],
          "mesh3d": [
           {
            "colorbar": {
             "outlinewidth": 0,
             "ticks": ""
            },
            "type": "mesh3d"
           }
          ],
          "parcoords": [
           {
            "line": {
             "colorbar": {
              "outlinewidth": 0,
              "ticks": ""
             }
            },
            "type": "parcoords"
           }
          ],
          "pie": [
           {
            "automargin": true,
            "type": "pie"
           }
          ],
          "scatter": [
           {
            "marker": {
             "colorbar": {
              "outlinewidth": 0,
              "ticks": ""
             }
            },
            "type": "scatter"
           }
          ],
          "scatter3d": [
           {
            "line": {
             "colorbar": {
              "outlinewidth": 0,
              "ticks": ""
             }
            },
            "marker": {
             "colorbar": {
              "outlinewidth": 0,
              "ticks": ""
             }
            },
            "type": "scatter3d"
           }
          ],
          "scattercarpet": [
           {
            "marker": {
             "colorbar": {
              "outlinewidth": 0,
              "ticks": ""
             }
            },
            "type": "scattercarpet"
           }
          ],
          "scattergeo": [
           {
            "marker": {
             "colorbar": {
              "outlinewidth": 0,
              "ticks": ""
             }
            },
            "type": "scattergeo"
           }
          ],
          "scattergl": [
           {
            "marker": {
             "colorbar": {
              "outlinewidth": 0,
              "ticks": ""
             }
            },
            "type": "scattergl"
           }
          ],
          "scattermapbox": [
           {
            "marker": {
             "colorbar": {
              "outlinewidth": 0,
              "ticks": ""
             }
            },
            "type": "scattermapbox"
           }
          ],
          "scatterpolar": [
           {
            "marker": {
             "colorbar": {
              "outlinewidth": 0,
              "ticks": ""
             }
            },
            "type": "scatterpolar"
           }
          ],
          "scatterpolargl": [
           {
            "marker": {
             "colorbar": {
              "outlinewidth": 0,
              "ticks": ""
             }
            },
            "type": "scatterpolargl"
           }
          ],
          "scatterternary": [
           {
            "marker": {
             "colorbar": {
              "outlinewidth": 0,
              "ticks": ""
             }
            },
            "type": "scatterternary"
           }
          ],
          "surface": [
           {
            "colorbar": {
             "outlinewidth": 0,
             "ticks": ""
            },
            "colorscale": [
             [
              0,
              "#0d0887"
             ],
             [
              0.1111111111111111,
              "#46039f"
             ],
             [
              0.2222222222222222,
              "#7201a8"
             ],
             [
              0.3333333333333333,
              "#9c179e"
             ],
             [
              0.4444444444444444,
              "#bd3786"
             ],
             [
              0.5555555555555556,
              "#d8576b"
             ],
             [
              0.6666666666666666,
              "#ed7953"
             ],
             [
              0.7777777777777778,
              "#fb9f3a"
             ],
             [
              0.8888888888888888,
              "#fdca26"
             ],
             [
              1,
              "#f0f921"
             ]
            ],
            "type": "surface"
           }
          ],
          "table": [
           {
            "cells": {
             "fill": {
              "color": "#EBF0F8"
             },
             "line": {
              "color": "white"
             }
            },
            "header": {
             "fill": {
              "color": "#C8D4E3"
             },
             "line": {
              "color": "white"
             }
            },
            "type": "table"
           }
          ]
         },
         "layout": {
          "annotationdefaults": {
           "arrowcolor": "#2a3f5f",
           "arrowhead": 0,
           "arrowwidth": 1
          },
          "coloraxis": {
           "colorbar": {
            "outlinewidth": 0,
            "ticks": ""
           }
          },
          "colorscale": {
           "diverging": [
            [
             0,
             "#8e0152"
            ],
            [
             0.1,
             "#c51b7d"
            ],
            [
             0.2,
             "#de77ae"
            ],
            [
             0.3,
             "#f1b6da"
            ],
            [
             0.4,
             "#fde0ef"
            ],
            [
             0.5,
             "#f7f7f7"
            ],
            [
             0.6,
             "#e6f5d0"
            ],
            [
             0.7,
             "#b8e186"
            ],
            [
             0.8,
             "#7fbc41"
            ],
            [
             0.9,
             "#4d9221"
            ],
            [
             1,
             "#276419"
            ]
           ],
           "sequential": [
            [
             0,
             "#0d0887"
            ],
            [
             0.1111111111111111,
             "#46039f"
            ],
            [
             0.2222222222222222,
             "#7201a8"
            ],
            [
             0.3333333333333333,
             "#9c179e"
            ],
            [
             0.4444444444444444,
             "#bd3786"
            ],
            [
             0.5555555555555556,
             "#d8576b"
            ],
            [
             0.6666666666666666,
             "#ed7953"
            ],
            [
             0.7777777777777778,
             "#fb9f3a"
            ],
            [
             0.8888888888888888,
             "#fdca26"
            ],
            [
             1,
             "#f0f921"
            ]
           ],
           "sequentialminus": [
            [
             0,
             "#0d0887"
            ],
            [
             0.1111111111111111,
             "#46039f"
            ],
            [
             0.2222222222222222,
             "#7201a8"
            ],
            [
             0.3333333333333333,
             "#9c179e"
            ],
            [
             0.4444444444444444,
             "#bd3786"
            ],
            [
             0.5555555555555556,
             "#d8576b"
            ],
            [
             0.6666666666666666,
             "#ed7953"
            ],
            [
             0.7777777777777778,
             "#fb9f3a"
            ],
            [
             0.8888888888888888,
             "#fdca26"
            ],
            [
             1,
             "#f0f921"
            ]
           ]
          },
          "colorway": [
           "#636efa",
           "#EF553B",
           "#00cc96",
           "#ab63fa",
           "#FFA15A",
           "#19d3f3",
           "#FF6692",
           "#B6E880",
           "#FF97FF",
           "#FECB52"
          ],
          "font": {
           "color": "#2a3f5f"
          },
          "geo": {
           "bgcolor": "white",
           "lakecolor": "white",
           "landcolor": "#E5ECF6",
           "showlakes": true,
           "showland": true,
           "subunitcolor": "white"
          },
          "hoverlabel": {
           "align": "left"
          },
          "hovermode": "closest",
          "mapbox": {
           "style": "light"
          },
          "paper_bgcolor": "white",
          "plot_bgcolor": "#E5ECF6",
          "polar": {
           "angularaxis": {
            "gridcolor": "white",
            "linecolor": "white",
            "ticks": ""
           },
           "bgcolor": "#E5ECF6",
           "radialaxis": {
            "gridcolor": "white",
            "linecolor": "white",
            "ticks": ""
           }
          },
          "scene": {
           "xaxis": {
            "backgroundcolor": "#E5ECF6",
            "gridcolor": "white",
            "gridwidth": 2,
            "linecolor": "white",
            "showbackground": true,
            "ticks": "",
            "zerolinecolor": "white"
           },
           "yaxis": {
            "backgroundcolor": "#E5ECF6",
            "gridcolor": "white",
            "gridwidth": 2,
            "linecolor": "white",
            "showbackground": true,
            "ticks": "",
            "zerolinecolor": "white"
           },
           "zaxis": {
            "backgroundcolor": "#E5ECF6",
            "gridcolor": "white",
            "gridwidth": 2,
            "linecolor": "white",
            "showbackground": true,
            "ticks": "",
            "zerolinecolor": "white"
           }
          },
          "shapedefaults": {
           "line": {
            "color": "#2a3f5f"
           }
          },
          "ternary": {
           "aaxis": {
            "gridcolor": "white",
            "linecolor": "white",
            "ticks": ""
           },
           "baxis": {
            "gridcolor": "white",
            "linecolor": "white",
            "ticks": ""
           },
           "bgcolor": "#E5ECF6",
           "caxis": {
            "gridcolor": "white",
            "linecolor": "white",
            "ticks": ""
           }
          },
          "title": {
           "x": 0.05
          },
          "xaxis": {
           "automargin": true,
           "gridcolor": "white",
           "linecolor": "white",
           "ticks": "",
           "title": {
            "standoff": 15
           },
           "zerolinecolor": "white",
           "zerolinewidth": 2
          },
          "yaxis": {
           "automargin": true,
           "gridcolor": "white",
           "linecolor": "white",
           "ticks": "",
           "title": {
            "standoff": 15
           },
           "zerolinecolor": "white",
           "zerolinewidth": 2
          }
         }
        },
        "title": {
         "text": "Years of XP vs Median Current Salary of Each Year of XP"
        },
        "xaxis": {
         "anchor": "y",
         "domain": [
          0,
          1
         ],
         "title": {
          "text": "x"
         }
        },
        "yaxis": {
         "anchor": "x",
         "domain": [
          0,
          1
         ],
         "title": {
          "text": "Current Salary"
         }
        }
       }
      },
      "text/html": [
       "<div>\n",
       "        \n",
       "        \n",
       "            <div id=\"c15f9d27-cd6c-43aa-8109-ecaf73c8e2d6\" class=\"plotly-graph-div\" style=\"height:525px; width:100%;\"></div>\n",
       "            <script type=\"text/javascript\">\n",
       "                require([\"plotly\"], function(Plotly) {\n",
       "                    window.PLOTLYENV=window.PLOTLYENV || {};\n",
       "                    \n",
       "                if (document.getElementById(\"c15f9d27-cd6c-43aa-8109-ecaf73c8e2d6\")) {\n",
       "                    Plotly.newPlot(\n",
       "                        'c15f9d27-cd6c-43aa-8109-ecaf73c8e2d6',\n",
       "                        [{\"hovertemplate\": \"x=%{x}<br>Current Salary=%{y}<extra></extra>\", \"legendgroup\": \"\", \"line\": {\"color\": \"#636efa\", \"dash\": \"solid\"}, \"mode\": \"lines\", \"name\": \"\", \"showlegend\": false, \"type\": \"scatter\", \"x\": [0.0, 0.5, 1.0, 1.5, 2.0, 2.5, 3.0, 4.0, 4.5, 5.0, 6.0, 7.0, 7.5, 8.0, 8.548497267759563, 9.0, 10.0, 11.0, 12.0, 13.0, 14.0, 15.0, 16.0, 17.0, 18.0, 19.0, 20.0, 21.0, 25.0, 30.0, 38.0], \"xaxis\": \"x\", \"y\": [50000.0, 46000.0, 46000.0, 58000.0, 50000.0, 50000.0, 55555.0, 60000.0, 39150.0, 60000.0, 64000.0, 68000.0, 65000.0, 70000.0, 68381.76533333333, 70000.0, 70000.0, 71000.0, 71000.0, 73500.0, 71500.0, 68000.0, 90500.0, 80000.0, 72500.0, 84000.0, 80000.0, 90000.0, 109000.0, 64000.0, 58000.0], \"yaxis\": \"y\"}],\n",
       "                        {\"legend\": {\"tracegroupgap\": 0}, \"template\": {\"data\": {\"bar\": [{\"error_x\": {\"color\": \"#2a3f5f\"}, \"error_y\": {\"color\": \"#2a3f5f\"}, \"marker\": {\"line\": {\"color\": \"#E5ECF6\", \"width\": 0.5}}, \"type\": \"bar\"}], \"barpolar\": [{\"marker\": {\"line\": {\"color\": \"#E5ECF6\", \"width\": 0.5}}, \"type\": \"barpolar\"}], \"carpet\": [{\"aaxis\": {\"endlinecolor\": \"#2a3f5f\", \"gridcolor\": \"white\", \"linecolor\": \"white\", \"minorgridcolor\": \"white\", \"startlinecolor\": \"#2a3f5f\"}, \"baxis\": {\"endlinecolor\": \"#2a3f5f\", \"gridcolor\": \"white\", \"linecolor\": \"white\", \"minorgridcolor\": \"white\", \"startlinecolor\": \"#2a3f5f\"}, \"type\": \"carpet\"}], \"choropleth\": [{\"colorbar\": {\"outlinewidth\": 0, \"ticks\": \"\"}, \"type\": \"choropleth\"}], \"contour\": [{\"colorbar\": {\"outlinewidth\": 0, \"ticks\": \"\"}, \"colorscale\": [[0.0, \"#0d0887\"], [0.1111111111111111, \"#46039f\"], [0.2222222222222222, \"#7201a8\"], [0.3333333333333333, \"#9c179e\"], [0.4444444444444444, \"#bd3786\"], [0.5555555555555556, \"#d8576b\"], [0.6666666666666666, \"#ed7953\"], [0.7777777777777778, \"#fb9f3a\"], [0.8888888888888888, \"#fdca26\"], [1.0, \"#f0f921\"]], \"type\": \"contour\"}], \"contourcarpet\": [{\"colorbar\": {\"outlinewidth\": 0, \"ticks\": \"\"}, \"type\": \"contourcarpet\"}], \"heatmap\": [{\"colorbar\": {\"outlinewidth\": 0, \"ticks\": \"\"}, \"colorscale\": [[0.0, \"#0d0887\"], [0.1111111111111111, \"#46039f\"], [0.2222222222222222, \"#7201a8\"], [0.3333333333333333, \"#9c179e\"], [0.4444444444444444, \"#bd3786\"], [0.5555555555555556, \"#d8576b\"], [0.6666666666666666, \"#ed7953\"], [0.7777777777777778, \"#fb9f3a\"], [0.8888888888888888, \"#fdca26\"], [1.0, \"#f0f921\"]], \"type\": \"heatmap\"}], \"heatmapgl\": [{\"colorbar\": {\"outlinewidth\": 0, \"ticks\": \"\"}, \"colorscale\": [[0.0, \"#0d0887\"], [0.1111111111111111, \"#46039f\"], [0.2222222222222222, \"#7201a8\"], [0.3333333333333333, \"#9c179e\"], [0.4444444444444444, \"#bd3786\"], [0.5555555555555556, \"#d8576b\"], [0.6666666666666666, \"#ed7953\"], [0.7777777777777778, \"#fb9f3a\"], [0.8888888888888888, \"#fdca26\"], [1.0, \"#f0f921\"]], \"type\": \"heatmapgl\"}], \"histogram\": [{\"marker\": {\"colorbar\": {\"outlinewidth\": 0, \"ticks\": \"\"}}, \"type\": \"histogram\"}], \"histogram2d\": [{\"colorbar\": {\"outlinewidth\": 0, \"ticks\": \"\"}, \"colorscale\": [[0.0, \"#0d0887\"], [0.1111111111111111, \"#46039f\"], [0.2222222222222222, \"#7201a8\"], [0.3333333333333333, \"#9c179e\"], [0.4444444444444444, \"#bd3786\"], [0.5555555555555556, \"#d8576b\"], [0.6666666666666666, \"#ed7953\"], [0.7777777777777778, \"#fb9f3a\"], [0.8888888888888888, \"#fdca26\"], [1.0, \"#f0f921\"]], \"type\": \"histogram2d\"}], \"histogram2dcontour\": [{\"colorbar\": {\"outlinewidth\": 0, \"ticks\": \"\"}, \"colorscale\": [[0.0, \"#0d0887\"], [0.1111111111111111, \"#46039f\"], [0.2222222222222222, \"#7201a8\"], [0.3333333333333333, \"#9c179e\"], [0.4444444444444444, \"#bd3786\"], [0.5555555555555556, \"#d8576b\"], [0.6666666666666666, \"#ed7953\"], [0.7777777777777778, \"#fb9f3a\"], [0.8888888888888888, \"#fdca26\"], [1.0, \"#f0f921\"]], \"type\": \"histogram2dcontour\"}], \"mesh3d\": [{\"colorbar\": {\"outlinewidth\": 0, \"ticks\": \"\"}, \"type\": \"mesh3d\"}], \"parcoords\": [{\"line\": {\"colorbar\": {\"outlinewidth\": 0, \"ticks\": \"\"}}, \"type\": \"parcoords\"}], \"pie\": [{\"automargin\": true, \"type\": \"pie\"}], \"scatter\": [{\"marker\": {\"colorbar\": {\"outlinewidth\": 0, \"ticks\": \"\"}}, \"type\": \"scatter\"}], \"scatter3d\": [{\"line\": {\"colorbar\": {\"outlinewidth\": 0, \"ticks\": \"\"}}, \"marker\": {\"colorbar\": {\"outlinewidth\": 0, \"ticks\": \"\"}}, \"type\": \"scatter3d\"}], \"scattercarpet\": [{\"marker\": {\"colorbar\": {\"outlinewidth\": 0, \"ticks\": \"\"}}, \"type\": \"scattercarpet\"}], \"scattergeo\": [{\"marker\": {\"colorbar\": {\"outlinewidth\": 0, \"ticks\": \"\"}}, \"type\": \"scattergeo\"}], \"scattergl\": [{\"marker\": {\"colorbar\": {\"outlinewidth\": 0, \"ticks\": \"\"}}, \"type\": \"scattergl\"}], \"scattermapbox\": [{\"marker\": {\"colorbar\": {\"outlinewidth\": 0, \"ticks\": \"\"}}, \"type\": \"scattermapbox\"}], \"scatterpolar\": [{\"marker\": {\"colorbar\": {\"outlinewidth\": 0, \"ticks\": \"\"}}, \"type\": \"scatterpolar\"}], \"scatterpolargl\": [{\"marker\": {\"colorbar\": {\"outlinewidth\": 0, \"ticks\": \"\"}}, \"type\": \"scatterpolargl\"}], \"scatterternary\": [{\"marker\": {\"colorbar\": {\"outlinewidth\": 0, \"ticks\": \"\"}}, \"type\": \"scatterternary\"}], \"surface\": [{\"colorbar\": {\"outlinewidth\": 0, \"ticks\": \"\"}, \"colorscale\": [[0.0, \"#0d0887\"], [0.1111111111111111, \"#46039f\"], [0.2222222222222222, \"#7201a8\"], [0.3333333333333333, \"#9c179e\"], [0.4444444444444444, \"#bd3786\"], [0.5555555555555556, \"#d8576b\"], [0.6666666666666666, \"#ed7953\"], [0.7777777777777778, \"#fb9f3a\"], [0.8888888888888888, \"#fdca26\"], [1.0, \"#f0f921\"]], \"type\": \"surface\"}], \"table\": [{\"cells\": {\"fill\": {\"color\": \"#EBF0F8\"}, \"line\": {\"color\": \"white\"}}, \"header\": {\"fill\": {\"color\": \"#C8D4E3\"}, \"line\": {\"color\": \"white\"}}, \"type\": \"table\"}]}, \"layout\": {\"annotationdefaults\": {\"arrowcolor\": \"#2a3f5f\", \"arrowhead\": 0, \"arrowwidth\": 1}, \"coloraxis\": {\"colorbar\": {\"outlinewidth\": 0, \"ticks\": \"\"}}, \"colorscale\": {\"diverging\": [[0, \"#8e0152\"], [0.1, \"#c51b7d\"], [0.2, \"#de77ae\"], [0.3, \"#f1b6da\"], [0.4, \"#fde0ef\"], [0.5, \"#f7f7f7\"], [0.6, \"#e6f5d0\"], [0.7, \"#b8e186\"], [0.8, \"#7fbc41\"], [0.9, \"#4d9221\"], [1, \"#276419\"]], \"sequential\": [[0.0, \"#0d0887\"], [0.1111111111111111, \"#46039f\"], [0.2222222222222222, \"#7201a8\"], [0.3333333333333333, \"#9c179e\"], [0.4444444444444444, \"#bd3786\"], [0.5555555555555556, \"#d8576b\"], [0.6666666666666666, \"#ed7953\"], [0.7777777777777778, \"#fb9f3a\"], [0.8888888888888888, \"#fdca26\"], [1.0, \"#f0f921\"]], \"sequentialminus\": [[0.0, \"#0d0887\"], [0.1111111111111111, \"#46039f\"], [0.2222222222222222, \"#7201a8\"], [0.3333333333333333, \"#9c179e\"], [0.4444444444444444, \"#bd3786\"], [0.5555555555555556, \"#d8576b\"], [0.6666666666666666, \"#ed7953\"], [0.7777777777777778, \"#fb9f3a\"], [0.8888888888888888, \"#fdca26\"], [1.0, \"#f0f921\"]]}, \"colorway\": [\"#636efa\", \"#EF553B\", \"#00cc96\", \"#ab63fa\", \"#FFA15A\", \"#19d3f3\", \"#FF6692\", \"#B6E880\", \"#FF97FF\", \"#FECB52\"], \"font\": {\"color\": \"#2a3f5f\"}, \"geo\": {\"bgcolor\": \"white\", \"lakecolor\": \"white\", \"landcolor\": \"#E5ECF6\", \"showlakes\": true, \"showland\": true, \"subunitcolor\": \"white\"}, \"hoverlabel\": {\"align\": \"left\"}, \"hovermode\": \"closest\", \"mapbox\": {\"style\": \"light\"}, \"paper_bgcolor\": \"white\", \"plot_bgcolor\": \"#E5ECF6\", \"polar\": {\"angularaxis\": {\"gridcolor\": \"white\", \"linecolor\": \"white\", \"ticks\": \"\"}, \"bgcolor\": \"#E5ECF6\", \"radialaxis\": {\"gridcolor\": \"white\", \"linecolor\": \"white\", \"ticks\": \"\"}}, \"scene\": {\"xaxis\": {\"backgroundcolor\": \"#E5ECF6\", \"gridcolor\": \"white\", \"gridwidth\": 2, \"linecolor\": \"white\", \"showbackground\": true, \"ticks\": \"\", \"zerolinecolor\": \"white\"}, \"yaxis\": {\"backgroundcolor\": \"#E5ECF6\", \"gridcolor\": \"white\", \"gridwidth\": 2, \"linecolor\": \"white\", \"showbackground\": true, \"ticks\": \"\", \"zerolinecolor\": \"white\"}, \"zaxis\": {\"backgroundcolor\": \"#E5ECF6\", \"gridcolor\": \"white\", \"gridwidth\": 2, \"linecolor\": \"white\", \"showbackground\": true, \"ticks\": \"\", \"zerolinecolor\": \"white\"}}, \"shapedefaults\": {\"line\": {\"color\": \"#2a3f5f\"}}, \"ternary\": {\"aaxis\": {\"gridcolor\": \"white\", \"linecolor\": \"white\", \"ticks\": \"\"}, \"baxis\": {\"gridcolor\": \"white\", \"linecolor\": \"white\", \"ticks\": \"\"}, \"bgcolor\": \"#E5ECF6\", \"caxis\": {\"gridcolor\": \"white\", \"linecolor\": \"white\", \"ticks\": \"\"}}, \"title\": {\"x\": 0.05}, \"xaxis\": {\"automargin\": true, \"gridcolor\": \"white\", \"linecolor\": \"white\", \"ticks\": \"\", \"title\": {\"standoff\": 15}, \"zerolinecolor\": \"white\", \"zerolinewidth\": 2}, \"yaxis\": {\"automargin\": true, \"gridcolor\": \"white\", \"linecolor\": \"white\", \"ticks\": \"\", \"title\": {\"standoff\": 15}, \"zerolinecolor\": \"white\", \"zerolinewidth\": 2}}}, \"title\": {\"text\": \"Years of XP vs Median Current Salary of Each Year of XP\"}, \"xaxis\": {\"anchor\": \"y\", \"domain\": [0.0, 1.0], \"title\": {\"text\": \"x\"}}, \"yaxis\": {\"anchor\": \"x\", \"domain\": [0.0, 1.0], \"title\": {\"text\": \"Current Salary\"}}},\n",
       "                        {\"responsive\": true}\n",
       "                    ).then(function(){\n",
       "                            \n",
       "var gd = document.getElementById('c15f9d27-cd6c-43aa-8109-ecaf73c8e2d6');\n",
       "var x = new MutationObserver(function (mutations, observer) {{\n",
       "        var display = window.getComputedStyle(gd).display;\n",
       "        if (!display || display === 'none') {{\n",
       "            console.log([gd, 'removed!']);\n",
       "            Plotly.purge(gd);\n",
       "            observer.disconnect();\n",
       "        }}\n",
       "}});\n",
       "\n",
       "// Listen for the removal of the full notebook cells\n",
       "var notebookContainer = gd.closest('#notebook-container');\n",
       "if (notebookContainer) {{\n",
       "    x.observe(notebookContainer, {childList: true});\n",
       "}}\n",
       "\n",
       "// Listen for the clearing of the current output cell\n",
       "var outputEl = gd.closest('.output');\n",
       "if (outputEl) {{\n",
       "    x.observe(outputEl, {childList: true});\n",
       "}}\n",
       "\n",
       "                        })\n",
       "                };\n",
       "                });\n",
       "            </script>\n",
       "        </div>"
      ]
     },
     "metadata": {},
     "output_type": "display_data"
    }
   ],
   "source": [
    "fig = px.line(d1, x=d1.index, y='Current Salary', title='Years of XP vs Median Current Salary of Each Year of XP')\n",
    "fig.show()"
   ]
  },
  {
   "cell_type": "code",
   "execution_count": 175,
   "metadata": {
    "ExecuteTime": {
     "end_time": "2021-03-23T17:55:16.787924Z",
     "start_time": "2021-03-23T17:55:16.774932Z"
    },
    "id": "v3AkZDW87psu"
   },
   "outputs": [],
   "source": [
    "# year 2019 \n",
    "groupe_2019 = data_2019.groupby('Years of experience')\n",
    "dd_19 = groupe_2019['Yearly brutto salary (without bonus and stocks)'].agg(np.median)"
   ]
  },
  {
   "cell_type": "code",
   "execution_count": 176,
   "metadata": {
    "ExecuteTime": {
     "end_time": "2021-03-23T17:55:16.819906Z",
     "start_time": "2021-03-23T17:55:16.791922Z"
    },
    "colab": {
     "base_uri": "https://localhost:8080/",
     "height": 228
    },
    "id": "PFJKcOCt8tqV",
    "outputId": "b0b85d27-f726-4c39-ffc5-31ffb6551c68"
   },
   "outputs": [
    {
     "data": {
      "text/html": [
       "<div>\n",
       "<style scoped>\n",
       "    .dataframe tbody tr th:only-of-type {\n",
       "        vertical-align: middle;\n",
       "    }\n",
       "\n",
       "    .dataframe tbody tr th {\n",
       "        vertical-align: top;\n",
       "    }\n",
       "\n",
       "    .dataframe thead th {\n",
       "        text-align: right;\n",
       "    }\n",
       "</style>\n",
       "<table border=\"1\" class=\"dataframe\">\n",
       "  <thead>\n",
       "    <tr style=\"text-align: right;\">\n",
       "      <th></th>\n",
       "      <th>Yearly brutto salary (without bonus and stocks)</th>\n",
       "    </tr>\n",
       "    <tr>\n",
       "      <th>Years of experience</th>\n",
       "      <th></th>\n",
       "    </tr>\n",
       "  </thead>\n",
       "  <tbody>\n",
       "    <tr>\n",
       "      <th>0.0</th>\n",
       "      <td>55000.0</td>\n",
       "    </tr>\n",
       "    <tr>\n",
       "      <th>1.0</th>\n",
       "      <td>46800.0</td>\n",
       "    </tr>\n",
       "    <tr>\n",
       "      <th>2.0</th>\n",
       "      <td>52500.0</td>\n",
       "    </tr>\n",
       "    <tr>\n",
       "      <th>3.0</th>\n",
       "      <td>55000.0</td>\n",
       "    </tr>\n",
       "    <tr>\n",
       "      <th>4.0</th>\n",
       "      <td>62000.0</td>\n",
       "    </tr>\n",
       "  </tbody>\n",
       "</table>\n",
       "</div>"
      ],
      "text/plain": [
       "                     Yearly brutto salary (without bonus and stocks)\n",
       "Years of experience                                                 \n",
       "0.0                                                          55000.0\n",
       "1.0                                                          46800.0\n",
       "2.0                                                          52500.0\n",
       "3.0                                                          55000.0\n",
       "4.0                                                          62000.0"
      ]
     },
     "execution_count": 176,
     "metadata": {},
     "output_type": "execute_result"
    }
   ],
   "source": [
    "d2 = pd.DataFrame(dd_19)\n",
    "d2.head()"
   ]
  },
  {
   "cell_type": "code",
   "execution_count": 177,
   "metadata": {
    "ExecuteTime": {
     "end_time": "2021-03-23T17:55:16.851886Z",
     "start_time": "2021-03-23T17:55:16.822904Z"
    },
    "colab": {
     "base_uri": "https://localhost:8080/",
     "height": 858
    },
    "id": "5VayQbjQ_aQL",
    "outputId": "c635647a-0070-4270-f20d-8e2839eacee7"
   },
   "outputs": [
    {
     "data": {
      "text/html": [
       "<div>\n",
       "<style scoped>\n",
       "    .dataframe tbody tr th:only-of-type {\n",
       "        vertical-align: middle;\n",
       "    }\n",
       "\n",
       "    .dataframe tbody tr th {\n",
       "        vertical-align: top;\n",
       "    }\n",
       "\n",
       "    .dataframe thead th {\n",
       "        text-align: right;\n",
       "    }\n",
       "</style>\n",
       "<table border=\"1\" class=\"dataframe\">\n",
       "  <thead>\n",
       "    <tr style=\"text-align: right;\">\n",
       "      <th></th>\n",
       "      <th>Yearly brutto salary (without bonus and stocks)</th>\n",
       "    </tr>\n",
       "    <tr>\n",
       "      <th>Years of experience</th>\n",
       "      <th></th>\n",
       "    </tr>\n",
       "  </thead>\n",
       "  <tbody>\n",
       "    <tr>\n",
       "      <th>0.0</th>\n",
       "      <td>55000.0</td>\n",
       "    </tr>\n",
       "    <tr>\n",
       "      <th>1.0</th>\n",
       "      <td>46800.0</td>\n",
       "    </tr>\n",
       "    <tr>\n",
       "      <th>2.0</th>\n",
       "      <td>52500.0</td>\n",
       "    </tr>\n",
       "    <tr>\n",
       "      <th>3.0</th>\n",
       "      <td>55000.0</td>\n",
       "    </tr>\n",
       "    <tr>\n",
       "      <th>4.0</th>\n",
       "      <td>62000.0</td>\n",
       "    </tr>\n",
       "    <tr>\n",
       "      <th>5.0</th>\n",
       "      <td>65000.0</td>\n",
       "    </tr>\n",
       "    <tr>\n",
       "      <th>6.0</th>\n",
       "      <td>68000.0</td>\n",
       "    </tr>\n",
       "    <tr>\n",
       "      <th>7.0</th>\n",
       "      <td>67000.0</td>\n",
       "    </tr>\n",
       "    <tr>\n",
       "      <th>8.0</th>\n",
       "      <td>74500.0</td>\n",
       "    </tr>\n",
       "    <tr>\n",
       "      <th>9.0</th>\n",
       "      <td>74500.0</td>\n",
       "    </tr>\n",
       "    <tr>\n",
       "      <th>10.0</th>\n",
       "      <td>76500.0</td>\n",
       "    </tr>\n",
       "    <tr>\n",
       "      <th>11.0</th>\n",
       "      <td>76500.0</td>\n",
       "    </tr>\n",
       "    <tr>\n",
       "      <th>12.0</th>\n",
       "      <td>77700.0</td>\n",
       "    </tr>\n",
       "    <tr>\n",
       "      <th>13.0</th>\n",
       "      <td>70000.0</td>\n",
       "    </tr>\n",
       "    <tr>\n",
       "      <th>14.0</th>\n",
       "      <td>80000.0</td>\n",
       "    </tr>\n",
       "    <tr>\n",
       "      <th>15.0</th>\n",
       "      <td>75000.0</td>\n",
       "    </tr>\n",
       "    <tr>\n",
       "      <th>16.0</th>\n",
       "      <td>72000.0</td>\n",
       "    </tr>\n",
       "    <tr>\n",
       "      <th>17.0</th>\n",
       "      <td>75000.0</td>\n",
       "    </tr>\n",
       "    <tr>\n",
       "      <th>18.0</th>\n",
       "      <td>82500.0</td>\n",
       "    </tr>\n",
       "    <tr>\n",
       "      <th>19.0</th>\n",
       "      <td>73000.0</td>\n",
       "    </tr>\n",
       "    <tr>\n",
       "      <th>20.0</th>\n",
       "      <td>78000.0</td>\n",
       "    </tr>\n",
       "    <tr>\n",
       "      <th>22.0</th>\n",
       "      <td>100500.0</td>\n",
       "    </tr>\n",
       "    <tr>\n",
       "      <th>24.0</th>\n",
       "      <td>115000.0</td>\n",
       "    </tr>\n",
       "    <tr>\n",
       "      <th>25.0</th>\n",
       "      <td>79800.0</td>\n",
       "    </tr>\n",
       "    <tr>\n",
       "      <th>28.0</th>\n",
       "      <td>110000.0</td>\n",
       "    </tr>\n",
       "    <tr>\n",
       "      <th>30.0</th>\n",
       "      <td>60000.0</td>\n",
       "    </tr>\n",
       "  </tbody>\n",
       "</table>\n",
       "</div>"
      ],
      "text/plain": [
       "                     Yearly brutto salary (without bonus and stocks)\n",
       "Years of experience                                                 \n",
       "0.0                                                          55000.0\n",
       "1.0                                                          46800.0\n",
       "2.0                                                          52500.0\n",
       "3.0                                                          55000.0\n",
       "4.0                                                          62000.0\n",
       "5.0                                                          65000.0\n",
       "6.0                                                          68000.0\n",
       "7.0                                                          67000.0\n",
       "8.0                                                          74500.0\n",
       "9.0                                                          74500.0\n",
       "10.0                                                         76500.0\n",
       "11.0                                                         76500.0\n",
       "12.0                                                         77700.0\n",
       "13.0                                                         70000.0\n",
       "14.0                                                         80000.0\n",
       "15.0                                                         75000.0\n",
       "16.0                                                         72000.0\n",
       "17.0                                                         75000.0\n",
       "18.0                                                         82500.0\n",
       "19.0                                                         73000.0\n",
       "20.0                                                         78000.0\n",
       "22.0                                                        100500.0\n",
       "24.0                                                        115000.0\n",
       "25.0                                                         79800.0\n",
       "28.0                                                        110000.0\n",
       "30.0                                                         60000.0"
      ]
     },
     "execution_count": 177,
     "metadata": {},
     "output_type": "execute_result"
    }
   ],
   "source": [
    "d2.head(50)"
   ]
  },
  {
   "cell_type": "code",
   "execution_count": 178,
   "metadata": {
    "ExecuteTime": {
     "end_time": "2021-03-23T17:55:16.867878Z",
     "start_time": "2021-03-23T17:55:16.853886Z"
    },
    "colab": {
     "base_uri": "https://localhost:8080/"
    },
    "id": "5aQpdgFwBSDI",
    "outputId": "189c467d-96a9-4b8e-b725-957b5f821cbd"
   },
   "outputs": [
    {
     "data": {
      "text/plain": [
       "array(['5', '7', '12', '4', '17', '6', '8', '15', '2', '25', '10', '14',\n",
       "       '11', '18', '13', '30', '3', '40', '26', '23', '9', '19', '20',\n",
       "       '5.5', '22', '16', '0.8', '1', '1.5', '6.5', '21', '7.5', '2.5',\n",
       "       '28', '29', '1,5', '24', '0', '4.5', '27',\n",
       "       '1 (as QA Engineer) / 11 in total', '2,5', '15, thereof 8 as CTO',\n",
       "       '31', '6 (not as a data scientist, but as a lab scientist)', '383',\n",
       "       '3.5', 'less than year'], dtype=object)"
      ]
     },
     "execution_count": 178,
     "metadata": {},
     "output_type": "execute_result"
    }
   ],
   "source": [
    "data_2020['Total years of experience'].unique()"
   ]
  },
  {
   "cell_type": "code",
   "execution_count": 179,
   "metadata": {
    "ExecuteTime": {
     "end_time": "2021-03-23T17:55:16.898859Z",
     "start_time": "2021-03-23T17:55:16.870877Z"
    },
    "id": "nO2rpfaaBYMI"
   },
   "outputs": [],
   "source": [
    "data_2020['Total years of experience'] = data_2020['Total years of experience'].replace(['1 (as QA Engineer) / 11 in total'], '11')\n",
    "data_2020['Total years of experience'] = data_2020['Total years of experience'].replace(['15, thereof 8 as CTO'], '15')\n",
    "data_2020['Total years of experience'] = data_2020['Total years of experience'].replace(['6 (not as a data scientist, but as a lab scientist)'], '6')\n",
    "data_2020['Total years of experience'] = data_2020['Total years of experience'].replace(['less than year'], '0.5')\n",
    "data_2020['Total years of experience'] = data_2020['Total years of experience'].replace(['383'], '38.3')\n",
    "data_2020['Total years of experience'] = data_2020['Total years of experience'].replace(['1,5'], '1.5')\n",
    "data_2020['Total years of experience'] = data_2020['Total years of experience'].replace(['2,5'], '2.5')\n"
   ]
  },
  {
   "cell_type": "code",
   "execution_count": 180,
   "metadata": {
    "ExecuteTime": {
     "end_time": "2021-03-23T17:55:16.914850Z",
     "start_time": "2021-03-23T17:55:16.901858Z"
    },
    "id": "lpBgwN32BmJY"
   },
   "outputs": [],
   "source": [
    "#dff2 = data_2020['Total years of experience'].dropna().unique()\n",
    "#dff2"
   ]
  },
  {
   "cell_type": "code",
   "execution_count": 181,
   "metadata": {
    "ExecuteTime": {
     "end_time": "2021-03-23T17:55:16.929841Z",
     "start_time": "2021-03-23T17:55:16.916849Z"
    },
    "id": "wKRcJXXR7pnH"
   },
   "outputs": [],
   "source": [
    "# year 2020 \n",
    "groupe_2020 = data_2020.groupby('Total years of experience')\n",
    "dd_20 = groupe_2020['Yearly brutto salary (without bonus and stocks) in EUR'].agg(np.median)"
   ]
  },
  {
   "cell_type": "code",
   "execution_count": 182,
   "metadata": {
    "ExecuteTime": {
     "end_time": "2021-03-23T17:55:16.945832Z",
     "start_time": "2021-03-23T17:55:16.932840Z"
    },
    "colab": {
     "base_uri": "https://localhost:8080/"
    },
    "id": "1lvgjZn9EZtH",
    "outputId": "636f7530-4b28-4ea4-e47a-6fa7bcd4f5b2"
   },
   "outputs": [
    {
     "data": {
      "text/plain": [
       "Total years of experience\n",
       "0        44000.0\n",
       "0.5      16320.0\n",
       "0.8      29750.0\n",
       "1        48000.0\n",
       "1.5      49925.0\n",
       "10       75000.0\n",
       "11       75000.0\n",
       "12       75000.0\n",
       "13       83000.0\n",
       "14       80000.0\n",
       "15       78000.0\n",
       "16       83000.0\n",
       "17       76000.0\n",
       "18       85500.0\n",
       "19       87000.0\n",
       "2        50000.0\n",
       "2.5      60000.0\n",
       "20       80000.0\n",
       "21       80000.0\n",
       "22       70000.0\n",
       "23      100000.0\n",
       "24      130000.0\n",
       "25       75000.0\n",
       "26       93000.0\n",
       "27       73500.0\n",
       "28       78500.0\n",
       "29       28800.0\n",
       "3        56000.0\n",
       "3.5      62500.0\n",
       "30       64500.0\n",
       "31      110000.0\n",
       "38.3     70000.0\n",
       "4        60000.0\n",
       "4.5      67500.0\n",
       "40       70000.0\n",
       "5        65000.0\n",
       "5.5      48000.0\n",
       "6        67750.0\n",
       "6.5      58000.0\n",
       "7        70000.0\n",
       "7.5      68000.0\n",
       "8        68000.0\n",
       "9        74000.0\n",
       "Name: Yearly brutto salary (without bonus and stocks) in EUR, dtype: float64"
      ]
     },
     "execution_count": 182,
     "metadata": {},
     "output_type": "execute_result"
    }
   ],
   "source": [
    "dd_20.head(50)"
   ]
  },
  {
   "cell_type": "code",
   "execution_count": 183,
   "metadata": {
    "ExecuteTime": {
     "end_time": "2021-03-23T17:55:16.977813Z",
     "start_time": "2021-03-23T17:55:16.948830Z"
    },
    "colab": {
     "base_uri": "https://localhost:8080/",
     "height": 1000
    },
    "id": "PRaSuMuM7phD",
    "outputId": "e70d2245-a213-4f77-b2c6-9825a5dd5e48"
   },
   "outputs": [
    {
     "data": {
      "text/html": [
       "<div>\n",
       "<style scoped>\n",
       "    .dataframe tbody tr th:only-of-type {\n",
       "        vertical-align: middle;\n",
       "    }\n",
       "\n",
       "    .dataframe tbody tr th {\n",
       "        vertical-align: top;\n",
       "    }\n",
       "\n",
       "    .dataframe thead th {\n",
       "        text-align: right;\n",
       "    }\n",
       "</style>\n",
       "<table border=\"1\" class=\"dataframe\">\n",
       "  <thead>\n",
       "    <tr style=\"text-align: right;\">\n",
       "      <th></th>\n",
       "      <th>Yearly brutto salary (without bonus and stocks) in EUR</th>\n",
       "    </tr>\n",
       "    <tr>\n",
       "      <th>Total years of experience</th>\n",
       "      <th></th>\n",
       "    </tr>\n",
       "  </thead>\n",
       "  <tbody>\n",
       "    <tr>\n",
       "      <th>0</th>\n",
       "      <td>44000.0</td>\n",
       "    </tr>\n",
       "    <tr>\n",
       "      <th>0.5</th>\n",
       "      <td>16320.0</td>\n",
       "    </tr>\n",
       "    <tr>\n",
       "      <th>0.8</th>\n",
       "      <td>29750.0</td>\n",
       "    </tr>\n",
       "    <tr>\n",
       "      <th>1</th>\n",
       "      <td>48000.0</td>\n",
       "    </tr>\n",
       "    <tr>\n",
       "      <th>1.5</th>\n",
       "      <td>49925.0</td>\n",
       "    </tr>\n",
       "    <tr>\n",
       "      <th>10</th>\n",
       "      <td>75000.0</td>\n",
       "    </tr>\n",
       "    <tr>\n",
       "      <th>11</th>\n",
       "      <td>75000.0</td>\n",
       "    </tr>\n",
       "    <tr>\n",
       "      <th>12</th>\n",
       "      <td>75000.0</td>\n",
       "    </tr>\n",
       "    <tr>\n",
       "      <th>13</th>\n",
       "      <td>83000.0</td>\n",
       "    </tr>\n",
       "    <tr>\n",
       "      <th>14</th>\n",
       "      <td>80000.0</td>\n",
       "    </tr>\n",
       "    <tr>\n",
       "      <th>15</th>\n",
       "      <td>78000.0</td>\n",
       "    </tr>\n",
       "    <tr>\n",
       "      <th>16</th>\n",
       "      <td>83000.0</td>\n",
       "    </tr>\n",
       "    <tr>\n",
       "      <th>17</th>\n",
       "      <td>76000.0</td>\n",
       "    </tr>\n",
       "    <tr>\n",
       "      <th>18</th>\n",
       "      <td>85500.0</td>\n",
       "    </tr>\n",
       "    <tr>\n",
       "      <th>19</th>\n",
       "      <td>87000.0</td>\n",
       "    </tr>\n",
       "    <tr>\n",
       "      <th>2</th>\n",
       "      <td>50000.0</td>\n",
       "    </tr>\n",
       "    <tr>\n",
       "      <th>2.5</th>\n",
       "      <td>60000.0</td>\n",
       "    </tr>\n",
       "    <tr>\n",
       "      <th>20</th>\n",
       "      <td>80000.0</td>\n",
       "    </tr>\n",
       "    <tr>\n",
       "      <th>21</th>\n",
       "      <td>80000.0</td>\n",
       "    </tr>\n",
       "    <tr>\n",
       "      <th>22</th>\n",
       "      <td>70000.0</td>\n",
       "    </tr>\n",
       "    <tr>\n",
       "      <th>23</th>\n",
       "      <td>100000.0</td>\n",
       "    </tr>\n",
       "    <tr>\n",
       "      <th>24</th>\n",
       "      <td>130000.0</td>\n",
       "    </tr>\n",
       "    <tr>\n",
       "      <th>25</th>\n",
       "      <td>75000.0</td>\n",
       "    </tr>\n",
       "    <tr>\n",
       "      <th>26</th>\n",
       "      <td>93000.0</td>\n",
       "    </tr>\n",
       "    <tr>\n",
       "      <th>27</th>\n",
       "      <td>73500.0</td>\n",
       "    </tr>\n",
       "    <tr>\n",
       "      <th>28</th>\n",
       "      <td>78500.0</td>\n",
       "    </tr>\n",
       "    <tr>\n",
       "      <th>29</th>\n",
       "      <td>28800.0</td>\n",
       "    </tr>\n",
       "    <tr>\n",
       "      <th>3</th>\n",
       "      <td>56000.0</td>\n",
       "    </tr>\n",
       "    <tr>\n",
       "      <th>3.5</th>\n",
       "      <td>62500.0</td>\n",
       "    </tr>\n",
       "    <tr>\n",
       "      <th>30</th>\n",
       "      <td>64500.0</td>\n",
       "    </tr>\n",
       "    <tr>\n",
       "      <th>31</th>\n",
       "      <td>110000.0</td>\n",
       "    </tr>\n",
       "    <tr>\n",
       "      <th>38.3</th>\n",
       "      <td>70000.0</td>\n",
       "    </tr>\n",
       "    <tr>\n",
       "      <th>4</th>\n",
       "      <td>60000.0</td>\n",
       "    </tr>\n",
       "    <tr>\n",
       "      <th>4.5</th>\n",
       "      <td>67500.0</td>\n",
       "    </tr>\n",
       "    <tr>\n",
       "      <th>40</th>\n",
       "      <td>70000.0</td>\n",
       "    </tr>\n",
       "    <tr>\n",
       "      <th>5</th>\n",
       "      <td>65000.0</td>\n",
       "    </tr>\n",
       "    <tr>\n",
       "      <th>5.5</th>\n",
       "      <td>48000.0</td>\n",
       "    </tr>\n",
       "    <tr>\n",
       "      <th>6</th>\n",
       "      <td>67750.0</td>\n",
       "    </tr>\n",
       "    <tr>\n",
       "      <th>6.5</th>\n",
       "      <td>58000.0</td>\n",
       "    </tr>\n",
       "    <tr>\n",
       "      <th>7</th>\n",
       "      <td>70000.0</td>\n",
       "    </tr>\n",
       "    <tr>\n",
       "      <th>7.5</th>\n",
       "      <td>68000.0</td>\n",
       "    </tr>\n",
       "    <tr>\n",
       "      <th>8</th>\n",
       "      <td>68000.0</td>\n",
       "    </tr>\n",
       "    <tr>\n",
       "      <th>9</th>\n",
       "      <td>74000.0</td>\n",
       "    </tr>\n",
       "  </tbody>\n",
       "</table>\n",
       "</div>"
      ],
      "text/plain": [
       "                           Yearly brutto salary (without bonus and stocks) in EUR\n",
       "Total years of experience                                                        \n",
       "0                                                                    44000.0     \n",
       "0.5                                                                  16320.0     \n",
       "0.8                                                                  29750.0     \n",
       "1                                                                    48000.0     \n",
       "1.5                                                                  49925.0     \n",
       "10                                                                   75000.0     \n",
       "11                                                                   75000.0     \n",
       "12                                                                   75000.0     \n",
       "13                                                                   83000.0     \n",
       "14                                                                   80000.0     \n",
       "15                                                                   78000.0     \n",
       "16                                                                   83000.0     \n",
       "17                                                                   76000.0     \n",
       "18                                                                   85500.0     \n",
       "19                                                                   87000.0     \n",
       "2                                                                    50000.0     \n",
       "2.5                                                                  60000.0     \n",
       "20                                                                   80000.0     \n",
       "21                                                                   80000.0     \n",
       "22                                                                   70000.0     \n",
       "23                                                                  100000.0     \n",
       "24                                                                  130000.0     \n",
       "25                                                                   75000.0     \n",
       "26                                                                   93000.0     \n",
       "27                                                                   73500.0     \n",
       "28                                                                   78500.0     \n",
       "29                                                                   28800.0     \n",
       "3                                                                    56000.0     \n",
       "3.5                                                                  62500.0     \n",
       "30                                                                   64500.0     \n",
       "31                                                                  110000.0     \n",
       "38.3                                                                 70000.0     \n",
       "4                                                                    60000.0     \n",
       "4.5                                                                  67500.0     \n",
       "40                                                                   70000.0     \n",
       "5                                                                    65000.0     \n",
       "5.5                                                                  48000.0     \n",
       "6                                                                    67750.0     \n",
       "6.5                                                                  58000.0     \n",
       "7                                                                    70000.0     \n",
       "7.5                                                                  68000.0     \n",
       "8                                                                    68000.0     \n",
       "9                                                                    74000.0     "
      ]
     },
     "execution_count": 183,
     "metadata": {},
     "output_type": "execute_result"
    }
   ],
   "source": [
    "d3 = pd.DataFrame(dd_20)\n",
    "d3.head(43)"
   ]
  },
  {
   "cell_type": "code",
   "execution_count": 184,
   "metadata": {
    "ExecuteTime": {
     "end_time": "2021-03-23T17:55:16.993804Z",
     "start_time": "2021-03-23T17:55:16.981812Z"
    },
    "id": "ZEtDZqJVGBhj"
   },
   "outputs": [],
   "source": [
    "d3.index = d3.index.astype(float)"
   ]
  },
  {
   "cell_type": "code",
   "execution_count": 185,
   "metadata": {
    "ExecuteTime": {
     "end_time": "2021-03-23T17:55:17.009795Z",
     "start_time": "2021-03-23T17:55:16.996802Z"
    },
    "id": "GPiFhn6oI2S2"
   },
   "outputs": [],
   "source": [
    "d  = {'XP Years':d3.index, 'Yearly brutto salary (without bonus and stocks) in EUR': d3['Yearly brutto salary (without bonus and stocks) in EUR']}\n",
    "d5 = pd.DataFrame(d)"
   ]
  },
  {
   "cell_type": "code",
   "execution_count": 186,
   "metadata": {
    "ExecuteTime": {
     "end_time": "2021-03-23T17:55:17.039777Z",
     "start_time": "2021-03-23T17:55:17.012793Z"
    },
    "colab": {
     "base_uri": "https://localhost:8080/",
     "height": 1000
    },
    "id": "b-nmdy3NLt5N",
    "outputId": "9ec22491-d76d-43af-d4f4-ec43ff52670c"
   },
   "outputs": [
    {
     "data": {
      "text/html": [
       "<div>\n",
       "<style scoped>\n",
       "    .dataframe tbody tr th:only-of-type {\n",
       "        vertical-align: middle;\n",
       "    }\n",
       "\n",
       "    .dataframe tbody tr th {\n",
       "        vertical-align: top;\n",
       "    }\n",
       "\n",
       "    .dataframe thead th {\n",
       "        text-align: right;\n",
       "    }\n",
       "</style>\n",
       "<table border=\"1\" class=\"dataframe\">\n",
       "  <thead>\n",
       "    <tr style=\"text-align: right;\">\n",
       "      <th></th>\n",
       "      <th>XP Years</th>\n",
       "      <th>Yearly brutto salary (without bonus and stocks) in EUR</th>\n",
       "    </tr>\n",
       "    <tr>\n",
       "      <th>Total years of experience</th>\n",
       "      <th></th>\n",
       "      <th></th>\n",
       "    </tr>\n",
       "  </thead>\n",
       "  <tbody>\n",
       "    <tr>\n",
       "      <th>0.0</th>\n",
       "      <td>0.0</td>\n",
       "      <td>44000.0</td>\n",
       "    </tr>\n",
       "    <tr>\n",
       "      <th>0.5</th>\n",
       "      <td>0.5</td>\n",
       "      <td>16320.0</td>\n",
       "    </tr>\n",
       "    <tr>\n",
       "      <th>0.8</th>\n",
       "      <td>0.8</td>\n",
       "      <td>29750.0</td>\n",
       "    </tr>\n",
       "    <tr>\n",
       "      <th>1.0</th>\n",
       "      <td>1.0</td>\n",
       "      <td>48000.0</td>\n",
       "    </tr>\n",
       "    <tr>\n",
       "      <th>1.5</th>\n",
       "      <td>1.5</td>\n",
       "      <td>49925.0</td>\n",
       "    </tr>\n",
       "    <tr>\n",
       "      <th>2.0</th>\n",
       "      <td>2.0</td>\n",
       "      <td>50000.0</td>\n",
       "    </tr>\n",
       "    <tr>\n",
       "      <th>2.5</th>\n",
       "      <td>2.5</td>\n",
       "      <td>60000.0</td>\n",
       "    </tr>\n",
       "    <tr>\n",
       "      <th>3.0</th>\n",
       "      <td>3.0</td>\n",
       "      <td>56000.0</td>\n",
       "    </tr>\n",
       "    <tr>\n",
       "      <th>3.5</th>\n",
       "      <td>3.5</td>\n",
       "      <td>62500.0</td>\n",
       "    </tr>\n",
       "    <tr>\n",
       "      <th>4.0</th>\n",
       "      <td>4.0</td>\n",
       "      <td>60000.0</td>\n",
       "    </tr>\n",
       "    <tr>\n",
       "      <th>4.5</th>\n",
       "      <td>4.5</td>\n",
       "      <td>67500.0</td>\n",
       "    </tr>\n",
       "    <tr>\n",
       "      <th>5.0</th>\n",
       "      <td>5.0</td>\n",
       "      <td>65000.0</td>\n",
       "    </tr>\n",
       "    <tr>\n",
       "      <th>5.5</th>\n",
       "      <td>5.5</td>\n",
       "      <td>48000.0</td>\n",
       "    </tr>\n",
       "    <tr>\n",
       "      <th>6.0</th>\n",
       "      <td>6.0</td>\n",
       "      <td>67750.0</td>\n",
       "    </tr>\n",
       "    <tr>\n",
       "      <th>6.5</th>\n",
       "      <td>6.5</td>\n",
       "      <td>58000.0</td>\n",
       "    </tr>\n",
       "    <tr>\n",
       "      <th>7.0</th>\n",
       "      <td>7.0</td>\n",
       "      <td>70000.0</td>\n",
       "    </tr>\n",
       "    <tr>\n",
       "      <th>7.5</th>\n",
       "      <td>7.5</td>\n",
       "      <td>68000.0</td>\n",
       "    </tr>\n",
       "    <tr>\n",
       "      <th>8.0</th>\n",
       "      <td>8.0</td>\n",
       "      <td>68000.0</td>\n",
       "    </tr>\n",
       "    <tr>\n",
       "      <th>9.0</th>\n",
       "      <td>9.0</td>\n",
       "      <td>74000.0</td>\n",
       "    </tr>\n",
       "    <tr>\n",
       "      <th>10.0</th>\n",
       "      <td>10.0</td>\n",
       "      <td>75000.0</td>\n",
       "    </tr>\n",
       "    <tr>\n",
       "      <th>11.0</th>\n",
       "      <td>11.0</td>\n",
       "      <td>75000.0</td>\n",
       "    </tr>\n",
       "    <tr>\n",
       "      <th>12.0</th>\n",
       "      <td>12.0</td>\n",
       "      <td>75000.0</td>\n",
       "    </tr>\n",
       "    <tr>\n",
       "      <th>13.0</th>\n",
       "      <td>13.0</td>\n",
       "      <td>83000.0</td>\n",
       "    </tr>\n",
       "    <tr>\n",
       "      <th>14.0</th>\n",
       "      <td>14.0</td>\n",
       "      <td>80000.0</td>\n",
       "    </tr>\n",
       "    <tr>\n",
       "      <th>15.0</th>\n",
       "      <td>15.0</td>\n",
       "      <td>78000.0</td>\n",
       "    </tr>\n",
       "    <tr>\n",
       "      <th>16.0</th>\n",
       "      <td>16.0</td>\n",
       "      <td>83000.0</td>\n",
       "    </tr>\n",
       "    <tr>\n",
       "      <th>17.0</th>\n",
       "      <td>17.0</td>\n",
       "      <td>76000.0</td>\n",
       "    </tr>\n",
       "    <tr>\n",
       "      <th>18.0</th>\n",
       "      <td>18.0</td>\n",
       "      <td>85500.0</td>\n",
       "    </tr>\n",
       "    <tr>\n",
       "      <th>19.0</th>\n",
       "      <td>19.0</td>\n",
       "      <td>87000.0</td>\n",
       "    </tr>\n",
       "    <tr>\n",
       "      <th>20.0</th>\n",
       "      <td>20.0</td>\n",
       "      <td>80000.0</td>\n",
       "    </tr>\n",
       "    <tr>\n",
       "      <th>21.0</th>\n",
       "      <td>21.0</td>\n",
       "      <td>80000.0</td>\n",
       "    </tr>\n",
       "    <tr>\n",
       "      <th>22.0</th>\n",
       "      <td>22.0</td>\n",
       "      <td>70000.0</td>\n",
       "    </tr>\n",
       "    <tr>\n",
       "      <th>23.0</th>\n",
       "      <td>23.0</td>\n",
       "      <td>100000.0</td>\n",
       "    </tr>\n",
       "    <tr>\n",
       "      <th>24.0</th>\n",
       "      <td>24.0</td>\n",
       "      <td>130000.0</td>\n",
       "    </tr>\n",
       "    <tr>\n",
       "      <th>25.0</th>\n",
       "      <td>25.0</td>\n",
       "      <td>75000.0</td>\n",
       "    </tr>\n",
       "    <tr>\n",
       "      <th>26.0</th>\n",
       "      <td>26.0</td>\n",
       "      <td>93000.0</td>\n",
       "    </tr>\n",
       "    <tr>\n",
       "      <th>27.0</th>\n",
       "      <td>27.0</td>\n",
       "      <td>73500.0</td>\n",
       "    </tr>\n",
       "    <tr>\n",
       "      <th>28.0</th>\n",
       "      <td>28.0</td>\n",
       "      <td>78500.0</td>\n",
       "    </tr>\n",
       "    <tr>\n",
       "      <th>29.0</th>\n",
       "      <td>29.0</td>\n",
       "      <td>28800.0</td>\n",
       "    </tr>\n",
       "    <tr>\n",
       "      <th>30.0</th>\n",
       "      <td>30.0</td>\n",
       "      <td>64500.0</td>\n",
       "    </tr>\n",
       "    <tr>\n",
       "      <th>31.0</th>\n",
       "      <td>31.0</td>\n",
       "      <td>110000.0</td>\n",
       "    </tr>\n",
       "    <tr>\n",
       "      <th>38.3</th>\n",
       "      <td>38.3</td>\n",
       "      <td>70000.0</td>\n",
       "    </tr>\n",
       "    <tr>\n",
       "      <th>40.0</th>\n",
       "      <td>40.0</td>\n",
       "      <td>70000.0</td>\n",
       "    </tr>\n",
       "  </tbody>\n",
       "</table>\n",
       "</div>"
      ],
      "text/plain": [
       "                           XP Years  \\\n",
       "Total years of experience             \n",
       "0.0                             0.0   \n",
       "0.5                             0.5   \n",
       "0.8                             0.8   \n",
       "1.0                             1.0   \n",
       "1.5                             1.5   \n",
       "2.0                             2.0   \n",
       "2.5                             2.5   \n",
       "3.0                             3.0   \n",
       "3.5                             3.5   \n",
       "4.0                             4.0   \n",
       "4.5                             4.5   \n",
       "5.0                             5.0   \n",
       "5.5                             5.5   \n",
       "6.0                             6.0   \n",
       "6.5                             6.5   \n",
       "7.0                             7.0   \n",
       "7.5                             7.5   \n",
       "8.0                             8.0   \n",
       "9.0                             9.0   \n",
       "10.0                           10.0   \n",
       "11.0                           11.0   \n",
       "12.0                           12.0   \n",
       "13.0                           13.0   \n",
       "14.0                           14.0   \n",
       "15.0                           15.0   \n",
       "16.0                           16.0   \n",
       "17.0                           17.0   \n",
       "18.0                           18.0   \n",
       "19.0                           19.0   \n",
       "20.0                           20.0   \n",
       "21.0                           21.0   \n",
       "22.0                           22.0   \n",
       "23.0                           23.0   \n",
       "24.0                           24.0   \n",
       "25.0                           25.0   \n",
       "26.0                           26.0   \n",
       "27.0                           27.0   \n",
       "28.0                           28.0   \n",
       "29.0                           29.0   \n",
       "30.0                           30.0   \n",
       "31.0                           31.0   \n",
       "38.3                           38.3   \n",
       "40.0                           40.0   \n",
       "\n",
       "                           Yearly brutto salary (without bonus and stocks) in EUR  \n",
       "Total years of experience                                                          \n",
       "0.0                                                                  44000.0       \n",
       "0.5                                                                  16320.0       \n",
       "0.8                                                                  29750.0       \n",
       "1.0                                                                  48000.0       \n",
       "1.5                                                                  49925.0       \n",
       "2.0                                                                  50000.0       \n",
       "2.5                                                                  60000.0       \n",
       "3.0                                                                  56000.0       \n",
       "3.5                                                                  62500.0       \n",
       "4.0                                                                  60000.0       \n",
       "4.5                                                                  67500.0       \n",
       "5.0                                                                  65000.0       \n",
       "5.5                                                                  48000.0       \n",
       "6.0                                                                  67750.0       \n",
       "6.5                                                                  58000.0       \n",
       "7.0                                                                  70000.0       \n",
       "7.5                                                                  68000.0       \n",
       "8.0                                                                  68000.0       \n",
       "9.0                                                                  74000.0       \n",
       "10.0                                                                 75000.0       \n",
       "11.0                                                                 75000.0       \n",
       "12.0                                                                 75000.0       \n",
       "13.0                                                                 83000.0       \n",
       "14.0                                                                 80000.0       \n",
       "15.0                                                                 78000.0       \n",
       "16.0                                                                 83000.0       \n",
       "17.0                                                                 76000.0       \n",
       "18.0                                                                 85500.0       \n",
       "19.0                                                                 87000.0       \n",
       "20.0                                                                 80000.0       \n",
       "21.0                                                                 80000.0       \n",
       "22.0                                                                 70000.0       \n",
       "23.0                                                                100000.0       \n",
       "24.0                                                                130000.0       \n",
       "25.0                                                                 75000.0       \n",
       "26.0                                                                 93000.0       \n",
       "27.0                                                                 73500.0       \n",
       "28.0                                                                 78500.0       \n",
       "29.0                                                                 28800.0       \n",
       "30.0                                                                 64500.0       \n",
       "31.0                                                                110000.0       \n",
       "38.3                                                                 70000.0       \n",
       "40.0                                                                 70000.0       "
      ]
     },
     "execution_count": 186,
     "metadata": {},
     "output_type": "execute_result"
    }
   ],
   "source": [
    "#d4 = d3.copy()\n",
    "d5 = d5.sort_values(by='XP Years', ascending=True)\n",
    "d5.head(44)"
   ]
  },
  {
   "cell_type": "code",
   "execution_count": 187,
   "metadata": {
    "ExecuteTime": {
     "end_time": "2021-03-23T17:55:17.263876Z",
     "start_time": "2021-03-23T17:55:17.042775Z"
    },
    "colab": {
     "base_uri": "https://localhost:8080/",
     "height": 542
    },
    "id": "dm8NZtn8-BKX",
    "outputId": "05723974-1630-429b-9937-0cbc152a6578"
   },
   "outputs": [
    {
     "data": {
      "application/vnd.plotly.v1+json": {
       "config": {
        "plotlyServerURL": "https://plot.ly"
       },
       "data": [
        {
         "mode": "lines",
         "name": "2019 Median Yearly brutto through XP Years",
         "type": "scatter",
         "x": [
          0,
          1,
          2,
          3,
          4,
          5,
          6,
          7,
          8,
          9,
          10,
          11,
          12,
          13,
          14,
          15,
          16,
          17,
          18,
          19,
          20,
          22,
          24,
          25,
          28,
          30
         ],
         "y": [
          55000,
          46800,
          52500,
          55000,
          62000,
          65000,
          68000,
          67000,
          74500,
          74500,
          76500,
          76500,
          77700,
          70000,
          80000,
          75000,
          72000,
          75000,
          82500,
          73000,
          78000,
          100500,
          115000,
          79800,
          110000,
          60000
         ]
        },
        {
         "mode": "lines",
         "name": "2020 Median Yearly brutto through XP Years",
         "type": "scatter",
         "x": [
          0,
          0.5,
          0.8,
          1,
          1.5,
          2,
          2.5,
          3,
          3.5,
          4,
          4.5,
          5,
          5.5,
          6,
          6.5,
          7,
          7.5,
          8,
          9,
          10,
          11,
          12,
          13,
          14,
          15,
          16,
          17,
          18,
          19,
          20,
          21,
          22,
          23,
          24,
          25,
          26,
          27,
          28,
          29,
          30,
          31,
          38.3,
          40
         ],
         "y": [
          44000,
          16320,
          29750,
          48000,
          49925,
          50000,
          60000,
          56000,
          62500,
          60000,
          67500,
          65000,
          48000,
          67750,
          58000,
          70000,
          68000,
          68000,
          74000,
          75000,
          75000,
          75000,
          83000,
          80000,
          78000,
          83000,
          76000,
          85500,
          87000,
          80000,
          80000,
          70000,
          100000,
          130000,
          75000,
          93000,
          73500,
          78500,
          28800,
          64500,
          110000,
          70000,
          70000
         ]
        }
       ],
       "layout": {
        "template": {
         "data": {
          "bar": [
           {
            "error_x": {
             "color": "#2a3f5f"
            },
            "error_y": {
             "color": "#2a3f5f"
            },
            "marker": {
             "line": {
              "color": "#E5ECF6",
              "width": 0.5
             }
            },
            "type": "bar"
           }
          ],
          "barpolar": [
           {
            "marker": {
             "line": {
              "color": "#E5ECF6",
              "width": 0.5
             }
            },
            "type": "barpolar"
           }
          ],
          "carpet": [
           {
            "aaxis": {
             "endlinecolor": "#2a3f5f",
             "gridcolor": "white",
             "linecolor": "white",
             "minorgridcolor": "white",
             "startlinecolor": "#2a3f5f"
            },
            "baxis": {
             "endlinecolor": "#2a3f5f",
             "gridcolor": "white",
             "linecolor": "white",
             "minorgridcolor": "white",
             "startlinecolor": "#2a3f5f"
            },
            "type": "carpet"
           }
          ],
          "choropleth": [
           {
            "colorbar": {
             "outlinewidth": 0,
             "ticks": ""
            },
            "type": "choropleth"
           }
          ],
          "contour": [
           {
            "colorbar": {
             "outlinewidth": 0,
             "ticks": ""
            },
            "colorscale": [
             [
              0,
              "#0d0887"
             ],
             [
              0.1111111111111111,
              "#46039f"
             ],
             [
              0.2222222222222222,
              "#7201a8"
             ],
             [
              0.3333333333333333,
              "#9c179e"
             ],
             [
              0.4444444444444444,
              "#bd3786"
             ],
             [
              0.5555555555555556,
              "#d8576b"
             ],
             [
              0.6666666666666666,
              "#ed7953"
             ],
             [
              0.7777777777777778,
              "#fb9f3a"
             ],
             [
              0.8888888888888888,
              "#fdca26"
             ],
             [
              1,
              "#f0f921"
             ]
            ],
            "type": "contour"
           }
          ],
          "contourcarpet": [
           {
            "colorbar": {
             "outlinewidth": 0,
             "ticks": ""
            },
            "type": "contourcarpet"
           }
          ],
          "heatmap": [
           {
            "colorbar": {
             "outlinewidth": 0,
             "ticks": ""
            },
            "colorscale": [
             [
              0,
              "#0d0887"
             ],
             [
              0.1111111111111111,
              "#46039f"
             ],
             [
              0.2222222222222222,
              "#7201a8"
             ],
             [
              0.3333333333333333,
              "#9c179e"
             ],
             [
              0.4444444444444444,
              "#bd3786"
             ],
             [
              0.5555555555555556,
              "#d8576b"
             ],
             [
              0.6666666666666666,
              "#ed7953"
             ],
             [
              0.7777777777777778,
              "#fb9f3a"
             ],
             [
              0.8888888888888888,
              "#fdca26"
             ],
             [
              1,
              "#f0f921"
             ]
            ],
            "type": "heatmap"
           }
          ],
          "heatmapgl": [
           {
            "colorbar": {
             "outlinewidth": 0,
             "ticks": ""
            },
            "colorscale": [
             [
              0,
              "#0d0887"
             ],
             [
              0.1111111111111111,
              "#46039f"
             ],
             [
              0.2222222222222222,
              "#7201a8"
             ],
             [
              0.3333333333333333,
              "#9c179e"
             ],
             [
              0.4444444444444444,
              "#bd3786"
             ],
             [
              0.5555555555555556,
              "#d8576b"
             ],
             [
              0.6666666666666666,
              "#ed7953"
             ],
             [
              0.7777777777777778,
              "#fb9f3a"
             ],
             [
              0.8888888888888888,
              "#fdca26"
             ],
             [
              1,
              "#f0f921"
             ]
            ],
            "type": "heatmapgl"
           }
          ],
          "histogram": [
           {
            "marker": {
             "colorbar": {
              "outlinewidth": 0,
              "ticks": ""
             }
            },
            "type": "histogram"
           }
          ],
          "histogram2d": [
           {
            "colorbar": {
             "outlinewidth": 0,
             "ticks": ""
            },
            "colorscale": [
             [
              0,
              "#0d0887"
             ],
             [
              0.1111111111111111,
              "#46039f"
             ],
             [
              0.2222222222222222,
              "#7201a8"
             ],
             [
              0.3333333333333333,
              "#9c179e"
             ],
             [
              0.4444444444444444,
              "#bd3786"
             ],
             [
              0.5555555555555556,
              "#d8576b"
             ],
             [
              0.6666666666666666,
              "#ed7953"
             ],
             [
              0.7777777777777778,
              "#fb9f3a"
             ],
             [
              0.8888888888888888,
              "#fdca26"
             ],
             [
              1,
              "#f0f921"
             ]
            ],
            "type": "histogram2d"
           }
          ],
          "histogram2dcontour": [
           {
            "colorbar": {
             "outlinewidth": 0,
             "ticks": ""
            },
            "colorscale": [
             [
              0,
              "#0d0887"
             ],
             [
              0.1111111111111111,
              "#46039f"
             ],
             [
              0.2222222222222222,
              "#7201a8"
             ],
             [
              0.3333333333333333,
              "#9c179e"
             ],
             [
              0.4444444444444444,
              "#bd3786"
             ],
             [
              0.5555555555555556,
              "#d8576b"
             ],
             [
              0.6666666666666666,
              "#ed7953"
             ],
             [
              0.7777777777777778,
              "#fb9f3a"
             ],
             [
              0.8888888888888888,
              "#fdca26"
             ],
             [
              1,
              "#f0f921"
             ]
            ],
            "type": "histogram2dcontour"
           }
          ],
          "mesh3d": [
           {
            "colorbar": {
             "outlinewidth": 0,
             "ticks": ""
            },
            "type": "mesh3d"
           }
          ],
          "parcoords": [
           {
            "line": {
             "colorbar": {
              "outlinewidth": 0,
              "ticks": ""
             }
            },
            "type": "parcoords"
           }
          ],
          "pie": [
           {
            "automargin": true,
            "type": "pie"
           }
          ],
          "scatter": [
           {
            "marker": {
             "colorbar": {
              "outlinewidth": 0,
              "ticks": ""
             }
            },
            "type": "scatter"
           }
          ],
          "scatter3d": [
           {
            "line": {
             "colorbar": {
              "outlinewidth": 0,
              "ticks": ""
             }
            },
            "marker": {
             "colorbar": {
              "outlinewidth": 0,
              "ticks": ""
             }
            },
            "type": "scatter3d"
           }
          ],
          "scattercarpet": [
           {
            "marker": {
             "colorbar": {
              "outlinewidth": 0,
              "ticks": ""
             }
            },
            "type": "scattercarpet"
           }
          ],
          "scattergeo": [
           {
            "marker": {
             "colorbar": {
              "outlinewidth": 0,
              "ticks": ""
             }
            },
            "type": "scattergeo"
           }
          ],
          "scattergl": [
           {
            "marker": {
             "colorbar": {
              "outlinewidth": 0,
              "ticks": ""
             }
            },
            "type": "scattergl"
           }
          ],
          "scattermapbox": [
           {
            "marker": {
             "colorbar": {
              "outlinewidth": 0,
              "ticks": ""
             }
            },
            "type": "scattermapbox"
           }
          ],
          "scatterpolar": [
           {
            "marker": {
             "colorbar": {
              "outlinewidth": 0,
              "ticks": ""
             }
            },
            "type": "scatterpolar"
           }
          ],
          "scatterpolargl": [
           {
            "marker": {
             "colorbar": {
              "outlinewidth": 0,
              "ticks": ""
             }
            },
            "type": "scatterpolargl"
           }
          ],
          "scatterternary": [
           {
            "marker": {
             "colorbar": {
              "outlinewidth": 0,
              "ticks": ""
             }
            },
            "type": "scatterternary"
           }
          ],
          "surface": [
           {
            "colorbar": {
             "outlinewidth": 0,
             "ticks": ""
            },
            "colorscale": [
             [
              0,
              "#0d0887"
             ],
             [
              0.1111111111111111,
              "#46039f"
             ],
             [
              0.2222222222222222,
              "#7201a8"
             ],
             [
              0.3333333333333333,
              "#9c179e"
             ],
             [
              0.4444444444444444,
              "#bd3786"
             ],
             [
              0.5555555555555556,
              "#d8576b"
             ],
             [
              0.6666666666666666,
              "#ed7953"
             ],
             [
              0.7777777777777778,
              "#fb9f3a"
             ],
             [
              0.8888888888888888,
              "#fdca26"
             ],
             [
              1,
              "#f0f921"
             ]
            ],
            "type": "surface"
           }
          ],
          "table": [
           {
            "cells": {
             "fill": {
              "color": "#EBF0F8"
             },
             "line": {
              "color": "white"
             }
            },
            "header": {
             "fill": {
              "color": "#C8D4E3"
             },
             "line": {
              "color": "white"
             }
            },
            "type": "table"
           }
          ]
         },
         "layout": {
          "annotationdefaults": {
           "arrowcolor": "#2a3f5f",
           "arrowhead": 0,
           "arrowwidth": 1
          },
          "coloraxis": {
           "colorbar": {
            "outlinewidth": 0,
            "ticks": ""
           }
          },
          "colorscale": {
           "diverging": [
            [
             0,
             "#8e0152"
            ],
            [
             0.1,
             "#c51b7d"
            ],
            [
             0.2,
             "#de77ae"
            ],
            [
             0.3,
             "#f1b6da"
            ],
            [
             0.4,
             "#fde0ef"
            ],
            [
             0.5,
             "#f7f7f7"
            ],
            [
             0.6,
             "#e6f5d0"
            ],
            [
             0.7,
             "#b8e186"
            ],
            [
             0.8,
             "#7fbc41"
            ],
            [
             0.9,
             "#4d9221"
            ],
            [
             1,
             "#276419"
            ]
           ],
           "sequential": [
            [
             0,
             "#0d0887"
            ],
            [
             0.1111111111111111,
             "#46039f"
            ],
            [
             0.2222222222222222,
             "#7201a8"
            ],
            [
             0.3333333333333333,
             "#9c179e"
            ],
            [
             0.4444444444444444,
             "#bd3786"
            ],
            [
             0.5555555555555556,
             "#d8576b"
            ],
            [
             0.6666666666666666,
             "#ed7953"
            ],
            [
             0.7777777777777778,
             "#fb9f3a"
            ],
            [
             0.8888888888888888,
             "#fdca26"
            ],
            [
             1,
             "#f0f921"
            ]
           ],
           "sequentialminus": [
            [
             0,
             "#0d0887"
            ],
            [
             0.1111111111111111,
             "#46039f"
            ],
            [
             0.2222222222222222,
             "#7201a8"
            ],
            [
             0.3333333333333333,
             "#9c179e"
            ],
            [
             0.4444444444444444,
             "#bd3786"
            ],
            [
             0.5555555555555556,
             "#d8576b"
            ],
            [
             0.6666666666666666,
             "#ed7953"
            ],
            [
             0.7777777777777778,
             "#fb9f3a"
            ],
            [
             0.8888888888888888,
             "#fdca26"
            ],
            [
             1,
             "#f0f921"
            ]
           ]
          },
          "colorway": [
           "#636efa",
           "#EF553B",
           "#00cc96",
           "#ab63fa",
           "#FFA15A",
           "#19d3f3",
           "#FF6692",
           "#B6E880",
           "#FF97FF",
           "#FECB52"
          ],
          "font": {
           "color": "#2a3f5f"
          },
          "geo": {
           "bgcolor": "white",
           "lakecolor": "white",
           "landcolor": "#E5ECF6",
           "showlakes": true,
           "showland": true,
           "subunitcolor": "white"
          },
          "hoverlabel": {
           "align": "left"
          },
          "hovermode": "closest",
          "mapbox": {
           "style": "light"
          },
          "paper_bgcolor": "white",
          "plot_bgcolor": "#E5ECF6",
          "polar": {
           "angularaxis": {
            "gridcolor": "white",
            "linecolor": "white",
            "ticks": ""
           },
           "bgcolor": "#E5ECF6",
           "radialaxis": {
            "gridcolor": "white",
            "linecolor": "white",
            "ticks": ""
           }
          },
          "scene": {
           "xaxis": {
            "backgroundcolor": "#E5ECF6",
            "gridcolor": "white",
            "gridwidth": 2,
            "linecolor": "white",
            "showbackground": true,
            "ticks": "",
            "zerolinecolor": "white"
           },
           "yaxis": {
            "backgroundcolor": "#E5ECF6",
            "gridcolor": "white",
            "gridwidth": 2,
            "linecolor": "white",
            "showbackground": true,
            "ticks": "",
            "zerolinecolor": "white"
           },
           "zaxis": {
            "backgroundcolor": "#E5ECF6",
            "gridcolor": "white",
            "gridwidth": 2,
            "linecolor": "white",
            "showbackground": true,
            "ticks": "",
            "zerolinecolor": "white"
           }
          },
          "shapedefaults": {
           "line": {
            "color": "#2a3f5f"
           }
          },
          "ternary": {
           "aaxis": {
            "gridcolor": "white",
            "linecolor": "white",
            "ticks": ""
           },
           "baxis": {
            "gridcolor": "white",
            "linecolor": "white",
            "ticks": ""
           },
           "bgcolor": "#E5ECF6",
           "caxis": {
            "gridcolor": "white",
            "linecolor": "white",
            "ticks": ""
           }
          },
          "title": {
           "x": 0.05
          },
          "xaxis": {
           "automargin": true,
           "gridcolor": "white",
           "linecolor": "white",
           "ticks": "",
           "title": {
            "standoff": 15
           },
           "zerolinecolor": "white",
           "zerolinewidth": 2
          },
          "yaxis": {
           "automargin": true,
           "gridcolor": "white",
           "linecolor": "white",
           "ticks": "",
           "title": {
            "standoff": 15
           },
           "zerolinecolor": "white",
           "zerolinewidth": 2
          }
         }
        }
       }
      },
      "text/html": [
       "<div>\n",
       "        \n",
       "        \n",
       "            <div id=\"e32f9137-65e5-4b53-8ded-136ed15a1338\" class=\"plotly-graph-div\" style=\"height:525px; width:100%;\"></div>\n",
       "            <script type=\"text/javascript\">\n",
       "                require([\"plotly\"], function(Plotly) {\n",
       "                    window.PLOTLYENV=window.PLOTLYENV || {};\n",
       "                    \n",
       "                if (document.getElementById(\"e32f9137-65e5-4b53-8ded-136ed15a1338\")) {\n",
       "                    Plotly.newPlot(\n",
       "                        'e32f9137-65e5-4b53-8ded-136ed15a1338',\n",
       "                        [{\"mode\": \"lines\", \"name\": \"2019 Median Yearly brutto through XP Years\", \"type\": \"scatter\", \"x\": [0.0, 1.0, 2.0, 3.0, 4.0, 5.0, 6.0, 7.0, 8.0, 9.0, 10.0, 11.0, 12.0, 13.0, 14.0, 15.0, 16.0, 17.0, 18.0, 19.0, 20.0, 22.0, 24.0, 25.0, 28.0, 30.0], \"y\": [55000.0, 46800.0, 52500.0, 55000.0, 62000.0, 65000.0, 68000.0, 67000.0, 74500.0, 74500.0, 76500.0, 76500.0, 77700.0, 70000.0, 80000.0, 75000.0, 72000.0, 75000.0, 82500.0, 73000.0, 78000.0, 100500.0, 115000.0, 79800.0, 110000.0, 60000.0]}, {\"mode\": \"lines\", \"name\": \"2020 Median Yearly brutto through XP Years\", \"type\": \"scatter\", \"x\": [0.0, 0.5, 0.8, 1.0, 1.5, 2.0, 2.5, 3.0, 3.5, 4.0, 4.5, 5.0, 5.5, 6.0, 6.5, 7.0, 7.5, 8.0, 9.0, 10.0, 11.0, 12.0, 13.0, 14.0, 15.0, 16.0, 17.0, 18.0, 19.0, 20.0, 21.0, 22.0, 23.0, 24.0, 25.0, 26.0, 27.0, 28.0, 29.0, 30.0, 31.0, 38.3, 40.0], \"y\": [44000.0, 16320.0, 29750.0, 48000.0, 49925.0, 50000.0, 60000.0, 56000.0, 62500.0, 60000.0, 67500.0, 65000.0, 48000.0, 67750.0, 58000.0, 70000.0, 68000.0, 68000.0, 74000.0, 75000.0, 75000.0, 75000.0, 83000.0, 80000.0, 78000.0, 83000.0, 76000.0, 85500.0, 87000.0, 80000.0, 80000.0, 70000.0, 100000.0, 130000.0, 75000.0, 93000.0, 73500.0, 78500.0, 28800.0, 64500.0, 110000.0, 70000.0, 70000.0]}],\n",
       "                        {\"template\": {\"data\": {\"bar\": [{\"error_x\": {\"color\": \"#2a3f5f\"}, \"error_y\": {\"color\": \"#2a3f5f\"}, \"marker\": {\"line\": {\"color\": \"#E5ECF6\", \"width\": 0.5}}, \"type\": \"bar\"}], \"barpolar\": [{\"marker\": {\"line\": {\"color\": \"#E5ECF6\", \"width\": 0.5}}, \"type\": \"barpolar\"}], \"carpet\": [{\"aaxis\": {\"endlinecolor\": \"#2a3f5f\", \"gridcolor\": \"white\", \"linecolor\": \"white\", \"minorgridcolor\": \"white\", \"startlinecolor\": \"#2a3f5f\"}, \"baxis\": {\"endlinecolor\": \"#2a3f5f\", \"gridcolor\": \"white\", \"linecolor\": \"white\", \"minorgridcolor\": \"white\", \"startlinecolor\": \"#2a3f5f\"}, \"type\": \"carpet\"}], \"choropleth\": [{\"colorbar\": {\"outlinewidth\": 0, \"ticks\": \"\"}, \"type\": \"choropleth\"}], \"contour\": [{\"colorbar\": {\"outlinewidth\": 0, \"ticks\": \"\"}, \"colorscale\": [[0.0, \"#0d0887\"], [0.1111111111111111, \"#46039f\"], [0.2222222222222222, \"#7201a8\"], [0.3333333333333333, \"#9c179e\"], [0.4444444444444444, \"#bd3786\"], [0.5555555555555556, \"#d8576b\"], [0.6666666666666666, \"#ed7953\"], [0.7777777777777778, \"#fb9f3a\"], [0.8888888888888888, \"#fdca26\"], [1.0, \"#f0f921\"]], \"type\": \"contour\"}], \"contourcarpet\": [{\"colorbar\": {\"outlinewidth\": 0, \"ticks\": \"\"}, \"type\": \"contourcarpet\"}], \"heatmap\": [{\"colorbar\": {\"outlinewidth\": 0, \"ticks\": \"\"}, \"colorscale\": [[0.0, \"#0d0887\"], [0.1111111111111111, \"#46039f\"], [0.2222222222222222, \"#7201a8\"], [0.3333333333333333, \"#9c179e\"], [0.4444444444444444, \"#bd3786\"], [0.5555555555555556, \"#d8576b\"], [0.6666666666666666, \"#ed7953\"], [0.7777777777777778, \"#fb9f3a\"], [0.8888888888888888, \"#fdca26\"], [1.0, \"#f0f921\"]], \"type\": \"heatmap\"}], \"heatmapgl\": [{\"colorbar\": {\"outlinewidth\": 0, \"ticks\": \"\"}, \"colorscale\": [[0.0, \"#0d0887\"], [0.1111111111111111, \"#46039f\"], [0.2222222222222222, \"#7201a8\"], [0.3333333333333333, \"#9c179e\"], [0.4444444444444444, \"#bd3786\"], [0.5555555555555556, \"#d8576b\"], [0.6666666666666666, \"#ed7953\"], [0.7777777777777778, \"#fb9f3a\"], [0.8888888888888888, \"#fdca26\"], [1.0, \"#f0f921\"]], \"type\": \"heatmapgl\"}], \"histogram\": [{\"marker\": {\"colorbar\": {\"outlinewidth\": 0, \"ticks\": \"\"}}, \"type\": \"histogram\"}], \"histogram2d\": [{\"colorbar\": {\"outlinewidth\": 0, \"ticks\": \"\"}, \"colorscale\": [[0.0, \"#0d0887\"], [0.1111111111111111, \"#46039f\"], [0.2222222222222222, \"#7201a8\"], [0.3333333333333333, \"#9c179e\"], [0.4444444444444444, \"#bd3786\"], [0.5555555555555556, \"#d8576b\"], [0.6666666666666666, \"#ed7953\"], [0.7777777777777778, \"#fb9f3a\"], [0.8888888888888888, \"#fdca26\"], [1.0, \"#f0f921\"]], \"type\": \"histogram2d\"}], \"histogram2dcontour\": [{\"colorbar\": {\"outlinewidth\": 0, \"ticks\": \"\"}, \"colorscale\": [[0.0, \"#0d0887\"], [0.1111111111111111, \"#46039f\"], [0.2222222222222222, \"#7201a8\"], [0.3333333333333333, \"#9c179e\"], [0.4444444444444444, \"#bd3786\"], [0.5555555555555556, \"#d8576b\"], [0.6666666666666666, \"#ed7953\"], [0.7777777777777778, \"#fb9f3a\"], [0.8888888888888888, \"#fdca26\"], [1.0, \"#f0f921\"]], \"type\": \"histogram2dcontour\"}], \"mesh3d\": [{\"colorbar\": {\"outlinewidth\": 0, \"ticks\": \"\"}, \"type\": \"mesh3d\"}], \"parcoords\": [{\"line\": {\"colorbar\": {\"outlinewidth\": 0, \"ticks\": \"\"}}, \"type\": \"parcoords\"}], \"pie\": [{\"automargin\": true, \"type\": \"pie\"}], \"scatter\": [{\"marker\": {\"colorbar\": {\"outlinewidth\": 0, \"ticks\": \"\"}}, \"type\": \"scatter\"}], \"scatter3d\": [{\"line\": {\"colorbar\": {\"outlinewidth\": 0, \"ticks\": \"\"}}, \"marker\": {\"colorbar\": {\"outlinewidth\": 0, \"ticks\": \"\"}}, \"type\": \"scatter3d\"}], \"scattercarpet\": [{\"marker\": {\"colorbar\": {\"outlinewidth\": 0, \"ticks\": \"\"}}, \"type\": \"scattercarpet\"}], \"scattergeo\": [{\"marker\": {\"colorbar\": {\"outlinewidth\": 0, \"ticks\": \"\"}}, \"type\": \"scattergeo\"}], \"scattergl\": [{\"marker\": {\"colorbar\": {\"outlinewidth\": 0, \"ticks\": \"\"}}, \"type\": \"scattergl\"}], \"scattermapbox\": [{\"marker\": {\"colorbar\": {\"outlinewidth\": 0, \"ticks\": \"\"}}, \"type\": \"scattermapbox\"}], \"scatterpolar\": [{\"marker\": {\"colorbar\": {\"outlinewidth\": 0, \"ticks\": \"\"}}, \"type\": \"scatterpolar\"}], \"scatterpolargl\": [{\"marker\": {\"colorbar\": {\"outlinewidth\": 0, \"ticks\": \"\"}}, \"type\": \"scatterpolargl\"}], \"scatterternary\": [{\"marker\": {\"colorbar\": {\"outlinewidth\": 0, \"ticks\": \"\"}}, \"type\": \"scatterternary\"}], \"surface\": [{\"colorbar\": {\"outlinewidth\": 0, \"ticks\": \"\"}, \"colorscale\": [[0.0, \"#0d0887\"], [0.1111111111111111, \"#46039f\"], [0.2222222222222222, \"#7201a8\"], [0.3333333333333333, \"#9c179e\"], [0.4444444444444444, \"#bd3786\"], [0.5555555555555556, \"#d8576b\"], [0.6666666666666666, \"#ed7953\"], [0.7777777777777778, \"#fb9f3a\"], [0.8888888888888888, \"#fdca26\"], [1.0, \"#f0f921\"]], \"type\": \"surface\"}], \"table\": [{\"cells\": {\"fill\": {\"color\": \"#EBF0F8\"}, \"line\": {\"color\": \"white\"}}, \"header\": {\"fill\": {\"color\": \"#C8D4E3\"}, \"line\": {\"color\": \"white\"}}, \"type\": \"table\"}]}, \"layout\": {\"annotationdefaults\": {\"arrowcolor\": \"#2a3f5f\", \"arrowhead\": 0, \"arrowwidth\": 1}, \"coloraxis\": {\"colorbar\": {\"outlinewidth\": 0, \"ticks\": \"\"}}, \"colorscale\": {\"diverging\": [[0, \"#8e0152\"], [0.1, \"#c51b7d\"], [0.2, \"#de77ae\"], [0.3, \"#f1b6da\"], [0.4, \"#fde0ef\"], [0.5, \"#f7f7f7\"], [0.6, \"#e6f5d0\"], [0.7, \"#b8e186\"], [0.8, \"#7fbc41\"], [0.9, \"#4d9221\"], [1, \"#276419\"]], \"sequential\": [[0.0, \"#0d0887\"], [0.1111111111111111, \"#46039f\"], [0.2222222222222222, \"#7201a8\"], [0.3333333333333333, \"#9c179e\"], [0.4444444444444444, \"#bd3786\"], [0.5555555555555556, \"#d8576b\"], [0.6666666666666666, \"#ed7953\"], [0.7777777777777778, \"#fb9f3a\"], [0.8888888888888888, \"#fdca26\"], [1.0, \"#f0f921\"]], \"sequentialminus\": [[0.0, \"#0d0887\"], [0.1111111111111111, \"#46039f\"], [0.2222222222222222, \"#7201a8\"], [0.3333333333333333, \"#9c179e\"], [0.4444444444444444, \"#bd3786\"], [0.5555555555555556, \"#d8576b\"], [0.6666666666666666, \"#ed7953\"], [0.7777777777777778, \"#fb9f3a\"], [0.8888888888888888, \"#fdca26\"], [1.0, \"#f0f921\"]]}, \"colorway\": [\"#636efa\", \"#EF553B\", \"#00cc96\", \"#ab63fa\", \"#FFA15A\", \"#19d3f3\", \"#FF6692\", \"#B6E880\", \"#FF97FF\", \"#FECB52\"], \"font\": {\"color\": \"#2a3f5f\"}, \"geo\": {\"bgcolor\": \"white\", \"lakecolor\": \"white\", \"landcolor\": \"#E5ECF6\", \"showlakes\": true, \"showland\": true, \"subunitcolor\": \"white\"}, \"hoverlabel\": {\"align\": \"left\"}, \"hovermode\": \"closest\", \"mapbox\": {\"style\": \"light\"}, \"paper_bgcolor\": \"white\", \"plot_bgcolor\": \"#E5ECF6\", \"polar\": {\"angularaxis\": {\"gridcolor\": \"white\", \"linecolor\": \"white\", \"ticks\": \"\"}, \"bgcolor\": \"#E5ECF6\", \"radialaxis\": {\"gridcolor\": \"white\", \"linecolor\": \"white\", \"ticks\": \"\"}}, \"scene\": {\"xaxis\": {\"backgroundcolor\": \"#E5ECF6\", \"gridcolor\": \"white\", \"gridwidth\": 2, \"linecolor\": \"white\", \"showbackground\": true, \"ticks\": \"\", \"zerolinecolor\": \"white\"}, \"yaxis\": {\"backgroundcolor\": \"#E5ECF6\", \"gridcolor\": \"white\", \"gridwidth\": 2, \"linecolor\": \"white\", \"showbackground\": true, \"ticks\": \"\", \"zerolinecolor\": \"white\"}, \"zaxis\": {\"backgroundcolor\": \"#E5ECF6\", \"gridcolor\": \"white\", \"gridwidth\": 2, \"linecolor\": \"white\", \"showbackground\": true, \"ticks\": \"\", \"zerolinecolor\": \"white\"}}, \"shapedefaults\": {\"line\": {\"color\": \"#2a3f5f\"}}, \"ternary\": {\"aaxis\": {\"gridcolor\": \"white\", \"linecolor\": \"white\", \"ticks\": \"\"}, \"baxis\": {\"gridcolor\": \"white\", \"linecolor\": \"white\", \"ticks\": \"\"}, \"bgcolor\": \"#E5ECF6\", \"caxis\": {\"gridcolor\": \"white\", \"linecolor\": \"white\", \"ticks\": \"\"}}, \"title\": {\"x\": 0.05}, \"xaxis\": {\"automargin\": true, \"gridcolor\": \"white\", \"linecolor\": \"white\", \"ticks\": \"\", \"title\": {\"standoff\": 15}, \"zerolinecolor\": \"white\", \"zerolinewidth\": 2}, \"yaxis\": {\"automargin\": true, \"gridcolor\": \"white\", \"linecolor\": \"white\", \"ticks\": \"\", \"title\": {\"standoff\": 15}, \"zerolinecolor\": \"white\", \"zerolinewidth\": 2}}}},\n",
       "                        {\"responsive\": true}\n",
       "                    ).then(function(){\n",
       "                            \n",
       "var gd = document.getElementById('e32f9137-65e5-4b53-8ded-136ed15a1338');\n",
       "var x = new MutationObserver(function (mutations, observer) {{\n",
       "        var display = window.getComputedStyle(gd).display;\n",
       "        if (!display || display === 'none') {{\n",
       "            console.log([gd, 'removed!']);\n",
       "            Plotly.purge(gd);\n",
       "            observer.disconnect();\n",
       "        }}\n",
       "}});\n",
       "\n",
       "// Listen for the removal of the full notebook cells\n",
       "var notebookContainer = gd.closest('#notebook-container');\n",
       "if (notebookContainer) {{\n",
       "    x.observe(notebookContainer, {childList: true});\n",
       "}}\n",
       "\n",
       "// Listen for the clearing of the current output cell\n",
       "var outputEl = gd.closest('.output');\n",
       "if (outputEl) {{\n",
       "    x.observe(outputEl, {childList: true});\n",
       "}}\n",
       "\n",
       "                        })\n",
       "                };\n",
       "                });\n",
       "            </script>\n",
       "        </div>"
      ]
     },
     "metadata": {},
     "output_type": "display_data"
    }
   ],
   "source": [
    "fig = go.Figure()\n",
    "fig.add_trace(go.Scatter(x=d2.index, y=d2['Yearly brutto salary (without bonus and stocks)'],\n",
    "                    mode='lines',\n",
    "                    name='2019 Median Yearly brutto through XP Years'))\n",
    "fig.add_trace(go.Scatter(x=d5.index, y=d5['Yearly brutto salary (without bonus and stocks) in EUR'],\n",
    "                    mode='lines',\n",
    "                    name='2020 Median Yearly brutto through XP Years'))\n",
    "fig.show()"
   ]
  },
  {
   "cell_type": "markdown",
   "metadata": {
    "id": "5_rs99IiYY4z"
   },
   "source": [
    "**Yearly brutto salary (without bonus and stocks) in EUR is correlated in the 2 years 2019 & 2020 but there are some ups and downs in year 2020 which are:**\n",
    "\n",
    "  * year 2020 :\n",
    "* Ups : at 24 & 31 years of XP\n",
    "* Downs : 0.5 & 5.5 & 6.5 & 29 and above 38.3 is goins constantly.\n",
    "\n",
    "  * for year 2019 :\n",
    "* it knows an up in 28 years of XP."
   ]
  },
  {
   "cell_type": "code",
   "execution_count": 188,
   "metadata": {
    "ExecuteTime": {
     "end_time": "2021-03-23T17:55:17.494436Z",
     "start_time": "2021-03-23T17:55:17.265875Z"
    },
    "colab": {
     "base_uri": "https://localhost:8080/",
     "height": 542
    },
    "id": "8sY1skqQt2lz",
    "outputId": "7c6102fa-6a31-45b2-ef58-93d510a03e16"
   },
   "outputs": [
    {
     "data": {
      "application/vnd.plotly.v1+json": {
       "config": {
        "plotlyServerURL": "https://plot.ly"
       },
       "data": [
        {
         "mode": "lines",
         "name": "2018 Median Current Salary through XP Years",
         "type": "scatter",
         "x": [
          0,
          0.5,
          1,
          1.5,
          2,
          2.5,
          3,
          4,
          4.5,
          5,
          6,
          7,
          7.5,
          8,
          8.548497267759563,
          9,
          10,
          11,
          12,
          13,
          14,
          15,
          16,
          17,
          18,
          19,
          20,
          21,
          25,
          30,
          38
         ],
         "y": [
          50000,
          46000,
          46000,
          58000,
          50000,
          50000,
          55555,
          60000,
          39150,
          60000,
          64000,
          68000,
          65000,
          70000,
          68381.76533333333,
          70000,
          70000,
          71000,
          71000,
          73500,
          71500,
          68000,
          90500,
          80000,
          72500,
          84000,
          80000,
          90000,
          109000,
          64000,
          58000
         ]
        },
        {
         "mode": "lines",
         "name": "2019 Median Yearly brutto through XP Years",
         "type": "scatter",
         "x": [
          0,
          1,
          2,
          3,
          4,
          5,
          6,
          7,
          8,
          9,
          10,
          11,
          12,
          13,
          14,
          15,
          16,
          17,
          18,
          19,
          20,
          22,
          24,
          25,
          28,
          30
         ],
         "y": [
          55000,
          46800,
          52500,
          55000,
          62000,
          65000,
          68000,
          67000,
          74500,
          74500,
          76500,
          76500,
          77700,
          70000,
          80000,
          75000,
          72000,
          75000,
          82500,
          73000,
          78000,
          100500,
          115000,
          79800,
          110000,
          60000
         ]
        },
        {
         "mode": "lines",
         "name": "2020 Median Yearly brutto through XP Years",
         "type": "scatter",
         "x": [
          0,
          0.5,
          0.8,
          1,
          1.5,
          2,
          2.5,
          3,
          3.5,
          4,
          4.5,
          5,
          5.5,
          6,
          6.5,
          7,
          7.5,
          8,
          9,
          10,
          11,
          12,
          13,
          14,
          15,
          16,
          17,
          18,
          19,
          20,
          21,
          22,
          23,
          24,
          25,
          26,
          27,
          28,
          29,
          30,
          31,
          38.3,
          40
         ],
         "y": [
          44000,
          16320,
          29750,
          48000,
          49925,
          50000,
          60000,
          56000,
          62500,
          60000,
          67500,
          65000,
          48000,
          67750,
          58000,
          70000,
          68000,
          68000,
          74000,
          75000,
          75000,
          75000,
          83000,
          80000,
          78000,
          83000,
          76000,
          85500,
          87000,
          80000,
          80000,
          70000,
          100000,
          130000,
          75000,
          93000,
          73500,
          78500,
          28800,
          64500,
          110000,
          70000,
          70000
         ]
        }
       ],
       "layout": {
        "template": {
         "data": {
          "bar": [
           {
            "error_x": {
             "color": "#2a3f5f"
            },
            "error_y": {
             "color": "#2a3f5f"
            },
            "marker": {
             "line": {
              "color": "#E5ECF6",
              "width": 0.5
             }
            },
            "type": "bar"
           }
          ],
          "barpolar": [
           {
            "marker": {
             "line": {
              "color": "#E5ECF6",
              "width": 0.5
             }
            },
            "type": "barpolar"
           }
          ],
          "carpet": [
           {
            "aaxis": {
             "endlinecolor": "#2a3f5f",
             "gridcolor": "white",
             "linecolor": "white",
             "minorgridcolor": "white",
             "startlinecolor": "#2a3f5f"
            },
            "baxis": {
             "endlinecolor": "#2a3f5f",
             "gridcolor": "white",
             "linecolor": "white",
             "minorgridcolor": "white",
             "startlinecolor": "#2a3f5f"
            },
            "type": "carpet"
           }
          ],
          "choropleth": [
           {
            "colorbar": {
             "outlinewidth": 0,
             "ticks": ""
            },
            "type": "choropleth"
           }
          ],
          "contour": [
           {
            "colorbar": {
             "outlinewidth": 0,
             "ticks": ""
            },
            "colorscale": [
             [
              0,
              "#0d0887"
             ],
             [
              0.1111111111111111,
              "#46039f"
             ],
             [
              0.2222222222222222,
              "#7201a8"
             ],
             [
              0.3333333333333333,
              "#9c179e"
             ],
             [
              0.4444444444444444,
              "#bd3786"
             ],
             [
              0.5555555555555556,
              "#d8576b"
             ],
             [
              0.6666666666666666,
              "#ed7953"
             ],
             [
              0.7777777777777778,
              "#fb9f3a"
             ],
             [
              0.8888888888888888,
              "#fdca26"
             ],
             [
              1,
              "#f0f921"
             ]
            ],
            "type": "contour"
           }
          ],
          "contourcarpet": [
           {
            "colorbar": {
             "outlinewidth": 0,
             "ticks": ""
            },
            "type": "contourcarpet"
           }
          ],
          "heatmap": [
           {
            "colorbar": {
             "outlinewidth": 0,
             "ticks": ""
            },
            "colorscale": [
             [
              0,
              "#0d0887"
             ],
             [
              0.1111111111111111,
              "#46039f"
             ],
             [
              0.2222222222222222,
              "#7201a8"
             ],
             [
              0.3333333333333333,
              "#9c179e"
             ],
             [
              0.4444444444444444,
              "#bd3786"
             ],
             [
              0.5555555555555556,
              "#d8576b"
             ],
             [
              0.6666666666666666,
              "#ed7953"
             ],
             [
              0.7777777777777778,
              "#fb9f3a"
             ],
             [
              0.8888888888888888,
              "#fdca26"
             ],
             [
              1,
              "#f0f921"
             ]
            ],
            "type": "heatmap"
           }
          ],
          "heatmapgl": [
           {
            "colorbar": {
             "outlinewidth": 0,
             "ticks": ""
            },
            "colorscale": [
             [
              0,
              "#0d0887"
             ],
             [
              0.1111111111111111,
              "#46039f"
             ],
             [
              0.2222222222222222,
              "#7201a8"
             ],
             [
              0.3333333333333333,
              "#9c179e"
             ],
             [
              0.4444444444444444,
              "#bd3786"
             ],
             [
              0.5555555555555556,
              "#d8576b"
             ],
             [
              0.6666666666666666,
              "#ed7953"
             ],
             [
              0.7777777777777778,
              "#fb9f3a"
             ],
             [
              0.8888888888888888,
              "#fdca26"
             ],
             [
              1,
              "#f0f921"
             ]
            ],
            "type": "heatmapgl"
           }
          ],
          "histogram": [
           {
            "marker": {
             "colorbar": {
              "outlinewidth": 0,
              "ticks": ""
             }
            },
            "type": "histogram"
           }
          ],
          "histogram2d": [
           {
            "colorbar": {
             "outlinewidth": 0,
             "ticks": ""
            },
            "colorscale": [
             [
              0,
              "#0d0887"
             ],
             [
              0.1111111111111111,
              "#46039f"
             ],
             [
              0.2222222222222222,
              "#7201a8"
             ],
             [
              0.3333333333333333,
              "#9c179e"
             ],
             [
              0.4444444444444444,
              "#bd3786"
             ],
             [
              0.5555555555555556,
              "#d8576b"
             ],
             [
              0.6666666666666666,
              "#ed7953"
             ],
             [
              0.7777777777777778,
              "#fb9f3a"
             ],
             [
              0.8888888888888888,
              "#fdca26"
             ],
             [
              1,
              "#f0f921"
             ]
            ],
            "type": "histogram2d"
           }
          ],
          "histogram2dcontour": [
           {
            "colorbar": {
             "outlinewidth": 0,
             "ticks": ""
            },
            "colorscale": [
             [
              0,
              "#0d0887"
             ],
             [
              0.1111111111111111,
              "#46039f"
             ],
             [
              0.2222222222222222,
              "#7201a8"
             ],
             [
              0.3333333333333333,
              "#9c179e"
             ],
             [
              0.4444444444444444,
              "#bd3786"
             ],
             [
              0.5555555555555556,
              "#d8576b"
             ],
             [
              0.6666666666666666,
              "#ed7953"
             ],
             [
              0.7777777777777778,
              "#fb9f3a"
             ],
             [
              0.8888888888888888,
              "#fdca26"
             ],
             [
              1,
              "#f0f921"
             ]
            ],
            "type": "histogram2dcontour"
           }
          ],
          "mesh3d": [
           {
            "colorbar": {
             "outlinewidth": 0,
             "ticks": ""
            },
            "type": "mesh3d"
           }
          ],
          "parcoords": [
           {
            "line": {
             "colorbar": {
              "outlinewidth": 0,
              "ticks": ""
             }
            },
            "type": "parcoords"
           }
          ],
          "pie": [
           {
            "automargin": true,
            "type": "pie"
           }
          ],
          "scatter": [
           {
            "marker": {
             "colorbar": {
              "outlinewidth": 0,
              "ticks": ""
             }
            },
            "type": "scatter"
           }
          ],
          "scatter3d": [
           {
            "line": {
             "colorbar": {
              "outlinewidth": 0,
              "ticks": ""
             }
            },
            "marker": {
             "colorbar": {
              "outlinewidth": 0,
              "ticks": ""
             }
            },
            "type": "scatter3d"
           }
          ],
          "scattercarpet": [
           {
            "marker": {
             "colorbar": {
              "outlinewidth": 0,
              "ticks": ""
             }
            },
            "type": "scattercarpet"
           }
          ],
          "scattergeo": [
           {
            "marker": {
             "colorbar": {
              "outlinewidth": 0,
              "ticks": ""
             }
            },
            "type": "scattergeo"
           }
          ],
          "scattergl": [
           {
            "marker": {
             "colorbar": {
              "outlinewidth": 0,
              "ticks": ""
             }
            },
            "type": "scattergl"
           }
          ],
          "scattermapbox": [
           {
            "marker": {
             "colorbar": {
              "outlinewidth": 0,
              "ticks": ""
             }
            },
            "type": "scattermapbox"
           }
          ],
          "scatterpolar": [
           {
            "marker": {
             "colorbar": {
              "outlinewidth": 0,
              "ticks": ""
             }
            },
            "type": "scatterpolar"
           }
          ],
          "scatterpolargl": [
           {
            "marker": {
             "colorbar": {
              "outlinewidth": 0,
              "ticks": ""
             }
            },
            "type": "scatterpolargl"
           }
          ],
          "scatterternary": [
           {
            "marker": {
             "colorbar": {
              "outlinewidth": 0,
              "ticks": ""
             }
            },
            "type": "scatterternary"
           }
          ],
          "surface": [
           {
            "colorbar": {
             "outlinewidth": 0,
             "ticks": ""
            },
            "colorscale": [
             [
              0,
              "#0d0887"
             ],
             [
              0.1111111111111111,
              "#46039f"
             ],
             [
              0.2222222222222222,
              "#7201a8"
             ],
             [
              0.3333333333333333,
              "#9c179e"
             ],
             [
              0.4444444444444444,
              "#bd3786"
             ],
             [
              0.5555555555555556,
              "#d8576b"
             ],
             [
              0.6666666666666666,
              "#ed7953"
             ],
             [
              0.7777777777777778,
              "#fb9f3a"
             ],
             [
              0.8888888888888888,
              "#fdca26"
             ],
             [
              1,
              "#f0f921"
             ]
            ],
            "type": "surface"
           }
          ],
          "table": [
           {
            "cells": {
             "fill": {
              "color": "#EBF0F8"
             },
             "line": {
              "color": "white"
             }
            },
            "header": {
             "fill": {
              "color": "#C8D4E3"
             },
             "line": {
              "color": "white"
             }
            },
            "type": "table"
           }
          ]
         },
         "layout": {
          "annotationdefaults": {
           "arrowcolor": "#2a3f5f",
           "arrowhead": 0,
           "arrowwidth": 1
          },
          "coloraxis": {
           "colorbar": {
            "outlinewidth": 0,
            "ticks": ""
           }
          },
          "colorscale": {
           "diverging": [
            [
             0,
             "#8e0152"
            ],
            [
             0.1,
             "#c51b7d"
            ],
            [
             0.2,
             "#de77ae"
            ],
            [
             0.3,
             "#f1b6da"
            ],
            [
             0.4,
             "#fde0ef"
            ],
            [
             0.5,
             "#f7f7f7"
            ],
            [
             0.6,
             "#e6f5d0"
            ],
            [
             0.7,
             "#b8e186"
            ],
            [
             0.8,
             "#7fbc41"
            ],
            [
             0.9,
             "#4d9221"
            ],
            [
             1,
             "#276419"
            ]
           ],
           "sequential": [
            [
             0,
             "#0d0887"
            ],
            [
             0.1111111111111111,
             "#46039f"
            ],
            [
             0.2222222222222222,
             "#7201a8"
            ],
            [
             0.3333333333333333,
             "#9c179e"
            ],
            [
             0.4444444444444444,
             "#bd3786"
            ],
            [
             0.5555555555555556,
             "#d8576b"
            ],
            [
             0.6666666666666666,
             "#ed7953"
            ],
            [
             0.7777777777777778,
             "#fb9f3a"
            ],
            [
             0.8888888888888888,
             "#fdca26"
            ],
            [
             1,
             "#f0f921"
            ]
           ],
           "sequentialminus": [
            [
             0,
             "#0d0887"
            ],
            [
             0.1111111111111111,
             "#46039f"
            ],
            [
             0.2222222222222222,
             "#7201a8"
            ],
            [
             0.3333333333333333,
             "#9c179e"
            ],
            [
             0.4444444444444444,
             "#bd3786"
            ],
            [
             0.5555555555555556,
             "#d8576b"
            ],
            [
             0.6666666666666666,
             "#ed7953"
            ],
            [
             0.7777777777777778,
             "#fb9f3a"
            ],
            [
             0.8888888888888888,
             "#fdca26"
            ],
            [
             1,
             "#f0f921"
            ]
           ]
          },
          "colorway": [
           "#636efa",
           "#EF553B",
           "#00cc96",
           "#ab63fa",
           "#FFA15A",
           "#19d3f3",
           "#FF6692",
           "#B6E880",
           "#FF97FF",
           "#FECB52"
          ],
          "font": {
           "color": "#2a3f5f"
          },
          "geo": {
           "bgcolor": "white",
           "lakecolor": "white",
           "landcolor": "#E5ECF6",
           "showlakes": true,
           "showland": true,
           "subunitcolor": "white"
          },
          "hoverlabel": {
           "align": "left"
          },
          "hovermode": "closest",
          "mapbox": {
           "style": "light"
          },
          "paper_bgcolor": "white",
          "plot_bgcolor": "#E5ECF6",
          "polar": {
           "angularaxis": {
            "gridcolor": "white",
            "linecolor": "white",
            "ticks": ""
           },
           "bgcolor": "#E5ECF6",
           "radialaxis": {
            "gridcolor": "white",
            "linecolor": "white",
            "ticks": ""
           }
          },
          "scene": {
           "xaxis": {
            "backgroundcolor": "#E5ECF6",
            "gridcolor": "white",
            "gridwidth": 2,
            "linecolor": "white",
            "showbackground": true,
            "ticks": "",
            "zerolinecolor": "white"
           },
           "yaxis": {
            "backgroundcolor": "#E5ECF6",
            "gridcolor": "white",
            "gridwidth": 2,
            "linecolor": "white",
            "showbackground": true,
            "ticks": "",
            "zerolinecolor": "white"
           },
           "zaxis": {
            "backgroundcolor": "#E5ECF6",
            "gridcolor": "white",
            "gridwidth": 2,
            "linecolor": "white",
            "showbackground": true,
            "ticks": "",
            "zerolinecolor": "white"
           }
          },
          "shapedefaults": {
           "line": {
            "color": "#2a3f5f"
           }
          },
          "ternary": {
           "aaxis": {
            "gridcolor": "white",
            "linecolor": "white",
            "ticks": ""
           },
           "baxis": {
            "gridcolor": "white",
            "linecolor": "white",
            "ticks": ""
           },
           "bgcolor": "#E5ECF6",
           "caxis": {
            "gridcolor": "white",
            "linecolor": "white",
            "ticks": ""
           }
          },
          "title": {
           "x": 0.05
          },
          "xaxis": {
           "automargin": true,
           "gridcolor": "white",
           "linecolor": "white",
           "ticks": "",
           "title": {
            "standoff": 15
           },
           "zerolinecolor": "white",
           "zerolinewidth": 2
          },
          "yaxis": {
           "automargin": true,
           "gridcolor": "white",
           "linecolor": "white",
           "ticks": "",
           "title": {
            "standoff": 15
           },
           "zerolinecolor": "white",
           "zerolinewidth": 2
          }
         }
        }
       }
      },
      "text/html": [
       "<div>\n",
       "        \n",
       "        \n",
       "            <div id=\"297e01d6-01d0-44bd-ae3e-ec94d133304d\" class=\"plotly-graph-div\" style=\"height:525px; width:100%;\"></div>\n",
       "            <script type=\"text/javascript\">\n",
       "                require([\"plotly\"], function(Plotly) {\n",
       "                    window.PLOTLYENV=window.PLOTLYENV || {};\n",
       "                    \n",
       "                if (document.getElementById(\"297e01d6-01d0-44bd-ae3e-ec94d133304d\")) {\n",
       "                    Plotly.newPlot(\n",
       "                        '297e01d6-01d0-44bd-ae3e-ec94d133304d',\n",
       "                        [{\"mode\": \"lines\", \"name\": \"2018 Median Current Salary through XP Years\", \"type\": \"scatter\", \"x\": [0.0, 0.5, 1.0, 1.5, 2.0, 2.5, 3.0, 4.0, 4.5, 5.0, 6.0, 7.0, 7.5, 8.0, 8.548497267759563, 9.0, 10.0, 11.0, 12.0, 13.0, 14.0, 15.0, 16.0, 17.0, 18.0, 19.0, 20.0, 21.0, 25.0, 30.0, 38.0], \"y\": [50000.0, 46000.0, 46000.0, 58000.0, 50000.0, 50000.0, 55555.0, 60000.0, 39150.0, 60000.0, 64000.0, 68000.0, 65000.0, 70000.0, 68381.76533333333, 70000.0, 70000.0, 71000.0, 71000.0, 73500.0, 71500.0, 68000.0, 90500.0, 80000.0, 72500.0, 84000.0, 80000.0, 90000.0, 109000.0, 64000.0, 58000.0]}, {\"mode\": \"lines\", \"name\": \"2019 Median Yearly brutto through XP Years\", \"type\": \"scatter\", \"x\": [0.0, 1.0, 2.0, 3.0, 4.0, 5.0, 6.0, 7.0, 8.0, 9.0, 10.0, 11.0, 12.0, 13.0, 14.0, 15.0, 16.0, 17.0, 18.0, 19.0, 20.0, 22.0, 24.0, 25.0, 28.0, 30.0], \"y\": [55000.0, 46800.0, 52500.0, 55000.0, 62000.0, 65000.0, 68000.0, 67000.0, 74500.0, 74500.0, 76500.0, 76500.0, 77700.0, 70000.0, 80000.0, 75000.0, 72000.0, 75000.0, 82500.0, 73000.0, 78000.0, 100500.0, 115000.0, 79800.0, 110000.0, 60000.0]}, {\"mode\": \"lines\", \"name\": \"2020 Median Yearly brutto through XP Years\", \"type\": \"scatter\", \"x\": [0.0, 0.5, 0.8, 1.0, 1.5, 2.0, 2.5, 3.0, 3.5, 4.0, 4.5, 5.0, 5.5, 6.0, 6.5, 7.0, 7.5, 8.0, 9.0, 10.0, 11.0, 12.0, 13.0, 14.0, 15.0, 16.0, 17.0, 18.0, 19.0, 20.0, 21.0, 22.0, 23.0, 24.0, 25.0, 26.0, 27.0, 28.0, 29.0, 30.0, 31.0, 38.3, 40.0], \"y\": [44000.0, 16320.0, 29750.0, 48000.0, 49925.0, 50000.0, 60000.0, 56000.0, 62500.0, 60000.0, 67500.0, 65000.0, 48000.0, 67750.0, 58000.0, 70000.0, 68000.0, 68000.0, 74000.0, 75000.0, 75000.0, 75000.0, 83000.0, 80000.0, 78000.0, 83000.0, 76000.0, 85500.0, 87000.0, 80000.0, 80000.0, 70000.0, 100000.0, 130000.0, 75000.0, 93000.0, 73500.0, 78500.0, 28800.0, 64500.0, 110000.0, 70000.0, 70000.0]}],\n",
       "                        {\"template\": {\"data\": {\"bar\": [{\"error_x\": {\"color\": \"#2a3f5f\"}, \"error_y\": {\"color\": \"#2a3f5f\"}, \"marker\": {\"line\": {\"color\": \"#E5ECF6\", \"width\": 0.5}}, \"type\": \"bar\"}], \"barpolar\": [{\"marker\": {\"line\": {\"color\": \"#E5ECF6\", \"width\": 0.5}}, \"type\": \"barpolar\"}], \"carpet\": [{\"aaxis\": {\"endlinecolor\": \"#2a3f5f\", \"gridcolor\": \"white\", \"linecolor\": \"white\", \"minorgridcolor\": \"white\", \"startlinecolor\": \"#2a3f5f\"}, \"baxis\": {\"endlinecolor\": \"#2a3f5f\", \"gridcolor\": \"white\", \"linecolor\": \"white\", \"minorgridcolor\": \"white\", \"startlinecolor\": \"#2a3f5f\"}, \"type\": \"carpet\"}], \"choropleth\": [{\"colorbar\": {\"outlinewidth\": 0, \"ticks\": \"\"}, \"type\": \"choropleth\"}], \"contour\": [{\"colorbar\": {\"outlinewidth\": 0, \"ticks\": \"\"}, \"colorscale\": [[0.0, \"#0d0887\"], [0.1111111111111111, \"#46039f\"], [0.2222222222222222, \"#7201a8\"], [0.3333333333333333, \"#9c179e\"], [0.4444444444444444, \"#bd3786\"], [0.5555555555555556, \"#d8576b\"], [0.6666666666666666, \"#ed7953\"], [0.7777777777777778, \"#fb9f3a\"], [0.8888888888888888, \"#fdca26\"], [1.0, \"#f0f921\"]], \"type\": \"contour\"}], \"contourcarpet\": [{\"colorbar\": {\"outlinewidth\": 0, \"ticks\": \"\"}, \"type\": \"contourcarpet\"}], \"heatmap\": [{\"colorbar\": {\"outlinewidth\": 0, \"ticks\": \"\"}, \"colorscale\": [[0.0, \"#0d0887\"], [0.1111111111111111, \"#46039f\"], [0.2222222222222222, \"#7201a8\"], [0.3333333333333333, \"#9c179e\"], [0.4444444444444444, \"#bd3786\"], [0.5555555555555556, \"#d8576b\"], [0.6666666666666666, \"#ed7953\"], [0.7777777777777778, \"#fb9f3a\"], [0.8888888888888888, \"#fdca26\"], [1.0, \"#f0f921\"]], \"type\": \"heatmap\"}], \"heatmapgl\": [{\"colorbar\": {\"outlinewidth\": 0, \"ticks\": \"\"}, \"colorscale\": [[0.0, \"#0d0887\"], [0.1111111111111111, \"#46039f\"], [0.2222222222222222, \"#7201a8\"], [0.3333333333333333, \"#9c179e\"], [0.4444444444444444, \"#bd3786\"], [0.5555555555555556, \"#d8576b\"], [0.6666666666666666, \"#ed7953\"], [0.7777777777777778, \"#fb9f3a\"], [0.8888888888888888, \"#fdca26\"], [1.0, \"#f0f921\"]], \"type\": \"heatmapgl\"}], \"histogram\": [{\"marker\": {\"colorbar\": {\"outlinewidth\": 0, \"ticks\": \"\"}}, \"type\": \"histogram\"}], \"histogram2d\": [{\"colorbar\": {\"outlinewidth\": 0, \"ticks\": \"\"}, \"colorscale\": [[0.0, \"#0d0887\"], [0.1111111111111111, \"#46039f\"], [0.2222222222222222, \"#7201a8\"], [0.3333333333333333, \"#9c179e\"], [0.4444444444444444, \"#bd3786\"], [0.5555555555555556, \"#d8576b\"], [0.6666666666666666, \"#ed7953\"], [0.7777777777777778, \"#fb9f3a\"], [0.8888888888888888, \"#fdca26\"], [1.0, \"#f0f921\"]], \"type\": \"histogram2d\"}], \"histogram2dcontour\": [{\"colorbar\": {\"outlinewidth\": 0, \"ticks\": \"\"}, \"colorscale\": [[0.0, \"#0d0887\"], [0.1111111111111111, \"#46039f\"], [0.2222222222222222, \"#7201a8\"], [0.3333333333333333, \"#9c179e\"], [0.4444444444444444, \"#bd3786\"], [0.5555555555555556, \"#d8576b\"], [0.6666666666666666, \"#ed7953\"], [0.7777777777777778, \"#fb9f3a\"], [0.8888888888888888, \"#fdca26\"], [1.0, \"#f0f921\"]], \"type\": \"histogram2dcontour\"}], \"mesh3d\": [{\"colorbar\": {\"outlinewidth\": 0, \"ticks\": \"\"}, \"type\": \"mesh3d\"}], \"parcoords\": [{\"line\": {\"colorbar\": {\"outlinewidth\": 0, \"ticks\": \"\"}}, \"type\": \"parcoords\"}], \"pie\": [{\"automargin\": true, \"type\": \"pie\"}], \"scatter\": [{\"marker\": {\"colorbar\": {\"outlinewidth\": 0, \"ticks\": \"\"}}, \"type\": \"scatter\"}], \"scatter3d\": [{\"line\": {\"colorbar\": {\"outlinewidth\": 0, \"ticks\": \"\"}}, \"marker\": {\"colorbar\": {\"outlinewidth\": 0, \"ticks\": \"\"}}, \"type\": \"scatter3d\"}], \"scattercarpet\": [{\"marker\": {\"colorbar\": {\"outlinewidth\": 0, \"ticks\": \"\"}}, \"type\": \"scattercarpet\"}], \"scattergeo\": [{\"marker\": {\"colorbar\": {\"outlinewidth\": 0, \"ticks\": \"\"}}, \"type\": \"scattergeo\"}], \"scattergl\": [{\"marker\": {\"colorbar\": {\"outlinewidth\": 0, \"ticks\": \"\"}}, \"type\": \"scattergl\"}], \"scattermapbox\": [{\"marker\": {\"colorbar\": {\"outlinewidth\": 0, \"ticks\": \"\"}}, \"type\": \"scattermapbox\"}], \"scatterpolar\": [{\"marker\": {\"colorbar\": {\"outlinewidth\": 0, \"ticks\": \"\"}}, \"type\": \"scatterpolar\"}], \"scatterpolargl\": [{\"marker\": {\"colorbar\": {\"outlinewidth\": 0, \"ticks\": \"\"}}, \"type\": \"scatterpolargl\"}], \"scatterternary\": [{\"marker\": {\"colorbar\": {\"outlinewidth\": 0, \"ticks\": \"\"}}, \"type\": \"scatterternary\"}], \"surface\": [{\"colorbar\": {\"outlinewidth\": 0, \"ticks\": \"\"}, \"colorscale\": [[0.0, \"#0d0887\"], [0.1111111111111111, \"#46039f\"], [0.2222222222222222, \"#7201a8\"], [0.3333333333333333, \"#9c179e\"], [0.4444444444444444, \"#bd3786\"], [0.5555555555555556, \"#d8576b\"], [0.6666666666666666, \"#ed7953\"], [0.7777777777777778, \"#fb9f3a\"], [0.8888888888888888, \"#fdca26\"], [1.0, \"#f0f921\"]], \"type\": \"surface\"}], \"table\": [{\"cells\": {\"fill\": {\"color\": \"#EBF0F8\"}, \"line\": {\"color\": \"white\"}}, \"header\": {\"fill\": {\"color\": \"#C8D4E3\"}, \"line\": {\"color\": \"white\"}}, \"type\": \"table\"}]}, \"layout\": {\"annotationdefaults\": {\"arrowcolor\": \"#2a3f5f\", \"arrowhead\": 0, \"arrowwidth\": 1}, \"coloraxis\": {\"colorbar\": {\"outlinewidth\": 0, \"ticks\": \"\"}}, \"colorscale\": {\"diverging\": [[0, \"#8e0152\"], [0.1, \"#c51b7d\"], [0.2, \"#de77ae\"], [0.3, \"#f1b6da\"], [0.4, \"#fde0ef\"], [0.5, \"#f7f7f7\"], [0.6, \"#e6f5d0\"], [0.7, \"#b8e186\"], [0.8, \"#7fbc41\"], [0.9, \"#4d9221\"], [1, \"#276419\"]], \"sequential\": [[0.0, \"#0d0887\"], [0.1111111111111111, \"#46039f\"], [0.2222222222222222, \"#7201a8\"], [0.3333333333333333, \"#9c179e\"], [0.4444444444444444, \"#bd3786\"], [0.5555555555555556, \"#d8576b\"], [0.6666666666666666, \"#ed7953\"], [0.7777777777777778, \"#fb9f3a\"], [0.8888888888888888, \"#fdca26\"], [1.0, \"#f0f921\"]], \"sequentialminus\": [[0.0, \"#0d0887\"], [0.1111111111111111, \"#46039f\"], [0.2222222222222222, \"#7201a8\"], [0.3333333333333333, \"#9c179e\"], [0.4444444444444444, \"#bd3786\"], [0.5555555555555556, \"#d8576b\"], [0.6666666666666666, \"#ed7953\"], [0.7777777777777778, \"#fb9f3a\"], [0.8888888888888888, \"#fdca26\"], [1.0, \"#f0f921\"]]}, \"colorway\": [\"#636efa\", \"#EF553B\", \"#00cc96\", \"#ab63fa\", \"#FFA15A\", \"#19d3f3\", \"#FF6692\", \"#B6E880\", \"#FF97FF\", \"#FECB52\"], \"font\": {\"color\": \"#2a3f5f\"}, \"geo\": {\"bgcolor\": \"white\", \"lakecolor\": \"white\", \"landcolor\": \"#E5ECF6\", \"showlakes\": true, \"showland\": true, \"subunitcolor\": \"white\"}, \"hoverlabel\": {\"align\": \"left\"}, \"hovermode\": \"closest\", \"mapbox\": {\"style\": \"light\"}, \"paper_bgcolor\": \"white\", \"plot_bgcolor\": \"#E5ECF6\", \"polar\": {\"angularaxis\": {\"gridcolor\": \"white\", \"linecolor\": \"white\", \"ticks\": \"\"}, \"bgcolor\": \"#E5ECF6\", \"radialaxis\": {\"gridcolor\": \"white\", \"linecolor\": \"white\", \"ticks\": \"\"}}, \"scene\": {\"xaxis\": {\"backgroundcolor\": \"#E5ECF6\", \"gridcolor\": \"white\", \"gridwidth\": 2, \"linecolor\": \"white\", \"showbackground\": true, \"ticks\": \"\", \"zerolinecolor\": \"white\"}, \"yaxis\": {\"backgroundcolor\": \"#E5ECF6\", \"gridcolor\": \"white\", \"gridwidth\": 2, \"linecolor\": \"white\", \"showbackground\": true, \"ticks\": \"\", \"zerolinecolor\": \"white\"}, \"zaxis\": {\"backgroundcolor\": \"#E5ECF6\", \"gridcolor\": \"white\", \"gridwidth\": 2, \"linecolor\": \"white\", \"showbackground\": true, \"ticks\": \"\", \"zerolinecolor\": \"white\"}}, \"shapedefaults\": {\"line\": {\"color\": \"#2a3f5f\"}}, \"ternary\": {\"aaxis\": {\"gridcolor\": \"white\", \"linecolor\": \"white\", \"ticks\": \"\"}, \"baxis\": {\"gridcolor\": \"white\", \"linecolor\": \"white\", \"ticks\": \"\"}, \"bgcolor\": \"#E5ECF6\", \"caxis\": {\"gridcolor\": \"white\", \"linecolor\": \"white\", \"ticks\": \"\"}}, \"title\": {\"x\": 0.05}, \"xaxis\": {\"automargin\": true, \"gridcolor\": \"white\", \"linecolor\": \"white\", \"ticks\": \"\", \"title\": {\"standoff\": 15}, \"zerolinecolor\": \"white\", \"zerolinewidth\": 2}, \"yaxis\": {\"automargin\": true, \"gridcolor\": \"white\", \"linecolor\": \"white\", \"ticks\": \"\", \"title\": {\"standoff\": 15}, \"zerolinecolor\": \"white\", \"zerolinewidth\": 2}}}},\n",
       "                        {\"responsive\": true}\n",
       "                    ).then(function(){\n",
       "                            \n",
       "var gd = document.getElementById('297e01d6-01d0-44bd-ae3e-ec94d133304d');\n",
       "var x = new MutationObserver(function (mutations, observer) {{\n",
       "        var display = window.getComputedStyle(gd).display;\n",
       "        if (!display || display === 'none') {{\n",
       "            console.log([gd, 'removed!']);\n",
       "            Plotly.purge(gd);\n",
       "            observer.disconnect();\n",
       "        }}\n",
       "}});\n",
       "\n",
       "// Listen for the removal of the full notebook cells\n",
       "var notebookContainer = gd.closest('#notebook-container');\n",
       "if (notebookContainer) {{\n",
       "    x.observe(notebookContainer, {childList: true});\n",
       "}}\n",
       "\n",
       "// Listen for the clearing of the current output cell\n",
       "var outputEl = gd.closest('.output');\n",
       "if (outputEl) {{\n",
       "    x.observe(outputEl, {childList: true});\n",
       "}}\n",
       "\n",
       "                        })\n",
       "                };\n",
       "                });\n",
       "            </script>\n",
       "        </div>"
      ]
     },
     "metadata": {},
     "output_type": "display_data"
    }
   ],
   "source": [
    "fig = go.Figure()\n",
    "fig.add_trace(go.Scatter(x=d1.index, y=d1['Current Salary'],\n",
    "                    mode='lines',\n",
    "                    name='2018 Median Current Salary through XP Years'))\n",
    "fig.add_trace(go.Scatter(x=d2.index, y=d2['Yearly brutto salary (without bonus and stocks)'],\n",
    "                    mode='lines',\n",
    "                    name='2019 Median Yearly brutto through XP Years'))\n",
    "fig.add_trace(go.Scatter(x=d5.index, y=d5['Yearly brutto salary (without bonus and stocks) in EUR'],\n",
    "                    mode='lines',\n",
    "                    name='2020 Median Yearly brutto through XP Years'))\n",
    "fig.show()"
   ]
  },
  {
   "cell_type": "markdown",
   "metadata": {
    "id": "kq4Np7JFZQHp"
   },
   "source": [
    "**Same goes for the 3 years 2018, 2019, and 2019**\n",
    "\n",
    "**Current Salary for 2018, and Yearly brutto salary (without bonus and stocks) in EUR is correlated in the 2 years 2019 & 2020 but there are some ups and downs in them all,  which are:**\n",
    "\n",
    "  * year 2020 :\n",
    "* Ups : at 24 & 31 years of XP\n",
    "* Downs : `0.5` & `5.5` & `6.5` & `29` and above 38.3 is goins constantly.\n",
    "\n",
    "  * for year 2019 :\n",
    "* it knows an ups in `0`,`4`,`6`,`8 till 12`, `21,22,23`, and `28` years of XP.\n",
    "* it knows a downs in `13`, `16`, and `19`.\n",
    "\n",
    "  * for year 2018 :\n",
    "* it knows an ups in `1.5`, `16`, & `25` years of XP.\n",
    "* it knows a downs in `4.5`, `7.5`, `9`, `15`, `18`, and `38`. "
   ]
  },
  {
   "cell_type": "code",
   "execution_count": 189,
   "metadata": {
    "ExecuteTime": {
     "end_time": "2021-03-23T17:55:17.510427Z",
     "start_time": "2021-03-23T17:55:17.497433Z"
    },
    "id": "_wTI0KMAT1Bv"
   },
   "outputs": [],
   "source": [
    "languages_value = data_2020['Other technologies/programming languages you use often'].value_counts()\n",
    "vals = data_2020['Other technologies/programming languages you use often'].dropna().unique()\n",
    "lgval = languages_value.unique()"
   ]
  },
  {
   "cell_type": "code",
   "execution_count": 190,
   "metadata": {
    "ExecuteTime": {
     "end_time": "2021-03-23T17:55:17.526416Z",
     "start_time": "2021-03-23T17:55:17.514424Z"
    },
    "id": "z76gc6wMU3rs"
   },
   "outputs": [],
   "source": [
    "langtools = pd.DataFrame(data=languages_value,columns=['Popularity'],index=vals)"
   ]
  },
  {
   "cell_type": "code",
   "execution_count": 191,
   "metadata": {
    "ExecuteTime": {
     "end_time": "2021-03-23T17:55:17.558398Z",
     "start_time": "2021-03-23T17:55:17.529414Z"
    },
    "colab": {
     "base_uri": "https://localhost:8080/"
    },
    "id": "FrI52qbsSPxQ",
    "outputId": "f484b3bf-4b53-49d3-fa76-7e14e76253f7"
   },
   "outputs": [
    {
     "data": {
      "text/plain": [
       "Javascript / Typescript                                                         201\n",
       "Python                                                                           37\n",
       "SQL                                                                              31\n",
       "AWS, Docker                                                                      16\n",
       "Kotlin                                                                           15\n",
       "                                                                               ... \n",
       "PHP, Javascript / Typescript, Java / Scala, SQL, AWS, Docker                      1\n",
       "Java / Scala, SQL, AWS, Azure                                                     1\n",
       "Python, Kotlin, Java / Scala, SQL, Go, AWS, Google Cloud, Kubernetes, Docker      1\n",
       "Python, Javascript / Typescript, SQL, Kubernetes, Docker                          1\n",
       "Python, R                                                                         1\n",
       "Name: Other technologies/programming languages you use often, Length: 562, dtype: int64"
      ]
     },
     "execution_count": 191,
     "metadata": {},
     "output_type": "execute_result"
    }
   ],
   "source": [
    "languages_value"
   ]
  },
  {
   "cell_type": "code",
   "execution_count": 192,
   "metadata": {
    "ExecuteTime": {
     "end_time": "2021-03-23T17:55:17.589380Z",
     "start_time": "2021-03-23T17:55:17.561397Z"
    },
    "colab": {
     "base_uri": "https://localhost:8080/",
     "height": 407
    },
    "id": "N3kPOO00SLm2",
    "outputId": "3fafe521-4a8e-4618-f6b7-48cd5b9cbbcd"
   },
   "outputs": [
    {
     "data": {
      "text/html": [
       "<div>\n",
       "<style scoped>\n",
       "    .dataframe tbody tr th:only-of-type {\n",
       "        vertical-align: middle;\n",
       "    }\n",
       "\n",
       "    .dataframe tbody tr th {\n",
       "        vertical-align: top;\n",
       "    }\n",
       "\n",
       "    .dataframe thead th {\n",
       "        text-align: right;\n",
       "    }\n",
       "</style>\n",
       "<table border=\"1\" class=\"dataframe\">\n",
       "  <thead>\n",
       "    <tr style=\"text-align: right;\">\n",
       "      <th></th>\n",
       "      <th>Popularity</th>\n",
       "    </tr>\n",
       "  </thead>\n",
       "  <tbody>\n",
       "    <tr>\n",
       "      <th>Kotlin, Javascript / Typescript</th>\n",
       "      <td>NaN</td>\n",
       "    </tr>\n",
       "    <tr>\n",
       "      <th>Javascript / Typescript</th>\n",
       "      <td>NaN</td>\n",
       "    </tr>\n",
       "    <tr>\n",
       "      <th>Javascript / Typescript, Docker</th>\n",
       "      <td>NaN</td>\n",
       "    </tr>\n",
       "    <tr>\n",
       "      <th>.NET, SQL, AWS, Docker</th>\n",
       "      <td>NaN</td>\n",
       "    </tr>\n",
       "    <tr>\n",
       "      <th>Python, AWS, Google Cloud, Kubernetes, Docker</th>\n",
       "      <td>NaN</td>\n",
       "    </tr>\n",
       "    <tr>\n",
       "      <th>...</th>\n",
       "      <td>...</td>\n",
       "    </tr>\n",
       "    <tr>\n",
       "      <th>Javascript / Typescript, Java / Scala, SQL, Go, AWS, Docker</th>\n",
       "      <td>NaN</td>\n",
       "    </tr>\n",
       "    <tr>\n",
       "      <th>Javascript / Typescript, SQL, Go, AWS, Google Cloud, Azure, Kubernetes</th>\n",
       "      <td>NaN</td>\n",
       "    </tr>\n",
       "    <tr>\n",
       "      <th>Python, C/C++, Javascript / Typescript, Java / Scala, Perl, AWS, Docker, Networking, Data Center</th>\n",
       "      <td>NaN</td>\n",
       "    </tr>\n",
       "    <tr>\n",
       "      <th>Javascript / Typescript, Docker, HTML, CSS; Adobe XD</th>\n",
       "      <td>NaN</td>\n",
       "    </tr>\n",
       "    <tr>\n",
       "      <th>Python, AWS, Kubernetes, Docker, terraform, ansible</th>\n",
       "      <td>NaN</td>\n",
       "    </tr>\n",
       "  </tbody>\n",
       "</table>\n",
       "<p>562 rows × 1 columns</p>\n",
       "</div>"
      ],
      "text/plain": [
       "                                                   Popularity\n",
       "Kotlin, Javascript / Typescript                           NaN\n",
       "Javascript / Typescript                                   NaN\n",
       "Javascript / Typescript, Docker                           NaN\n",
       ".NET, SQL, AWS, Docker                                    NaN\n",
       "Python, AWS, Google Cloud, Kubernetes, Docker             NaN\n",
       "...                                                       ...\n",
       "Javascript / Typescript, Java / Scala, SQL, Go,...        NaN\n",
       "Javascript / Typescript, SQL, Go, AWS, Google C...        NaN\n",
       "Python, C/C++, Javascript / Typescript, Java / ...        NaN\n",
       "Javascript / Typescript, Docker, HTML, CSS; Ado...        NaN\n",
       "Python, AWS, Kubernetes, Docker, terraform, ans...        NaN\n",
       "\n",
       "[562 rows x 1 columns]"
      ]
     },
     "execution_count": 192,
     "metadata": {},
     "output_type": "execute_result"
    }
   ],
   "source": [
    "langtools.sort_values(by='Popularity', ascending=False)"
   ]
  },
  {
   "cell_type": "code",
   "execution_count": 193,
   "metadata": {
    "ExecuteTime": {
     "end_time": "2021-03-23T17:55:17.605370Z",
     "start_time": "2021-03-23T17:55:17.591379Z"
    },
    "id": "_sGrqNNlU3n9"
   },
   "outputs": [],
   "source": [
    "langtools['Popularity'] = languages_value\n",
    "langtools = langtools.sort_values(by='Popularity', ascending=False)"
   ]
  },
  {
   "cell_type": "code",
   "execution_count": 194,
   "metadata": {
    "ExecuteTime": {
     "end_time": "2021-03-23T17:55:18.335943Z",
     "start_time": "2021-03-23T17:55:17.607369Z"
    },
    "colab": {
     "base_uri": "https://localhost:8080/",
     "height": 1000
    },
    "id": "8zegBpY-Tja2",
    "outputId": "003dfe01-68c2-4433-e2c9-a4f607800367"
   },
   "outputs": [
    {
     "data": {
      "application/vnd.plotly.v1+json": {
       "config": {
        "plotlyServerURL": "https://plot.ly"
       },
       "data": [
        {
         "alignmentgroup": "True",
         "hovertemplate": "x=%{x}<br>Popularity=%{marker.color}<extra></extra>",
         "legendgroup": "",
         "marker": {
          "color": [
           201,
           37,
           31,
           16,
           15,
           13,
           13,
           13,
           12,
           11,
           10,
           9,
           9,
           9,
           9,
           8,
           8,
           8,
           7,
           7,
           7,
           7,
           7,
           7,
           7,
           6,
           6,
           6,
           6,
           6,
           5,
           5,
           5,
           5,
           5,
           5,
           5,
           5,
           5,
           5,
           5,
           5,
           5,
           4,
           4,
           4,
           4,
           4,
           4,
           4,
           4,
           4,
           4,
           4,
           3,
           3,
           3,
           3,
           3,
           3,
           3,
           3,
           3,
           3,
           3,
           3,
           3,
           3,
           3,
           3,
           3,
           3,
           3,
           3,
           3,
           3,
           3,
           3,
           2,
           2,
           2,
           2,
           2,
           2,
           2,
           2,
           2,
           2,
           2,
           2,
           2,
           2,
           2,
           2,
           2,
           2,
           2,
           2,
           2,
           2,
           2,
           2,
           2,
           2,
           2,
           2,
           2,
           2,
           2,
           2,
           2,
           2,
           2,
           2,
           2,
           2,
           2,
           2,
           2,
           2,
           2,
           2,
           2,
           2,
           2,
           2,
           2,
           2,
           2,
           2,
           2,
           2,
           2,
           2,
           2,
           2,
           2,
           2,
           2,
           2,
           2,
           2,
           2,
           2,
           2,
           2,
           2,
           2,
           2,
           2,
           2,
           2,
           2,
           2,
           2,
           1,
           1,
           1,
           1,
           1,
           1,
           1,
           1,
           1,
           1,
           1,
           1,
           1,
           1,
           1,
           1,
           1,
           1,
           1,
           1,
           1,
           1,
           1,
           1,
           1,
           1,
           1,
           1,
           1,
           1,
           1,
           1,
           1,
           1,
           1,
           1,
           1,
           1,
           1,
           1,
           1,
           1,
           1,
           1,
           1,
           1,
           1,
           1,
           1,
           1,
           1,
           1,
           1,
           1,
           1,
           1,
           1,
           1,
           1,
           1,
           1,
           1,
           1,
           1,
           1,
           1,
           1,
           1,
           1,
           1,
           1,
           1,
           1,
           1,
           1,
           1,
           1,
           1,
           1,
           1,
           1,
           1,
           1,
           1,
           1,
           1,
           1,
           1,
           1,
           1,
           1,
           1,
           1,
           1,
           1,
           1,
           1,
           1,
           1,
           1,
           1,
           1,
           1,
           1,
           1,
           1,
           1,
           1,
           1,
           1,
           1,
           1,
           1,
           1,
           1,
           1,
           1,
           1,
           1,
           1,
           1,
           1,
           1,
           1,
           1,
           1,
           1,
           1,
           1,
           1,
           1,
           1,
           1,
           1,
           1,
           1,
           1,
           1,
           1,
           1,
           1,
           1,
           1,
           1,
           1,
           1,
           1,
           1,
           1,
           1,
           1,
           1,
           1,
           1,
           1,
           1,
           1,
           1,
           1,
           1,
           1,
           1,
           1,
           1,
           1,
           1,
           1,
           1,
           1,
           1,
           1,
           1,
           1,
           1,
           1,
           1,
           1,
           1,
           1,
           1,
           1,
           1,
           1,
           1,
           1,
           1,
           1,
           1,
           1,
           1,
           1,
           1,
           1,
           1,
           1,
           1,
           1,
           1,
           1,
           1,
           1,
           1,
           1,
           1,
           1,
           1,
           1,
           1,
           1,
           1,
           1,
           1,
           1,
           1,
           1,
           1,
           1,
           1,
           1,
           1,
           1,
           1,
           1,
           1,
           1,
           1,
           1,
           1,
           1,
           1,
           1,
           1,
           1,
           1,
           1,
           1,
           1,
           1,
           1,
           1,
           1,
           1,
           1,
           1,
           1,
           1,
           1,
           1,
           1,
           1,
           1,
           1,
           1,
           1,
           1,
           1,
           1,
           1,
           1,
           1,
           1,
           1,
           1,
           1,
           1,
           1,
           1,
           1,
           1,
           1,
           1,
           1,
           1,
           1,
           1,
           1,
           1,
           1,
           1,
           1,
           1,
           1,
           1,
           1,
           1,
           1,
           1,
           1,
           1,
           1,
           1,
           1,
           1,
           1,
           1,
           1,
           1,
           1,
           1,
           1,
           1,
           1,
           1,
           1,
           1,
           1,
           1,
           1,
           1,
           1,
           1,
           1,
           1,
           1,
           1,
           1,
           1,
           1,
           1,
           1,
           1,
           1,
           1,
           1,
           1,
           1,
           1,
           1,
           1,
           1,
           1,
           1,
           1,
           1,
           1,
           1,
           1,
           1,
           1,
           1,
           1,
           1,
           1,
           1,
           1,
           1,
           1,
           1,
           1,
           1,
           1,
           1,
           1,
           1,
           1,
           1,
           1,
           1,
           1,
           1,
           1,
           1,
           1,
           1,
           1,
           1,
           1,
           1,
           1,
           1,
           1,
           1,
           1,
           1,
           1,
           1,
           1,
           1,
           1,
           1,
           1,
           1,
           1,
           1,
           1,
           1,
           1,
           1,
           1,
           1,
           1,
           1,
           1,
           1,
           1,
           1,
           1,
           1,
           1,
           1,
           1,
           1,
           1,
           1,
           1,
           1,
           1
          ],
          "coloraxis": "coloraxis"
         },
         "name": "",
         "offsetgroup": "",
         "orientation": "v",
         "showlegend": false,
         "textposition": "auto",
         "type": "bar",
         "x": [
          "Javascript / Typescript",
          "Python",
          "SQL",
          "AWS, Docker",
          "Kotlin",
          "Swift",
          "C/C++",
          "Python, SQL",
          "Javascript / Typescript, SQL, AWS, Docker",
          "Python, C/C++",
          "Kotlin, Java / Scala",
          "PHP",
          ".NET",
          "Java / Scala",
          "Python, C/C++, Docker",
          "SQL, AWS, Docker",
          "Python, SQL, AWS, Kubernetes, Docker",
          "Java / Scala, SQL",
          "Python, Javascript / Typescript",
          "Docker",
          "AWS",
          "Javascript / Typescript, SQL",
          "Kubernetes, Docker",
          "Javascript / Typescript, AWS, Docker",
          "Javascript / Typescript, SQL, Docker",
          "Javascript / Typescript, Java / Scala",
          "Python, Docker",
          "Python, R, SQL",
          "Python, Go, AWS, Kubernetes, Docker",
          "Javascript / Typescript, Docker",
          "Python, SQL, Docker",
          "PHP, Javascript / Typescript",
          "PHP, Javascript / Typescript, SQL",
          "Kotlin, SQL, Kubernetes, Docker",
          "PHP, Javascript / Typescript, SQL, Docker",
          "Python, SQL, AWS, Docker",
          "Javascript / Typescript, AWS",
          "Python, Javascript / Typescript, AWS, Docker",
          "AWS, Kubernetes, Docker",
          "Python, Java / Scala",
          "Javascript / Typescript, Java / Scala, SQL",
          "Javascript / Typescript, .NET, SQL",
          "Python, Javascript / Typescript, SQL, AWS, Docker",
          "R, SQL, AWS, Docker",
          "Python, AWS, Docker",
          "SQL, AWS, Kubernetes, Docker",
          "Javascript / Typescript, Go",
          "SAP / ABAP",
          "R, SQL",
          "Python, SQL, Google Cloud, Kubernetes, Docker",
          ".NET, SQL",
          "Python, Kotlin, Java / Scala, SQL, AWS, Kubernetes, Docker",
          "Python, AWS, Kubernetes, Docker",
          "Javascript / Typescript, AWS, Kubernetes, Docker",
          "Python, SQL, AWS, Google Cloud, Kubernetes, Docker",
          "Java / Scala, AWS, Kubernetes, Docker",
          "Javascript / Typescript, SQL, AWS, Kubernetes, Docker",
          "Javascript / Typescript, Kubernetes, Docker",
          "Java / Scala, SQL, AWS, Kubernetes, Docker",
          "Python, SQL, AWS",
          "Javascript / Typescript, Google Cloud, Kubernetes, Docker",
          "SQL, AWS",
          "SQL, Kubernetes, Docker",
          "Python, AWS",
          "Java / Scala, SQL, Kubernetes, Docker",
          "Python, Java / Scala, SQL, AWS",
          "Python, SQL, Azure",
          "Python, SQL, Go, AWS, Kubernetes, Docker",
          "Python, AWS, Google Cloud, Kubernetes, Docker",
          "Python, Javascript / Typescript, SQL, Docker",
          "Kotlin, Javascript / Typescript",
          "Python, Java / Scala, SQL, AWS, Kubernetes, Docker",
          "Kotlin, Java / Scala, AWS, Kubernetes, Docker",
          "C/C++, .NET, SQL",
          "Python, PHP, Javascript / Typescript, SQL",
          "Javascript / Typescript, .NET, SQL, Azure, Kubernetes, Docker",
          "Python, SQL, Google Cloud",
          "Java / Scala, Kubernetes, Docker",
          "Python, Javascript / Typescript, Docker",
          "Javascript / Typescript, .NET",
          "Javascript / Typescript, AWS, Kubernetes",
          "Go, AWS, Kubernetes, Docker",
          "PHP, Go",
          "PHP, Java / Scala",
          "Python, Javascript / Typescript, SQL, Google Cloud, Kubernetes, Docker",
          "PHP, SQL",
          "Javascript / Typescript, .NET, Docker",
          "SQL, Go, AWS, Docker",
          "SQL, Azure",
          "SQL, AWS, Google Cloud, Docker",
          "Javascript / Typescript, Java / Scala, SQL, AWS, Docker",
          "Python, SQL, Kubernetes, Docker",
          "Python, .NET, Azure, Kubernetes, Docker",
          "Python, R, SQL, Google Cloud",
          "SQL, Go, AWS, Kubernetes, Docker",
          "PHP, SQL, Go, AWS, Docker",
          "Python, Google Cloud, Kubernetes, Docker",
          "Python, SQL, SAP / ABAP, AWS",
          "Python, Kotlin, Javascript / Typescript, SQL, AWS, Docker",
          "SQL, Google Cloud, Docker",
          "Python, SQL, AWS, Google Cloud",
          "Python, Kotlin, Javascript / Typescript, SQL, Docker",
          "Java / Scala, AWS, Azure, Kubernetes, Docker",
          "Python, Java / Scala, SQL, AWS, Docker",
          "Java / Scala, SQL, Go, Google Cloud, Kubernetes, Docker",
          "R, SQL, AWS",
          "Python, SQL, Google Cloud, Docker",
          "Python, SQL, AWS, Google Cloud, Docker",
          "Python, Swift, Java / Scala",
          "Python, Go",
          "Python, Javascript / Typescript, SQL, AWS, Kubernetes, Docker",
          "SQL, SAP / ABAP",
          "Kotlin, Javascript / Typescript, AWS, Kubernetes, Docker",
          "SQL, Google Cloud, Kubernetes, Docker",
          "Google Cloud, Docker",
          "Javascript / Typescript, .NET, SQL, Docker",
          "Java / Scala, SQL, AWS",
          "Javascript / Typescript, SAP / ABAP",
          "Java / Scala, SQL, Docker",
          "Python, C/C++, AWS, Kubernetes, Docker",
          "Go",
          "Python, Javascript / Typescript, SQL, Go, AWS, Google Cloud, Kubernetes, Docker",
          "Ruby, Java / Scala, AWS, Kubernetes, Docker",
          "Google Cloud",
          "Python, Javascript / Typescript, Java / Scala, SQL, AWS, Docker",
          "Javascript / Typescript, Java / Scala, AWS, Docker",
          "Python, C/C++, .NET",
          "Javascript / Typescript, SQL, Go, Docker",
          "Ruby, SQL",
          "Ruby",
          "Go, Google Cloud, Kubernetes, Docker",
          "Javascript / Typescript, Ruby, AWS, Docker",
          "Kotlin, Java / Scala, SQL, AWS, Docker",
          "Python, C/C++, Go",
          "PHP, Javascript / Typescript, SQL, Go, AWS",
          "Python, C/C++, SQL",
          "Python, Java / Scala, AWS, Docker",
          "Python, Java / Scala, SQL, AWS, Google Cloud, Kubernetes, Docker",
          "Python, .NET, Azure",
          "Kotlin, Java / Scala, SQL",
          "Kotlin, AWS, Kubernetes, Docker",
          "Python, Java / Scala, SQL, Go, AWS, Google Cloud, Kubernetes, Docker",
          "Python, C/C++, SQL, AWS",
          "Python, Ruby",
          "Python, Javascript / Typescript, Go",
          "Javascript / Typescript, .NET, Azure, Kubernetes, Docker",
          "Kotlin, Java / Scala, AWS",
          "Python, SQL, AWS, Azure, Kubernetes, Docker",
          "Javascript / Typescript, .NET, SQL, Azure, Docker",
          "Javascript / Typescript, Ruby, SQL",
          "Swift, Objective-C",
          "Javascript / Typescript, Google Cloud, Docker",
          "PHP, Javascript / Typescript, SQL, Google Cloud, Docker",
          "Kotlin, Java / Scala, SQL, AWS, Kubernetes, Docker",
          "Python, SQL, AWS, Azure",
          "SQL, Docker",
          "Javascript / Typescript, Java / Scala, Flutter",
          "Python, Java / Scala, SQL, Google Cloud",
          "Javascript / Typescript, Ruby, Elixir",
          "R, AWS",
          "Go, Rust, Kubernetes",
          "Python, Java / Scala, R, SQL, Google Cloud",
          "Python, Javascript / Typescript, SQL, Google Cloud, Docker",
          "Kotlin, Javascript / Typescript, AWS",
          "Javascript / Typescript, Java / Scala, Go, Rust, AWS, Kubernetes, Docker",
          "PHP, Javascript / Typescript, SQL, Go, Google Cloud, Kubernetes, Docker",
          "Kotlin, Java / Scala, SQL, AWS, Google Cloud, Docker",
          "Python, C/C++, Javascript / Typescript, Java / Scala, SQL, Kubernetes, Docker",
          "PHP, Javascript / Typescript, AWS, Docker",
          "Java / Scala, AWS, Google Cloud, Kubernetes, Docker",
          "Python, C/C++, Go, AWS, Docker",
          "Python, Azure",
          "Google Cloud, Kubernetes, Docker, Terraform, Bash",
          "Javascript / Typescript, R, SQL, Google Cloud",
          "Python, C/C++, Docker, Tensorflow, PyTorch",
          "Python, C/C++, Javascript / Typescript, Go",
          "Java / Scala, SQL, AWS, Google Cloud, Kubernetes, Docker",
          "Python, Java / Scala, R, SQL",
          "Python, Kotlin, Javascript / Typescript, Java / Scala, SQL, AWS, Google Cloud, Docker",
          "AWS, Google Cloud, Kubernetes, Docker",
          "SQL, AWS, Docker, Matlab",
          ".NET, Kubernetes, Docker",
          "Java / Scala, AWS, Kubernetes",
          "Python, C/C++, Javascript / Typescript, Java / Scala, AWS, Kubernetes, Docker",
          "Python, SQL, Azure, Docker",
          "Python, SQL, MS SQL Stack, Oracle, Informatica PowerCenter",
          "Kotlin, PHP, SQL",
          "C/C++, SQL, Docker",
          "Go, Google Cloud",
          "PHP, Java / Scala, Go, AWS, Docker",
          "Azure",
          "Python, Ruby, Go, AWS, Google Cloud, Kubernetes, Docker",
          "Python, PHP, Javascript / Typescript, .NET, Java / Scala, AWS, Azure",
          "Python, C/C++, Rust",
          "AWS, Azure",
          "Python, Kotlin, Swift, Javascript / Typescript",
          "Python, AWS, Kubernetes, Docker, React",
          "Python, Java / Scala, SQL, AWS, Google Cloud, Azure",
          "PHP, Javascript / Typescript, Java / Scala",
          "Go, Kubernetes",
          "Javascript / Typescript, Java / Scala, SQL, Go, AWS, Docker",
          "PHP, Java / Scala, SQL, AWS, Docker",
          "Javascript / Typescript, Azure",
          "Javascript / Typescript, .NET, SQL, Google Cloud",
          "Javascript / Typescript, AWS, Docker, Node",
          "Javascript / Typescript, SQL, Go, AWS, Google Cloud, Azure, Kubernetes",
          "Python, PHP, SQL, Perl, AWS, Google Cloud, Kubernetes, Docker",
          "Python, SQL, Go, AWS, Google Cloud, Azure, Kubernetes, Docker",
          "R, AWS, Google Cloud, Kubernetes, Docker",
          "Python, C/C++, Javascript / Typescript, Java / Scala, Perl, AWS, Docker, Networking, Data Center",
          "Python, Javascript / Typescript, Java / Scala, SQL, Go, AWS, Kubernetes, Docker",
          "Python, Azure, Kubernetes",
          "Javascript / Typescript, SQL, AWS",
          "Javascript / Typescript, Docker, HTML, CSS; Adobe XD",
          "Javascript / Typescript, C#",
          "Javascript / Typescript, AWS, Azure, Docker",
          "Python, Kotlin, Java / Scala, Google Cloud, Kubernetes",
          "Kotlin, Ruby, Go, Rust, AWS, Kubernetes, Docker",
          "Bi",
          "Kotlin, Google Cloud",
          "Perl",
          "C/C++, .NET, Go",
          "Javascript / Typescript, Java / Scala, Go, AWS, Docker",
          "Python, Javascript / Typescript, SQL, AWS, Google Cloud, Docker",
          "Python, R, SQL, Kubernetes, Docker",
          "Python, .NET, SQL",
          "Kotlin, Java / Scala, Clojure, Rust, AWS, Kubernetes, Docker",
          "Python, C/C++, Rust, AWS, Kubernetes, Docker",
          "Python, Tensorflow, Theano, Pytorch",
          "Python, Javascript / Typescript, SQL, AWS, Google Cloud, Kubernetes, Docker, Elixir",
          "C/C++, .NET",
          "Ruby, Java / Scala, SQL, Go, AWS, Google Cloud, Kubernetes, Docker",
          "SQL, Perl",
          "Python, Kotlin, Ruby, AWS, Docker",
          "Python, Javascript / Typescript, SQL, SAP / ABAP",
          "Kotlin, Java / Scala, Go, AWS, Kubernetes, Docker",
          "Python, Javascript / Typescript, Java / Scala, AWS",
          "Swift, Javascript / Typescript, Java / Scala, Clojure",
          "Kotlin, Java / Scala, Google Cloud, Kubernetes, Docker",
          "Python, SQL, AWS, Azure, Docker",
          "Python, Javascript / Typescript, SQL, Rust, AWS, Kubernetes, Docker",
          "C/C++, .NET, Java / Scala, AWS, Kubernetes, Docker",
          "Python, R, SQL, Azure",
          "Javascript / Typescript, R, SQL, AWS, Azure, Docker",
          "Java / Scala, Google Cloud, Kubernetes",
          "Python, Javascript / Typescript, Ruby, SQL, AWS, Docker",
          "Python, C/C++, Javascript / Typescript, Java / Scala, Perl, MATLAB",
          "PHP, SQL, Docker, VMs",
          "C/C++, R, SQL",
          "Java / Scala, SQL, AWS, Google Cloud",
          "Javascript / Typescript, .NET, SQL, Kubernetes",
          "Python, Javascript / Typescript, Perl, AWS, Google Cloud, Kubernetes, Docker",
          "Javascript / Typescript, Java / Scala, R, Google Cloud, Azure, Kubernetes, Docker",
          "Python, C/C++, Java / Scala, AWS, Azure, spark",
          "Python, C/C++, AWS",
          "Clojure, Rust",
          "Python, Java / Scala, SQL, Go, AWS, Kubernetes, Docker",
          "PHP, AWS, Kubernetes, Docker",
          "Python, Go, Docker",
          "Ruby, AWS, Google Cloud, Docker, Helm, Kustomize, Ansible",
          "Python, Javascript / Typescript, R",
          "C/C++, Java / Scala",
          "Python, C/C++, Google Cloud, Docker",
          "Python, Qt",
          "Kotlin, PHP, Java / Scala, SQL, Go, AWS, Kubernetes",
          "Python, Javascript / Typescript, SQL, AWS, Kubernetes",
          "Python, R, Spark",
          "Python, Azure, Docker",
          "Google Cloud, Kubernetes, Docker",
          "Python, R, Docker",
          "Python, SQL, SAS",
          "Python, PHP, SQL",
          "Javascript / Typescript, Java / Scala, SQL, Docker",
          "Python, Javascript / Typescript, SQL, Google Cloud",
          "Python, Ruby, Java / Scala, AWS",
          "Python, Ruby, Kubernetes, Docker",
          "Kotlin, Swift, Javascript / Typescript, Docker",
          "Python, C/C++, Java / Scala",
          "Python, Java / Scala, AWS, Kubernetes, Docker",
          "Python, Javascript / Typescript, Java / Scala, SQL, Google Cloud, Kubernetes, Docker",
          "Kotlin, Javascript / Typescript, SQL, AWS, Docker",
          "Python, Javascript / Typescript, SQL, AWS, Google Cloud",
          "Python, R",
          "Python, Javascript / Typescript, Java / Scala, AWS, Kubernetes",
          "Python, Javascript / Typescript, Ruby, AWS",
          "R, SQL, AWS, Google Cloud",
          "Javascript / Typescript, .NET, C#, Angular ",
          "Kotlin, SQL",
          "Python, Javascript / Typescript, Ruby, .NET, Java / Scala, Azure, Kubernetes",
          "Javascript / Typescript, Java / Scala, SQL, AWS, Kubernetes, Docker",
          "Kotlin, Javascript / Typescript, Rust",
          "Javascript / Typescript, SQL, Go, Google Cloud, Kubernetes, Docker",
          "SQL, AWS, Azure",
          "PHP, SQL, Docker",
          "Python, Clojure, SQL",
          "Java / Scala, SQL, AWS, Azure",
          "C/C++, SQL, Google Cloud, Docker",
          "Kotlin, Swift, Ruby",
          "Javascript / Typescript, .NET, SQL, AWS",
          "Python, Javascript / Typescript, Ruby, SQL",
          "C/C++, SAP / ABAP",
          "Python, Javascript / Typescript, Ruby, Java / Scala, AWS, Kubernetes, Docker",
          "Kotlin, Javascript / Typescript, Java / Scala",
          "Python, Kotlin, .NET, SQL, Go, Docker",
          "Python, R, SQL, AWS, Google Cloud, Azure, Docker",
          "Python, C/C++, Azure, Docker",
          "Python, Javascript / Typescript, SQL, AWS, Azure, Kubernetes, Docker",
          "Javascript / Typescript, SQL, AWS, Google Cloud, Kubernetes, Docker",
          "Python, C/C++, SQL, Google Cloud, Kubernetes, Docker",
          "C/C++, Javascript / Typescript, Go, AWS, Docker",
          "Python, Kotlin, Go, Kubernetes",
          "Python, AWS, Google Cloud, Docker",
          "Kotlin, C/C++, Javascript / Typescript, Java / Scala, AWS, Docker",
          "C/C++, Javascript / Typescript",
          "Python, C/C++, Javascript / Typescript, Docker",
          "R, SQL, Google Cloud",
          "Javascript / Typescript, Java / Scala, AWS, Azure, Kubernetes, Docker",
          "Python, Javascript / Typescript, Java / Scala, SQL, AWS, Google Cloud, Docker",
          "Python, PHP, Javascript / Typescript, Java / Scala, SQL, AWS, Google Cloud, Kubernetes, Docker",
          "Kotlin, Javascript / Typescript, Java / Scala, AWS, Azure, Kubernetes, Docker",
          "Python, Kotlin, Javascript / Typescript, Java / Scala, SQL, AWS, Kubernetes, Docker",
          "Python, Go, Kubernetes, Docker, Openstack",
          ".NET, SQL, Azure",
          "C/C++, AWS, Google Cloud, Docker",
          "C/C++, SQL, Go, Rust, AWS, Google Cloud, Kubernetes, Docker",
          "Python, Javascript / Typescript, .NET, Java / Scala, SQL, Go, AWS, Azure, Docker",
          "Javascript / Typescript, SQL, Google Cloud, Kubernetes, Docker",
          "C/C++, Javascript / Typescript, AWS, Google Cloud, Kubernetes",
          "Python, SQL, Go",
          "Python, .NET, Java / Scala, SQL, Kubernetes, Docker",
          "Python, AWS, Google Cloud, Azure, Alteryx, SAS",
          "Figma, Sketch, Photoshop, etc...",
          "Python, SQL, Perl",
          "Javascript / Typescript, Java / Scala, Docker",
          "SQL, AWS, Google Cloud, Azure, Kubernetes, Docker",
          "SQL, Docker, Apache Spark, Apache Hadoop, Oracle, PostgreSQL, Bash, Apache Impala, Apache Hive",
          "R, SQL, Hadoop Hive",
          "Javascript / Typescript, Java / Scala, SQL, AWS, Docker, nomad, QlikSense",
          "Python, Javascript / Typescript, AWS",
          "Python, Javascript / Typescript, Java / Scala, R, SQL, AWS, Google Cloud, Azure, Kubernetes, Docker",
          "Kotlin, PHP, Ruby, Java / Scala, SQL, AWS, Kubernetes, Docker",
          "Python, C/C++, .NET, SQL",
          "Python, PHP, Javascript / Typescript, SQL, AWS",
          "Python, Javascript / Typescript, Google Cloud, Kubernetes, Docker",
          "Kotlin, Java / Scala, SQL, AWS",
          "R, SQL, AWS, Kubernetes, Docker",
          "C/C++, Linux Kernel",
          "Kotlin, .NET, Java / Scala, Dart",
          "Swift, Flutter",
          "Swift, Javascript / Typescript, Go, AWS, Kubernetes, Docker",
          "Javascript / Typescript, Java / Scala, Go",
          "Python, AWS, Azure, Kubernetes, Docker",
          "Kotlin, Javascript / Typescript, Dart",
          "PHP, Javascript / Typescript, Perl, AWS, Kubernetes, Docker",
          "Python, Javascript / Typescript, SQL, Go, Perl, Google Cloud, Kubernetes, Docker",
          "R, SQL, Perl, Docker",
          "Kotlin, Swift, Go, AWS, Kubernetes, Docker",
          "Swift, Javascript / Typescript, Java / Scala, Google Cloud",
          "C/C++, SQL, AWS, Docker",
          "Java / Scala, SQL, Google Cloud, Docker",
          "Java / Scala, Go, AWS, Google Cloud, Azure, Kubernetes, Docker",
          "Python, Javascript / Typescript, Java / Scala, SQL, AWS, Kubernetes, Docker",
          "Javascript / Typescript, Kubernetes, Docker, Angular",
          ".NET, Azure",
          "Python, C/C++, .NET, Java / Scala",
          "C/C++, Javascript / Typescript, Java / Scala, SQL, Docker",
          "Python, Kubernetes, Docker, Ansible",
          "C/C++, PHP, .NET, SQL",
          "PHP, SQL, AWS, Azure, Kubernetes, Docker",
          "R, SQL, AWS, Azure, Docker",
          "Python, Kotlin, Swift, Javascript / Typescript, Java / Scala, SQL, AWS, Google Cloud, Kubernetes, Docker",
          "PHP, AWS, Google Cloud",
          "Python, C/C++, Swift, Matlab ",
          "PHP, Javascript / Typescript, .NET, SQL, Google Cloud, Kubernetes, Docker",
          "Javascript / Typescript, Go, AWS, Docker",
          ".NET, SQL, Azure, Docker",
          "Python, Kotlin, Javascript / Typescript, Java / Scala, AWS, Kubernetes, Docker",
          "Python, C/C++, Javascript / Typescript, Ruby, .NET, Java / Scala, SQL, Go, AWS, Kubernetes",
          "Javascript / Typescript, Ruby, AWS, Kubernetes, Docker",
          "Kotlin, .NET, SQL, AWS",
          "SQL, AWS, Kubernetes",
          "Java / Scala, SQL, AWS, Google Cloud, Azure, Docker",
          "SQL, AWS, Azure, Kubernetes, Docker",
          "Javascript / Typescript, SQL, Azure",
          "SQL, AWS, Kubernetes, Docker, Groovy",
          "Javascript / Typescript, Azure, Kubernetes, GraphQL",
          "Kotlin, SQL, Azure, Kubernetes, Docker, Mongo",
          "Kotlin, Java / Scala, Azure",
          "Python, Kotlin, Java / Scala, SQL, Go, AWS, Google Cloud, Kubernetes, Docker",
          "Kotlin, SQL, AWS, Docker, Spark",
          "Ruby, Objective C",
          "Adobe Cloud, Sketch, 3Ds Max",
          "AWS, Google Cloud",
          "Javascript / Typescript, .NET, SQL, AWS, Azure, Kubernetes, Docker",
          "Python, PHP, Javascript / Typescript, SQL, Docker",
          "Javascript / Typescript, .NET, SQL, AWS, Docker",
          "Python, Java / Scala, SQL, AWS, Azure",
          "C/C++, PyTorch",
          "Python, R, Azure",
          "Kotlin, Javascript / Typescript, Java / Scala, AWS, Kubernetes, Docker",
          "Python, C/C++, Pytorch",
          "PHP, Javascript / Typescript, SQL, AWS, Docker",
          "Python, .NET, AWS, Azure, Kubernetes, Docker",
          "Python, PHP, Javascript / Typescript, Go, Google Cloud, Kubernetes, Docker",
          "Python, C/C++, SQL, Docker",
          "Kotlin, Javascript / Typescript, Java / Scala, Docker",
          "Javascript / Typescript, SQL, AWS, Google Cloud, Kubernetes, Docker, Quorum",
          "Python, SQL, Go, Google Cloud, bash",
          "Kotlin, Javascript / Typescript, Java / Scala, SQL, AWS, Google Cloud, Kubernetes, Docker",
          "Java / Scala, AWS, Docker",
          "AWS, Google Cloud, Azure, Docker",
          "SQL, Go, Kubernetes, Docker",
          "PHP, SQL, AWS, Kubernetes, Docker",
          "Go, AWS, Kubernetes, Docker, Elixir",
          "Python, C/C++, Javascript / Typescript, .NET, SQL",
          "AWS, Kubernetes",
          "Python, Javascript / Typescript, Java / Scala, Go, Kubernetes, Docker",
          "Python, R, Google Cloud, Docker",
          "Swift, AWS",
          "Python, C/C++, Javascript / Typescript, SQL, Go, AWS, Docker",
          "Javascript / Typescript, SQL, Go, AWS, Kubernetes, Docker, Terraform",
          "Kotlin, Javascript / Typescript, AWS, Google Cloud, Kubernetes, Docker",
          "Go, Kubernetes, Docker",
          "PHP, Javascript / Typescript, AWS",
          "Python, Kotlin, Javascript / Typescript, SQL, AWS",
          ".NET, SQL, AWS, Docker",
          "Kubernetes",
          "Kotlin, Javascript / Typescript, SQL, Docker",
          "Python, Kubernetes",
          "Python, Go, AWS, Kubernetes",
          "Javascript / Typescript, SQL, Google Cloud, Docker",
          "Python, PHP, Javascript / Typescript, SQL, Go, Perl, AWS, Google Cloud, Azure, Kubernetes, Docker",
          "PHP, Javascript / Typescript, Go, AWS, Google Cloud, Kubernetes, Docker",
          "SQL, Go",
          "Python, Kotlin, Javascript / Typescript, Java / Scala, Docker",
          "Python, Java / Scala, Perl",
          "SAP / ABAP, AWS, Google Cloud, Azure, Kubernetes, Docker",
          ".NET, SQL, Google Cloud, Kubernetes, Docker",
          "SQL, Elixir",
          "Python, Kotlin, Javascript / Typescript, Go, AWS, Kubernetes, Docker",
          "Ruby, Kubernetes, Docker",
          "PHP, Javascript / Typescript, Dart",
          "Kotlin, Java / Scala, SQL, SAP / ABAP, Kubernetes, Docker",
          "Python, Java / Scala, R, SQL, Go, AWS, Google Cloud, Azure, Kubernetes, Docker",
          "Python, Javascript / Typescript, .NET, AWS, Azure, Kubernetes, Docker",
          "Javascript / Typescript, Java / Scala, AWS, Kubernetes, Docker",
          "SQL, AWS, Google Cloud, Kubernetes, Docker",
          "Python, Java / Scala, R, SQL, AWS, Azure",
          "Kotlin, Ruby",
          "Python, Javascript / Typescript, SQL, Kubernetes, Docker",
          "Python, Kotlin, Java / Scala, SQL, Kubernetes, Docker",
          "Python, Javascript / Typescript, .NET, SQL, AWS, Azure, Kubernetes, Docker",
          "Python, Javascript / Typescript, SQL, SAP / ABAP, Google Cloud, Azure",
          "Swift, objective-c",
          "Javascript / Typescript, SQL, Go, AWS, Docker",
          "Javascript / Typescript, .NET, SQL, Azure",
          "Python, C/C++, Swift, Java / Scala, R, SQL, Go, AWS, Google Cloud, Azure, Kubernetes, Docker",
          "Python, AWS, Kubernetes",
          "Kotlin, PHP, Swift, Javascript / Typescript, Java / Scala, Clojure, R, Rust, AWS, Google Cloud, Azure, Kubernetes, Docker",
          "Kotlin, Swift",
          "Python, Kotlin, Java / Scala, Go, Rust, AWS, Kubernetes, Docker",
          "Python, PHP, AWS, Google Cloud, Kubernetes, Docker",
          "Python, SQL, Spark",
          "Javascript / Typescript, .NET, Azure",
          "Python, PHP, Javascript / Typescript, SQL, AWS, Kubernetes, Docker",
          "C/C++, Clojure, Assembly",
          "Java / Scala, R, SQL, Docker, Julia ",
          "Javascript / Typescript, .NET, Azure, Docker",
          "Python, Java / Scala, Go, AWS, Kubernetes, Docker",
          "Python, SQL, AWS, Docker, unix shell scripts",
          "Ruby, SQL, Go, AWS, Kubernetes, Docker",
          "Python, Javascript / Typescript, Java / Scala, SQL",
          "Go, AWS, Docker",
          "Python, Java / Scala, SQL, Azure, Docker",
          "Javascript / Typescript, .NET, Java / Scala, Docker",
          "Python, Javascript / Typescript, SQL, AWS",
          "Python, Kotlin, Java / Scala, AWS",
          "Kotlin, Java / Scala, SQL, Kubernetes, Docker",
          "Python, C/C++, Javascript / Typescript, SQL, Docker",
          "Google Cloud, Kubernetes, Docker, Shell",
          ".NET, Java / Scala, SQL, Go, AWS, Docker",
          "Javascript / Typescript, Google Cloud, Kubernetes",
          "Ruby, AWS, Kubernetes, Docker",
          "Python, Javascript / Typescript, SQL",
          "Python, PHP, Javascript / Typescript, .NET, SQL, SAP / ABAP",
          "Python, Kotlin, Javascript / Typescript, AWS, Kubernetes, Docker",
          "Java / Scala, Google Cloud, Docker",
          "Go, AWS, Kubernetes",
          "Kotlin, C/C++, Swift, Ruby",
          "Python, C/C++, Java / Scala, AWS, Kubernetes, Docker",
          "Swift, Java / Scala",
          "AWS, Terraform, Scala Spark, ",
          "Python, SQL, AWS, Docker, Spark, Airflow",
          "Pl/sql",
          "Python, Kotlin, AWS, Docker",
          "Javascript / Typescript, Java / Scala, SQL, Docker, Groovy",
          "Python, Javascript / Typescript, SQL, AWS, Google Cloud, Kubernetes, Docker",
          "C/C++, .NET, Go, Docker",
          "Python, Squish",
          "Kotlin, Javascript / Typescript, Docker",
          "Javascript / Typescript, Java / Scala, Google Cloud, Docker",
          "Ruby, Go, Perl",
          "Java / Scala, Go, AWS, Google Cloud, Kubernetes, Docker",
          "Javascript / Typescript, Go, AWS, Google Cloud, Docker",
          "Python, SQL, Perl, AWS, Google Cloud, Docker",
          "Python, Google Cloud",
          "Python, Javascript / Typescript, SQL, Perl, Docker",
          "C/C++, Kubernetes, Docker",
          "Python, Java / Scala, AWS",
          "Erlang",
          "Python, Javascript / Typescript, Java / Scala, Go, AWS, Kubernetes, Docker",
          "Python, Kotlin, Java / Scala, SQL, AWS, Google Cloud, Kubernetes, Docker",
          "Python, C/C++, Javascript / Typescript, SQL",
          "Python, Ruby, Java / Scala, Google Cloud, Kubernetes, Docker",
          "Python, C/C++, Javascript / Typescript, Java / Scala, SQL, Kubernetes",
          "C/C++, SQL, AWS, Kubernetes, Docker",
          "Python, Javascript / Typescript, Apex",
          "Python, C/C++, Javascript / Typescript, Java / Scala",
          "PHP, SQL, Perl",
          "Javascript / Typescript, .NET, SQL, Go, Kubernetes, Docker",
          "MongoDB",
          "Kotlin, Javascript / Typescript, Java / Scala, Kubernetes, Docker",
          "Ruby, Java / Scala, Go, AWS, Kubernetes, Docker",
          "Linux",
          "Python, Kotlin, Javascript / Typescript, Java / Scala, SQL, Kubernetes, Docker",
          "PHP, SQL, Go, Docker, Postgres",
          "Kotlin, C/C++, Java / Scala",
          "Elixir",
          "PHP, Javascript / Typescript, Java / Scala, Docker",
          "Javascript / Typescript, Kubernetes",
          "Python, Java / Scala, Docker",
          "Javascript / Typescript, Java / Scala, AWS",
          "Javascript / Typescript, Ruby, SQL, Google Cloud, Kubernetes, Docker",
          "Python, Kotlin, Java / Scala, Google Cloud, Kubernetes, Docker",
          "Python, Javascript / Typescript, .NET, Java / Scala, Kubernetes, Docker",
          "Python, Go, AWS, Docker",
          "Javascript / Typescript, Google Cloud",
          "PHP, SQL, Kubernetes, Docker",
          "Javascript / Typescript, Ruby, Kubernetes, Docker",
          "Python, Javascript / Typescript, Azure",
          "NodeJS",
          "Javascript / Typescript, .NET, SQL, AWS, Kubernetes, Docker",
          "C/C++, SQL, VBA",
          "PHP, Javascript / Typescript, Java / Scala, SQL, AWS, Docker",
          "Python, Kotlin, C/C++, Java / Scala",
          "Kotlin, PHP, Javascript / Typescript, Java / Scala",
          "PHP, SQL, SAP / ABAP, Delphi",
          "Swift, Google Cloud",
          "Java / Scala, Google Cloud, Kubernetes, Docker",
          "PHP, Javascript / Typescript, .NET, SQL, Azure, Kubernetes, Docker, React, Angular2+",
          "C/C++, Javascript / Typescript, .NET, SQL, Azure",
          "Javascript / Typescript, .NET, Kubernetes, Docker",
          "Python, Javascript / Typescript, Google Cloud",
          "Javascript / Typescript, Angular",
          "PHP, SQL, AWS, Docker",
          "Python, Javascript / Typescript, SQL, AWS, Docker, React, Tailwindcss",
          "Python, R, SQL, SAP / ABAP, AWS, Kubernetes, Docker",
          "Python, Ruby, Java / Scala, Go, Rust, AWS, Kubernetes, Docker, Terraform, helm, packer",
          "Kotlin, SQL, AWS, Kubernetes, Docker",
          "Python, R, Go",
          "C/C++, PHP, SQL",
          "Python, AWS, Kubernetes, Docker, terraform, ansible"
         ],
         "xaxis": "x",
         "y": [
          201,
          37,
          31,
          16,
          15,
          13,
          13,
          13,
          12,
          11,
          10,
          9,
          9,
          9,
          9,
          8,
          8,
          8,
          7,
          7,
          7,
          7,
          7,
          7,
          7,
          6,
          6,
          6,
          6,
          6,
          5,
          5,
          5,
          5,
          5,
          5,
          5,
          5,
          5,
          5,
          5,
          5,
          5,
          4,
          4,
          4,
          4,
          4,
          4,
          4,
          4,
          4,
          4,
          4,
          3,
          3,
          3,
          3,
          3,
          3,
          3,
          3,
          3,
          3,
          3,
          3,
          3,
          3,
          3,
          3,
          3,
          3,
          3,
          3,
          3,
          3,
          3,
          3,
          2,
          2,
          2,
          2,
          2,
          2,
          2,
          2,
          2,
          2,
          2,
          2,
          2,
          2,
          2,
          2,
          2,
          2,
          2,
          2,
          2,
          2,
          2,
          2,
          2,
          2,
          2,
          2,
          2,
          2,
          2,
          2,
          2,
          2,
          2,
          2,
          2,
          2,
          2,
          2,
          2,
          2,
          2,
          2,
          2,
          2,
          2,
          2,
          2,
          2,
          2,
          2,
          2,
          2,
          2,
          2,
          2,
          2,
          2,
          2,
          2,
          2,
          2,
          2,
          2,
          2,
          2,
          2,
          2,
          2,
          2,
          2,
          2,
          2,
          2,
          2,
          2,
          1,
          1,
          1,
          1,
          1,
          1,
          1,
          1,
          1,
          1,
          1,
          1,
          1,
          1,
          1,
          1,
          1,
          1,
          1,
          1,
          1,
          1,
          1,
          1,
          1,
          1,
          1,
          1,
          1,
          1,
          1,
          1,
          1,
          1,
          1,
          1,
          1,
          1,
          1,
          1,
          1,
          1,
          1,
          1,
          1,
          1,
          1,
          1,
          1,
          1,
          1,
          1,
          1,
          1,
          1,
          1,
          1,
          1,
          1,
          1,
          1,
          1,
          1,
          1,
          1,
          1,
          1,
          1,
          1,
          1,
          1,
          1,
          1,
          1,
          1,
          1,
          1,
          1,
          1,
          1,
          1,
          1,
          1,
          1,
          1,
          1,
          1,
          1,
          1,
          1,
          1,
          1,
          1,
          1,
          1,
          1,
          1,
          1,
          1,
          1,
          1,
          1,
          1,
          1,
          1,
          1,
          1,
          1,
          1,
          1,
          1,
          1,
          1,
          1,
          1,
          1,
          1,
          1,
          1,
          1,
          1,
          1,
          1,
          1,
          1,
          1,
          1,
          1,
          1,
          1,
          1,
          1,
          1,
          1,
          1,
          1,
          1,
          1,
          1,
          1,
          1,
          1,
          1,
          1,
          1,
          1,
          1,
          1,
          1,
          1,
          1,
          1,
          1,
          1,
          1,
          1,
          1,
          1,
          1,
          1,
          1,
          1,
          1,
          1,
          1,
          1,
          1,
          1,
          1,
          1,
          1,
          1,
          1,
          1,
          1,
          1,
          1,
          1,
          1,
          1,
          1,
          1,
          1,
          1,
          1,
          1,
          1,
          1,
          1,
          1,
          1,
          1,
          1,
          1,
          1,
          1,
          1,
          1,
          1,
          1,
          1,
          1,
          1,
          1,
          1,
          1,
          1,
          1,
          1,
          1,
          1,
          1,
          1,
          1,
          1,
          1,
          1,
          1,
          1,
          1,
          1,
          1,
          1,
          1,
          1,
          1,
          1,
          1,
          1,
          1,
          1,
          1,
          1,
          1,
          1,
          1,
          1,
          1,
          1,
          1,
          1,
          1,
          1,
          1,
          1,
          1,
          1,
          1,
          1,
          1,
          1,
          1,
          1,
          1,
          1,
          1,
          1,
          1,
          1,
          1,
          1,
          1,
          1,
          1,
          1,
          1,
          1,
          1,
          1,
          1,
          1,
          1,
          1,
          1,
          1,
          1,
          1,
          1,
          1,
          1,
          1,
          1,
          1,
          1,
          1,
          1,
          1,
          1,
          1,
          1,
          1,
          1,
          1,
          1,
          1,
          1,
          1,
          1,
          1,
          1,
          1,
          1,
          1,
          1,
          1,
          1,
          1,
          1,
          1,
          1,
          1,
          1,
          1,
          1,
          1,
          1,
          1,
          1,
          1,
          1,
          1,
          1,
          1,
          1,
          1,
          1,
          1,
          1,
          1,
          1,
          1,
          1,
          1,
          1,
          1,
          1,
          1,
          1,
          1,
          1,
          1,
          1,
          1,
          1,
          1,
          1,
          1,
          1,
          1,
          1,
          1,
          1,
          1,
          1,
          1,
          1,
          1,
          1,
          1,
          1,
          1,
          1,
          1,
          1,
          1,
          1,
          1,
          1,
          1,
          1,
          1,
          1,
          1,
          1,
          1,
          1,
          1,
          1,
          1,
          1,
          1,
          1,
          1,
          1,
          1,
          1,
          1,
          1,
          1,
          1,
          1,
          1,
          1,
          1,
          1,
          1,
          1,
          1,
          1,
          1,
          1,
          1,
          1,
          1,
          1,
          1,
          1
         ],
         "yaxis": "y"
        }
       ],
       "layout": {
        "barmode": "relative",
        "coloraxis": {
         "colorbar": {
          "title": {
           "text": "Popularity"
          }
         },
         "colorscale": [
          [
           0,
           "rgb(103,0,31)"
          ],
          [
           0.1,
           "rgb(178,24,43)"
          ],
          [
           0.2,
           "rgb(214,96,77)"
          ],
          [
           0.3,
           "rgb(244,165,130)"
          ],
          [
           0.4,
           "rgb(253,219,199)"
          ],
          [
           0.5,
           "rgb(247,247,247)"
          ],
          [
           0.6,
           "rgb(209,229,240)"
          ],
          [
           0.7,
           "rgb(146,197,222)"
          ],
          [
           0.8,
           "rgb(67,147,195)"
          ],
          [
           0.9,
           "rgb(33,102,172)"
          ],
          [
           1,
           "rgb(5,48,97)"
          ]
         ]
        },
        "height": 1200,
        "legend": {
         "tracegroupgap": 0
        },
        "template": {
         "data": {
          "bar": [
           {
            "error_x": {
             "color": "#2a3f5f"
            },
            "error_y": {
             "color": "#2a3f5f"
            },
            "marker": {
             "line": {
              "color": "#E5ECF6",
              "width": 0.5
             }
            },
            "type": "bar"
           }
          ],
          "barpolar": [
           {
            "marker": {
             "line": {
              "color": "#E5ECF6",
              "width": 0.5
             }
            },
            "type": "barpolar"
           }
          ],
          "carpet": [
           {
            "aaxis": {
             "endlinecolor": "#2a3f5f",
             "gridcolor": "white",
             "linecolor": "white",
             "minorgridcolor": "white",
             "startlinecolor": "#2a3f5f"
            },
            "baxis": {
             "endlinecolor": "#2a3f5f",
             "gridcolor": "white",
             "linecolor": "white",
             "minorgridcolor": "white",
             "startlinecolor": "#2a3f5f"
            },
            "type": "carpet"
           }
          ],
          "choropleth": [
           {
            "colorbar": {
             "outlinewidth": 0,
             "ticks": ""
            },
            "type": "choropleth"
           }
          ],
          "contour": [
           {
            "colorbar": {
             "outlinewidth": 0,
             "ticks": ""
            },
            "colorscale": [
             [
              0,
              "#0d0887"
             ],
             [
              0.1111111111111111,
              "#46039f"
             ],
             [
              0.2222222222222222,
              "#7201a8"
             ],
             [
              0.3333333333333333,
              "#9c179e"
             ],
             [
              0.4444444444444444,
              "#bd3786"
             ],
             [
              0.5555555555555556,
              "#d8576b"
             ],
             [
              0.6666666666666666,
              "#ed7953"
             ],
             [
              0.7777777777777778,
              "#fb9f3a"
             ],
             [
              0.8888888888888888,
              "#fdca26"
             ],
             [
              1,
              "#f0f921"
             ]
            ],
            "type": "contour"
           }
          ],
          "contourcarpet": [
           {
            "colorbar": {
             "outlinewidth": 0,
             "ticks": ""
            },
            "type": "contourcarpet"
           }
          ],
          "heatmap": [
           {
            "colorbar": {
             "outlinewidth": 0,
             "ticks": ""
            },
            "colorscale": [
             [
              0,
              "#0d0887"
             ],
             [
              0.1111111111111111,
              "#46039f"
             ],
             [
              0.2222222222222222,
              "#7201a8"
             ],
             [
              0.3333333333333333,
              "#9c179e"
             ],
             [
              0.4444444444444444,
              "#bd3786"
             ],
             [
              0.5555555555555556,
              "#d8576b"
             ],
             [
              0.6666666666666666,
              "#ed7953"
             ],
             [
              0.7777777777777778,
              "#fb9f3a"
             ],
             [
              0.8888888888888888,
              "#fdca26"
             ],
             [
              1,
              "#f0f921"
             ]
            ],
            "type": "heatmap"
           }
          ],
          "heatmapgl": [
           {
            "colorbar": {
             "outlinewidth": 0,
             "ticks": ""
            },
            "colorscale": [
             [
              0,
              "#0d0887"
             ],
             [
              0.1111111111111111,
              "#46039f"
             ],
             [
              0.2222222222222222,
              "#7201a8"
             ],
             [
              0.3333333333333333,
              "#9c179e"
             ],
             [
              0.4444444444444444,
              "#bd3786"
             ],
             [
              0.5555555555555556,
              "#d8576b"
             ],
             [
              0.6666666666666666,
              "#ed7953"
             ],
             [
              0.7777777777777778,
              "#fb9f3a"
             ],
             [
              0.8888888888888888,
              "#fdca26"
             ],
             [
              1,
              "#f0f921"
             ]
            ],
            "type": "heatmapgl"
           }
          ],
          "histogram": [
           {
            "marker": {
             "colorbar": {
              "outlinewidth": 0,
              "ticks": ""
             }
            },
            "type": "histogram"
           }
          ],
          "histogram2d": [
           {
            "colorbar": {
             "outlinewidth": 0,
             "ticks": ""
            },
            "colorscale": [
             [
              0,
              "#0d0887"
             ],
             [
              0.1111111111111111,
              "#46039f"
             ],
             [
              0.2222222222222222,
              "#7201a8"
             ],
             [
              0.3333333333333333,
              "#9c179e"
             ],
             [
              0.4444444444444444,
              "#bd3786"
             ],
             [
              0.5555555555555556,
              "#d8576b"
             ],
             [
              0.6666666666666666,
              "#ed7953"
             ],
             [
              0.7777777777777778,
              "#fb9f3a"
             ],
             [
              0.8888888888888888,
              "#fdca26"
             ],
             [
              1,
              "#f0f921"
             ]
            ],
            "type": "histogram2d"
           }
          ],
          "histogram2dcontour": [
           {
            "colorbar": {
             "outlinewidth": 0,
             "ticks": ""
            },
            "colorscale": [
             [
              0,
              "#0d0887"
             ],
             [
              0.1111111111111111,
              "#46039f"
             ],
             [
              0.2222222222222222,
              "#7201a8"
             ],
             [
              0.3333333333333333,
              "#9c179e"
             ],
             [
              0.4444444444444444,
              "#bd3786"
             ],
             [
              0.5555555555555556,
              "#d8576b"
             ],
             [
              0.6666666666666666,
              "#ed7953"
             ],
             [
              0.7777777777777778,
              "#fb9f3a"
             ],
             [
              0.8888888888888888,
              "#fdca26"
             ],
             [
              1,
              "#f0f921"
             ]
            ],
            "type": "histogram2dcontour"
           }
          ],
          "mesh3d": [
           {
            "colorbar": {
             "outlinewidth": 0,
             "ticks": ""
            },
            "type": "mesh3d"
           }
          ],
          "parcoords": [
           {
            "line": {
             "colorbar": {
              "outlinewidth": 0,
              "ticks": ""
             }
            },
            "type": "parcoords"
           }
          ],
          "pie": [
           {
            "automargin": true,
            "type": "pie"
           }
          ],
          "scatter": [
           {
            "marker": {
             "colorbar": {
              "outlinewidth": 0,
              "ticks": ""
             }
            },
            "type": "scatter"
           }
          ],
          "scatter3d": [
           {
            "line": {
             "colorbar": {
              "outlinewidth": 0,
              "ticks": ""
             }
            },
            "marker": {
             "colorbar": {
              "outlinewidth": 0,
              "ticks": ""
             }
            },
            "type": "scatter3d"
           }
          ],
          "scattercarpet": [
           {
            "marker": {
             "colorbar": {
              "outlinewidth": 0,
              "ticks": ""
             }
            },
            "type": "scattercarpet"
           }
          ],
          "scattergeo": [
           {
            "marker": {
             "colorbar": {
              "outlinewidth": 0,
              "ticks": ""
             }
            },
            "type": "scattergeo"
           }
          ],
          "scattergl": [
           {
            "marker": {
             "colorbar": {
              "outlinewidth": 0,
              "ticks": ""
             }
            },
            "type": "scattergl"
           }
          ],
          "scattermapbox": [
           {
            "marker": {
             "colorbar": {
              "outlinewidth": 0,
              "ticks": ""
             }
            },
            "type": "scattermapbox"
           }
          ],
          "scatterpolar": [
           {
            "marker": {
             "colorbar": {
              "outlinewidth": 0,
              "ticks": ""
             }
            },
            "type": "scatterpolar"
           }
          ],
          "scatterpolargl": [
           {
            "marker": {
             "colorbar": {
              "outlinewidth": 0,
              "ticks": ""
             }
            },
            "type": "scatterpolargl"
           }
          ],
          "scatterternary": [
           {
            "marker": {
             "colorbar": {
              "outlinewidth": 0,
              "ticks": ""
             }
            },
            "type": "scatterternary"
           }
          ],
          "surface": [
           {
            "colorbar": {
             "outlinewidth": 0,
             "ticks": ""
            },
            "colorscale": [
             [
              0,
              "#0d0887"
             ],
             [
              0.1111111111111111,
              "#46039f"
             ],
             [
              0.2222222222222222,
              "#7201a8"
             ],
             [
              0.3333333333333333,
              "#9c179e"
             ],
             [
              0.4444444444444444,
              "#bd3786"
             ],
             [
              0.5555555555555556,
              "#d8576b"
             ],
             [
              0.6666666666666666,
              "#ed7953"
             ],
             [
              0.7777777777777778,
              "#fb9f3a"
             ],
             [
              0.8888888888888888,
              "#fdca26"
             ],
             [
              1,
              "#f0f921"
             ]
            ],
            "type": "surface"
           }
          ],
          "table": [
           {
            "cells": {
             "fill": {
              "color": "#EBF0F8"
             },
             "line": {
              "color": "white"
             }
            },
            "header": {
             "fill": {
              "color": "#C8D4E3"
             },
             "line": {
              "color": "white"
             }
            },
            "type": "table"
           }
          ]
         },
         "layout": {
          "annotationdefaults": {
           "arrowcolor": "#2a3f5f",
           "arrowhead": 0,
           "arrowwidth": 1
          },
          "coloraxis": {
           "colorbar": {
            "outlinewidth": 0,
            "ticks": ""
           }
          },
          "colorscale": {
           "diverging": [
            [
             0,
             "#8e0152"
            ],
            [
             0.1,
             "#c51b7d"
            ],
            [
             0.2,
             "#de77ae"
            ],
            [
             0.3,
             "#f1b6da"
            ],
            [
             0.4,
             "#fde0ef"
            ],
            [
             0.5,
             "#f7f7f7"
            ],
            [
             0.6,
             "#e6f5d0"
            ],
            [
             0.7,
             "#b8e186"
            ],
            [
             0.8,
             "#7fbc41"
            ],
            [
             0.9,
             "#4d9221"
            ],
            [
             1,
             "#276419"
            ]
           ],
           "sequential": [
            [
             0,
             "#0d0887"
            ],
            [
             0.1111111111111111,
             "#46039f"
            ],
            [
             0.2222222222222222,
             "#7201a8"
            ],
            [
             0.3333333333333333,
             "#9c179e"
            ],
            [
             0.4444444444444444,
             "#bd3786"
            ],
            [
             0.5555555555555556,
             "#d8576b"
            ],
            [
             0.6666666666666666,
             "#ed7953"
            ],
            [
             0.7777777777777778,
             "#fb9f3a"
            ],
            [
             0.8888888888888888,
             "#fdca26"
            ],
            [
             1,
             "#f0f921"
            ]
           ],
           "sequentialminus": [
            [
             0,
             "#0d0887"
            ],
            [
             0.1111111111111111,
             "#46039f"
            ],
            [
             0.2222222222222222,
             "#7201a8"
            ],
            [
             0.3333333333333333,
             "#9c179e"
            ],
            [
             0.4444444444444444,
             "#bd3786"
            ],
            [
             0.5555555555555556,
             "#d8576b"
            ],
            [
             0.6666666666666666,
             "#ed7953"
            ],
            [
             0.7777777777777778,
             "#fb9f3a"
            ],
            [
             0.8888888888888888,
             "#fdca26"
            ],
            [
             1,
             "#f0f921"
            ]
           ]
          },
          "colorway": [
           "#636efa",
           "#EF553B",
           "#00cc96",
           "#ab63fa",
           "#FFA15A",
           "#19d3f3",
           "#FF6692",
           "#B6E880",
           "#FF97FF",
           "#FECB52"
          ],
          "font": {
           "color": "#2a3f5f"
          },
          "geo": {
           "bgcolor": "white",
           "lakecolor": "white",
           "landcolor": "#E5ECF6",
           "showlakes": true,
           "showland": true,
           "subunitcolor": "white"
          },
          "hoverlabel": {
           "align": "left"
          },
          "hovermode": "closest",
          "mapbox": {
           "style": "light"
          },
          "paper_bgcolor": "white",
          "plot_bgcolor": "#E5ECF6",
          "polar": {
           "angularaxis": {
            "gridcolor": "white",
            "linecolor": "white",
            "ticks": ""
           },
           "bgcolor": "#E5ECF6",
           "radialaxis": {
            "gridcolor": "white",
            "linecolor": "white",
            "ticks": ""
           }
          },
          "scene": {
           "xaxis": {
            "backgroundcolor": "#E5ECF6",
            "gridcolor": "white",
            "gridwidth": 2,
            "linecolor": "white",
            "showbackground": true,
            "ticks": "",
            "zerolinecolor": "white"
           },
           "yaxis": {
            "backgroundcolor": "#E5ECF6",
            "gridcolor": "white",
            "gridwidth": 2,
            "linecolor": "white",
            "showbackground": true,
            "ticks": "",
            "zerolinecolor": "white"
           },
           "zaxis": {
            "backgroundcolor": "#E5ECF6",
            "gridcolor": "white",
            "gridwidth": 2,
            "linecolor": "white",
            "showbackground": true,
            "ticks": "",
            "zerolinecolor": "white"
           }
          },
          "shapedefaults": {
           "line": {
            "color": "#2a3f5f"
           }
          },
          "ternary": {
           "aaxis": {
            "gridcolor": "white",
            "linecolor": "white",
            "ticks": ""
           },
           "baxis": {
            "gridcolor": "white",
            "linecolor": "white",
            "ticks": ""
           },
           "bgcolor": "#E5ECF6",
           "caxis": {
            "gridcolor": "white",
            "linecolor": "white",
            "ticks": ""
           }
          },
          "title": {
           "x": 0.05
          },
          "xaxis": {
           "automargin": true,
           "gridcolor": "white",
           "linecolor": "white",
           "ticks": "",
           "title": {
            "standoff": 15
           },
           "zerolinecolor": "white",
           "zerolinewidth": 2
          },
          "yaxis": {
           "automargin": true,
           "gridcolor": "white",
           "linecolor": "white",
           "ticks": "",
           "title": {
            "standoff": 15
           },
           "zerolinecolor": "white",
           "zerolinewidth": 2
          }
         }
        },
        "title": {
         "text": "Popular Programming Languages throuh 2020 "
        },
        "xaxis": {
         "anchor": "y",
         "domain": [
          0,
          1
         ],
         "tickangle": 45,
         "title": {
          "text": "x"
         }
        },
        "yaxis": {
         "anchor": "x",
         "domain": [
          0,
          1
         ],
         "title": {
          "text": "Popularity"
         }
        }
       }
      },
      "text/html": [
       "<div>\n",
       "        \n",
       "        \n",
       "            <div id=\"3f663841-92b9-4e16-a46f-07f9de7c2e55\" class=\"plotly-graph-div\" style=\"height:1200px; width:100%;\"></div>\n",
       "            <script type=\"text/javascript\">\n",
       "                require([\"plotly\"], function(Plotly) {\n",
       "                    window.PLOTLYENV=window.PLOTLYENV || {};\n",
       "                    \n",
       "                if (document.getElementById(\"3f663841-92b9-4e16-a46f-07f9de7c2e55\")) {\n",
       "                    Plotly.newPlot(\n",
       "                        '3f663841-92b9-4e16-a46f-07f9de7c2e55',\n",
       "                        [{\"alignmentgroup\": \"True\", \"hovertemplate\": \"x=%{x}<br>Popularity=%{marker.color}<extra></extra>\", \"legendgroup\": \"\", \"marker\": {\"color\": [201, 37, 31, 16, 15, 13, 13, 13, 12, 11, 10, 9, 9, 9, 9, 8, 8, 8, 7, 7, 7, 7, 7, 7, 7, 6, 6, 6, 6, 6, 5, 5, 5, 5, 5, 5, 5, 5, 5, 5, 5, 5, 5, 4, 4, 4, 4, 4, 4, 4, 4, 4, 4, 4, 3, 3, 3, 3, 3, 3, 3, 3, 3, 3, 3, 3, 3, 3, 3, 3, 3, 3, 3, 3, 3, 3, 3, 3, 2, 2, 2, 2, 2, 2, 2, 2, 2, 2, 2, 2, 2, 2, 2, 2, 2, 2, 2, 2, 2, 2, 2, 2, 2, 2, 2, 2, 2, 2, 2, 2, 2, 2, 2, 2, 2, 2, 2, 2, 2, 2, 2, 2, 2, 2, 2, 2, 2, 2, 2, 2, 2, 2, 2, 2, 2, 2, 2, 2, 2, 2, 2, 2, 2, 2, 2, 2, 2, 2, 2, 2, 2, 2, 2, 2, 2, 1, 1, 1, 1, 1, 1, 1, 1, 1, 1, 1, 1, 1, 1, 1, 1, 1, 1, 1, 1, 1, 1, 1, 1, 1, 1, 1, 1, 1, 1, 1, 1, 1, 1, 1, 1, 1, 1, 1, 1, 1, 1, 1, 1, 1, 1, 1, 1, 1, 1, 1, 1, 1, 1, 1, 1, 1, 1, 1, 1, 1, 1, 1, 1, 1, 1, 1, 1, 1, 1, 1, 1, 1, 1, 1, 1, 1, 1, 1, 1, 1, 1, 1, 1, 1, 1, 1, 1, 1, 1, 1, 1, 1, 1, 1, 1, 1, 1, 1, 1, 1, 1, 1, 1, 1, 1, 1, 1, 1, 1, 1, 1, 1, 1, 1, 1, 1, 1, 1, 1, 1, 1, 1, 1, 1, 1, 1, 1, 1, 1, 1, 1, 1, 1, 1, 1, 1, 1, 1, 1, 1, 1, 1, 1, 1, 1, 1, 1, 1, 1, 1, 1, 1, 1, 1, 1, 1, 1, 1, 1, 1, 1, 1, 1, 1, 1, 1, 1, 1, 1, 1, 1, 1, 1, 1, 1, 1, 1, 1, 1, 1, 1, 1, 1, 1, 1, 1, 1, 1, 1, 1, 1, 1, 1, 1, 1, 1, 1, 1, 1, 1, 1, 1, 1, 1, 1, 1, 1, 1, 1, 1, 1, 1, 1, 1, 1, 1, 1, 1, 1, 1, 1, 1, 1, 1, 1, 1, 1, 1, 1, 1, 1, 1, 1, 1, 1, 1, 1, 1, 1, 1, 1, 1, 1, 1, 1, 1, 1, 1, 1, 1, 1, 1, 1, 1, 1, 1, 1, 1, 1, 1, 1, 1, 1, 1, 1, 1, 1, 1, 1, 1, 1, 1, 1, 1, 1, 1, 1, 1, 1, 1, 1, 1, 1, 1, 1, 1, 1, 1, 1, 1, 1, 1, 1, 1, 1, 1, 1, 1, 1, 1, 1, 1, 1, 1, 1, 1, 1, 1, 1, 1, 1, 1, 1, 1, 1, 1, 1, 1, 1, 1, 1, 1, 1, 1, 1, 1, 1, 1, 1, 1, 1, 1, 1, 1, 1, 1, 1, 1, 1, 1, 1, 1, 1, 1, 1, 1, 1, 1, 1, 1, 1, 1, 1, 1, 1, 1, 1, 1, 1, 1, 1, 1, 1, 1, 1, 1, 1, 1, 1, 1, 1, 1, 1, 1, 1, 1, 1, 1, 1, 1, 1, 1, 1, 1, 1, 1, 1, 1, 1, 1, 1, 1, 1, 1, 1, 1, 1, 1, 1, 1, 1, 1, 1, 1, 1, 1], \"coloraxis\": \"coloraxis\"}, \"name\": \"\", \"offsetgroup\": \"\", \"orientation\": \"v\", \"showlegend\": false, \"textposition\": \"auto\", \"type\": \"bar\", \"x\": [\"Javascript / Typescript\", \"Python\", \"SQL\", \"AWS, Docker\", \"Kotlin\", \"Swift\", \"C/C++\", \"Python, SQL\", \"Javascript / Typescript, SQL, AWS, Docker\", \"Python, C/C++\", \"Kotlin, Java / Scala\", \"PHP\", \".NET\", \"Java / Scala\", \"Python, C/C++, Docker\", \"SQL, AWS, Docker\", \"Python, SQL, AWS, Kubernetes, Docker\", \"Java / Scala, SQL\", \"Python, Javascript / Typescript\", \"Docker\", \"AWS\", \"Javascript / Typescript, SQL\", \"Kubernetes, Docker\", \"Javascript / Typescript, AWS, Docker\", \"Javascript / Typescript, SQL, Docker\", \"Javascript / Typescript, Java / Scala\", \"Python, Docker\", \"Python, R, SQL\", \"Python, Go, AWS, Kubernetes, Docker\", \"Javascript / Typescript, Docker\", \"Python, SQL, Docker\", \"PHP, Javascript / Typescript\", \"PHP, Javascript / Typescript, SQL\", \"Kotlin, SQL, Kubernetes, Docker\", \"PHP, Javascript / Typescript, SQL, Docker\", \"Python, SQL, AWS, Docker\", \"Javascript / Typescript, AWS\", \"Python, Javascript / Typescript, AWS, Docker\", \"AWS, Kubernetes, Docker\", \"Python, Java / Scala\", \"Javascript / Typescript, Java / Scala, SQL\", \"Javascript / Typescript, .NET, SQL\", \"Python, Javascript / Typescript, SQL, AWS, Docker\", \"R, SQL, AWS, Docker\", \"Python, AWS, Docker\", \"SQL, AWS, Kubernetes, Docker\", \"Javascript / Typescript, Go\", \"SAP / ABAP\", \"R, SQL\", \"Python, SQL, Google Cloud, Kubernetes, Docker\", \".NET, SQL\", \"Python, Kotlin, Java / Scala, SQL, AWS, Kubernetes, Docker\", \"Python, AWS, Kubernetes, Docker\", \"Javascript / Typescript, AWS, Kubernetes, Docker\", \"Python, SQL, AWS, Google Cloud, Kubernetes, Docker\", \"Java / Scala, AWS, Kubernetes, Docker\", \"Javascript / Typescript, SQL, AWS, Kubernetes, Docker\", \"Javascript / Typescript, Kubernetes, Docker\", \"Java / Scala, SQL, AWS, Kubernetes, Docker\", \"Python, SQL, AWS\", \"Javascript / Typescript, Google Cloud, Kubernetes, Docker\", \"SQL, AWS\", \"SQL, Kubernetes, Docker\", \"Python, AWS\", \"Java / Scala, SQL, Kubernetes, Docker\", \"Python, Java / Scala, SQL, AWS\", \"Python, SQL, Azure\", \"Python, SQL, Go, AWS, Kubernetes, Docker\", \"Python, AWS, Google Cloud, Kubernetes, Docker\", \"Python, Javascript / Typescript, SQL, Docker\", \"Kotlin, Javascript / Typescript\", \"Python, Java / Scala, SQL, AWS, Kubernetes, Docker\", \"Kotlin, Java / Scala, AWS, Kubernetes, Docker\", \"C/C++, .NET, SQL\", \"Python, PHP, Javascript / Typescript, SQL\", \"Javascript / Typescript, .NET, SQL, Azure, Kubernetes, Docker\", \"Python, SQL, Google Cloud\", \"Java / Scala, Kubernetes, Docker\", \"Python, Javascript / Typescript, Docker\", \"Javascript / Typescript, .NET\", \"Javascript / Typescript, AWS, Kubernetes\", \"Go, AWS, Kubernetes, Docker\", \"PHP, Go\", \"PHP, Java / Scala\", \"Python, Javascript / Typescript, SQL, Google Cloud, Kubernetes, Docker\", \"PHP, SQL\", \"Javascript / Typescript, .NET, Docker\", \"SQL, Go, AWS, Docker\", \"SQL, Azure\", \"SQL, AWS, Google Cloud, Docker\", \"Javascript / Typescript, Java / Scala, SQL, AWS, Docker\", \"Python, SQL, Kubernetes, Docker\", \"Python, .NET, Azure, Kubernetes, Docker\", \"Python, R, SQL, Google Cloud\", \"SQL, Go, AWS, Kubernetes, Docker\", \"PHP, SQL, Go, AWS, Docker\", \"Python, Google Cloud, Kubernetes, Docker\", \"Python, SQL, SAP / ABAP, AWS\", \"Python, Kotlin, Javascript / Typescript, SQL, AWS, Docker\", \"SQL, Google Cloud, Docker\", \"Python, SQL, AWS, Google Cloud\", \"Python, Kotlin, Javascript / Typescript, SQL, Docker\", \"Java / Scala, AWS, Azure, Kubernetes, Docker\", \"Python, Java / Scala, SQL, AWS, Docker\", \"Java / Scala, SQL, Go, Google Cloud, Kubernetes, Docker\", \"R, SQL, AWS\", \"Python, SQL, Google Cloud, Docker\", \"Python, SQL, AWS, Google Cloud, Docker\", \"Python, Swift, Java / Scala\", \"Python, Go\", \"Python, Javascript / Typescript, SQL, AWS, Kubernetes, Docker\", \"SQL, SAP / ABAP\", \"Kotlin, Javascript / Typescript, AWS, Kubernetes, Docker\", \"SQL, Google Cloud, Kubernetes, Docker\", \"Google Cloud, Docker\", \"Javascript / Typescript, .NET, SQL, Docker\", \"Java / Scala, SQL, AWS\", \"Javascript / Typescript, SAP / ABAP\", \"Java / Scala, SQL, Docker\", \"Python, C/C++, AWS, Kubernetes, Docker\", \"Go\", \"Python, Javascript / Typescript, SQL, Go, AWS, Google Cloud, Kubernetes, Docker\", \"Ruby, Java / Scala, AWS, Kubernetes, Docker\", \"Google Cloud\", \"Python, Javascript / Typescript, Java / Scala, SQL, AWS, Docker\", \"Javascript / Typescript, Java / Scala, AWS, Docker\", \"Python, C/C++, .NET\", \"Javascript / Typescript, SQL, Go, Docker\", \"Ruby, SQL\", \"Ruby\", \"Go, Google Cloud, Kubernetes, Docker\", \"Javascript / Typescript, Ruby, AWS, Docker\", \"Kotlin, Java / Scala, SQL, AWS, Docker\", \"Python, C/C++, Go\", \"PHP, Javascript / Typescript, SQL, Go, AWS\", \"Python, C/C++, SQL\", \"Python, Java / Scala, AWS, Docker\", \"Python, Java / Scala, SQL, AWS, Google Cloud, Kubernetes, Docker\", \"Python, .NET, Azure\", \"Kotlin, Java / Scala, SQL\", \"Kotlin, AWS, Kubernetes, Docker\", \"Python, Java / Scala, SQL, Go, AWS, Google Cloud, Kubernetes, Docker\", \"Python, C/C++, SQL, AWS\", \"Python, Ruby\", \"Python, Javascript / Typescript, Go\", \"Javascript / Typescript, .NET, Azure, Kubernetes, Docker\", \"Kotlin, Java / Scala, AWS\", \"Python, SQL, AWS, Azure, Kubernetes, Docker\", \"Javascript / Typescript, .NET, SQL, Azure, Docker\", \"Javascript / Typescript, Ruby, SQL\", \"Swift, Objective-C\", \"Javascript / Typescript, Google Cloud, Docker\", \"PHP, Javascript / Typescript, SQL, Google Cloud, Docker\", \"Kotlin, Java / Scala, SQL, AWS, Kubernetes, Docker\", \"Python, SQL, AWS, Azure\", \"SQL, Docker\", \"Javascript / Typescript, Java / Scala, Flutter\", \"Python, Java / Scala, SQL, Google Cloud\", \"Javascript / Typescript, Ruby, Elixir\", \"R, AWS\", \"Go, Rust, Kubernetes\", \"Python, Java / Scala, R, SQL, Google Cloud\", \"Python, Javascript / Typescript, SQL, Google Cloud, Docker\", \"Kotlin, Javascript / Typescript, AWS\", \"Javascript / Typescript, Java / Scala, Go, Rust, AWS, Kubernetes, Docker\", \"PHP, Javascript / Typescript, SQL, Go, Google Cloud, Kubernetes, Docker\", \"Kotlin, Java / Scala, SQL, AWS, Google Cloud, Docker\", \"Python, C/C++, Javascript / Typescript, Java / Scala, SQL, Kubernetes, Docker\", \"PHP, Javascript / Typescript, AWS, Docker\", \"Java / Scala, AWS, Google Cloud, Kubernetes, Docker\", \"Python, C/C++, Go, AWS, Docker\", \"Python, Azure\", \"Google Cloud, Kubernetes, Docker, Terraform, Bash\", \"Javascript / Typescript, R, SQL, Google Cloud\", \"Python, C/C++, Docker, Tensorflow, PyTorch\", \"Python, C/C++, Javascript / Typescript, Go\", \"Java / Scala, SQL, AWS, Google Cloud, Kubernetes, Docker\", \"Python, Java / Scala, R, SQL\", \"Python, Kotlin, Javascript / Typescript, Java / Scala, SQL, AWS, Google Cloud, Docker\", \"AWS, Google Cloud, Kubernetes, Docker\", \"SQL, AWS, Docker, Matlab\", \".NET, Kubernetes, Docker\", \"Java / Scala, AWS, Kubernetes\", \"Python, C/C++, Javascript / Typescript, Java / Scala, AWS, Kubernetes, Docker\", \"Python, SQL, Azure, Docker\", \"Python, SQL, MS SQL Stack, Oracle, Informatica PowerCenter\", \"Kotlin, PHP, SQL\", \"C/C++, SQL, Docker\", \"Go, Google Cloud\", \"PHP, Java / Scala, Go, AWS, Docker\", \"Azure\", \"Python, Ruby, Go, AWS, Google Cloud, Kubernetes, Docker\", \"Python, PHP, Javascript / Typescript, .NET, Java / Scala, AWS, Azure\", \"Python, C/C++, Rust\", \"AWS, Azure\", \"Python, Kotlin, Swift, Javascript / Typescript\", \"Python, AWS, Kubernetes, Docker, React\", \"Python, Java / Scala, SQL, AWS, Google Cloud, Azure\", \"PHP, Javascript / Typescript, Java / Scala\", \"Go, Kubernetes\", \"Javascript / Typescript, Java / Scala, SQL, Go, AWS, Docker\", \"PHP, Java / Scala, SQL, AWS, Docker\", \"Javascript / Typescript, Azure\", \"Javascript / Typescript, .NET, SQL, Google Cloud\", \"Javascript / Typescript, AWS, Docker, Node\", \"Javascript / Typescript, SQL, Go, AWS, Google Cloud, Azure, Kubernetes\", \"Python, PHP, SQL, Perl, AWS, Google Cloud, Kubernetes, Docker\", \"Python, SQL, Go, AWS, Google Cloud, Azure, Kubernetes, Docker\", \"R, AWS, Google Cloud, Kubernetes, Docker\", \"Python, C/C++, Javascript / Typescript, Java / Scala, Perl, AWS, Docker, Networking, Data Center\", \"Python, Javascript / Typescript, Java / Scala, SQL, Go, AWS, Kubernetes, Docker\", \"Python, Azure, Kubernetes\", \"Javascript / Typescript, SQL, AWS\", \"Javascript / Typescript, Docker, HTML, CSS; Adobe XD\", \"Javascript / Typescript, C#\", \"Javascript / Typescript, AWS, Azure, Docker\", \"Python, Kotlin, Java / Scala, Google Cloud, Kubernetes\", \"Kotlin, Ruby, Go, Rust, AWS, Kubernetes, Docker\", \"Bi\", \"Kotlin, Google Cloud\", \"Perl\", \"C/C++, .NET, Go\", \"Javascript / Typescript, Java / Scala, Go, AWS, Docker\", \"Python, Javascript / Typescript, SQL, AWS, Google Cloud, Docker\", \"Python, R, SQL, Kubernetes, Docker\", \"Python, .NET, SQL\", \"Kotlin, Java / Scala, Clojure, Rust, AWS, Kubernetes, Docker\", \"Python, C/C++, Rust, AWS, Kubernetes, Docker\", \"Python, Tensorflow, Theano, Pytorch\", \"Python, Javascript / Typescript, SQL, AWS, Google Cloud, Kubernetes, Docker, Elixir\", \"C/C++, .NET\", \"Ruby, Java / Scala, SQL, Go, AWS, Google Cloud, Kubernetes, Docker\", \"SQL, Perl\", \"Python, Kotlin, Ruby, AWS, Docker\", \"Python, Javascript / Typescript, SQL, SAP / ABAP\", \"Kotlin, Java / Scala, Go, AWS, Kubernetes, Docker\", \"Python, Javascript / Typescript, Java / Scala, AWS\", \"Swift, Javascript / Typescript, Java / Scala, Clojure\", \"Kotlin, Java / Scala, Google Cloud, Kubernetes, Docker\", \"Python, SQL, AWS, Azure, Docker\", \"Python, Javascript / Typescript, SQL, Rust, AWS, Kubernetes, Docker\", \"C/C++, .NET, Java / Scala, AWS, Kubernetes, Docker\", \"Python, R, SQL, Azure\", \"Javascript / Typescript, R, SQL, AWS, Azure, Docker\", \"Java / Scala, Google Cloud, Kubernetes\", \"Python, Javascript / Typescript, Ruby, SQL, AWS, Docker\", \"Python, C/C++, Javascript / Typescript, Java / Scala, Perl, MATLAB\", \"PHP, SQL, Docker, VMs\", \"C/C++, R, SQL\", \"Java / Scala, SQL, AWS, Google Cloud\", \"Javascript / Typescript, .NET, SQL, Kubernetes\", \"Python, Javascript / Typescript, Perl, AWS, Google Cloud, Kubernetes, Docker\", \"Javascript / Typescript, Java / Scala, R, Google Cloud, Azure, Kubernetes, Docker\", \"Python, C/C++, Java / Scala, AWS, Azure, spark\", \"Python, C/C++, AWS\", \"Clojure, Rust\", \"Python, Java / Scala, SQL, Go, AWS, Kubernetes, Docker\", \"PHP, AWS, Kubernetes, Docker\", \"Python, Go, Docker\", \"Ruby, AWS, Google Cloud, Docker, Helm, Kustomize, Ansible\", \"Python, Javascript / Typescript, R\", \"C/C++, Java / Scala\", \"Python, C/C++, Google Cloud, Docker\", \"Python, Qt\", \"Kotlin, PHP, Java / Scala, SQL, Go, AWS, Kubernetes\", \"Python, Javascript / Typescript, SQL, AWS, Kubernetes\", \"Python, R, Spark\", \"Python, Azure, Docker\", \"Google Cloud, Kubernetes, Docker\", \"Python, R, Docker\", \"Python, SQL, SAS\", \"Python, PHP, SQL\", \"Javascript / Typescript, Java / Scala, SQL, Docker\", \"Python, Javascript / Typescript, SQL, Google Cloud\", \"Python, Ruby, Java / Scala, AWS\", \"Python, Ruby, Kubernetes, Docker\", \"Kotlin, Swift, Javascript / Typescript, Docker\", \"Python, C/C++, Java / Scala\", \"Python, Java / Scala, AWS, Kubernetes, Docker\", \"Python, Javascript / Typescript, Java / Scala, SQL, Google Cloud, Kubernetes, Docker\", \"Kotlin, Javascript / Typescript, SQL, AWS, Docker\", \"Python, Javascript / Typescript, SQL, AWS, Google Cloud\", \"Python, R\", \"Python, Javascript / Typescript, Java / Scala, AWS, Kubernetes\", \"Python, Javascript / Typescript, Ruby, AWS\", \"R, SQL, AWS, Google Cloud\", \"Javascript / Typescript, .NET, C#, Angular \", \"Kotlin, SQL\", \"Python, Javascript / Typescript, Ruby, .NET, Java / Scala, Azure, Kubernetes\", \"Javascript / Typescript, Java / Scala, SQL, AWS, Kubernetes, Docker\", \"Kotlin, Javascript / Typescript, Rust\", \"Javascript / Typescript, SQL, Go, Google Cloud, Kubernetes, Docker\", \"SQL, AWS, Azure\", \"PHP, SQL, Docker\", \"Python, Clojure, SQL\", \"Java / Scala, SQL, AWS, Azure\", \"C/C++, SQL, Google Cloud, Docker\", \"Kotlin, Swift, Ruby\", \"Javascript / Typescript, .NET, SQL, AWS\", \"Python, Javascript / Typescript, Ruby, SQL\", \"C/C++, SAP / ABAP\", \"Python, Javascript / Typescript, Ruby, Java / Scala, AWS, Kubernetes, Docker\", \"Kotlin, Javascript / Typescript, Java / Scala\", \"Python, Kotlin, .NET, SQL, Go, Docker\", \"Python, R, SQL, AWS, Google Cloud, Azure, Docker\", \"Python, C/C++, Azure, Docker\", \"Python, Javascript / Typescript, SQL, AWS, Azure, Kubernetes, Docker\", \"Javascript / Typescript, SQL, AWS, Google Cloud, Kubernetes, Docker\", \"Python, C/C++, SQL, Google Cloud, Kubernetes, Docker\", \"C/C++, Javascript / Typescript, Go, AWS, Docker\", \"Python, Kotlin, Go, Kubernetes\", \"Python, AWS, Google Cloud, Docker\", \"Kotlin, C/C++, Javascript / Typescript, Java / Scala, AWS, Docker\", \"C/C++, Javascript / Typescript\", \"Python, C/C++, Javascript / Typescript, Docker\", \"R, SQL, Google Cloud\", \"Javascript / Typescript, Java / Scala, AWS, Azure, Kubernetes, Docker\", \"Python, Javascript / Typescript, Java / Scala, SQL, AWS, Google Cloud, Docker\", \"Python, PHP, Javascript / Typescript, Java / Scala, SQL, AWS, Google Cloud, Kubernetes, Docker\", \"Kotlin, Javascript / Typescript, Java / Scala, AWS, Azure, Kubernetes, Docker\", \"Python, Kotlin, Javascript / Typescript, Java / Scala, SQL, AWS, Kubernetes, Docker\", \"Python, Go, Kubernetes, Docker, Openstack\", \".NET, SQL, Azure\", \"C/C++, AWS, Google Cloud, Docker\", \"C/C++, SQL, Go, Rust, AWS, Google Cloud, Kubernetes, Docker\", \"Python, Javascript / Typescript, .NET, Java / Scala, SQL, Go, AWS, Azure, Docker\", \"Javascript / Typescript, SQL, Google Cloud, Kubernetes, Docker\", \"C/C++, Javascript / Typescript, AWS, Google Cloud, Kubernetes\", \"Python, SQL, Go\", \"Python, .NET, Java / Scala, SQL, Kubernetes, Docker\", \"Python, AWS, Google Cloud, Azure, Alteryx, SAS\", \"Figma, Sketch, Photoshop, etc...\", \"Python, SQL, Perl\", \"Javascript / Typescript, Java / Scala, Docker\", \"SQL, AWS, Google Cloud, Azure, Kubernetes, Docker\", \"SQL, Docker, Apache Spark, Apache Hadoop, Oracle, PostgreSQL, Bash, Apache Impala, Apache Hive\", \"R, SQL, Hadoop Hive\", \"Javascript / Typescript, Java / Scala, SQL, AWS, Docker, nomad, QlikSense\", \"Python, Javascript / Typescript, AWS\", \"Python, Javascript / Typescript, Java / Scala, R, SQL, AWS, Google Cloud, Azure, Kubernetes, Docker\", \"Kotlin, PHP, Ruby, Java / Scala, SQL, AWS, Kubernetes, Docker\", \"Python, C/C++, .NET, SQL\", \"Python, PHP, Javascript / Typescript, SQL, AWS\", \"Python, Javascript / Typescript, Google Cloud, Kubernetes, Docker\", \"Kotlin, Java / Scala, SQL, AWS\", \"R, SQL, AWS, Kubernetes, Docker\", \"C/C++, Linux Kernel\", \"Kotlin, .NET, Java / Scala, Dart\", \"Swift, Flutter\", \"Swift, Javascript / Typescript, Go, AWS, Kubernetes, Docker\", \"Javascript / Typescript, Java / Scala, Go\", \"Python, AWS, Azure, Kubernetes, Docker\", \"Kotlin, Javascript / Typescript, Dart\", \"PHP, Javascript / Typescript, Perl, AWS, Kubernetes, Docker\", \"Python, Javascript / Typescript, SQL, Go, Perl, Google Cloud, Kubernetes, Docker\", \"R, SQL, Perl, Docker\", \"Kotlin, Swift, Go, AWS, Kubernetes, Docker\", \"Swift, Javascript / Typescript, Java / Scala, Google Cloud\", \"C/C++, SQL, AWS, Docker\", \"Java / Scala, SQL, Google Cloud, Docker\", \"Java / Scala, Go, AWS, Google Cloud, Azure, Kubernetes, Docker\", \"Python, Javascript / Typescript, Java / Scala, SQL, AWS, Kubernetes, Docker\", \"Javascript / Typescript, Kubernetes, Docker, Angular\", \".NET, Azure\", \"Python, C/C++, .NET, Java / Scala\", \"C/C++, Javascript / Typescript, Java / Scala, SQL, Docker\", \"Python, Kubernetes, Docker, Ansible\", \"C/C++, PHP, .NET, SQL\", \"PHP, SQL, AWS, Azure, Kubernetes, Docker\", \"R, SQL, AWS, Azure, Docker\", \"Python, Kotlin, Swift, Javascript / Typescript, Java / Scala, SQL, AWS, Google Cloud, Kubernetes, Docker\", \"PHP, AWS, Google Cloud\", \"Python, C/C++, Swift, Matlab \", \"PHP, Javascript / Typescript, .NET, SQL, Google Cloud, Kubernetes, Docker\", \"Javascript / Typescript, Go, AWS, Docker\", \".NET, SQL, Azure, Docker\", \"Python, Kotlin, Javascript / Typescript, Java / Scala, AWS, Kubernetes, Docker\", \"Python, C/C++, Javascript / Typescript, Ruby, .NET, Java / Scala, SQL, Go, AWS, Kubernetes\", \"Javascript / Typescript, Ruby, AWS, Kubernetes, Docker\", \"Kotlin, .NET, SQL, AWS\", \"SQL, AWS, Kubernetes\", \"Java / Scala, SQL, AWS, Google Cloud, Azure, Docker\", \"SQL, AWS, Azure, Kubernetes, Docker\", \"Javascript / Typescript, SQL, Azure\", \"SQL, AWS, Kubernetes, Docker, Groovy\", \"Javascript / Typescript, Azure, Kubernetes, GraphQL\", \"Kotlin, SQL, Azure, Kubernetes, Docker, Mongo\", \"Kotlin, Java / Scala, Azure\", \"Python, Kotlin, Java / Scala, SQL, Go, AWS, Google Cloud, Kubernetes, Docker\", \"Kotlin, SQL, AWS, Docker, Spark\", \"Ruby, Objective C\", \"Adobe Cloud, Sketch, 3Ds Max\", \"AWS, Google Cloud\", \"Javascript / Typescript, .NET, SQL, AWS, Azure, Kubernetes, Docker\", \"Python, PHP, Javascript / Typescript, SQL, Docker\", \"Javascript / Typescript, .NET, SQL, AWS, Docker\", \"Python, Java / Scala, SQL, AWS, Azure\", \"C/C++, PyTorch\", \"Python, R, Azure\", \"Kotlin, Javascript / Typescript, Java / Scala, AWS, Kubernetes, Docker\", \"Python, C/C++, Pytorch\", \"PHP, Javascript / Typescript, SQL, AWS, Docker\", \"Python, .NET, AWS, Azure, Kubernetes, Docker\", \"Python, PHP, Javascript / Typescript, Go, Google Cloud, Kubernetes, Docker\", \"Python, C/C++, SQL, Docker\", \"Kotlin, Javascript / Typescript, Java / Scala, Docker\", \"Javascript / Typescript, SQL, AWS, Google Cloud, Kubernetes, Docker, Quorum\", \"Python, SQL, Go, Google Cloud, bash\", \"Kotlin, Javascript / Typescript, Java / Scala, SQL, AWS, Google Cloud, Kubernetes, Docker\", \"Java / Scala, AWS, Docker\", \"AWS, Google Cloud, Azure, Docker\", \"SQL, Go, Kubernetes, Docker\", \"PHP, SQL, AWS, Kubernetes, Docker\", \"Go, AWS, Kubernetes, Docker, Elixir\", \"Python, C/C++, Javascript / Typescript, .NET, SQL\", \"AWS, Kubernetes\", \"Python, Javascript / Typescript, Java / Scala, Go, Kubernetes, Docker\", \"Python, R, Google Cloud, Docker\", \"Swift, AWS\", \"Python, C/C++, Javascript / Typescript, SQL, Go, AWS, Docker\", \"Javascript / Typescript, SQL, Go, AWS, Kubernetes, Docker, Terraform\", \"Kotlin, Javascript / Typescript, AWS, Google Cloud, Kubernetes, Docker\", \"Go, Kubernetes, Docker\", \"PHP, Javascript / Typescript, AWS\", \"Python, Kotlin, Javascript / Typescript, SQL, AWS\", \".NET, SQL, AWS, Docker\", \"Kubernetes\", \"Kotlin, Javascript / Typescript, SQL, Docker\", \"Python, Kubernetes\", \"Python, Go, AWS, Kubernetes\", \"Javascript / Typescript, SQL, Google Cloud, Docker\", \"Python, PHP, Javascript / Typescript, SQL, Go, Perl, AWS, Google Cloud, Azure, Kubernetes, Docker\", \"PHP, Javascript / Typescript, Go, AWS, Google Cloud, Kubernetes, Docker\", \"SQL, Go\", \"Python, Kotlin, Javascript / Typescript, Java / Scala, Docker\", \"Python, Java / Scala, Perl\", \"SAP / ABAP, AWS, Google Cloud, Azure, Kubernetes, Docker\", \".NET, SQL, Google Cloud, Kubernetes, Docker\", \"SQL, Elixir\", \"Python, Kotlin, Javascript / Typescript, Go, AWS, Kubernetes, Docker\", \"Ruby, Kubernetes, Docker\", \"PHP, Javascript / Typescript, Dart\", \"Kotlin, Java / Scala, SQL, SAP / ABAP, Kubernetes, Docker\", \"Python, Java / Scala, R, SQL, Go, AWS, Google Cloud, Azure, Kubernetes, Docker\", \"Python, Javascript / Typescript, .NET, AWS, Azure, Kubernetes, Docker\", \"Javascript / Typescript, Java / Scala, AWS, Kubernetes, Docker\", \"SQL, AWS, Google Cloud, Kubernetes, Docker\", \"Python, Java / Scala, R, SQL, AWS, Azure\", \"Kotlin, Ruby\", \"Python, Javascript / Typescript, SQL, Kubernetes, Docker\", \"Python, Kotlin, Java / Scala, SQL, Kubernetes, Docker\", \"Python, Javascript / Typescript, .NET, SQL, AWS, Azure, Kubernetes, Docker\", \"Python, Javascript / Typescript, SQL, SAP / ABAP, Google Cloud, Azure\", \"Swift, objective-c\", \"Javascript / Typescript, SQL, Go, AWS, Docker\", \"Javascript / Typescript, .NET, SQL, Azure\", \"Python, C/C++, Swift, Java / Scala, R, SQL, Go, AWS, Google Cloud, Azure, Kubernetes, Docker\", \"Python, AWS, Kubernetes\", \"Kotlin, PHP, Swift, Javascript / Typescript, Java / Scala, Clojure, R, Rust, AWS, Google Cloud, Azure, Kubernetes, Docker\", \"Kotlin, Swift\", \"Python, Kotlin, Java / Scala, Go, Rust, AWS, Kubernetes, Docker\", \"Python, PHP, AWS, Google Cloud, Kubernetes, Docker\", \"Python, SQL, Spark\", \"Javascript / Typescript, .NET, Azure\", \"Python, PHP, Javascript / Typescript, SQL, AWS, Kubernetes, Docker\", \"C/C++, Clojure, Assembly\", \"Java / Scala, R, SQL, Docker, Julia \", \"Javascript / Typescript, .NET, Azure, Docker\", \"Python, Java / Scala, Go, AWS, Kubernetes, Docker\", \"Python, SQL, AWS, Docker, unix shell scripts\", \"Ruby, SQL, Go, AWS, Kubernetes, Docker\", \"Python, Javascript / Typescript, Java / Scala, SQL\", \"Go, AWS, Docker\", \"Python, Java / Scala, SQL, Azure, Docker\", \"Javascript / Typescript, .NET, Java / Scala, Docker\", \"Python, Javascript / Typescript, SQL, AWS\", \"Python, Kotlin, Java / Scala, AWS\", \"Kotlin, Java / Scala, SQL, Kubernetes, Docker\", \"Python, C/C++, Javascript / Typescript, SQL, Docker\", \"Google Cloud, Kubernetes, Docker, Shell\", \".NET, Java / Scala, SQL, Go, AWS, Docker\", \"Javascript / Typescript, Google Cloud, Kubernetes\", \"Ruby, AWS, Kubernetes, Docker\", \"Python, Javascript / Typescript, SQL\", \"Python, PHP, Javascript / Typescript, .NET, SQL, SAP / ABAP\", \"Python, Kotlin, Javascript / Typescript, AWS, Kubernetes, Docker\", \"Java / Scala, Google Cloud, Docker\", \"Go, AWS, Kubernetes\", \"Kotlin, C/C++, Swift, Ruby\", \"Python, C/C++, Java / Scala, AWS, Kubernetes, Docker\", \"Swift, Java / Scala\", \"AWS, Terraform, Scala Spark, \", \"Python, SQL, AWS, Docker, Spark, Airflow\", \"Pl/sql\", \"Python, Kotlin, AWS, Docker\", \"Javascript / Typescript, Java / Scala, SQL, Docker, Groovy\", \"Python, Javascript / Typescript, SQL, AWS, Google Cloud, Kubernetes, Docker\", \"C/C++, .NET, Go, Docker\", \"Python, Squish\", \"Kotlin, Javascript / Typescript, Docker\", \"Javascript / Typescript, Java / Scala, Google Cloud, Docker\", \"Ruby, Go, Perl\", \"Java / Scala, Go, AWS, Google Cloud, Kubernetes, Docker\", \"Javascript / Typescript, Go, AWS, Google Cloud, Docker\", \"Python, SQL, Perl, AWS, Google Cloud, Docker\", \"Python, Google Cloud\", \"Python, Javascript / Typescript, SQL, Perl, Docker\", \"C/C++, Kubernetes, Docker\", \"Python, Java / Scala, AWS\", \"Erlang\", \"Python, Javascript / Typescript, Java / Scala, Go, AWS, Kubernetes, Docker\", \"Python, Kotlin, Java / Scala, SQL, AWS, Google Cloud, Kubernetes, Docker\", \"Python, C/C++, Javascript / Typescript, SQL\", \"Python, Ruby, Java / Scala, Google Cloud, Kubernetes, Docker\", \"Python, C/C++, Javascript / Typescript, Java / Scala, SQL, Kubernetes\", \"C/C++, SQL, AWS, Kubernetes, Docker\", \"Python, Javascript / Typescript, Apex\", \"Python, C/C++, Javascript / Typescript, Java / Scala\", \"PHP, SQL, Perl\", \"Javascript / Typescript, .NET, SQL, Go, Kubernetes, Docker\", \"MongoDB\", \"Kotlin, Javascript / Typescript, Java / Scala, Kubernetes, Docker\", \"Ruby, Java / Scala, Go, AWS, Kubernetes, Docker\", \"Linux\", \"Python, Kotlin, Javascript / Typescript, Java / Scala, SQL, Kubernetes, Docker\", \"PHP, SQL, Go, Docker, Postgres\", \"Kotlin, C/C++, Java / Scala\", \"Elixir\", \"PHP, Javascript / Typescript, Java / Scala, Docker\", \"Javascript / Typescript, Kubernetes\", \"Python, Java / Scala, Docker\", \"Javascript / Typescript, Java / Scala, AWS\", \"Javascript / Typescript, Ruby, SQL, Google Cloud, Kubernetes, Docker\", \"Python, Kotlin, Java / Scala, Google Cloud, Kubernetes, Docker\", \"Python, Javascript / Typescript, .NET, Java / Scala, Kubernetes, Docker\", \"Python, Go, AWS, Docker\", \"Javascript / Typescript, Google Cloud\", \"PHP, SQL, Kubernetes, Docker\", \"Javascript / Typescript, Ruby, Kubernetes, Docker\", \"Python, Javascript / Typescript, Azure\", \"NodeJS\", \"Javascript / Typescript, .NET, SQL, AWS, Kubernetes, Docker\", \"C/C++, SQL, VBA\", \"PHP, Javascript / Typescript, Java / Scala, SQL, AWS, Docker\", \"Python, Kotlin, C/C++, Java / Scala\", \"Kotlin, PHP, Javascript / Typescript, Java / Scala\", \"PHP, SQL, SAP / ABAP, Delphi\", \"Swift, Google Cloud\", \"Java / Scala, Google Cloud, Kubernetes, Docker\", \"PHP, Javascript / Typescript, .NET, SQL, Azure, Kubernetes, Docker, React, Angular2+\", \"C/C++, Javascript / Typescript, .NET, SQL, Azure\", \"Javascript / Typescript, .NET, Kubernetes, Docker\", \"Python, Javascript / Typescript, Google Cloud\", \"Javascript / Typescript, Angular\", \"PHP, SQL, AWS, Docker\", \"Python, Javascript / Typescript, SQL, AWS, Docker, React, Tailwindcss\", \"Python, R, SQL, SAP / ABAP, AWS, Kubernetes, Docker\", \"Python, Ruby, Java / Scala, Go, Rust, AWS, Kubernetes, Docker, Terraform, helm, packer\", \"Kotlin, SQL, AWS, Kubernetes, Docker\", \"Python, R, Go\", \"C/C++, PHP, SQL\", \"Python, AWS, Kubernetes, Docker, terraform, ansible\"], \"xaxis\": \"x\", \"y\": [201, 37, 31, 16, 15, 13, 13, 13, 12, 11, 10, 9, 9, 9, 9, 8, 8, 8, 7, 7, 7, 7, 7, 7, 7, 6, 6, 6, 6, 6, 5, 5, 5, 5, 5, 5, 5, 5, 5, 5, 5, 5, 5, 4, 4, 4, 4, 4, 4, 4, 4, 4, 4, 4, 3, 3, 3, 3, 3, 3, 3, 3, 3, 3, 3, 3, 3, 3, 3, 3, 3, 3, 3, 3, 3, 3, 3, 3, 2, 2, 2, 2, 2, 2, 2, 2, 2, 2, 2, 2, 2, 2, 2, 2, 2, 2, 2, 2, 2, 2, 2, 2, 2, 2, 2, 2, 2, 2, 2, 2, 2, 2, 2, 2, 2, 2, 2, 2, 2, 2, 2, 2, 2, 2, 2, 2, 2, 2, 2, 2, 2, 2, 2, 2, 2, 2, 2, 2, 2, 2, 2, 2, 2, 2, 2, 2, 2, 2, 2, 2, 2, 2, 2, 2, 2, 1, 1, 1, 1, 1, 1, 1, 1, 1, 1, 1, 1, 1, 1, 1, 1, 1, 1, 1, 1, 1, 1, 1, 1, 1, 1, 1, 1, 1, 1, 1, 1, 1, 1, 1, 1, 1, 1, 1, 1, 1, 1, 1, 1, 1, 1, 1, 1, 1, 1, 1, 1, 1, 1, 1, 1, 1, 1, 1, 1, 1, 1, 1, 1, 1, 1, 1, 1, 1, 1, 1, 1, 1, 1, 1, 1, 1, 1, 1, 1, 1, 1, 1, 1, 1, 1, 1, 1, 1, 1, 1, 1, 1, 1, 1, 1, 1, 1, 1, 1, 1, 1, 1, 1, 1, 1, 1, 1, 1, 1, 1, 1, 1, 1, 1, 1, 1, 1, 1, 1, 1, 1, 1, 1, 1, 1, 1, 1, 1, 1, 1, 1, 1, 1, 1, 1, 1, 1, 1, 1, 1, 1, 1, 1, 1, 1, 1, 1, 1, 1, 1, 1, 1, 1, 1, 1, 1, 1, 1, 1, 1, 1, 1, 1, 1, 1, 1, 1, 1, 1, 1, 1, 1, 1, 1, 1, 1, 1, 1, 1, 1, 1, 1, 1, 1, 1, 1, 1, 1, 1, 1, 1, 1, 1, 1, 1, 1, 1, 1, 1, 1, 1, 1, 1, 1, 1, 1, 1, 1, 1, 1, 1, 1, 1, 1, 1, 1, 1, 1, 1, 1, 1, 1, 1, 1, 1, 1, 1, 1, 1, 1, 1, 1, 1, 1, 1, 1, 1, 1, 1, 1, 1, 1, 1, 1, 1, 1, 1, 1, 1, 1, 1, 1, 1, 1, 1, 1, 1, 1, 1, 1, 1, 1, 1, 1, 1, 1, 1, 1, 1, 1, 1, 1, 1, 1, 1, 1, 1, 1, 1, 1, 1, 1, 1, 1, 1, 1, 1, 1, 1, 1, 1, 1, 1, 1, 1, 1, 1, 1, 1, 1, 1, 1, 1, 1, 1, 1, 1, 1, 1, 1, 1, 1, 1, 1, 1, 1, 1, 1, 1, 1, 1, 1, 1, 1, 1, 1, 1, 1, 1, 1, 1, 1, 1, 1, 1, 1, 1, 1, 1, 1, 1, 1, 1, 1, 1, 1, 1, 1, 1, 1, 1, 1, 1, 1, 1, 1, 1, 1, 1, 1, 1, 1, 1, 1, 1, 1, 1, 1, 1, 1, 1, 1, 1, 1, 1, 1, 1, 1, 1, 1, 1, 1, 1, 1, 1, 1, 1, 1, 1, 1, 1, 1, 1, 1, 1, 1, 1, 1, 1, 1, 1, 1, 1, 1, 1, 1], \"yaxis\": \"y\"}],\n",
       "                        {\"barmode\": \"relative\", \"coloraxis\": {\"colorbar\": {\"title\": {\"text\": \"Popularity\"}}, \"colorscale\": [[0.0, \"rgb(103,0,31)\"], [0.1, \"rgb(178,24,43)\"], [0.2, \"rgb(214,96,77)\"], [0.3, \"rgb(244,165,130)\"], [0.4, \"rgb(253,219,199)\"], [0.5, \"rgb(247,247,247)\"], [0.6, \"rgb(209,229,240)\"], [0.7, \"rgb(146,197,222)\"], [0.8, \"rgb(67,147,195)\"], [0.9, \"rgb(33,102,172)\"], [1.0, \"rgb(5,48,97)\"]]}, \"height\": 1200, \"legend\": {\"tracegroupgap\": 0}, \"template\": {\"data\": {\"bar\": [{\"error_x\": {\"color\": \"#2a3f5f\"}, \"error_y\": {\"color\": \"#2a3f5f\"}, \"marker\": {\"line\": {\"color\": \"#E5ECF6\", \"width\": 0.5}}, \"type\": \"bar\"}], \"barpolar\": [{\"marker\": {\"line\": {\"color\": \"#E5ECF6\", \"width\": 0.5}}, \"type\": \"barpolar\"}], \"carpet\": [{\"aaxis\": {\"endlinecolor\": \"#2a3f5f\", \"gridcolor\": \"white\", \"linecolor\": \"white\", \"minorgridcolor\": \"white\", \"startlinecolor\": \"#2a3f5f\"}, \"baxis\": {\"endlinecolor\": \"#2a3f5f\", \"gridcolor\": \"white\", \"linecolor\": \"white\", \"minorgridcolor\": \"white\", \"startlinecolor\": \"#2a3f5f\"}, \"type\": \"carpet\"}], \"choropleth\": [{\"colorbar\": {\"outlinewidth\": 0, \"ticks\": \"\"}, \"type\": \"choropleth\"}], \"contour\": [{\"colorbar\": {\"outlinewidth\": 0, \"ticks\": \"\"}, \"colorscale\": [[0.0, \"#0d0887\"], [0.1111111111111111, \"#46039f\"], [0.2222222222222222, \"#7201a8\"], [0.3333333333333333, \"#9c179e\"], [0.4444444444444444, \"#bd3786\"], [0.5555555555555556, \"#d8576b\"], [0.6666666666666666, \"#ed7953\"], [0.7777777777777778, \"#fb9f3a\"], [0.8888888888888888, \"#fdca26\"], [1.0, \"#f0f921\"]], \"type\": \"contour\"}], \"contourcarpet\": [{\"colorbar\": {\"outlinewidth\": 0, \"ticks\": \"\"}, \"type\": \"contourcarpet\"}], \"heatmap\": [{\"colorbar\": {\"outlinewidth\": 0, \"ticks\": \"\"}, \"colorscale\": [[0.0, \"#0d0887\"], [0.1111111111111111, \"#46039f\"], [0.2222222222222222, \"#7201a8\"], [0.3333333333333333, \"#9c179e\"], [0.4444444444444444, \"#bd3786\"], [0.5555555555555556, \"#d8576b\"], [0.6666666666666666, \"#ed7953\"], [0.7777777777777778, \"#fb9f3a\"], [0.8888888888888888, \"#fdca26\"], [1.0, \"#f0f921\"]], \"type\": \"heatmap\"}], \"heatmapgl\": [{\"colorbar\": {\"outlinewidth\": 0, \"ticks\": \"\"}, \"colorscale\": [[0.0, \"#0d0887\"], [0.1111111111111111, \"#46039f\"], [0.2222222222222222, \"#7201a8\"], [0.3333333333333333, \"#9c179e\"], [0.4444444444444444, \"#bd3786\"], [0.5555555555555556, \"#d8576b\"], [0.6666666666666666, \"#ed7953\"], [0.7777777777777778, \"#fb9f3a\"], [0.8888888888888888, \"#fdca26\"], [1.0, \"#f0f921\"]], \"type\": \"heatmapgl\"}], \"histogram\": [{\"marker\": {\"colorbar\": {\"outlinewidth\": 0, \"ticks\": \"\"}}, \"type\": \"histogram\"}], \"histogram2d\": [{\"colorbar\": {\"outlinewidth\": 0, \"ticks\": \"\"}, \"colorscale\": [[0.0, \"#0d0887\"], [0.1111111111111111, \"#46039f\"], [0.2222222222222222, \"#7201a8\"], [0.3333333333333333, \"#9c179e\"], [0.4444444444444444, \"#bd3786\"], [0.5555555555555556, \"#d8576b\"], [0.6666666666666666, \"#ed7953\"], [0.7777777777777778, \"#fb9f3a\"], [0.8888888888888888, \"#fdca26\"], [1.0, \"#f0f921\"]], \"type\": \"histogram2d\"}], \"histogram2dcontour\": [{\"colorbar\": {\"outlinewidth\": 0, \"ticks\": \"\"}, \"colorscale\": [[0.0, \"#0d0887\"], [0.1111111111111111, \"#46039f\"], [0.2222222222222222, \"#7201a8\"], [0.3333333333333333, \"#9c179e\"], [0.4444444444444444, \"#bd3786\"], [0.5555555555555556, \"#d8576b\"], [0.6666666666666666, \"#ed7953\"], [0.7777777777777778, \"#fb9f3a\"], [0.8888888888888888, \"#fdca26\"], [1.0, \"#f0f921\"]], \"type\": \"histogram2dcontour\"}], \"mesh3d\": [{\"colorbar\": {\"outlinewidth\": 0, \"ticks\": \"\"}, \"type\": \"mesh3d\"}], \"parcoords\": [{\"line\": {\"colorbar\": {\"outlinewidth\": 0, \"ticks\": \"\"}}, \"type\": \"parcoords\"}], \"pie\": [{\"automargin\": true, \"type\": \"pie\"}], \"scatter\": [{\"marker\": {\"colorbar\": {\"outlinewidth\": 0, \"ticks\": \"\"}}, \"type\": \"scatter\"}], \"scatter3d\": [{\"line\": {\"colorbar\": {\"outlinewidth\": 0, \"ticks\": \"\"}}, \"marker\": {\"colorbar\": {\"outlinewidth\": 0, \"ticks\": \"\"}}, \"type\": \"scatter3d\"}], \"scattercarpet\": [{\"marker\": {\"colorbar\": {\"outlinewidth\": 0, \"ticks\": \"\"}}, \"type\": \"scattercarpet\"}], \"scattergeo\": [{\"marker\": {\"colorbar\": {\"outlinewidth\": 0, \"ticks\": \"\"}}, \"type\": \"scattergeo\"}], \"scattergl\": [{\"marker\": {\"colorbar\": {\"outlinewidth\": 0, \"ticks\": \"\"}}, \"type\": \"scattergl\"}], \"scattermapbox\": [{\"marker\": {\"colorbar\": {\"outlinewidth\": 0, \"ticks\": \"\"}}, \"type\": \"scattermapbox\"}], \"scatterpolar\": [{\"marker\": {\"colorbar\": {\"outlinewidth\": 0, \"ticks\": \"\"}}, \"type\": \"scatterpolar\"}], \"scatterpolargl\": [{\"marker\": {\"colorbar\": {\"outlinewidth\": 0, \"ticks\": \"\"}}, \"type\": \"scatterpolargl\"}], \"scatterternary\": [{\"marker\": {\"colorbar\": {\"outlinewidth\": 0, \"ticks\": \"\"}}, \"type\": \"scatterternary\"}], \"surface\": [{\"colorbar\": {\"outlinewidth\": 0, \"ticks\": \"\"}, \"colorscale\": [[0.0, \"#0d0887\"], [0.1111111111111111, \"#46039f\"], [0.2222222222222222, \"#7201a8\"], [0.3333333333333333, \"#9c179e\"], [0.4444444444444444, \"#bd3786\"], [0.5555555555555556, \"#d8576b\"], [0.6666666666666666, \"#ed7953\"], [0.7777777777777778, \"#fb9f3a\"], [0.8888888888888888, \"#fdca26\"], [1.0, \"#f0f921\"]], \"type\": \"surface\"}], \"table\": [{\"cells\": {\"fill\": {\"color\": \"#EBF0F8\"}, \"line\": {\"color\": \"white\"}}, \"header\": {\"fill\": {\"color\": \"#C8D4E3\"}, \"line\": {\"color\": \"white\"}}, \"type\": \"table\"}]}, \"layout\": {\"annotationdefaults\": {\"arrowcolor\": \"#2a3f5f\", \"arrowhead\": 0, \"arrowwidth\": 1}, \"coloraxis\": {\"colorbar\": {\"outlinewidth\": 0, \"ticks\": \"\"}}, \"colorscale\": {\"diverging\": [[0, \"#8e0152\"], [0.1, \"#c51b7d\"], [0.2, \"#de77ae\"], [0.3, \"#f1b6da\"], [0.4, \"#fde0ef\"], [0.5, \"#f7f7f7\"], [0.6, \"#e6f5d0\"], [0.7, \"#b8e186\"], [0.8, \"#7fbc41\"], [0.9, \"#4d9221\"], [1, \"#276419\"]], \"sequential\": [[0.0, \"#0d0887\"], [0.1111111111111111, \"#46039f\"], [0.2222222222222222, \"#7201a8\"], [0.3333333333333333, \"#9c179e\"], [0.4444444444444444, \"#bd3786\"], [0.5555555555555556, \"#d8576b\"], [0.6666666666666666, \"#ed7953\"], [0.7777777777777778, \"#fb9f3a\"], [0.8888888888888888, \"#fdca26\"], [1.0, \"#f0f921\"]], \"sequentialminus\": [[0.0, \"#0d0887\"], [0.1111111111111111, \"#46039f\"], [0.2222222222222222, \"#7201a8\"], [0.3333333333333333, \"#9c179e\"], [0.4444444444444444, \"#bd3786\"], [0.5555555555555556, \"#d8576b\"], [0.6666666666666666, \"#ed7953\"], [0.7777777777777778, \"#fb9f3a\"], [0.8888888888888888, \"#fdca26\"], [1.0, \"#f0f921\"]]}, \"colorway\": [\"#636efa\", \"#EF553B\", \"#00cc96\", \"#ab63fa\", \"#FFA15A\", \"#19d3f3\", \"#FF6692\", \"#B6E880\", \"#FF97FF\", \"#FECB52\"], \"font\": {\"color\": \"#2a3f5f\"}, \"geo\": {\"bgcolor\": \"white\", \"lakecolor\": \"white\", \"landcolor\": \"#E5ECF6\", \"showlakes\": true, \"showland\": true, \"subunitcolor\": \"white\"}, \"hoverlabel\": {\"align\": \"left\"}, \"hovermode\": \"closest\", \"mapbox\": {\"style\": \"light\"}, \"paper_bgcolor\": \"white\", \"plot_bgcolor\": \"#E5ECF6\", \"polar\": {\"angularaxis\": {\"gridcolor\": \"white\", \"linecolor\": \"white\", \"ticks\": \"\"}, \"bgcolor\": \"#E5ECF6\", \"radialaxis\": {\"gridcolor\": \"white\", \"linecolor\": \"white\", \"ticks\": \"\"}}, \"scene\": {\"xaxis\": {\"backgroundcolor\": \"#E5ECF6\", \"gridcolor\": \"white\", \"gridwidth\": 2, \"linecolor\": \"white\", \"showbackground\": true, \"ticks\": \"\", \"zerolinecolor\": \"white\"}, \"yaxis\": {\"backgroundcolor\": \"#E5ECF6\", \"gridcolor\": \"white\", \"gridwidth\": 2, \"linecolor\": \"white\", \"showbackground\": true, \"ticks\": \"\", \"zerolinecolor\": \"white\"}, \"zaxis\": {\"backgroundcolor\": \"#E5ECF6\", \"gridcolor\": \"white\", \"gridwidth\": 2, \"linecolor\": \"white\", \"showbackground\": true, \"ticks\": \"\", \"zerolinecolor\": \"white\"}}, \"shapedefaults\": {\"line\": {\"color\": \"#2a3f5f\"}}, \"ternary\": {\"aaxis\": {\"gridcolor\": \"white\", \"linecolor\": \"white\", \"ticks\": \"\"}, \"baxis\": {\"gridcolor\": \"white\", \"linecolor\": \"white\", \"ticks\": \"\"}, \"bgcolor\": \"#E5ECF6\", \"caxis\": {\"gridcolor\": \"white\", \"linecolor\": \"white\", \"ticks\": \"\"}}, \"title\": {\"x\": 0.05}, \"xaxis\": {\"automargin\": true, \"gridcolor\": \"white\", \"linecolor\": \"white\", \"ticks\": \"\", \"title\": {\"standoff\": 15}, \"zerolinecolor\": \"white\", \"zerolinewidth\": 2}, \"yaxis\": {\"automargin\": true, \"gridcolor\": \"white\", \"linecolor\": \"white\", \"ticks\": \"\", \"title\": {\"standoff\": 15}, \"zerolinecolor\": \"white\", \"zerolinewidth\": 2}}}, \"title\": {\"text\": \"Popular Programming Languages throuh 2020 \"}, \"xaxis\": {\"anchor\": \"y\", \"domain\": [0.0, 1.0], \"tickangle\": 45, \"title\": {\"text\": \"x\"}}, \"yaxis\": {\"anchor\": \"x\", \"domain\": [0.0, 1.0], \"title\": {\"text\": \"Popularity\"}}},\n",
       "                        {\"responsive\": true}\n",
       "                    ).then(function(){\n",
       "                            \n",
       "var gd = document.getElementById('3f663841-92b9-4e16-a46f-07f9de7c2e55');\n",
       "var x = new MutationObserver(function (mutations, observer) {{\n",
       "        var display = window.getComputedStyle(gd).display;\n",
       "        if (!display || display === 'none') {{\n",
       "            console.log([gd, 'removed!']);\n",
       "            Plotly.purge(gd);\n",
       "            observer.disconnect();\n",
       "        }}\n",
       "}});\n",
       "\n",
       "// Listen for the removal of the full notebook cells\n",
       "var notebookContainer = gd.closest('#notebook-container');\n",
       "if (notebookContainer) {{\n",
       "    x.observe(notebookContainer, {childList: true});\n",
       "}}\n",
       "\n",
       "// Listen for the clearing of the current output cell\n",
       "var outputEl = gd.closest('.output');\n",
       "if (outputEl) {{\n",
       "    x.observe(outputEl, {childList: true});\n",
       "}}\n",
       "\n",
       "                        })\n",
       "                };\n",
       "                });\n",
       "            </script>\n",
       "        </div>"
      ]
     },
     "metadata": {},
     "output_type": "display_data"
    }
   ],
   "source": [
    "fig = px.bar(langtools, y =\"Popularity\" , x =langtools.index ,title=\"Popular Programming Languages throuh 2020 \",\n",
    "              color_continuous_scale ='RdBu',color=\"Popularity\",height=1200)\n",
    "fig.update_xaxes(tickangle=45)\n",
    "fig.show()"
   ]
  },
  {
   "cell_type": "markdown",
   "metadata": {
    "id": "K4NiGFP6VdWp"
   },
   "source": [
    "**From the graph we see that the 4 popular Programming languages are :**\n",
    "\n",
    "* **JavaScript / TypeScript**\n",
    "* **Python** \n",
    "* **SQL**\n",
    "* **AWS, Docker**"
   ]
  },
  {
   "cell_type": "code",
   "execution_count": 195,
   "metadata": {
    "ExecuteTime": {
     "end_time": "2021-03-23T17:55:18.350934Z",
     "start_time": "2021-03-23T17:55:18.341940Z"
    },
    "id": "zeH4Umylv9BG"
   },
   "outputs": [],
   "source": [
    "# Pie chart for Gender...\n",
    "\n",
    "gender_count  = data_2020['Gender'].value_counts()\n",
    "gender_count_un = data_2020['Gender'].dropna().unique()\n"
   ]
  },
  {
   "cell_type": "code",
   "execution_count": 196,
   "metadata": {
    "ExecuteTime": {
     "end_time": "2021-03-23T17:55:18.365926Z",
     "start_time": "2021-03-23T17:55:18.353933Z"
    },
    "colab": {
     "base_uri": "https://localhost:8080/"
    },
    "id": "Eli8_bu1wa-3",
    "outputId": "9bac5f1e-9d99-46d8-e850-d4529adfc6a9"
   },
   "outputs": [
    {
     "data": {
      "text/plain": [
       "Male       1059\n",
       "Female      192\n",
       "Diverse       2\n",
       "Name: Gender, dtype: int64"
      ]
     },
     "execution_count": 196,
     "metadata": {},
     "output_type": "execute_result"
    }
   ],
   "source": [
    "gender_count"
   ]
  },
  {
   "cell_type": "code",
   "execution_count": 197,
   "metadata": {
    "ExecuteTime": {
     "end_time": "2021-03-23T17:55:18.381917Z",
     "start_time": "2021-03-23T17:55:18.368924Z"
    },
    "colab": {
     "base_uri": "https://localhost:8080/"
    },
    "id": "nFVowGM6wcst",
    "outputId": "dbd7b7b6-c07f-47cf-ca40-faa00312f691"
   },
   "outputs": [
    {
     "data": {
      "text/plain": [
       "array(['Male', 'Female', 'Diverse'], dtype=object)"
      ]
     },
     "execution_count": 197,
     "metadata": {},
     "output_type": "execute_result"
    }
   ],
   "source": [
    "gender_count_un"
   ]
  },
  {
   "cell_type": "code",
   "execution_count": 198,
   "metadata": {
    "ExecuteTime": {
     "end_time": "2021-03-23T17:55:18.397909Z",
     "start_time": "2021-03-23T17:55:18.391911Z"
    },
    "id": "wL5yKvKLxIjz"
   },
   "outputs": [],
   "source": [
    "genders = [gender_count[0], gender_count[1],gender_count[2]]"
   ]
  },
  {
   "cell_type": "code",
   "execution_count": 199,
   "metadata": {
    "ExecuteTime": {
     "end_time": "2021-03-23T17:55:18.428889Z",
     "start_time": "2021-03-23T17:55:18.404913Z"
    },
    "id": "sSASc6Jjwk7-"
   },
   "outputs": [],
   "source": [
    "df_gender = pd.DataFrame(genders,columns=[\"Gender_Ratio\"], index= gender_count_un)"
   ]
  },
  {
   "cell_type": "code",
   "execution_count": 200,
   "metadata": {
    "ExecuteTime": {
     "end_time": "2021-03-23T17:55:18.827656Z",
     "start_time": "2021-03-23T17:55:18.431889Z"
    },
    "colab": {
     "base_uri": "https://localhost:8080/",
     "height": 542
    },
    "id": "lbPZIN9Iw0JA",
    "outputId": "92e8d043-0392-4bab-b669-d343dc738ca8"
   },
   "outputs": [
    {
     "data": {
      "application/vnd.plotly.v1+json": {
       "config": {
        "plotlyServerURL": "https://plot.ly"
       },
       "data": [
        {
         "domain": {
          "x": [
           0,
           1
          ],
          "y": [
           0,
           1
          ]
         },
         "hovertemplate": "label=%{label}<br>Gender_Ratio=%{value}<extra></extra>",
         "labels": [
          "Male",
          "Female",
          "Diverse"
         ],
         "legendgroup": "",
         "name": "",
         "showlegend": true,
         "type": "pie",
         "values": [
          1059,
          192,
          2
         ]
        }
       ],
       "layout": {
        "legend": {
         "tracegroupgap": 0
        },
        "template": {
         "data": {
          "bar": [
           {
            "error_x": {
             "color": "#2a3f5f"
            },
            "error_y": {
             "color": "#2a3f5f"
            },
            "marker": {
             "line": {
              "color": "#E5ECF6",
              "width": 0.5
             }
            },
            "type": "bar"
           }
          ],
          "barpolar": [
           {
            "marker": {
             "line": {
              "color": "#E5ECF6",
              "width": 0.5
             }
            },
            "type": "barpolar"
           }
          ],
          "carpet": [
           {
            "aaxis": {
             "endlinecolor": "#2a3f5f",
             "gridcolor": "white",
             "linecolor": "white",
             "minorgridcolor": "white",
             "startlinecolor": "#2a3f5f"
            },
            "baxis": {
             "endlinecolor": "#2a3f5f",
             "gridcolor": "white",
             "linecolor": "white",
             "minorgridcolor": "white",
             "startlinecolor": "#2a3f5f"
            },
            "type": "carpet"
           }
          ],
          "choropleth": [
           {
            "colorbar": {
             "outlinewidth": 0,
             "ticks": ""
            },
            "type": "choropleth"
           }
          ],
          "contour": [
           {
            "colorbar": {
             "outlinewidth": 0,
             "ticks": ""
            },
            "colorscale": [
             [
              0,
              "#0d0887"
             ],
             [
              0.1111111111111111,
              "#46039f"
             ],
             [
              0.2222222222222222,
              "#7201a8"
             ],
             [
              0.3333333333333333,
              "#9c179e"
             ],
             [
              0.4444444444444444,
              "#bd3786"
             ],
             [
              0.5555555555555556,
              "#d8576b"
             ],
             [
              0.6666666666666666,
              "#ed7953"
             ],
             [
              0.7777777777777778,
              "#fb9f3a"
             ],
             [
              0.8888888888888888,
              "#fdca26"
             ],
             [
              1,
              "#f0f921"
             ]
            ],
            "type": "contour"
           }
          ],
          "contourcarpet": [
           {
            "colorbar": {
             "outlinewidth": 0,
             "ticks": ""
            },
            "type": "contourcarpet"
           }
          ],
          "heatmap": [
           {
            "colorbar": {
             "outlinewidth": 0,
             "ticks": ""
            },
            "colorscale": [
             [
              0,
              "#0d0887"
             ],
             [
              0.1111111111111111,
              "#46039f"
             ],
             [
              0.2222222222222222,
              "#7201a8"
             ],
             [
              0.3333333333333333,
              "#9c179e"
             ],
             [
              0.4444444444444444,
              "#bd3786"
             ],
             [
              0.5555555555555556,
              "#d8576b"
             ],
             [
              0.6666666666666666,
              "#ed7953"
             ],
             [
              0.7777777777777778,
              "#fb9f3a"
             ],
             [
              0.8888888888888888,
              "#fdca26"
             ],
             [
              1,
              "#f0f921"
             ]
            ],
            "type": "heatmap"
           }
          ],
          "heatmapgl": [
           {
            "colorbar": {
             "outlinewidth": 0,
             "ticks": ""
            },
            "colorscale": [
             [
              0,
              "#0d0887"
             ],
             [
              0.1111111111111111,
              "#46039f"
             ],
             [
              0.2222222222222222,
              "#7201a8"
             ],
             [
              0.3333333333333333,
              "#9c179e"
             ],
             [
              0.4444444444444444,
              "#bd3786"
             ],
             [
              0.5555555555555556,
              "#d8576b"
             ],
             [
              0.6666666666666666,
              "#ed7953"
             ],
             [
              0.7777777777777778,
              "#fb9f3a"
             ],
             [
              0.8888888888888888,
              "#fdca26"
             ],
             [
              1,
              "#f0f921"
             ]
            ],
            "type": "heatmapgl"
           }
          ],
          "histogram": [
           {
            "marker": {
             "colorbar": {
              "outlinewidth": 0,
              "ticks": ""
             }
            },
            "type": "histogram"
           }
          ],
          "histogram2d": [
           {
            "colorbar": {
             "outlinewidth": 0,
             "ticks": ""
            },
            "colorscale": [
             [
              0,
              "#0d0887"
             ],
             [
              0.1111111111111111,
              "#46039f"
             ],
             [
              0.2222222222222222,
              "#7201a8"
             ],
             [
              0.3333333333333333,
              "#9c179e"
             ],
             [
              0.4444444444444444,
              "#bd3786"
             ],
             [
              0.5555555555555556,
              "#d8576b"
             ],
             [
              0.6666666666666666,
              "#ed7953"
             ],
             [
              0.7777777777777778,
              "#fb9f3a"
             ],
             [
              0.8888888888888888,
              "#fdca26"
             ],
             [
              1,
              "#f0f921"
             ]
            ],
            "type": "histogram2d"
           }
          ],
          "histogram2dcontour": [
           {
            "colorbar": {
             "outlinewidth": 0,
             "ticks": ""
            },
            "colorscale": [
             [
              0,
              "#0d0887"
             ],
             [
              0.1111111111111111,
              "#46039f"
             ],
             [
              0.2222222222222222,
              "#7201a8"
             ],
             [
              0.3333333333333333,
              "#9c179e"
             ],
             [
              0.4444444444444444,
              "#bd3786"
             ],
             [
              0.5555555555555556,
              "#d8576b"
             ],
             [
              0.6666666666666666,
              "#ed7953"
             ],
             [
              0.7777777777777778,
              "#fb9f3a"
             ],
             [
              0.8888888888888888,
              "#fdca26"
             ],
             [
              1,
              "#f0f921"
             ]
            ],
            "type": "histogram2dcontour"
           }
          ],
          "mesh3d": [
           {
            "colorbar": {
             "outlinewidth": 0,
             "ticks": ""
            },
            "type": "mesh3d"
           }
          ],
          "parcoords": [
           {
            "line": {
             "colorbar": {
              "outlinewidth": 0,
              "ticks": ""
             }
            },
            "type": "parcoords"
           }
          ],
          "pie": [
           {
            "automargin": true,
            "type": "pie"
           }
          ],
          "scatter": [
           {
            "marker": {
             "colorbar": {
              "outlinewidth": 0,
              "ticks": ""
             }
            },
            "type": "scatter"
           }
          ],
          "scatter3d": [
           {
            "line": {
             "colorbar": {
              "outlinewidth": 0,
              "ticks": ""
             }
            },
            "marker": {
             "colorbar": {
              "outlinewidth": 0,
              "ticks": ""
             }
            },
            "type": "scatter3d"
           }
          ],
          "scattercarpet": [
           {
            "marker": {
             "colorbar": {
              "outlinewidth": 0,
              "ticks": ""
             }
            },
            "type": "scattercarpet"
           }
          ],
          "scattergeo": [
           {
            "marker": {
             "colorbar": {
              "outlinewidth": 0,
              "ticks": ""
             }
            },
            "type": "scattergeo"
           }
          ],
          "scattergl": [
           {
            "marker": {
             "colorbar": {
              "outlinewidth": 0,
              "ticks": ""
             }
            },
            "type": "scattergl"
           }
          ],
          "scattermapbox": [
           {
            "marker": {
             "colorbar": {
              "outlinewidth": 0,
              "ticks": ""
             }
            },
            "type": "scattermapbox"
           }
          ],
          "scatterpolar": [
           {
            "marker": {
             "colorbar": {
              "outlinewidth": 0,
              "ticks": ""
             }
            },
            "type": "scatterpolar"
           }
          ],
          "scatterpolargl": [
           {
            "marker": {
             "colorbar": {
              "outlinewidth": 0,
              "ticks": ""
             }
            },
            "type": "scatterpolargl"
           }
          ],
          "scatterternary": [
           {
            "marker": {
             "colorbar": {
              "outlinewidth": 0,
              "ticks": ""
             }
            },
            "type": "scatterternary"
           }
          ],
          "surface": [
           {
            "colorbar": {
             "outlinewidth": 0,
             "ticks": ""
            },
            "colorscale": [
             [
              0,
              "#0d0887"
             ],
             [
              0.1111111111111111,
              "#46039f"
             ],
             [
              0.2222222222222222,
              "#7201a8"
             ],
             [
              0.3333333333333333,
              "#9c179e"
             ],
             [
              0.4444444444444444,
              "#bd3786"
             ],
             [
              0.5555555555555556,
              "#d8576b"
             ],
             [
              0.6666666666666666,
              "#ed7953"
             ],
             [
              0.7777777777777778,
              "#fb9f3a"
             ],
             [
              0.8888888888888888,
              "#fdca26"
             ],
             [
              1,
              "#f0f921"
             ]
            ],
            "type": "surface"
           }
          ],
          "table": [
           {
            "cells": {
             "fill": {
              "color": "#EBF0F8"
             },
             "line": {
              "color": "white"
             }
            },
            "header": {
             "fill": {
              "color": "#C8D4E3"
             },
             "line": {
              "color": "white"
             }
            },
            "type": "table"
           }
          ]
         },
         "layout": {
          "annotationdefaults": {
           "arrowcolor": "#2a3f5f",
           "arrowhead": 0,
           "arrowwidth": 1
          },
          "coloraxis": {
           "colorbar": {
            "outlinewidth": 0,
            "ticks": ""
           }
          },
          "colorscale": {
           "diverging": [
            [
             0,
             "#8e0152"
            ],
            [
             0.1,
             "#c51b7d"
            ],
            [
             0.2,
             "#de77ae"
            ],
            [
             0.3,
             "#f1b6da"
            ],
            [
             0.4,
             "#fde0ef"
            ],
            [
             0.5,
             "#f7f7f7"
            ],
            [
             0.6,
             "#e6f5d0"
            ],
            [
             0.7,
             "#b8e186"
            ],
            [
             0.8,
             "#7fbc41"
            ],
            [
             0.9,
             "#4d9221"
            ],
            [
             1,
             "#276419"
            ]
           ],
           "sequential": [
            [
             0,
             "#0d0887"
            ],
            [
             0.1111111111111111,
             "#46039f"
            ],
            [
             0.2222222222222222,
             "#7201a8"
            ],
            [
             0.3333333333333333,
             "#9c179e"
            ],
            [
             0.4444444444444444,
             "#bd3786"
            ],
            [
             0.5555555555555556,
             "#d8576b"
            ],
            [
             0.6666666666666666,
             "#ed7953"
            ],
            [
             0.7777777777777778,
             "#fb9f3a"
            ],
            [
             0.8888888888888888,
             "#fdca26"
            ],
            [
             1,
             "#f0f921"
            ]
           ],
           "sequentialminus": [
            [
             0,
             "#0d0887"
            ],
            [
             0.1111111111111111,
             "#46039f"
            ],
            [
             0.2222222222222222,
             "#7201a8"
            ],
            [
             0.3333333333333333,
             "#9c179e"
            ],
            [
             0.4444444444444444,
             "#bd3786"
            ],
            [
             0.5555555555555556,
             "#d8576b"
            ],
            [
             0.6666666666666666,
             "#ed7953"
            ],
            [
             0.7777777777777778,
             "#fb9f3a"
            ],
            [
             0.8888888888888888,
             "#fdca26"
            ],
            [
             1,
             "#f0f921"
            ]
           ]
          },
          "colorway": [
           "#636efa",
           "#EF553B",
           "#00cc96",
           "#ab63fa",
           "#FFA15A",
           "#19d3f3",
           "#FF6692",
           "#B6E880",
           "#FF97FF",
           "#FECB52"
          ],
          "font": {
           "color": "#2a3f5f"
          },
          "geo": {
           "bgcolor": "white",
           "lakecolor": "white",
           "landcolor": "#E5ECF6",
           "showlakes": true,
           "showland": true,
           "subunitcolor": "white"
          },
          "hoverlabel": {
           "align": "left"
          },
          "hovermode": "closest",
          "mapbox": {
           "style": "light"
          },
          "paper_bgcolor": "white",
          "plot_bgcolor": "#E5ECF6",
          "polar": {
           "angularaxis": {
            "gridcolor": "white",
            "linecolor": "white",
            "ticks": ""
           },
           "bgcolor": "#E5ECF6",
           "radialaxis": {
            "gridcolor": "white",
            "linecolor": "white",
            "ticks": ""
           }
          },
          "scene": {
           "xaxis": {
            "backgroundcolor": "#E5ECF6",
            "gridcolor": "white",
            "gridwidth": 2,
            "linecolor": "white",
            "showbackground": true,
            "ticks": "",
            "zerolinecolor": "white"
           },
           "yaxis": {
            "backgroundcolor": "#E5ECF6",
            "gridcolor": "white",
            "gridwidth": 2,
            "linecolor": "white",
            "showbackground": true,
            "ticks": "",
            "zerolinecolor": "white"
           },
           "zaxis": {
            "backgroundcolor": "#E5ECF6",
            "gridcolor": "white",
            "gridwidth": 2,
            "linecolor": "white",
            "showbackground": true,
            "ticks": "",
            "zerolinecolor": "white"
           }
          },
          "shapedefaults": {
           "line": {
            "color": "#2a3f5f"
           }
          },
          "ternary": {
           "aaxis": {
            "gridcolor": "white",
            "linecolor": "white",
            "ticks": ""
           },
           "baxis": {
            "gridcolor": "white",
            "linecolor": "white",
            "ticks": ""
           },
           "bgcolor": "#E5ECF6",
           "caxis": {
            "gridcolor": "white",
            "linecolor": "white",
            "ticks": ""
           }
          },
          "title": {
           "x": 0.05
          },
          "xaxis": {
           "automargin": true,
           "gridcolor": "white",
           "linecolor": "white",
           "ticks": "",
           "title": {
            "standoff": 15
           },
           "zerolinecolor": "white",
           "zerolinewidth": 2
          },
          "yaxis": {
           "automargin": true,
           "gridcolor": "white",
           "linecolor": "white",
           "ticks": "",
           "title": {
            "standoff": 15
           },
           "zerolinecolor": "white",
           "zerolinewidth": 2
          }
         }
        },
        "title": {
         "text": "Genders in the year 2020"
        }
       }
      },
      "text/html": [
       "<div>\n",
       "        \n",
       "        \n",
       "            <div id=\"30a7c937-dbb5-43ef-bdd1-68067d557d76\" class=\"plotly-graph-div\" style=\"height:525px; width:100%;\"></div>\n",
       "            <script type=\"text/javascript\">\n",
       "                require([\"plotly\"], function(Plotly) {\n",
       "                    window.PLOTLYENV=window.PLOTLYENV || {};\n",
       "                    \n",
       "                if (document.getElementById(\"30a7c937-dbb5-43ef-bdd1-68067d557d76\")) {\n",
       "                    Plotly.newPlot(\n",
       "                        '30a7c937-dbb5-43ef-bdd1-68067d557d76',\n",
       "                        [{\"domain\": {\"x\": [0.0, 1.0], \"y\": [0.0, 1.0]}, \"hovertemplate\": \"label=%{label}<br>Gender_Ratio=%{value}<extra></extra>\", \"labels\": [\"Male\", \"Female\", \"Diverse\"], \"legendgroup\": \"\", \"name\": \"\", \"showlegend\": true, \"type\": \"pie\", \"values\": [1059, 192, 2]}],\n",
       "                        {\"legend\": {\"tracegroupgap\": 0}, \"template\": {\"data\": {\"bar\": [{\"error_x\": {\"color\": \"#2a3f5f\"}, \"error_y\": {\"color\": \"#2a3f5f\"}, \"marker\": {\"line\": {\"color\": \"#E5ECF6\", \"width\": 0.5}}, \"type\": \"bar\"}], \"barpolar\": [{\"marker\": {\"line\": {\"color\": \"#E5ECF6\", \"width\": 0.5}}, \"type\": \"barpolar\"}], \"carpet\": [{\"aaxis\": {\"endlinecolor\": \"#2a3f5f\", \"gridcolor\": \"white\", \"linecolor\": \"white\", \"minorgridcolor\": \"white\", \"startlinecolor\": \"#2a3f5f\"}, \"baxis\": {\"endlinecolor\": \"#2a3f5f\", \"gridcolor\": \"white\", \"linecolor\": \"white\", \"minorgridcolor\": \"white\", \"startlinecolor\": \"#2a3f5f\"}, \"type\": \"carpet\"}], \"choropleth\": [{\"colorbar\": {\"outlinewidth\": 0, \"ticks\": \"\"}, \"type\": \"choropleth\"}], \"contour\": [{\"colorbar\": {\"outlinewidth\": 0, \"ticks\": \"\"}, \"colorscale\": [[0.0, \"#0d0887\"], [0.1111111111111111, \"#46039f\"], [0.2222222222222222, \"#7201a8\"], [0.3333333333333333, \"#9c179e\"], [0.4444444444444444, \"#bd3786\"], [0.5555555555555556, \"#d8576b\"], [0.6666666666666666, \"#ed7953\"], [0.7777777777777778, \"#fb9f3a\"], [0.8888888888888888, \"#fdca26\"], [1.0, \"#f0f921\"]], \"type\": \"contour\"}], \"contourcarpet\": [{\"colorbar\": {\"outlinewidth\": 0, \"ticks\": \"\"}, \"type\": \"contourcarpet\"}], \"heatmap\": [{\"colorbar\": {\"outlinewidth\": 0, \"ticks\": \"\"}, \"colorscale\": [[0.0, \"#0d0887\"], [0.1111111111111111, \"#46039f\"], [0.2222222222222222, \"#7201a8\"], [0.3333333333333333, \"#9c179e\"], [0.4444444444444444, \"#bd3786\"], [0.5555555555555556, \"#d8576b\"], [0.6666666666666666, \"#ed7953\"], [0.7777777777777778, \"#fb9f3a\"], [0.8888888888888888, \"#fdca26\"], [1.0, \"#f0f921\"]], \"type\": \"heatmap\"}], \"heatmapgl\": [{\"colorbar\": {\"outlinewidth\": 0, \"ticks\": \"\"}, \"colorscale\": [[0.0, \"#0d0887\"], [0.1111111111111111, \"#46039f\"], [0.2222222222222222, \"#7201a8\"], [0.3333333333333333, \"#9c179e\"], [0.4444444444444444, \"#bd3786\"], [0.5555555555555556, \"#d8576b\"], [0.6666666666666666, \"#ed7953\"], [0.7777777777777778, \"#fb9f3a\"], [0.8888888888888888, \"#fdca26\"], [1.0, \"#f0f921\"]], \"type\": \"heatmapgl\"}], \"histogram\": [{\"marker\": {\"colorbar\": {\"outlinewidth\": 0, \"ticks\": \"\"}}, \"type\": \"histogram\"}], \"histogram2d\": [{\"colorbar\": {\"outlinewidth\": 0, \"ticks\": \"\"}, \"colorscale\": [[0.0, \"#0d0887\"], [0.1111111111111111, \"#46039f\"], [0.2222222222222222, \"#7201a8\"], [0.3333333333333333, \"#9c179e\"], [0.4444444444444444, \"#bd3786\"], [0.5555555555555556, \"#d8576b\"], [0.6666666666666666, \"#ed7953\"], [0.7777777777777778, \"#fb9f3a\"], [0.8888888888888888, \"#fdca26\"], [1.0, \"#f0f921\"]], \"type\": \"histogram2d\"}], \"histogram2dcontour\": [{\"colorbar\": {\"outlinewidth\": 0, \"ticks\": \"\"}, \"colorscale\": [[0.0, \"#0d0887\"], [0.1111111111111111, \"#46039f\"], [0.2222222222222222, \"#7201a8\"], [0.3333333333333333, \"#9c179e\"], [0.4444444444444444, \"#bd3786\"], [0.5555555555555556, \"#d8576b\"], [0.6666666666666666, \"#ed7953\"], [0.7777777777777778, \"#fb9f3a\"], [0.8888888888888888, \"#fdca26\"], [1.0, \"#f0f921\"]], \"type\": \"histogram2dcontour\"}], \"mesh3d\": [{\"colorbar\": {\"outlinewidth\": 0, \"ticks\": \"\"}, \"type\": \"mesh3d\"}], \"parcoords\": [{\"line\": {\"colorbar\": {\"outlinewidth\": 0, \"ticks\": \"\"}}, \"type\": \"parcoords\"}], \"pie\": [{\"automargin\": true, \"type\": \"pie\"}], \"scatter\": [{\"marker\": {\"colorbar\": {\"outlinewidth\": 0, \"ticks\": \"\"}}, \"type\": \"scatter\"}], \"scatter3d\": [{\"line\": {\"colorbar\": {\"outlinewidth\": 0, \"ticks\": \"\"}}, \"marker\": {\"colorbar\": {\"outlinewidth\": 0, \"ticks\": \"\"}}, \"type\": \"scatter3d\"}], \"scattercarpet\": [{\"marker\": {\"colorbar\": {\"outlinewidth\": 0, \"ticks\": \"\"}}, \"type\": \"scattercarpet\"}], \"scattergeo\": [{\"marker\": {\"colorbar\": {\"outlinewidth\": 0, \"ticks\": \"\"}}, \"type\": \"scattergeo\"}], \"scattergl\": [{\"marker\": {\"colorbar\": {\"outlinewidth\": 0, \"ticks\": \"\"}}, \"type\": \"scattergl\"}], \"scattermapbox\": [{\"marker\": {\"colorbar\": {\"outlinewidth\": 0, \"ticks\": \"\"}}, \"type\": \"scattermapbox\"}], \"scatterpolar\": [{\"marker\": {\"colorbar\": {\"outlinewidth\": 0, \"ticks\": \"\"}}, \"type\": \"scatterpolar\"}], \"scatterpolargl\": [{\"marker\": {\"colorbar\": {\"outlinewidth\": 0, \"ticks\": \"\"}}, \"type\": \"scatterpolargl\"}], \"scatterternary\": [{\"marker\": {\"colorbar\": {\"outlinewidth\": 0, \"ticks\": \"\"}}, \"type\": \"scatterternary\"}], \"surface\": [{\"colorbar\": {\"outlinewidth\": 0, \"ticks\": \"\"}, \"colorscale\": [[0.0, \"#0d0887\"], [0.1111111111111111, \"#46039f\"], [0.2222222222222222, \"#7201a8\"], [0.3333333333333333, \"#9c179e\"], [0.4444444444444444, \"#bd3786\"], [0.5555555555555556, \"#d8576b\"], [0.6666666666666666, \"#ed7953\"], [0.7777777777777778, \"#fb9f3a\"], [0.8888888888888888, \"#fdca26\"], [1.0, \"#f0f921\"]], \"type\": \"surface\"}], \"table\": [{\"cells\": {\"fill\": {\"color\": \"#EBF0F8\"}, \"line\": {\"color\": \"white\"}}, \"header\": {\"fill\": {\"color\": \"#C8D4E3\"}, \"line\": {\"color\": \"white\"}}, \"type\": \"table\"}]}, \"layout\": {\"annotationdefaults\": {\"arrowcolor\": \"#2a3f5f\", \"arrowhead\": 0, \"arrowwidth\": 1}, \"coloraxis\": {\"colorbar\": {\"outlinewidth\": 0, \"ticks\": \"\"}}, \"colorscale\": {\"diverging\": [[0, \"#8e0152\"], [0.1, \"#c51b7d\"], [0.2, \"#de77ae\"], [0.3, \"#f1b6da\"], [0.4, \"#fde0ef\"], [0.5, \"#f7f7f7\"], [0.6, \"#e6f5d0\"], [0.7, \"#b8e186\"], [0.8, \"#7fbc41\"], [0.9, \"#4d9221\"], [1, \"#276419\"]], \"sequential\": [[0.0, \"#0d0887\"], [0.1111111111111111, \"#46039f\"], [0.2222222222222222, \"#7201a8\"], [0.3333333333333333, \"#9c179e\"], [0.4444444444444444, \"#bd3786\"], [0.5555555555555556, \"#d8576b\"], [0.6666666666666666, \"#ed7953\"], [0.7777777777777778, \"#fb9f3a\"], [0.8888888888888888, \"#fdca26\"], [1.0, \"#f0f921\"]], \"sequentialminus\": [[0.0, \"#0d0887\"], [0.1111111111111111, \"#46039f\"], [0.2222222222222222, \"#7201a8\"], [0.3333333333333333, \"#9c179e\"], [0.4444444444444444, \"#bd3786\"], [0.5555555555555556, \"#d8576b\"], [0.6666666666666666, \"#ed7953\"], [0.7777777777777778, \"#fb9f3a\"], [0.8888888888888888, \"#fdca26\"], [1.0, \"#f0f921\"]]}, \"colorway\": [\"#636efa\", \"#EF553B\", \"#00cc96\", \"#ab63fa\", \"#FFA15A\", \"#19d3f3\", \"#FF6692\", \"#B6E880\", \"#FF97FF\", \"#FECB52\"], \"font\": {\"color\": \"#2a3f5f\"}, \"geo\": {\"bgcolor\": \"white\", \"lakecolor\": \"white\", \"landcolor\": \"#E5ECF6\", \"showlakes\": true, \"showland\": true, \"subunitcolor\": \"white\"}, \"hoverlabel\": {\"align\": \"left\"}, \"hovermode\": \"closest\", \"mapbox\": {\"style\": \"light\"}, \"paper_bgcolor\": \"white\", \"plot_bgcolor\": \"#E5ECF6\", \"polar\": {\"angularaxis\": {\"gridcolor\": \"white\", \"linecolor\": \"white\", \"ticks\": \"\"}, \"bgcolor\": \"#E5ECF6\", \"radialaxis\": {\"gridcolor\": \"white\", \"linecolor\": \"white\", \"ticks\": \"\"}}, \"scene\": {\"xaxis\": {\"backgroundcolor\": \"#E5ECF6\", \"gridcolor\": \"white\", \"gridwidth\": 2, \"linecolor\": \"white\", \"showbackground\": true, \"ticks\": \"\", \"zerolinecolor\": \"white\"}, \"yaxis\": {\"backgroundcolor\": \"#E5ECF6\", \"gridcolor\": \"white\", \"gridwidth\": 2, \"linecolor\": \"white\", \"showbackground\": true, \"ticks\": \"\", \"zerolinecolor\": \"white\"}, \"zaxis\": {\"backgroundcolor\": \"#E5ECF6\", \"gridcolor\": \"white\", \"gridwidth\": 2, \"linecolor\": \"white\", \"showbackground\": true, \"ticks\": \"\", \"zerolinecolor\": \"white\"}}, \"shapedefaults\": {\"line\": {\"color\": \"#2a3f5f\"}}, \"ternary\": {\"aaxis\": {\"gridcolor\": \"white\", \"linecolor\": \"white\", \"ticks\": \"\"}, \"baxis\": {\"gridcolor\": \"white\", \"linecolor\": \"white\", \"ticks\": \"\"}, \"bgcolor\": \"#E5ECF6\", \"caxis\": {\"gridcolor\": \"white\", \"linecolor\": \"white\", \"ticks\": \"\"}}, \"title\": {\"x\": 0.05}, \"xaxis\": {\"automargin\": true, \"gridcolor\": \"white\", \"linecolor\": \"white\", \"ticks\": \"\", \"title\": {\"standoff\": 15}, \"zerolinecolor\": \"white\", \"zerolinewidth\": 2}, \"yaxis\": {\"automargin\": true, \"gridcolor\": \"white\", \"linecolor\": \"white\", \"ticks\": \"\", \"title\": {\"standoff\": 15}, \"zerolinecolor\": \"white\", \"zerolinewidth\": 2}}}, \"title\": {\"text\": \"Genders in the year 2020\"}},\n",
       "                        {\"responsive\": true}\n",
       "                    ).then(function(){\n",
       "                            \n",
       "var gd = document.getElementById('30a7c937-dbb5-43ef-bdd1-68067d557d76');\n",
       "var x = new MutationObserver(function (mutations, observer) {{\n",
       "        var display = window.getComputedStyle(gd).display;\n",
       "        if (!display || display === 'none') {{\n",
       "            console.log([gd, 'removed!']);\n",
       "            Plotly.purge(gd);\n",
       "            observer.disconnect();\n",
       "        }}\n",
       "}});\n",
       "\n",
       "// Listen for the removal of the full notebook cells\n",
       "var notebookContainer = gd.closest('#notebook-container');\n",
       "if (notebookContainer) {{\n",
       "    x.observe(notebookContainer, {childList: true});\n",
       "}}\n",
       "\n",
       "// Listen for the clearing of the current output cell\n",
       "var outputEl = gd.closest('.output');\n",
       "if (outputEl) {{\n",
       "    x.observe(outputEl, {childList: true});\n",
       "}}\n",
       "\n",
       "                        })\n",
       "                };\n",
       "                });\n",
       "            </script>\n",
       "        </div>"
      ]
     },
     "metadata": {},
     "output_type": "display_data"
    }
   ],
   "source": [
    "fig = px.pie(df_gender, values='Gender_Ratio', names=df_gender.index, title='Genders in the year 2020')\n",
    "fig.show()\n"
   ]
  },
  {
   "cell_type": "markdown",
   "metadata": {
    "id": "uo95NopBCo6w"
   },
   "source": [
    "## Bonus Section [Optional but carries bonus marks]\n",
    "This dataset is as raw and real as it can get while conducting yearly surveys. You might have observed that the data is not clean and structured and requires some thorough cleaning before deriving meaningful plots. When combined with the power of Plotly and Dash, there are endless possibilities for the insightful visualizations you can create. \n",
    "\n",
    "This section is to let you experiment, explore and create as many visualizations as you’d like. You never know, if we like the creativity and the extra work, you might receive some bonus marks!\n"
   ]
  },
  {
   "cell_type": "code",
   "execution_count": 201,
   "metadata": {
    "ExecuteTime": {
     "end_time": "2021-03-23T17:55:19.683156Z",
     "start_time": "2021-03-23T17:55:18.829655Z"
    },
    "colab": {
     "base_uri": "https://localhost:8080/",
     "height": 542
    },
    "id": "9vwlcPUY67qp",
    "outputId": "d62108c2-3c6f-4827-e123-335465deecf0"
   },
   "outputs": [
    {
     "data": {
      "application/vnd.plotly.v1+json": {
       "config": {
        "plotlyServerURL": "https://plot.ly"
       },
       "data": [
        {
         "hovertemplate": "Current Salary=%{y}<br>x=%{x}<extra></extra>",
         "legendgroup": "50000.0",
         "line": {
          "color": "#636efa",
          "dash": "solid"
         },
         "mode": "lines",
         "name": "50000.0",
         "showlegend": true,
         "type": "scatter",
         "x": [
          0,
          2,
          2.5
         ],
         "xaxis": "x",
         "y": [
          50000,
          50000,
          50000
         ],
         "yaxis": "y"
        },
        {
         "hovertemplate": "Current Salary=%{y}<br>x=%{x}<extra></extra>",
         "legendgroup": "46000.0",
         "line": {
          "color": "#EF553B",
          "dash": "solid"
         },
         "mode": "lines",
         "name": "46000.0",
         "showlegend": true,
         "type": "scatter",
         "x": [
          0.5,
          1
         ],
         "xaxis": "x",
         "y": [
          46000,
          46000
         ],
         "yaxis": "y"
        },
        {
         "hovertemplate": "Current Salary=%{y}<br>x=%{x}<extra></extra>",
         "legendgroup": "58000.0",
         "line": {
          "color": "#00cc96",
          "dash": "solid"
         },
         "mode": "lines",
         "name": "58000.0",
         "showlegend": true,
         "type": "scatter",
         "x": [
          1.5,
          38
         ],
         "xaxis": "x",
         "y": [
          58000,
          58000
         ],
         "yaxis": "y"
        },
        {
         "hovertemplate": "Current Salary=%{y}<br>x=%{x}<extra></extra>",
         "legendgroup": "55555.0",
         "line": {
          "color": "#ab63fa",
          "dash": "solid"
         },
         "mode": "lines",
         "name": "55555.0",
         "showlegend": true,
         "type": "scatter",
         "x": [
          3
         ],
         "xaxis": "x",
         "y": [
          55555
         ],
         "yaxis": "y"
        },
        {
         "hovertemplate": "Current Salary=%{y}<br>x=%{x}<extra></extra>",
         "legendgroup": "60000.0",
         "line": {
          "color": "#FFA15A",
          "dash": "solid"
         },
         "mode": "lines",
         "name": "60000.0",
         "showlegend": true,
         "type": "scatter",
         "x": [
          4,
          5
         ],
         "xaxis": "x",
         "y": [
          60000,
          60000
         ],
         "yaxis": "y"
        },
        {
         "hovertemplate": "Current Salary=%{y}<br>x=%{x}<extra></extra>",
         "legendgroup": "39150.0",
         "line": {
          "color": "#19d3f3",
          "dash": "solid"
         },
         "mode": "lines",
         "name": "39150.0",
         "showlegend": true,
         "type": "scatter",
         "x": [
          4.5
         ],
         "xaxis": "x",
         "y": [
          39150
         ],
         "yaxis": "y"
        },
        {
         "hovertemplate": "Current Salary=%{y}<br>x=%{x}<extra></extra>",
         "legendgroup": "64000.0",
         "line": {
          "color": "#FF6692",
          "dash": "solid"
         },
         "mode": "lines",
         "name": "64000.0",
         "showlegend": true,
         "type": "scatter",
         "x": [
          6,
          30
         ],
         "xaxis": "x",
         "y": [
          64000,
          64000
         ],
         "yaxis": "y"
        },
        {
         "hovertemplate": "Current Salary=%{y}<br>x=%{x}<extra></extra>",
         "legendgroup": "68000.0",
         "line": {
          "color": "#B6E880",
          "dash": "solid"
         },
         "mode": "lines",
         "name": "68000.0",
         "showlegend": true,
         "type": "scatter",
         "x": [
          7,
          15
         ],
         "xaxis": "x",
         "y": [
          68000,
          68000
         ],
         "yaxis": "y"
        },
        {
         "hovertemplate": "Current Salary=%{y}<br>x=%{x}<extra></extra>",
         "legendgroup": "65000.0",
         "line": {
          "color": "#FF97FF",
          "dash": "solid"
         },
         "mode": "lines",
         "name": "65000.0",
         "showlegend": true,
         "type": "scatter",
         "x": [
          7.5
         ],
         "xaxis": "x",
         "y": [
          65000
         ],
         "yaxis": "y"
        },
        {
         "hovertemplate": "Current Salary=%{y}<br>x=%{x}<extra></extra>",
         "legendgroup": "70000.0",
         "line": {
          "color": "#FECB52",
          "dash": "solid"
         },
         "mode": "lines",
         "name": "70000.0",
         "showlegend": true,
         "type": "scatter",
         "x": [
          8,
          9,
          10
         ],
         "xaxis": "x",
         "y": [
          70000,
          70000,
          70000
         ],
         "yaxis": "y"
        },
        {
         "hovertemplate": "Current Salary=%{y}<br>x=%{x}<extra></extra>",
         "legendgroup": "68381.76533333333",
         "line": {
          "color": "#636efa",
          "dash": "solid"
         },
         "mode": "lines",
         "name": "68381.76533333333",
         "showlegend": true,
         "type": "scatter",
         "x": [
          8.548497267759563
         ],
         "xaxis": "x",
         "y": [
          68381.76533333333
         ],
         "yaxis": "y"
        },
        {
         "hovertemplate": "Current Salary=%{y}<br>x=%{x}<extra></extra>",
         "legendgroup": "71000.0",
         "line": {
          "color": "#EF553B",
          "dash": "solid"
         },
         "mode": "lines",
         "name": "71000.0",
         "showlegend": true,
         "type": "scatter",
         "x": [
          11,
          12
         ],
         "xaxis": "x",
         "y": [
          71000,
          71000
         ],
         "yaxis": "y"
        },
        {
         "hovertemplate": "Current Salary=%{y}<br>x=%{x}<extra></extra>",
         "legendgroup": "73500.0",
         "line": {
          "color": "#00cc96",
          "dash": "solid"
         },
         "mode": "lines",
         "name": "73500.0",
         "showlegend": true,
         "type": "scatter",
         "x": [
          13
         ],
         "xaxis": "x",
         "y": [
          73500
         ],
         "yaxis": "y"
        },
        {
         "hovertemplate": "Current Salary=%{y}<br>x=%{x}<extra></extra>",
         "legendgroup": "71500.0",
         "line": {
          "color": "#ab63fa",
          "dash": "solid"
         },
         "mode": "lines",
         "name": "71500.0",
         "showlegend": true,
         "type": "scatter",
         "x": [
          14
         ],
         "xaxis": "x",
         "y": [
          71500
         ],
         "yaxis": "y"
        },
        {
         "hovertemplate": "Current Salary=%{y}<br>x=%{x}<extra></extra>",
         "legendgroup": "90500.0",
         "line": {
          "color": "#FFA15A",
          "dash": "solid"
         },
         "mode": "lines",
         "name": "90500.0",
         "showlegend": true,
         "type": "scatter",
         "x": [
          16
         ],
         "xaxis": "x",
         "y": [
          90500
         ],
         "yaxis": "y"
        },
        {
         "hovertemplate": "Current Salary=%{y}<br>x=%{x}<extra></extra>",
         "legendgroup": "80000.0",
         "line": {
          "color": "#19d3f3",
          "dash": "solid"
         },
         "mode": "lines",
         "name": "80000.0",
         "showlegend": true,
         "type": "scatter",
         "x": [
          17,
          20
         ],
         "xaxis": "x",
         "y": [
          80000,
          80000
         ],
         "yaxis": "y"
        },
        {
         "hovertemplate": "Current Salary=%{y}<br>x=%{x}<extra></extra>",
         "legendgroup": "72500.0",
         "line": {
          "color": "#FF6692",
          "dash": "solid"
         },
         "mode": "lines",
         "name": "72500.0",
         "showlegend": true,
         "type": "scatter",
         "x": [
          18
         ],
         "xaxis": "x",
         "y": [
          72500
         ],
         "yaxis": "y"
        },
        {
         "hovertemplate": "Current Salary=%{y}<br>x=%{x}<extra></extra>",
         "legendgroup": "84000.0",
         "line": {
          "color": "#B6E880",
          "dash": "solid"
         },
         "mode": "lines",
         "name": "84000.0",
         "showlegend": true,
         "type": "scatter",
         "x": [
          19
         ],
         "xaxis": "x",
         "y": [
          84000
         ],
         "yaxis": "y"
        },
        {
         "hovertemplate": "Current Salary=%{y}<br>x=%{x}<extra></extra>",
         "legendgroup": "90000.0",
         "line": {
          "color": "#FF97FF",
          "dash": "solid"
         },
         "mode": "lines",
         "name": "90000.0",
         "showlegend": true,
         "type": "scatter",
         "x": [
          21
         ],
         "xaxis": "x",
         "y": [
          90000
         ],
         "yaxis": "y"
        },
        {
         "hovertemplate": "Current Salary=%{y}<br>x=%{x}<extra></extra>",
         "legendgroup": "109000.0",
         "line": {
          "color": "#FECB52",
          "dash": "solid"
         },
         "mode": "lines",
         "name": "109000.0",
         "showlegend": true,
         "type": "scatter",
         "x": [
          25
         ],
         "xaxis": "x",
         "y": [
          109000
         ],
         "yaxis": "y"
        }
       ],
       "layout": {
        "legend": {
         "title": {
          "text": "Current Salary"
         },
         "tracegroupgap": 0
        },
        "template": {
         "data": {
          "bar": [
           {
            "error_x": {
             "color": "#2a3f5f"
            },
            "error_y": {
             "color": "#2a3f5f"
            },
            "marker": {
             "line": {
              "color": "#E5ECF6",
              "width": 0.5
             }
            },
            "type": "bar"
           }
          ],
          "barpolar": [
           {
            "marker": {
             "line": {
              "color": "#E5ECF6",
              "width": 0.5
             }
            },
            "type": "barpolar"
           }
          ],
          "carpet": [
           {
            "aaxis": {
             "endlinecolor": "#2a3f5f",
             "gridcolor": "white",
             "linecolor": "white",
             "minorgridcolor": "white",
             "startlinecolor": "#2a3f5f"
            },
            "baxis": {
             "endlinecolor": "#2a3f5f",
             "gridcolor": "white",
             "linecolor": "white",
             "minorgridcolor": "white",
             "startlinecolor": "#2a3f5f"
            },
            "type": "carpet"
           }
          ],
          "choropleth": [
           {
            "colorbar": {
             "outlinewidth": 0,
             "ticks": ""
            },
            "type": "choropleth"
           }
          ],
          "contour": [
           {
            "colorbar": {
             "outlinewidth": 0,
             "ticks": ""
            },
            "colorscale": [
             [
              0,
              "#0d0887"
             ],
             [
              0.1111111111111111,
              "#46039f"
             ],
             [
              0.2222222222222222,
              "#7201a8"
             ],
             [
              0.3333333333333333,
              "#9c179e"
             ],
             [
              0.4444444444444444,
              "#bd3786"
             ],
             [
              0.5555555555555556,
              "#d8576b"
             ],
             [
              0.6666666666666666,
              "#ed7953"
             ],
             [
              0.7777777777777778,
              "#fb9f3a"
             ],
             [
              0.8888888888888888,
              "#fdca26"
             ],
             [
              1,
              "#f0f921"
             ]
            ],
            "type": "contour"
           }
          ],
          "contourcarpet": [
           {
            "colorbar": {
             "outlinewidth": 0,
             "ticks": ""
            },
            "type": "contourcarpet"
           }
          ],
          "heatmap": [
           {
            "colorbar": {
             "outlinewidth": 0,
             "ticks": ""
            },
            "colorscale": [
             [
              0,
              "#0d0887"
             ],
             [
              0.1111111111111111,
              "#46039f"
             ],
             [
              0.2222222222222222,
              "#7201a8"
             ],
             [
              0.3333333333333333,
              "#9c179e"
             ],
             [
              0.4444444444444444,
              "#bd3786"
             ],
             [
              0.5555555555555556,
              "#d8576b"
             ],
             [
              0.6666666666666666,
              "#ed7953"
             ],
             [
              0.7777777777777778,
              "#fb9f3a"
             ],
             [
              0.8888888888888888,
              "#fdca26"
             ],
             [
              1,
              "#f0f921"
             ]
            ],
            "type": "heatmap"
           }
          ],
          "heatmapgl": [
           {
            "colorbar": {
             "outlinewidth": 0,
             "ticks": ""
            },
            "colorscale": [
             [
              0,
              "#0d0887"
             ],
             [
              0.1111111111111111,
              "#46039f"
             ],
             [
              0.2222222222222222,
              "#7201a8"
             ],
             [
              0.3333333333333333,
              "#9c179e"
             ],
             [
              0.4444444444444444,
              "#bd3786"
             ],
             [
              0.5555555555555556,
              "#d8576b"
             ],
             [
              0.6666666666666666,
              "#ed7953"
             ],
             [
              0.7777777777777778,
              "#fb9f3a"
             ],
             [
              0.8888888888888888,
              "#fdca26"
             ],
             [
              1,
              "#f0f921"
             ]
            ],
            "type": "heatmapgl"
           }
          ],
          "histogram": [
           {
            "marker": {
             "colorbar": {
              "outlinewidth": 0,
              "ticks": ""
             }
            },
            "type": "histogram"
           }
          ],
          "histogram2d": [
           {
            "colorbar": {
             "outlinewidth": 0,
             "ticks": ""
            },
            "colorscale": [
             [
              0,
              "#0d0887"
             ],
             [
              0.1111111111111111,
              "#46039f"
             ],
             [
              0.2222222222222222,
              "#7201a8"
             ],
             [
              0.3333333333333333,
              "#9c179e"
             ],
             [
              0.4444444444444444,
              "#bd3786"
             ],
             [
              0.5555555555555556,
              "#d8576b"
             ],
             [
              0.6666666666666666,
              "#ed7953"
             ],
             [
              0.7777777777777778,
              "#fb9f3a"
             ],
             [
              0.8888888888888888,
              "#fdca26"
             ],
             [
              1,
              "#f0f921"
             ]
            ],
            "type": "histogram2d"
           }
          ],
          "histogram2dcontour": [
           {
            "colorbar": {
             "outlinewidth": 0,
             "ticks": ""
            },
            "colorscale": [
             [
              0,
              "#0d0887"
             ],
             [
              0.1111111111111111,
              "#46039f"
             ],
             [
              0.2222222222222222,
              "#7201a8"
             ],
             [
              0.3333333333333333,
              "#9c179e"
             ],
             [
              0.4444444444444444,
              "#bd3786"
             ],
             [
              0.5555555555555556,
              "#d8576b"
             ],
             [
              0.6666666666666666,
              "#ed7953"
             ],
             [
              0.7777777777777778,
              "#fb9f3a"
             ],
             [
              0.8888888888888888,
              "#fdca26"
             ],
             [
              1,
              "#f0f921"
             ]
            ],
            "type": "histogram2dcontour"
           }
          ],
          "mesh3d": [
           {
            "colorbar": {
             "outlinewidth": 0,
             "ticks": ""
            },
            "type": "mesh3d"
           }
          ],
          "parcoords": [
           {
            "line": {
             "colorbar": {
              "outlinewidth": 0,
              "ticks": ""
             }
            },
            "type": "parcoords"
           }
          ],
          "pie": [
           {
            "automargin": true,
            "type": "pie"
           }
          ],
          "scatter": [
           {
            "marker": {
             "colorbar": {
              "outlinewidth": 0,
              "ticks": ""
             }
            },
            "type": "scatter"
           }
          ],
          "scatter3d": [
           {
            "line": {
             "colorbar": {
              "outlinewidth": 0,
              "ticks": ""
             }
            },
            "marker": {
             "colorbar": {
              "outlinewidth": 0,
              "ticks": ""
             }
            },
            "type": "scatter3d"
           }
          ],
          "scattercarpet": [
           {
            "marker": {
             "colorbar": {
              "outlinewidth": 0,
              "ticks": ""
             }
            },
            "type": "scattercarpet"
           }
          ],
          "scattergeo": [
           {
            "marker": {
             "colorbar": {
              "outlinewidth": 0,
              "ticks": ""
             }
            },
            "type": "scattergeo"
           }
          ],
          "scattergl": [
           {
            "marker": {
             "colorbar": {
              "outlinewidth": 0,
              "ticks": ""
             }
            },
            "type": "scattergl"
           }
          ],
          "scattermapbox": [
           {
            "marker": {
             "colorbar": {
              "outlinewidth": 0,
              "ticks": ""
             }
            },
            "type": "scattermapbox"
           }
          ],
          "scatterpolar": [
           {
            "marker": {
             "colorbar": {
              "outlinewidth": 0,
              "ticks": ""
             }
            },
            "type": "scatterpolar"
           }
          ],
          "scatterpolargl": [
           {
            "marker": {
             "colorbar": {
              "outlinewidth": 0,
              "ticks": ""
             }
            },
            "type": "scatterpolargl"
           }
          ],
          "scatterternary": [
           {
            "marker": {
             "colorbar": {
              "outlinewidth": 0,
              "ticks": ""
             }
            },
            "type": "scatterternary"
           }
          ],
          "surface": [
           {
            "colorbar": {
             "outlinewidth": 0,
             "ticks": ""
            },
            "colorscale": [
             [
              0,
              "#0d0887"
             ],
             [
              0.1111111111111111,
              "#46039f"
             ],
             [
              0.2222222222222222,
              "#7201a8"
             ],
             [
              0.3333333333333333,
              "#9c179e"
             ],
             [
              0.4444444444444444,
              "#bd3786"
             ],
             [
              0.5555555555555556,
              "#d8576b"
             ],
             [
              0.6666666666666666,
              "#ed7953"
             ],
             [
              0.7777777777777778,
              "#fb9f3a"
             ],
             [
              0.8888888888888888,
              "#fdca26"
             ],
             [
              1,
              "#f0f921"
             ]
            ],
            "type": "surface"
           }
          ],
          "table": [
           {
            "cells": {
             "fill": {
              "color": "#EBF0F8"
             },
             "line": {
              "color": "white"
             }
            },
            "header": {
             "fill": {
              "color": "#C8D4E3"
             },
             "line": {
              "color": "white"
             }
            },
            "type": "table"
           }
          ]
         },
         "layout": {
          "annotationdefaults": {
           "arrowcolor": "#2a3f5f",
           "arrowhead": 0,
           "arrowwidth": 1
          },
          "coloraxis": {
           "colorbar": {
            "outlinewidth": 0,
            "ticks": ""
           }
          },
          "colorscale": {
           "diverging": [
            [
             0,
             "#8e0152"
            ],
            [
             0.1,
             "#c51b7d"
            ],
            [
             0.2,
             "#de77ae"
            ],
            [
             0.3,
             "#f1b6da"
            ],
            [
             0.4,
             "#fde0ef"
            ],
            [
             0.5,
             "#f7f7f7"
            ],
            [
             0.6,
             "#e6f5d0"
            ],
            [
             0.7,
             "#b8e186"
            ],
            [
             0.8,
             "#7fbc41"
            ],
            [
             0.9,
             "#4d9221"
            ],
            [
             1,
             "#276419"
            ]
           ],
           "sequential": [
            [
             0,
             "#0d0887"
            ],
            [
             0.1111111111111111,
             "#46039f"
            ],
            [
             0.2222222222222222,
             "#7201a8"
            ],
            [
             0.3333333333333333,
             "#9c179e"
            ],
            [
             0.4444444444444444,
             "#bd3786"
            ],
            [
             0.5555555555555556,
             "#d8576b"
            ],
            [
             0.6666666666666666,
             "#ed7953"
            ],
            [
             0.7777777777777778,
             "#fb9f3a"
            ],
            [
             0.8888888888888888,
             "#fdca26"
            ],
            [
             1,
             "#f0f921"
            ]
           ],
           "sequentialminus": [
            [
             0,
             "#0d0887"
            ],
            [
             0.1111111111111111,
             "#46039f"
            ],
            [
             0.2222222222222222,
             "#7201a8"
            ],
            [
             0.3333333333333333,
             "#9c179e"
            ],
            [
             0.4444444444444444,
             "#bd3786"
            ],
            [
             0.5555555555555556,
             "#d8576b"
            ],
            [
             0.6666666666666666,
             "#ed7953"
            ],
            [
             0.7777777777777778,
             "#fb9f3a"
            ],
            [
             0.8888888888888888,
             "#fdca26"
            ],
            [
             1,
             "#f0f921"
            ]
           ]
          },
          "colorway": [
           "#636efa",
           "#EF553B",
           "#00cc96",
           "#ab63fa",
           "#FFA15A",
           "#19d3f3",
           "#FF6692",
           "#B6E880",
           "#FF97FF",
           "#FECB52"
          ],
          "font": {
           "color": "#2a3f5f"
          },
          "geo": {
           "bgcolor": "white",
           "lakecolor": "white",
           "landcolor": "#E5ECF6",
           "showlakes": true,
           "showland": true,
           "subunitcolor": "white"
          },
          "hoverlabel": {
           "align": "left"
          },
          "hovermode": "closest",
          "mapbox": {
           "style": "light"
          },
          "paper_bgcolor": "white",
          "plot_bgcolor": "#E5ECF6",
          "polar": {
           "angularaxis": {
            "gridcolor": "white",
            "linecolor": "white",
            "ticks": ""
           },
           "bgcolor": "#E5ECF6",
           "radialaxis": {
            "gridcolor": "white",
            "linecolor": "white",
            "ticks": ""
           }
          },
          "scene": {
           "xaxis": {
            "backgroundcolor": "#E5ECF6",
            "gridcolor": "white",
            "gridwidth": 2,
            "linecolor": "white",
            "showbackground": true,
            "ticks": "",
            "zerolinecolor": "white"
           },
           "yaxis": {
            "backgroundcolor": "#E5ECF6",
            "gridcolor": "white",
            "gridwidth": 2,
            "linecolor": "white",
            "showbackground": true,
            "ticks": "",
            "zerolinecolor": "white"
           },
           "zaxis": {
            "backgroundcolor": "#E5ECF6",
            "gridcolor": "white",
            "gridwidth": 2,
            "linecolor": "white",
            "showbackground": true,
            "ticks": "",
            "zerolinecolor": "white"
           }
          },
          "shapedefaults": {
           "line": {
            "color": "#2a3f5f"
           }
          },
          "ternary": {
           "aaxis": {
            "gridcolor": "white",
            "linecolor": "white",
            "ticks": ""
           },
           "baxis": {
            "gridcolor": "white",
            "linecolor": "white",
            "ticks": ""
           },
           "bgcolor": "#E5ECF6",
           "caxis": {
            "gridcolor": "white",
            "linecolor": "white",
            "ticks": ""
           }
          },
          "title": {
           "x": 0.05
          },
          "xaxis": {
           "automargin": true,
           "gridcolor": "white",
           "linecolor": "white",
           "ticks": "",
           "title": {
            "standoff": 15
           },
           "zerolinecolor": "white",
           "zerolinewidth": 2
          },
          "yaxis": {
           "automargin": true,
           "gridcolor": "white",
           "linecolor": "white",
           "ticks": "",
           "title": {
            "standoff": 15
           },
           "zerolinecolor": "white",
           "zerolinewidth": 2
          }
         }
        },
        "title": {
         "text": "Years of XP vs Median Salary for Each Year of XP, colored by Cur. Salary -- Year 2018"
        },
        "xaxis": {
         "anchor": "y",
         "domain": [
          0,
          1
         ],
         "title": {
          "text": "x"
         }
        },
        "yaxis": {
         "anchor": "x",
         "categoryarray": [
          109000,
          90000,
          84000,
          72500,
          80000,
          90500,
          71500,
          73500,
          71000,
          68381.76533333333,
          70000,
          65000,
          68000,
          64000,
          39150,
          60000,
          55555,
          58000,
          46000,
          50000
         ],
         "categoryorder": "array",
         "domain": [
          0,
          1
         ],
         "title": {
          "text": "Current Salary"
         }
        }
       }
      },
      "text/html": [
       "<div>\n",
       "        \n",
       "        \n",
       "            <div id=\"9a7965fa-f238-45a1-8f22-85ecdafc202b\" class=\"plotly-graph-div\" style=\"height:525px; width:100%;\"></div>\n",
       "            <script type=\"text/javascript\">\n",
       "                require([\"plotly\"], function(Plotly) {\n",
       "                    window.PLOTLYENV=window.PLOTLYENV || {};\n",
       "                    \n",
       "                if (document.getElementById(\"9a7965fa-f238-45a1-8f22-85ecdafc202b\")) {\n",
       "                    Plotly.newPlot(\n",
       "                        '9a7965fa-f238-45a1-8f22-85ecdafc202b',\n",
       "                        [{\"hovertemplate\": \"Current Salary=%{y}<br>x=%{x}<extra></extra>\", \"legendgroup\": \"50000.0\", \"line\": {\"color\": \"#636efa\", \"dash\": \"solid\"}, \"mode\": \"lines\", \"name\": \"50000.0\", \"showlegend\": true, \"type\": \"scatter\", \"x\": [0.0, 2.0, 2.5], \"xaxis\": \"x\", \"y\": [50000.0, 50000.0, 50000.0], \"yaxis\": \"y\"}, {\"hovertemplate\": \"Current Salary=%{y}<br>x=%{x}<extra></extra>\", \"legendgroup\": \"46000.0\", \"line\": {\"color\": \"#EF553B\", \"dash\": \"solid\"}, \"mode\": \"lines\", \"name\": \"46000.0\", \"showlegend\": true, \"type\": \"scatter\", \"x\": [0.5, 1.0], \"xaxis\": \"x\", \"y\": [46000.0, 46000.0], \"yaxis\": \"y\"}, {\"hovertemplate\": \"Current Salary=%{y}<br>x=%{x}<extra></extra>\", \"legendgroup\": \"58000.0\", \"line\": {\"color\": \"#00cc96\", \"dash\": \"solid\"}, \"mode\": \"lines\", \"name\": \"58000.0\", \"showlegend\": true, \"type\": \"scatter\", \"x\": [1.5, 38.0], \"xaxis\": \"x\", \"y\": [58000.0, 58000.0], \"yaxis\": \"y\"}, {\"hovertemplate\": \"Current Salary=%{y}<br>x=%{x}<extra></extra>\", \"legendgroup\": \"55555.0\", \"line\": {\"color\": \"#ab63fa\", \"dash\": \"solid\"}, \"mode\": \"lines\", \"name\": \"55555.0\", \"showlegend\": true, \"type\": \"scatter\", \"x\": [3.0], \"xaxis\": \"x\", \"y\": [55555.0], \"yaxis\": \"y\"}, {\"hovertemplate\": \"Current Salary=%{y}<br>x=%{x}<extra></extra>\", \"legendgroup\": \"60000.0\", \"line\": {\"color\": \"#FFA15A\", \"dash\": \"solid\"}, \"mode\": \"lines\", \"name\": \"60000.0\", \"showlegend\": true, \"type\": \"scatter\", \"x\": [4.0, 5.0], \"xaxis\": \"x\", \"y\": [60000.0, 60000.0], \"yaxis\": \"y\"}, {\"hovertemplate\": \"Current Salary=%{y}<br>x=%{x}<extra></extra>\", \"legendgroup\": \"39150.0\", \"line\": {\"color\": \"#19d3f3\", \"dash\": \"solid\"}, \"mode\": \"lines\", \"name\": \"39150.0\", \"showlegend\": true, \"type\": \"scatter\", \"x\": [4.5], \"xaxis\": \"x\", \"y\": [39150.0], \"yaxis\": \"y\"}, {\"hovertemplate\": \"Current Salary=%{y}<br>x=%{x}<extra></extra>\", \"legendgroup\": \"64000.0\", \"line\": {\"color\": \"#FF6692\", \"dash\": \"solid\"}, \"mode\": \"lines\", \"name\": \"64000.0\", \"showlegend\": true, \"type\": \"scatter\", \"x\": [6.0, 30.0], \"xaxis\": \"x\", \"y\": [64000.0, 64000.0], \"yaxis\": \"y\"}, {\"hovertemplate\": \"Current Salary=%{y}<br>x=%{x}<extra></extra>\", \"legendgroup\": \"68000.0\", \"line\": {\"color\": \"#B6E880\", \"dash\": \"solid\"}, \"mode\": \"lines\", \"name\": \"68000.0\", \"showlegend\": true, \"type\": \"scatter\", \"x\": [7.0, 15.0], \"xaxis\": \"x\", \"y\": [68000.0, 68000.0], \"yaxis\": \"y\"}, {\"hovertemplate\": \"Current Salary=%{y}<br>x=%{x}<extra></extra>\", \"legendgroup\": \"65000.0\", \"line\": {\"color\": \"#FF97FF\", \"dash\": \"solid\"}, \"mode\": \"lines\", \"name\": \"65000.0\", \"showlegend\": true, \"type\": \"scatter\", \"x\": [7.5], \"xaxis\": \"x\", \"y\": [65000.0], \"yaxis\": \"y\"}, {\"hovertemplate\": \"Current Salary=%{y}<br>x=%{x}<extra></extra>\", \"legendgroup\": \"70000.0\", \"line\": {\"color\": \"#FECB52\", \"dash\": \"solid\"}, \"mode\": \"lines\", \"name\": \"70000.0\", \"showlegend\": true, \"type\": \"scatter\", \"x\": [8.0, 9.0, 10.0], \"xaxis\": \"x\", \"y\": [70000.0, 70000.0, 70000.0], \"yaxis\": \"y\"}, {\"hovertemplate\": \"Current Salary=%{y}<br>x=%{x}<extra></extra>\", \"legendgroup\": \"68381.76533333333\", \"line\": {\"color\": \"#636efa\", \"dash\": \"solid\"}, \"mode\": \"lines\", \"name\": \"68381.76533333333\", \"showlegend\": true, \"type\": \"scatter\", \"x\": [8.548497267759563], \"xaxis\": \"x\", \"y\": [68381.76533333333], \"yaxis\": \"y\"}, {\"hovertemplate\": \"Current Salary=%{y}<br>x=%{x}<extra></extra>\", \"legendgroup\": \"71000.0\", \"line\": {\"color\": \"#EF553B\", \"dash\": \"solid\"}, \"mode\": \"lines\", \"name\": \"71000.0\", \"showlegend\": true, \"type\": \"scatter\", \"x\": [11.0, 12.0], \"xaxis\": \"x\", \"y\": [71000.0, 71000.0], \"yaxis\": \"y\"}, {\"hovertemplate\": \"Current Salary=%{y}<br>x=%{x}<extra></extra>\", \"legendgroup\": \"73500.0\", \"line\": {\"color\": \"#00cc96\", \"dash\": \"solid\"}, \"mode\": \"lines\", \"name\": \"73500.0\", \"showlegend\": true, \"type\": \"scatter\", \"x\": [13.0], \"xaxis\": \"x\", \"y\": [73500.0], \"yaxis\": \"y\"}, {\"hovertemplate\": \"Current Salary=%{y}<br>x=%{x}<extra></extra>\", \"legendgroup\": \"71500.0\", \"line\": {\"color\": \"#ab63fa\", \"dash\": \"solid\"}, \"mode\": \"lines\", \"name\": \"71500.0\", \"showlegend\": true, \"type\": \"scatter\", \"x\": [14.0], \"xaxis\": \"x\", \"y\": [71500.0], \"yaxis\": \"y\"}, {\"hovertemplate\": \"Current Salary=%{y}<br>x=%{x}<extra></extra>\", \"legendgroup\": \"90500.0\", \"line\": {\"color\": \"#FFA15A\", \"dash\": \"solid\"}, \"mode\": \"lines\", \"name\": \"90500.0\", \"showlegend\": true, \"type\": \"scatter\", \"x\": [16.0], \"xaxis\": \"x\", \"y\": [90500.0], \"yaxis\": \"y\"}, {\"hovertemplate\": \"Current Salary=%{y}<br>x=%{x}<extra></extra>\", \"legendgroup\": \"80000.0\", \"line\": {\"color\": \"#19d3f3\", \"dash\": \"solid\"}, \"mode\": \"lines\", \"name\": \"80000.0\", \"showlegend\": true, \"type\": \"scatter\", \"x\": [17.0, 20.0], \"xaxis\": \"x\", \"y\": [80000.0, 80000.0], \"yaxis\": \"y\"}, {\"hovertemplate\": \"Current Salary=%{y}<br>x=%{x}<extra></extra>\", \"legendgroup\": \"72500.0\", \"line\": {\"color\": \"#FF6692\", \"dash\": \"solid\"}, \"mode\": \"lines\", \"name\": \"72500.0\", \"showlegend\": true, \"type\": \"scatter\", \"x\": [18.0], \"xaxis\": \"x\", \"y\": [72500.0], \"yaxis\": \"y\"}, {\"hovertemplate\": \"Current Salary=%{y}<br>x=%{x}<extra></extra>\", \"legendgroup\": \"84000.0\", \"line\": {\"color\": \"#B6E880\", \"dash\": \"solid\"}, \"mode\": \"lines\", \"name\": \"84000.0\", \"showlegend\": true, \"type\": \"scatter\", \"x\": [19.0], \"xaxis\": \"x\", \"y\": [84000.0], \"yaxis\": \"y\"}, {\"hovertemplate\": \"Current Salary=%{y}<br>x=%{x}<extra></extra>\", \"legendgroup\": \"90000.0\", \"line\": {\"color\": \"#FF97FF\", \"dash\": \"solid\"}, \"mode\": \"lines\", \"name\": \"90000.0\", \"showlegend\": true, \"type\": \"scatter\", \"x\": [21.0], \"xaxis\": \"x\", \"y\": [90000.0], \"yaxis\": \"y\"}, {\"hovertemplate\": \"Current Salary=%{y}<br>x=%{x}<extra></extra>\", \"legendgroup\": \"109000.0\", \"line\": {\"color\": \"#FECB52\", \"dash\": \"solid\"}, \"mode\": \"lines\", \"name\": \"109000.0\", \"showlegend\": true, \"type\": \"scatter\", \"x\": [25.0], \"xaxis\": \"x\", \"y\": [109000.0], \"yaxis\": \"y\"}],\n",
       "                        {\"legend\": {\"title\": {\"text\": \"Current Salary\"}, \"tracegroupgap\": 0}, \"template\": {\"data\": {\"bar\": [{\"error_x\": {\"color\": \"#2a3f5f\"}, \"error_y\": {\"color\": \"#2a3f5f\"}, \"marker\": {\"line\": {\"color\": \"#E5ECF6\", \"width\": 0.5}}, \"type\": \"bar\"}], \"barpolar\": [{\"marker\": {\"line\": {\"color\": \"#E5ECF6\", \"width\": 0.5}}, \"type\": \"barpolar\"}], \"carpet\": [{\"aaxis\": {\"endlinecolor\": \"#2a3f5f\", \"gridcolor\": \"white\", \"linecolor\": \"white\", \"minorgridcolor\": \"white\", \"startlinecolor\": \"#2a3f5f\"}, \"baxis\": {\"endlinecolor\": \"#2a3f5f\", \"gridcolor\": \"white\", \"linecolor\": \"white\", \"minorgridcolor\": \"white\", \"startlinecolor\": \"#2a3f5f\"}, \"type\": \"carpet\"}], \"choropleth\": [{\"colorbar\": {\"outlinewidth\": 0, \"ticks\": \"\"}, \"type\": \"choropleth\"}], \"contour\": [{\"colorbar\": {\"outlinewidth\": 0, \"ticks\": \"\"}, \"colorscale\": [[0.0, \"#0d0887\"], [0.1111111111111111, \"#46039f\"], [0.2222222222222222, \"#7201a8\"], [0.3333333333333333, \"#9c179e\"], [0.4444444444444444, \"#bd3786\"], [0.5555555555555556, \"#d8576b\"], [0.6666666666666666, \"#ed7953\"], [0.7777777777777778, \"#fb9f3a\"], [0.8888888888888888, \"#fdca26\"], [1.0, \"#f0f921\"]], \"type\": \"contour\"}], \"contourcarpet\": [{\"colorbar\": {\"outlinewidth\": 0, \"ticks\": \"\"}, \"type\": \"contourcarpet\"}], \"heatmap\": [{\"colorbar\": {\"outlinewidth\": 0, \"ticks\": \"\"}, \"colorscale\": [[0.0, \"#0d0887\"], [0.1111111111111111, \"#46039f\"], [0.2222222222222222, \"#7201a8\"], [0.3333333333333333, \"#9c179e\"], [0.4444444444444444, \"#bd3786\"], [0.5555555555555556, \"#d8576b\"], [0.6666666666666666, \"#ed7953\"], [0.7777777777777778, \"#fb9f3a\"], [0.8888888888888888, \"#fdca26\"], [1.0, \"#f0f921\"]], \"type\": \"heatmap\"}], \"heatmapgl\": [{\"colorbar\": {\"outlinewidth\": 0, \"ticks\": \"\"}, \"colorscale\": [[0.0, \"#0d0887\"], [0.1111111111111111, \"#46039f\"], [0.2222222222222222, \"#7201a8\"], [0.3333333333333333, \"#9c179e\"], [0.4444444444444444, \"#bd3786\"], [0.5555555555555556, \"#d8576b\"], [0.6666666666666666, \"#ed7953\"], [0.7777777777777778, \"#fb9f3a\"], [0.8888888888888888, \"#fdca26\"], [1.0, \"#f0f921\"]], \"type\": \"heatmapgl\"}], \"histogram\": [{\"marker\": {\"colorbar\": {\"outlinewidth\": 0, \"ticks\": \"\"}}, \"type\": \"histogram\"}], \"histogram2d\": [{\"colorbar\": {\"outlinewidth\": 0, \"ticks\": \"\"}, \"colorscale\": [[0.0, \"#0d0887\"], [0.1111111111111111, \"#46039f\"], [0.2222222222222222, \"#7201a8\"], [0.3333333333333333, \"#9c179e\"], [0.4444444444444444, \"#bd3786\"], [0.5555555555555556, \"#d8576b\"], [0.6666666666666666, \"#ed7953\"], [0.7777777777777778, \"#fb9f3a\"], [0.8888888888888888, \"#fdca26\"], [1.0, \"#f0f921\"]], \"type\": \"histogram2d\"}], \"histogram2dcontour\": [{\"colorbar\": {\"outlinewidth\": 0, \"ticks\": \"\"}, \"colorscale\": [[0.0, \"#0d0887\"], [0.1111111111111111, \"#46039f\"], [0.2222222222222222, \"#7201a8\"], [0.3333333333333333, \"#9c179e\"], [0.4444444444444444, \"#bd3786\"], [0.5555555555555556, \"#d8576b\"], [0.6666666666666666, \"#ed7953\"], [0.7777777777777778, \"#fb9f3a\"], [0.8888888888888888, \"#fdca26\"], [1.0, \"#f0f921\"]], \"type\": \"histogram2dcontour\"}], \"mesh3d\": [{\"colorbar\": {\"outlinewidth\": 0, \"ticks\": \"\"}, \"type\": \"mesh3d\"}], \"parcoords\": [{\"line\": {\"colorbar\": {\"outlinewidth\": 0, \"ticks\": \"\"}}, \"type\": \"parcoords\"}], \"pie\": [{\"automargin\": true, \"type\": \"pie\"}], \"scatter\": [{\"marker\": {\"colorbar\": {\"outlinewidth\": 0, \"ticks\": \"\"}}, \"type\": \"scatter\"}], \"scatter3d\": [{\"line\": {\"colorbar\": {\"outlinewidth\": 0, \"ticks\": \"\"}}, \"marker\": {\"colorbar\": {\"outlinewidth\": 0, \"ticks\": \"\"}}, \"type\": \"scatter3d\"}], \"scattercarpet\": [{\"marker\": {\"colorbar\": {\"outlinewidth\": 0, \"ticks\": \"\"}}, \"type\": \"scattercarpet\"}], \"scattergeo\": [{\"marker\": {\"colorbar\": {\"outlinewidth\": 0, \"ticks\": \"\"}}, \"type\": \"scattergeo\"}], \"scattergl\": [{\"marker\": {\"colorbar\": {\"outlinewidth\": 0, \"ticks\": \"\"}}, \"type\": \"scattergl\"}], \"scattermapbox\": [{\"marker\": {\"colorbar\": {\"outlinewidth\": 0, \"ticks\": \"\"}}, \"type\": \"scattermapbox\"}], \"scatterpolar\": [{\"marker\": {\"colorbar\": {\"outlinewidth\": 0, \"ticks\": \"\"}}, \"type\": \"scatterpolar\"}], \"scatterpolargl\": [{\"marker\": {\"colorbar\": {\"outlinewidth\": 0, \"ticks\": \"\"}}, \"type\": \"scatterpolargl\"}], \"scatterternary\": [{\"marker\": {\"colorbar\": {\"outlinewidth\": 0, \"ticks\": \"\"}}, \"type\": \"scatterternary\"}], \"surface\": [{\"colorbar\": {\"outlinewidth\": 0, \"ticks\": \"\"}, \"colorscale\": [[0.0, \"#0d0887\"], [0.1111111111111111, \"#46039f\"], [0.2222222222222222, \"#7201a8\"], [0.3333333333333333, \"#9c179e\"], [0.4444444444444444, \"#bd3786\"], [0.5555555555555556, \"#d8576b\"], [0.6666666666666666, \"#ed7953\"], [0.7777777777777778, \"#fb9f3a\"], [0.8888888888888888, \"#fdca26\"], [1.0, \"#f0f921\"]], \"type\": \"surface\"}], \"table\": [{\"cells\": {\"fill\": {\"color\": \"#EBF0F8\"}, \"line\": {\"color\": \"white\"}}, \"header\": {\"fill\": {\"color\": \"#C8D4E3\"}, \"line\": {\"color\": \"white\"}}, \"type\": \"table\"}]}, \"layout\": {\"annotationdefaults\": {\"arrowcolor\": \"#2a3f5f\", \"arrowhead\": 0, \"arrowwidth\": 1}, \"coloraxis\": {\"colorbar\": {\"outlinewidth\": 0, \"ticks\": \"\"}}, \"colorscale\": {\"diverging\": [[0, \"#8e0152\"], [0.1, \"#c51b7d\"], [0.2, \"#de77ae\"], [0.3, \"#f1b6da\"], [0.4, \"#fde0ef\"], [0.5, \"#f7f7f7\"], [0.6, \"#e6f5d0\"], [0.7, \"#b8e186\"], [0.8, \"#7fbc41\"], [0.9, \"#4d9221\"], [1, \"#276419\"]], \"sequential\": [[0.0, \"#0d0887\"], [0.1111111111111111, \"#46039f\"], [0.2222222222222222, \"#7201a8\"], [0.3333333333333333, \"#9c179e\"], [0.4444444444444444, \"#bd3786\"], [0.5555555555555556, \"#d8576b\"], [0.6666666666666666, \"#ed7953\"], [0.7777777777777778, \"#fb9f3a\"], [0.8888888888888888, \"#fdca26\"], [1.0, \"#f0f921\"]], \"sequentialminus\": [[0.0, \"#0d0887\"], [0.1111111111111111, \"#46039f\"], [0.2222222222222222, \"#7201a8\"], [0.3333333333333333, \"#9c179e\"], [0.4444444444444444, \"#bd3786\"], [0.5555555555555556, \"#d8576b\"], [0.6666666666666666, \"#ed7953\"], [0.7777777777777778, \"#fb9f3a\"], [0.8888888888888888, \"#fdca26\"], [1.0, \"#f0f921\"]]}, \"colorway\": [\"#636efa\", \"#EF553B\", \"#00cc96\", \"#ab63fa\", \"#FFA15A\", \"#19d3f3\", \"#FF6692\", \"#B6E880\", \"#FF97FF\", \"#FECB52\"], \"font\": {\"color\": \"#2a3f5f\"}, \"geo\": {\"bgcolor\": \"white\", \"lakecolor\": \"white\", \"landcolor\": \"#E5ECF6\", \"showlakes\": true, \"showland\": true, \"subunitcolor\": \"white\"}, \"hoverlabel\": {\"align\": \"left\"}, \"hovermode\": \"closest\", \"mapbox\": {\"style\": \"light\"}, \"paper_bgcolor\": \"white\", \"plot_bgcolor\": \"#E5ECF6\", \"polar\": {\"angularaxis\": {\"gridcolor\": \"white\", \"linecolor\": \"white\", \"ticks\": \"\"}, \"bgcolor\": \"#E5ECF6\", \"radialaxis\": {\"gridcolor\": \"white\", \"linecolor\": \"white\", \"ticks\": \"\"}}, \"scene\": {\"xaxis\": {\"backgroundcolor\": \"#E5ECF6\", \"gridcolor\": \"white\", \"gridwidth\": 2, \"linecolor\": \"white\", \"showbackground\": true, \"ticks\": \"\", \"zerolinecolor\": \"white\"}, \"yaxis\": {\"backgroundcolor\": \"#E5ECF6\", \"gridcolor\": \"white\", \"gridwidth\": 2, \"linecolor\": \"white\", \"showbackground\": true, \"ticks\": \"\", \"zerolinecolor\": \"white\"}, \"zaxis\": {\"backgroundcolor\": \"#E5ECF6\", \"gridcolor\": \"white\", \"gridwidth\": 2, \"linecolor\": \"white\", \"showbackground\": true, \"ticks\": \"\", \"zerolinecolor\": \"white\"}}, \"shapedefaults\": {\"line\": {\"color\": \"#2a3f5f\"}}, \"ternary\": {\"aaxis\": {\"gridcolor\": \"white\", \"linecolor\": \"white\", \"ticks\": \"\"}, \"baxis\": {\"gridcolor\": \"white\", \"linecolor\": \"white\", \"ticks\": \"\"}, \"bgcolor\": \"#E5ECF6\", \"caxis\": {\"gridcolor\": \"white\", \"linecolor\": \"white\", \"ticks\": \"\"}}, \"title\": {\"x\": 0.05}, \"xaxis\": {\"automargin\": true, \"gridcolor\": \"white\", \"linecolor\": \"white\", \"ticks\": \"\", \"title\": {\"standoff\": 15}, \"zerolinecolor\": \"white\", \"zerolinewidth\": 2}, \"yaxis\": {\"automargin\": true, \"gridcolor\": \"white\", \"linecolor\": \"white\", \"ticks\": \"\", \"title\": {\"standoff\": 15}, \"zerolinecolor\": \"white\", \"zerolinewidth\": 2}}}, \"title\": {\"text\": \"Years of XP vs Median Salary for Each Year of XP, colored by Cur. Salary -- Year 2018\"}, \"xaxis\": {\"anchor\": \"y\", \"domain\": [0.0, 1.0], \"title\": {\"text\": \"x\"}}, \"yaxis\": {\"anchor\": \"x\", \"categoryarray\": [109000.0, 90000.0, 84000.0, 72500.0, 80000.0, 90500.0, 71500.0, 73500.0, 71000.0, 68381.76533333333, 70000.0, 65000.0, 68000.0, 64000.0, 39150.0, 60000.0, 55555.0, 58000.0, 46000.0, 50000.0], \"categoryorder\": \"array\", \"domain\": [0.0, 1.0], \"title\": {\"text\": \"Current Salary\"}}},\n",
       "                        {\"responsive\": true}\n",
       "                    ).then(function(){\n",
       "                            \n",
       "var gd = document.getElementById('9a7965fa-f238-45a1-8f22-85ecdafc202b');\n",
       "var x = new MutationObserver(function (mutations, observer) {{\n",
       "        var display = window.getComputedStyle(gd).display;\n",
       "        if (!display || display === 'none') {{\n",
       "            console.log([gd, 'removed!']);\n",
       "            Plotly.purge(gd);\n",
       "            observer.disconnect();\n",
       "        }}\n",
       "}});\n",
       "\n",
       "// Listen for the removal of the full notebook cells\n",
       "var notebookContainer = gd.closest('#notebook-container');\n",
       "if (notebookContainer) {{\n",
       "    x.observe(notebookContainer, {childList: true});\n",
       "}}\n",
       "\n",
       "// Listen for the clearing of the current output cell\n",
       "var outputEl = gd.closest('.output');\n",
       "if (outputEl) {{\n",
       "    x.observe(outputEl, {childList: true});\n",
       "}}\n",
       "\n",
       "                        })\n",
       "                };\n",
       "                });\n",
       "            </script>\n",
       "        </div>"
      ]
     },
     "metadata": {},
     "output_type": "display_data"
    }
   ],
   "source": [
    "fig = px.line(d1, x=d1.index, y='Current Salary',color=\"Current Salary\", title='Years of XP vs Median Salary for Each Year of XP, colored by Cur. Salary -- Year 2018')\n",
    "fig.show()"
   ]
  },
  {
   "cell_type": "code",
   "execution_count": 202,
   "metadata": {
    "ExecuteTime": {
     "end_time": "2021-03-23T17:55:22.128852Z",
     "start_time": "2021-03-23T17:55:19.686155Z"
    },
    "colab": {
     "base_uri": "https://localhost:8080/",
     "height": 542
    },
    "id": "tCY1-a_SFlWq",
    "outputId": "0fff53b7-d1a3-4a47-96e4-62b006a0a520"
   },
   "outputs": [
    {
     "data": {
      "application/vnd.plotly.v1+json": {
       "config": {
        "plotlyServerURL": "https://plot.ly"
       },
       "data": [
        {
         "hovertemplate": "Current Salary=%{y}<br>Years of experience=%{x}<extra></extra>",
         "legendgroup": "77000.0",
         "line": {
          "color": "#636efa",
          "dash": "solid"
         },
         "mode": "lines",
         "name": "77000.0",
         "showlegend": true,
         "type": "scatter",
         "x": [
          11,
          15,
          6,
          8,
          5,
          8
         ],
         "xaxis": "x",
         "y": [
          77000,
          77000,
          77000,
          77000,
          77000,
          77000
         ],
         "yaxis": "y"
        },
        {
         "hovertemplate": "Current Salary=%{y}<br>Years of experience=%{x}<extra></extra>",
         "legendgroup": "65000.0",
         "line": {
          "color": "#EF553B",
          "dash": "solid"
         },
         "mode": "lines",
         "name": "65000.0",
         "showlegend": true,
         "type": "scatter",
         "x": [
          8,
          5,
          3,
          10,
          11,
          7.5,
          4,
          4,
          1,
          4,
          4,
          12,
          11,
          4,
          7,
          4,
          10,
          14,
          6,
          11,
          11,
          5,
          13,
          6,
          12,
          5,
          8,
          3,
          15,
          5,
          8,
          8,
          10,
          10,
          10,
          5,
          7,
          8,
          9,
          10,
          8,
          3,
          30,
          8,
          9,
          12,
          4,
          11,
          4,
          6,
          13,
          10,
          4,
          10,
          9,
          12,
          10,
          8,
          10,
          15,
          5,
          9,
          15,
          6,
          20,
          11,
          11,
          6
         ],
         "xaxis": "x",
         "y": [
          65000,
          65000,
          65000,
          65000,
          65000,
          65000,
          65000,
          65000,
          65000,
          65000,
          65000,
          65000,
          65000,
          65000,
          65000,
          65000,
          65000,
          65000,
          65000,
          65000,
          65000,
          65000,
          65000,
          65000,
          65000,
          65000,
          65000,
          65000,
          65000,
          65000,
          65000,
          65000,
          65000,
          65000,
          65000,
          65000,
          65000,
          65000,
          65000,
          65000,
          65000,
          65000,
          65000,
          65000,
          65000,
          65000,
          65000,
          65000,
          65000,
          65000,
          65000,
          65000,
          65000,
          65000,
          65000,
          65000,
          65000,
          65000,
          65000,
          65000,
          65000,
          65000,
          65000,
          65000,
          65000,
          65000,
          65000,
          65000
         ],
         "yaxis": "y"
        },
        {
         "hovertemplate": "Current Salary=%{y}<br>Years of experience=%{x}<extra></extra>",
         "legendgroup": "88000.0",
         "line": {
          "color": "#00cc96",
          "dash": "solid"
         },
         "mode": "lines",
         "name": "88000.0",
         "showlegend": true,
         "type": "scatter",
         "x": [
          10,
          10
         ],
         "xaxis": "x",
         "y": [
          88000,
          88000
         ],
         "yaxis": "y"
        },
        {
         "hovertemplate": "Current Salary=%{y}<br>Years of experience=%{x}<extra></extra>",
         "legendgroup": "78000.0",
         "line": {
          "color": "#ab63fa",
          "dash": "solid"
         },
         "mode": "lines",
         "name": "78000.0",
         "showlegend": true,
         "type": "scatter",
         "x": [
          6,
          10,
          6,
          14,
          4,
          6,
          11,
          7,
          10,
          12,
          25
         ],
         "xaxis": "x",
         "y": [
          78000,
          78000,
          78000,
          78000,
          78000,
          78000,
          78000,
          78000,
          78000,
          78000,
          78000
         ],
         "yaxis": "y"
        },
        {
         "hovertemplate": "Current Salary=%{y}<br>Years of experience=%{x}<extra></extra>",
         "legendgroup": "69000.0",
         "line": {
          "color": "#FFA15A",
          "dash": "solid"
         },
         "mode": "lines",
         "name": "69000.0",
         "showlegend": true,
         "type": "scatter",
         "x": [
          10,
          7,
          18,
          3,
          5,
          10,
          10,
          15,
          7
         ],
         "xaxis": "x",
         "y": [
          69000,
          69000,
          69000,
          69000,
          69000,
          69000,
          69000,
          69000,
          69000
         ],
         "yaxis": "y"
        },
        {
         "hovertemplate": "Current Salary=%{y}<br>Years of experience=%{x}<extra></extra>",
         "legendgroup": "98000.0",
         "line": {
          "color": "#19d3f3",
          "dash": "solid"
         },
         "mode": "lines",
         "name": "98000.0",
         "showlegend": true,
         "type": "scatter",
         "x": [
          8
         ],
         "xaxis": "x",
         "y": [
          98000
         ],
         "yaxis": "y"
        },
        {
         "hovertemplate": "Current Salary=%{y}<br>Years of experience=%{x}<extra></extra>",
         "legendgroup": "109000.0",
         "line": {
          "color": "#FF6692",
          "dash": "solid"
         },
         "mode": "lines",
         "name": "109000.0",
         "showlegend": true,
         "type": "scatter",
         "x": [
          8
         ],
         "xaxis": "x",
         "y": [
          109000
         ],
         "yaxis": "y"
        },
        {
         "hovertemplate": "Current Salary=%{y}<br>Years of experience=%{x}<extra></extra>",
         "legendgroup": "60000.0",
         "line": {
          "color": "#B6E880",
          "dash": "solid"
         },
         "mode": "lines",
         "name": "60000.0",
         "showlegend": true,
         "type": "scatter",
         "x": [
          8,
          4,
          10,
          6,
          1,
          3,
          7,
          12,
          5,
          5,
          0.5,
          5,
          3,
          6,
          8.548497267759563,
          5,
          11,
          12,
          9,
          5,
          9,
          3,
          4,
          5,
          5,
          8,
          7,
          20,
          5,
          4,
          8,
          7,
          10,
          9,
          10,
          6,
          7,
          8,
          1,
          11,
          11,
          9,
          12,
          15,
          6,
          10,
          15,
          15,
          13,
          11,
          5,
          15,
          7,
          5,
          12,
          18,
          4,
          10,
          6,
          2,
          8,
          5,
          10,
          6,
          4,
          7,
          7,
          5,
          9,
          5,
          11,
          12,
          4
         ],
         "xaxis": "x",
         "y": [
          60000,
          60000,
          60000,
          60000,
          60000,
          60000,
          60000,
          60000,
          60000,
          60000,
          60000,
          60000,
          60000,
          60000,
          60000,
          60000,
          60000,
          60000,
          60000,
          60000,
          60000,
          60000,
          60000,
          60000,
          60000,
          60000,
          60000,
          60000,
          60000,
          60000,
          60000,
          60000,
          60000,
          60000,
          60000,
          60000,
          60000,
          60000,
          60000,
          60000,
          60000,
          60000,
          60000,
          60000,
          60000,
          60000,
          60000,
          60000,
          60000,
          60000,
          60000,
          60000,
          60000,
          60000,
          60000,
          60000,
          60000,
          60000,
          60000,
          60000,
          60000,
          60000,
          60000,
          60000,
          60000,
          60000,
          60000,
          60000,
          60000,
          60000,
          60000,
          60000,
          60000
         ],
         "yaxis": "y"
        },
        {
         "hovertemplate": "Current Salary=%{y}<br>Years of experience=%{x}<extra></extra>",
         "legendgroup": "70000.0",
         "line": {
          "color": "#FF97FF",
          "dash": "solid"
         },
         "mode": "lines",
         "name": "70000.0",
         "showlegend": true,
         "type": "scatter",
         "x": [
          18,
          8,
          10,
          6,
          10,
          6,
          10,
          13,
          17,
          7,
          8,
          7,
          14,
          1.5,
          5,
          15,
          5,
          7,
          8.548497267759563,
          12,
          8.548497267759563,
          6,
          10,
          4,
          9,
          11,
          14,
          9,
          10,
          7,
          9,
          18,
          9,
          8,
          10,
          8,
          6,
          6,
          7,
          12,
          7,
          10,
          9,
          5,
          9,
          10,
          4,
          12,
          12,
          8.548497267759563
         ],
         "xaxis": "x",
         "y": [
          70000,
          70000,
          70000,
          70000,
          70000,
          70000,
          70000,
          70000,
          70000,
          70000,
          70000,
          70000,
          70000,
          70000,
          70000,
          70000,
          70000,
          70000,
          70000,
          70000,
          70000,
          70000,
          70000,
          70000,
          70000,
          70000,
          70000,
          70000,
          70000,
          70000,
          70000,
          70000,
          70000,
          70000,
          70000,
          70000,
          70000,
          70000,
          70000,
          70000,
          70000,
          70000,
          70000,
          70000,
          70000,
          70000,
          70000,
          70000,
          70000,
          70000
         ],
         "yaxis": "y"
        },
        {
         "hovertemplate": "Current Salary=%{y}<br>Years of experience=%{x}<extra></extra>",
         "legendgroup": "55000.0",
         "line": {
          "color": "#FECB52",
          "dash": "solid"
         },
         "mode": "lines",
         "name": "55000.0",
         "showlegend": true,
         "type": "scatter",
         "x": [
          8.548497267759563,
          6,
          15,
          1,
          4,
          5,
          5,
          8,
          4,
          5,
          8.548497267759563,
          5,
          5,
          5,
          1,
          4,
          3,
          15,
          8,
          5,
          7,
          9,
          6,
          5,
          2,
          14,
          11,
          10,
          4,
          7
         ],
         "xaxis": "x",
         "y": [
          55000,
          55000,
          55000,
          55000,
          55000,
          55000,
          55000,
          55000,
          55000,
          55000,
          55000,
          55000,
          55000,
          55000,
          55000,
          55000,
          55000,
          55000,
          55000,
          55000,
          55000,
          55000,
          55000,
          55000,
          55000,
          55000,
          55000,
          55000,
          55000,
          55000
         ],
         "yaxis": "y"
        },
        {
         "hovertemplate": "Current Salary=%{y}<br>Years of experience=%{x}<extra></extra>",
         "legendgroup": "94500.0",
         "line": {
          "color": "#636efa",
          "dash": "solid"
         },
         "mode": "lines",
         "name": "94500.0",
         "showlegend": true,
         "type": "scatter",
         "x": [
          11
         ],
         "xaxis": "x",
         "y": [
          94500
         ],
         "yaxis": "y"
        },
        {
         "hovertemplate": "Current Salary=%{y}<br>Years of experience=%{x}<extra></extra>",
         "legendgroup": "46000.0",
         "line": {
          "color": "#EF553B",
          "dash": "solid"
         },
         "mode": "lines",
         "name": "46000.0",
         "showlegend": true,
         "type": "scatter",
         "x": [
          3,
          4,
          4,
          8,
          1.5
         ],
         "xaxis": "x",
         "y": [
          46000,
          46000,
          46000,
          46000,
          46000
         ],
         "yaxis": "y"
        },
        {
         "hovertemplate": "Current Salary=%{y}<br>Years of experience=%{x}<extra></extra>",
         "legendgroup": "68000.0",
         "line": {
          "color": "#00cc96",
          "dash": "solid"
         },
         "mode": "lines",
         "name": "68000.0",
         "showlegend": true,
         "type": "scatter",
         "x": [
          11,
          10,
          10,
          15,
          5,
          3,
          6,
          10,
          8,
          10,
          7,
          10,
          15,
          7,
          7,
          14,
          14,
          7,
          10,
          18
         ],
         "xaxis": "x",
         "y": [
          68000,
          68000,
          68000,
          68000,
          68000,
          68000,
          68000,
          68000,
          68000,
          68000,
          68000,
          68000,
          68000,
          68000,
          68000,
          68000,
          68000,
          68000,
          68000,
          68000
         ],
         "yaxis": "y"
        },
        {
         "hovertemplate": "Current Salary=%{y}<br>Years of experience=%{x}<extra></extra>",
         "legendgroup": "62500.0",
         "line": {
          "color": "#ab63fa",
          "dash": "solid"
         },
         "mode": "lines",
         "name": "62500.0",
         "showlegend": true,
         "type": "scatter",
         "x": [
          17,
          7,
          5
         ],
         "xaxis": "x",
         "y": [
          62500,
          62500,
          62500
         ],
         "yaxis": "y"
        },
        {
         "hovertemplate": "Current Salary=%{y}<br>Years of experience=%{x}<extra></extra>",
         "legendgroup": "80000.0",
         "line": {
          "color": "#FFA15A",
          "dash": "solid"
         },
         "mode": "lines",
         "name": "80000.0",
         "showlegend": true,
         "type": "scatter",
         "x": [
          19,
          8,
          8.548497267759563,
          5,
          5,
          13,
          12,
          9,
          11,
          9,
          17,
          12,
          8,
          6,
          10,
          10,
          20,
          13,
          10,
          8.548497267759563,
          20,
          6,
          8,
          15,
          11,
          7,
          10,
          8
         ],
         "xaxis": "x",
         "y": [
          80000,
          80000,
          80000,
          80000,
          80000,
          80000,
          80000,
          80000,
          80000,
          80000,
          80000,
          80000,
          80000,
          80000,
          80000,
          80000,
          80000,
          80000,
          80000,
          80000,
          80000,
          80000,
          80000,
          80000,
          80000,
          80000,
          80000,
          80000
         ],
         "yaxis": "y"
        },
        {
         "hovertemplate": "Current Salary=%{y}<br>Years of experience=%{x}<extra></extra>",
         "legendgroup": "132250.0",
         "line": {
          "color": "#19d3f3",
          "dash": "solid"
         },
         "mode": "lines",
         "name": "132250.0",
         "showlegend": true,
         "type": "scatter",
         "x": [
          10
         ],
         "xaxis": "x",
         "y": [
          132250
         ],
         "yaxis": "y"
        },
        {
         "hovertemplate": "Current Salary=%{y}<br>Years of experience=%{x}<extra></extra>",
         "legendgroup": "53000.0",
         "line": {
          "color": "#FF6692",
          "dash": "solid"
         },
         "mode": "lines",
         "name": "53000.0",
         "showlegend": true,
         "type": "scatter",
         "x": [
          10,
          6,
          7,
          10,
          5,
          2,
          8,
          5,
          5,
          5
         ],
         "xaxis": "x",
         "y": [
          53000,
          53000,
          53000,
          53000,
          53000,
          53000,
          53000,
          53000,
          53000,
          53000
         ],
         "yaxis": "y"
        },
        {
         "hovertemplate": "Current Salary=%{y}<br>Years of experience=%{x}<extra></extra>",
         "legendgroup": "52000.0",
         "line": {
          "color": "#B6E880",
          "dash": "solid"
         },
         "mode": "lines",
         "name": "52000.0",
         "showlegend": true,
         "type": "scatter",
         "x": [
          5,
          5,
          2,
          2.5,
          6,
          2,
          6,
          2,
          9,
          5,
          3
         ],
         "xaxis": "x",
         "y": [
          52000,
          52000,
          52000,
          52000,
          52000,
          52000,
          52000,
          52000,
          52000,
          52000,
          52000
         ],
         "yaxis": "y"
        },
        {
         "hovertemplate": "Current Salary=%{y}<br>Years of experience=%{x}<extra></extra>",
         "legendgroup": "95000.0",
         "line": {
          "color": "#FF97FF",
          "dash": "solid"
         },
         "mode": "lines",
         "name": "95000.0",
         "showlegend": true,
         "type": "scatter",
         "x": [
          10,
          10,
          8,
          8,
          10,
          10,
          16,
          17
         ],
         "xaxis": "x",
         "y": [
          95000,
          95000,
          95000,
          95000,
          95000,
          95000,
          95000,
          95000
         ],
         "yaxis": "y"
        },
        {
         "hovertemplate": "Current Salary=%{y}<br>Years of experience=%{x}<extra></extra>",
         "legendgroup": "72000.0",
         "line": {
          "color": "#FECB52",
          "dash": "solid"
         },
         "mode": "lines",
         "name": "72000.0",
         "showlegend": true,
         "type": "scatter",
         "x": [
          4,
          12,
          10,
          11,
          8,
          9,
          7,
          8.548497267759563,
          13,
          8,
          12,
          5,
          12,
          6,
          5,
          15,
          20,
          8,
          8,
          10,
          11,
          11,
          8.548497267759563
         ],
         "xaxis": "x",
         "y": [
          72000,
          72000,
          72000,
          72000,
          72000,
          72000,
          72000,
          72000,
          72000,
          72000,
          72000,
          72000,
          72000,
          72000,
          72000,
          72000,
          72000,
          72000,
          72000,
          72000,
          72000,
          72000,
          72000
         ],
         "yaxis": "y"
        },
        {
         "hovertemplate": "Current Salary=%{y}<br>Years of experience=%{x}<extra></extra>",
         "legendgroup": "66000.0",
         "line": {
          "color": "#636efa",
          "dash": "solid"
         },
         "mode": "lines",
         "name": "66000.0",
         "showlegend": true,
         "type": "scatter",
         "x": [
          5,
          5,
          7,
          4,
          2.5,
          8,
          8,
          10,
          12,
          8,
          11,
          12
         ],
         "xaxis": "x",
         "y": [
          66000,
          66000,
          66000,
          66000,
          66000,
          66000,
          66000,
          66000,
          66000,
          66000,
          66000,
          66000
         ],
         "yaxis": "y"
        },
        {
         "hovertemplate": "Current Salary=%{y}<br>Years of experience=%{x}<extra></extra>",
         "legendgroup": "75800.0",
         "line": {
          "color": "#EF553B",
          "dash": "solid"
         },
         "mode": "lines",
         "name": "75800.0",
         "showlegend": true,
         "type": "scatter",
         "x": [
          10
         ],
         "xaxis": "x",
         "y": [
          75800
         ],
         "yaxis": "y"
        },
        {
         "hovertemplate": "Current Salary=%{y}<br>Years of experience=%{x}<extra></extra>",
         "legendgroup": "84000.0",
         "line": {
          "color": "#00cc96",
          "dash": "solid"
         },
         "mode": "lines",
         "name": "84000.0",
         "showlegend": true,
         "type": "scatter",
         "x": [
          12,
          10,
          20,
          18,
          12
         ],
         "xaxis": "x",
         "y": [
          84000,
          84000,
          84000,
          84000,
          84000
         ],
         "yaxis": "y"
        },
        {
         "hovertemplate": "Current Salary=%{y}<br>Years of experience=%{x}<extra></extra>",
         "legendgroup": "57000.0",
         "line": {
          "color": "#ab63fa",
          "dash": "solid"
         },
         "mode": "lines",
         "name": "57000.0",
         "showlegend": true,
         "type": "scatter",
         "x": [
          4,
          3,
          3,
          10,
          7,
          10,
          12,
          4,
          15,
          6,
          8
         ],
         "xaxis": "x",
         "y": [
          57000,
          57000,
          57000,
          57000,
          57000,
          57000,
          57000,
          57000,
          57000,
          57000,
          57000
         ],
         "yaxis": "y"
        },
        {
         "hovertemplate": "Current Salary=%{y}<br>Years of experience=%{x}<extra></extra>",
         "legendgroup": "58000.0",
         "line": {
          "color": "#FFA15A",
          "dash": "solid"
         },
         "mode": "lines",
         "name": "58000.0",
         "showlegend": true,
         "type": "scatter",
         "x": [
          2,
          8.548497267759563,
          3,
          5,
          4,
          4,
          2,
          16,
          3,
          4,
          13,
          6,
          5,
          38,
          5,
          5,
          3
         ],
         "xaxis": "x",
         "y": [
          58000,
          58000,
          58000,
          58000,
          58000,
          58000,
          58000,
          58000,
          58000,
          58000,
          58000,
          58000,
          58000,
          58000,
          58000,
          58000,
          58000
         ],
         "yaxis": "y"
        },
        {
         "hovertemplate": "Current Salary=%{y}<br>Years of experience=%{x}<extra></extra>",
         "legendgroup": "36000.0",
         "line": {
          "color": "#19d3f3",
          "dash": "solid"
         },
         "mode": "lines",
         "name": "36000.0",
         "showlegend": true,
         "type": "scatter",
         "x": [
          1,
          1
         ],
         "xaxis": "x",
         "y": [
          36000,
          36000
         ],
         "yaxis": "y"
        },
        {
         "hovertemplate": "Current Salary=%{y}<br>Years of experience=%{x}<extra></extra>",
         "legendgroup": "75000.0",
         "line": {
          "color": "#FF6692",
          "dash": "solid"
         },
         "mode": "lines",
         "name": "75000.0",
         "showlegend": true,
         "type": "scatter",
         "x": [
          5,
          7,
          9,
          10,
          10,
          13,
          7,
          10,
          10,
          8,
          12,
          12,
          8,
          8,
          9,
          6,
          7,
          10,
          12,
          15,
          20,
          12,
          9,
          3,
          6,
          8,
          9,
          10,
          18,
          7,
          15,
          6,
          10,
          15,
          12,
          8,
          10,
          5,
          11,
          10,
          20,
          11,
          10
         ],
         "xaxis": "x",
         "y": [
          75000,
          75000,
          75000,
          75000,
          75000,
          75000,
          75000,
          75000,
          75000,
          75000,
          75000,
          75000,
          75000,
          75000,
          75000,
          75000,
          75000,
          75000,
          75000,
          75000,
          75000,
          75000,
          75000,
          75000,
          75000,
          75000,
          75000,
          75000,
          75000,
          75000,
          75000,
          75000,
          75000,
          75000,
          75000,
          75000,
          75000,
          75000,
          75000,
          75000,
          75000,
          75000,
          75000
         ],
         "yaxis": "y"
        },
        {
         "hovertemplate": "Current Salary=%{y}<br>Years of experience=%{x}<extra></extra>",
         "legendgroup": "90000.0",
         "line": {
          "color": "#B6E880",
          "dash": "solid"
         },
         "mode": "lines",
         "name": "90000.0",
         "showlegend": true,
         "type": "scatter",
         "x": [
          9,
          8.548497267759563,
          13,
          13,
          9,
          9,
          9,
          5,
          4,
          7,
          8.548497267759563,
          10,
          21,
          5,
          6,
          6,
          6,
          8.548497267759563,
          8.548497267759563
         ],
         "xaxis": "x",
         "y": [
          90000,
          90000,
          90000,
          90000,
          90000,
          90000,
          90000,
          90000,
          90000,
          90000,
          90000,
          90000,
          90000,
          90000,
          90000,
          90000,
          90000,
          90000,
          90000
         ],
         "yaxis": "y"
        },
        {
         "hovertemplate": "Current Salary=%{y}<br>Years of experience=%{x}<extra></extra>",
         "legendgroup": "113000.0",
         "line": {
          "color": "#FF97FF",
          "dash": "solid"
         },
         "mode": "lines",
         "name": "113000.0",
         "showlegend": true,
         "type": "scatter",
         "x": [
          20
         ],
         "xaxis": "x",
         "y": [
          113000
         ],
         "yaxis": "y"
        },
        {
         "hovertemplate": "Current Salary=%{y}<br>Years of experience=%{x}<extra></extra>",
         "legendgroup": "50000.0",
         "line": {
          "color": "#FECB52",
          "dash": "solid"
         },
         "mode": "lines",
         "name": "50000.0",
         "showlegend": true,
         "type": "scatter",
         "x": [
          7,
          6,
          2,
          3,
          5,
          5,
          2.5,
          6,
          10,
          5,
          5,
          6,
          5,
          8,
          3,
          1,
          10,
          0,
          5,
          12
         ],
         "xaxis": "x",
         "y": [
          50000,
          50000,
          50000,
          50000,
          50000,
          50000,
          50000,
          50000,
          50000,
          50000,
          50000,
          50000,
          50000,
          50000,
          50000,
          50000,
          50000,
          50000,
          50000,
          50000
         ],
         "yaxis": "y"
        },
        {
         "hovertemplate": "Current Salary=%{y}<br>Years of experience=%{x}<extra></extra>",
         "legendgroup": "71000.0",
         "line": {
          "color": "#636efa",
          "dash": "solid"
         },
         "mode": "lines",
         "name": "71000.0",
         "showlegend": true,
         "type": "scatter",
         "x": [
          10,
          7
         ],
         "xaxis": "x",
         "y": [
          71000,
          71000
         ],
         "yaxis": "y"
        },
        {
         "hovertemplate": "Current Salary=%{y}<br>Years of experience=%{x}<extra></extra>",
         "legendgroup": "49000.0",
         "line": {
          "color": "#EF553B",
          "dash": "solid"
         },
         "mode": "lines",
         "name": "49000.0",
         "showlegend": true,
         "type": "scatter",
         "x": [
          1,
          0
         ],
         "xaxis": "x",
         "y": [
          49000,
          49000
         ],
         "yaxis": "y"
        },
        {
         "hovertemplate": "Current Salary=%{y}<br>Years of experience=%{x}<extra></extra>",
         "legendgroup": "56000.0",
         "line": {
          "color": "#00cc96",
          "dash": "solid"
         },
         "mode": "lines",
         "name": "56000.0",
         "showlegend": true,
         "type": "scatter",
         "x": [
          10,
          4,
          5,
          5,
          5,
          10,
          1
         ],
         "xaxis": "x",
         "y": [
          56000,
          56000,
          56000,
          56000,
          56000,
          56000,
          56000
         ],
         "yaxis": "y"
        },
        {
         "hovertemplate": "Current Salary=%{y}<br>Years of experience=%{x}<extra></extra>",
         "legendgroup": "30000.0",
         "line": {
          "color": "#ab63fa",
          "dash": "solid"
         },
         "mode": "lines",
         "name": "30000.0",
         "showlegend": true,
         "type": "scatter",
         "x": [
          3,
          8,
          3,
          1,
          2
         ],
         "xaxis": "x",
         "y": [
          30000,
          30000,
          30000,
          30000,
          30000
         ],
         "yaxis": "y"
        },
        {
         "hovertemplate": "Current Salary=%{y}<br>Years of experience=%{x}<extra></extra>",
         "legendgroup": "45000.0",
         "line": {
          "color": "#FFA15A",
          "dash": "solid"
         },
         "mode": "lines",
         "name": "45000.0",
         "showlegend": true,
         "type": "scatter",
         "x": [
          5,
          4,
          5,
          11,
          4,
          3,
          1,
          1
         ],
         "xaxis": "x",
         "y": [
          45000,
          45000,
          45000,
          45000,
          45000,
          45000,
          45000,
          45000
         ],
         "yaxis": "y"
        },
        {
         "hovertemplate": "Current Salary=%{y}<br>Years of experience=%{x}<extra></extra>",
         "legendgroup": "40000.0",
         "line": {
          "color": "#19d3f3",
          "dash": "solid"
         },
         "mode": "lines",
         "name": "40000.0",
         "showlegend": true,
         "type": "scatter",
         "x": [
          6,
          7,
          1,
          5,
          8
         ],
         "xaxis": "x",
         "y": [
          40000,
          40000,
          40000,
          40000,
          40000
         ],
         "yaxis": "y"
        },
        {
         "hovertemplate": "Current Salary=%{y}<br>Years of experience=%{x}<extra></extra>",
         "legendgroup": "54000.0",
         "line": {
          "color": "#FF6692",
          "dash": "solid"
         },
         "mode": "lines",
         "name": "54000.0",
         "showlegend": true,
         "type": "scatter",
         "x": [
          5,
          15,
          4,
          10,
          4
         ],
         "xaxis": "x",
         "y": [
          54000,
          54000,
          54000,
          54000,
          54000
         ],
         "yaxis": "y"
        },
        {
         "hovertemplate": "Current Salary=%{y}<br>Years of experience=%{x}<extra></extra>",
         "legendgroup": "48000.0",
         "line": {
          "color": "#B6E880",
          "dash": "solid"
         },
         "mode": "lines",
         "name": "48000.0",
         "showlegend": true,
         "type": "scatter",
         "x": [
          3,
          4,
          4,
          20,
          15,
          6
         ],
         "xaxis": "x",
         "y": [
          48000,
          48000,
          48000,
          48000,
          48000,
          48000
         ],
         "yaxis": "y"
        },
        {
         "hovertemplate": "Current Salary=%{y}<br>Years of experience=%{x}<extra></extra>",
         "legendgroup": "61000.0",
         "line": {
          "color": "#FF97FF",
          "dash": "solid"
         },
         "mode": "lines",
         "name": "61000.0",
         "showlegend": true,
         "type": "scatter",
         "x": [
          8,
          11,
          10,
          12,
          3
         ],
         "xaxis": "x",
         "y": [
          61000,
          61000,
          61000,
          61000,
          61000
         ],
         "yaxis": "y"
        },
        {
         "hovertemplate": "Current Salary=%{y}<br>Years of experience=%{x}<extra></extra>",
         "legendgroup": "87000.0",
         "line": {
          "color": "#FECB52",
          "dash": "solid"
         },
         "mode": "lines",
         "name": "87000.0",
         "showlegend": true,
         "type": "scatter",
         "x": [
          10,
          17,
          5,
          11,
          12
         ],
         "xaxis": "x",
         "y": [
          87000,
          87000,
          87000,
          87000,
          87000
         ],
         "yaxis": "y"
        },
        {
         "hovertemplate": "Current Salary=%{y}<br>Years of experience=%{x}<extra></extra>",
         "legendgroup": "73000.0",
         "line": {
          "color": "#636efa",
          "dash": "solid"
         },
         "mode": "lines",
         "name": "73000.0",
         "showlegend": true,
         "type": "scatter",
         "x": [
          14,
          10,
          5,
          7,
          5
         ],
         "xaxis": "x",
         "y": [
          73000,
          73000,
          73000,
          73000,
          73000
         ],
         "yaxis": "y"
        },
        {
         "hovertemplate": "Current Salary=%{y}<br>Years of experience=%{x}<extra></extra>",
         "legendgroup": "85000.0",
         "line": {
          "color": "#EF553B",
          "dash": "solid"
         },
         "mode": "lines",
         "name": "85000.0",
         "showlegend": true,
         "type": "scatter",
         "x": [
          15,
          5,
          12,
          19,
          15,
          15,
          5,
          15,
          12,
          12,
          14,
          9,
          10,
          12,
          7,
          10,
          17
         ],
         "xaxis": "x",
         "y": [
          85000,
          85000,
          85000,
          85000,
          85000,
          85000,
          85000,
          85000,
          85000,
          85000,
          85000,
          85000,
          85000,
          85000,
          85000,
          85000,
          85000
         ],
         "yaxis": "y"
        },
        {
         "hovertemplate": "Current Salary=%{y}<br>Years of experience=%{x}<extra></extra>",
         "legendgroup": "82000.0",
         "line": {
          "color": "#00cc96",
          "dash": "solid"
         },
         "mode": "lines",
         "name": "82000.0",
         "showlegend": true,
         "type": "scatter",
         "x": [
          14
         ],
         "xaxis": "x",
         "y": [
          82000
         ],
         "yaxis": "y"
        },
        {
         "hovertemplate": "Current Salary=%{y}<br>Years of experience=%{x}<extra></extra>",
         "legendgroup": "67000.0",
         "line": {
          "color": "#ab63fa",
          "dash": "solid"
         },
         "mode": "lines",
         "name": "67000.0",
         "showlegend": true,
         "type": "scatter",
         "x": [
          10,
          18,
          4,
          12,
          15
         ],
         "xaxis": "x",
         "y": [
          67000,
          67000,
          67000,
          67000,
          67000
         ],
         "yaxis": "y"
        },
        {
         "hovertemplate": "Current Salary=%{y}<br>Years of experience=%{x}<extra></extra>",
         "legendgroup": "62000.0",
         "line": {
          "color": "#FFA15A",
          "dash": "solid"
         },
         "mode": "lines",
         "name": "62000.0",
         "showlegend": true,
         "type": "scatter",
         "x": [
          3,
          6,
          15,
          5,
          7,
          3,
          8.548497267759563,
          4
         ],
         "xaxis": "x",
         "y": [
          62000,
          62000,
          62000,
          62000,
          62000,
          62000,
          62000,
          62000
         ],
         "yaxis": "y"
        },
        {
         "hovertemplate": "Current Salary=%{y}<br>Years of experience=%{x}<extra></extra>",
         "legendgroup": "83000.0",
         "line": {
          "color": "#19d3f3",
          "dash": "solid"
         },
         "mode": "lines",
         "name": "83000.0",
         "showlegend": true,
         "type": "scatter",
         "x": [
          19,
          10,
          11,
          10,
          9
         ],
         "xaxis": "x",
         "y": [
          83000,
          83000,
          83000,
          83000,
          83000
         ],
         "yaxis": "y"
        },
        {
         "hovertemplate": "Current Salary=%{y}<br>Years of experience=%{x}<extra></extra>",
         "legendgroup": "100000.0",
         "line": {
          "color": "#FF6692",
          "dash": "solid"
         },
         "mode": "lines",
         "name": "100000.0",
         "showlegend": true,
         "type": "scatter",
         "x": [
          8,
          11,
          10,
          11
         ],
         "xaxis": "x",
         "y": [
          100000,
          100000,
          100000,
          100000
         ],
         "yaxis": "y"
        },
        {
         "hovertemplate": "Current Salary=%{y}<br>Years of experience=%{x}<extra></extra>",
         "legendgroup": "120000.0",
         "line": {
          "color": "#B6E880",
          "dash": "solid"
         },
         "mode": "lines",
         "name": "120000.0",
         "showlegend": true,
         "type": "scatter",
         "x": [
          15,
          10,
          20,
          10,
          11,
          11,
          9,
          7
         ],
         "xaxis": "x",
         "y": [
          120000,
          120000,
          120000,
          120000,
          120000,
          120000,
          120000,
          120000
         ],
         "yaxis": "y"
        },
        {
         "hovertemplate": "Current Salary=%{y}<br>Years of experience=%{x}<extra></extra>",
         "legendgroup": "78600.0",
         "line": {
          "color": "#FF97FF",
          "dash": "solid"
         },
         "mode": "lines",
         "name": "78600.0",
         "showlegend": true,
         "type": "scatter",
         "x": [
          12
         ],
         "xaxis": "x",
         "y": [
          78600
         ],
         "yaxis": "y"
        },
        {
         "hovertemplate": "Current Salary=%{y}<br>Years of experience=%{x}<extra></extra>",
         "legendgroup": "89000.0",
         "line": {
          "color": "#FECB52",
          "dash": "solid"
         },
         "mode": "lines",
         "name": "89000.0",
         "showlegend": true,
         "type": "scatter",
         "x": [
          8,
          15,
          18
         ],
         "xaxis": "x",
         "y": [
          89000,
          89000,
          89000
         ],
         "yaxis": "y"
        },
        {
         "hovertemplate": "Current Salary=%{y}<br>Years of experience=%{x}<extra></extra>",
         "legendgroup": "43000.0",
         "line": {
          "color": "#636efa",
          "dash": "solid"
         },
         "mode": "lines",
         "name": "43000.0",
         "showlegend": true,
         "type": "scatter",
         "x": [
          3,
          10
         ],
         "xaxis": "x",
         "y": [
          43000,
          43000
         ],
         "yaxis": "y"
        },
        {
         "hovertemplate": "Current Salary=%{y}<br>Years of experience=%{x}<extra></extra>",
         "legendgroup": "107000.0",
         "line": {
          "color": "#EF553B",
          "dash": "solid"
         },
         "mode": "lines",
         "name": "107000.0",
         "showlegend": true,
         "type": "scatter",
         "x": [
          10
         ],
         "xaxis": "x",
         "y": [
          107000
         ],
         "yaxis": "y"
        },
        {
         "hovertemplate": "Current Salary=%{y}<br>Years of experience=%{x}<extra></extra>",
         "legendgroup": "64000.0",
         "line": {
          "color": "#00cc96",
          "dash": "solid"
         },
         "mode": "lines",
         "name": "64000.0",
         "showlegend": true,
         "type": "scatter",
         "x": [
          7,
          3,
          15
         ],
         "xaxis": "x",
         "y": [
          64000,
          64000,
          64000
         ],
         "yaxis": "y"
        },
        {
         "hovertemplate": "Current Salary=%{y}<br>Years of experience=%{x}<extra></extra>",
         "legendgroup": "63000.0",
         "line": {
          "color": "#ab63fa",
          "dash": "solid"
         },
         "mode": "lines",
         "name": "63000.0",
         "showlegend": true,
         "type": "scatter",
         "x": [
          6,
          12,
          6,
          5,
          6,
          13,
          30
         ],
         "xaxis": "x",
         "y": [
          63000,
          63000,
          63000,
          63000,
          63000,
          63000,
          63000
         ],
         "yaxis": "y"
        },
        {
         "hovertemplate": "Current Salary=%{y}<br>Years of experience=%{x}<extra></extra>",
         "legendgroup": "50400.0",
         "line": {
          "color": "#FFA15A",
          "dash": "solid"
         },
         "mode": "lines",
         "name": "50400.0",
         "showlegend": true,
         "type": "scatter",
         "x": [
          3
         ],
         "xaxis": "x",
         "y": [
          50400
         ],
         "yaxis": "y"
        },
        {
         "hovertemplate": "Current Salary=%{y}<br>Years of experience=%{x}<extra></extra>",
         "legendgroup": "32000.0",
         "line": {
          "color": "#19d3f3",
          "dash": "solid"
         },
         "mode": "lines",
         "name": "32000.0",
         "showlegend": true,
         "type": "scatter",
         "x": [
          0.5
         ],
         "xaxis": "x",
         "y": [
          32000
         ],
         "yaxis": "y"
        },
        {
         "hovertemplate": "Current Salary=%{y}<br>Years of experience=%{x}<extra></extra>",
         "legendgroup": "42000.0",
         "line": {
          "color": "#FF6692",
          "dash": "solid"
         },
         "mode": "lines",
         "name": "42000.0",
         "showlegend": true,
         "type": "scatter",
         "x": [
          15,
          7,
          4,
          18,
          7,
          1,
          2,
          9,
          1
         ],
         "xaxis": "x",
         "y": [
          42000,
          42000,
          42000,
          42000,
          42000,
          42000,
          42000,
          42000,
          42000
         ],
         "yaxis": "y"
        },
        {
         "hovertemplate": "Current Salary=%{y}<br>Years of experience=%{x}<extra></extra>",
         "legendgroup": "74000.0",
         "line": {
          "color": "#B6E880",
          "dash": "solid"
         },
         "mode": "lines",
         "name": "74000.0",
         "showlegend": true,
         "type": "scatter",
         "x": [
          8,
          20,
          7,
          10
         ],
         "xaxis": "x",
         "y": [
          74000,
          74000,
          74000,
          74000
         ],
         "yaxis": "y"
        },
        {
         "hovertemplate": "Current Salary=%{y}<br>Years of experience=%{x}<extra></extra>",
         "legendgroup": "72500.0",
         "line": {
          "color": "#FF97FF",
          "dash": "solid"
         },
         "mode": "lines",
         "name": "72500.0",
         "showlegend": true,
         "type": "scatter",
         "x": [
          8
         ],
         "xaxis": "x",
         "y": [
          72500
         ],
         "yaxis": "y"
        },
        {
         "hovertemplate": "Current Salary=%{y}<br>Years of experience=%{x}<extra></extra>",
         "legendgroup": "102000.0",
         "line": {
          "color": "#FECB52",
          "dash": "solid"
         },
         "mode": "lines",
         "name": "102000.0",
         "showlegend": true,
         "type": "scatter",
         "x": [
          13
         ],
         "xaxis": "x",
         "y": [
          102000
         ],
         "yaxis": "y"
        },
        {
         "hovertemplate": "Current Salary=%{y}<br>Years of experience=%{x}<extra></extra>",
         "legendgroup": "35000.0",
         "line": {
          "color": "#636efa",
          "dash": "solid"
         },
         "mode": "lines",
         "name": "35000.0",
         "showlegend": true,
         "type": "scatter",
         "x": [
          5,
          2.5,
          17
         ],
         "xaxis": "x",
         "y": [
          35000,
          35000,
          35000
         ],
         "yaxis": "y"
        },
        {
         "hovertemplate": "Current Salary=%{y}<br>Years of experience=%{x}<extra></extra>",
         "legendgroup": "55800.0",
         "line": {
          "color": "#EF553B",
          "dash": "solid"
         },
         "mode": "lines",
         "name": "55800.0",
         "showlegend": true,
         "type": "scatter",
         "x": [
          8
         ],
         "xaxis": "x",
         "y": [
          55800
         ],
         "yaxis": "y"
        },
        {
         "hovertemplate": "Current Salary=%{y}<br>Years of experience=%{x}<extra></extra>",
         "legendgroup": "115000.0",
         "line": {
          "color": "#00cc96",
          "dash": "solid"
         },
         "mode": "lines",
         "name": "115000.0",
         "showlegend": true,
         "type": "scatter",
         "x": [
          8,
          11,
          10,
          10
         ],
         "xaxis": "x",
         "y": [
          115000,
          115000,
          115000,
          115000
         ],
         "yaxis": "y"
        },
        {
         "hovertemplate": "Current Salary=%{y}<br>Years of experience=%{x}<extra></extra>",
         "legendgroup": "176000.0",
         "line": {
          "color": "#ab63fa",
          "dash": "solid"
         },
         "mode": "lines",
         "name": "176000.0",
         "showlegend": true,
         "type": "scatter",
         "x": [
          13
         ],
         "xaxis": "x",
         "y": [
          176000
         ],
         "yaxis": "y"
        },
        {
         "hovertemplate": "Current Salary=%{y}<br>Years of experience=%{x}<extra></extra>",
         "legendgroup": "44000.0",
         "line": {
          "color": "#FFA15A",
          "dash": "solid"
         },
         "mode": "lines",
         "name": "44000.0",
         "showlegend": true,
         "type": "scatter",
         "x": [
          7,
          10,
          3,
          7,
          9,
          1
         ],
         "xaxis": "x",
         "y": [
          44000,
          44000,
          44000,
          44000,
          44000,
          44000
         ],
         "yaxis": "y"
        },
        {
         "hovertemplate": "Current Salary=%{y}<br>Years of experience=%{x}<extra></extra>",
         "legendgroup": "92000.0",
         "line": {
          "color": "#19d3f3",
          "dash": "solid"
         },
         "mode": "lines",
         "name": "92000.0",
         "showlegend": true,
         "type": "scatter",
         "x": [
          5,
          15,
          11,
          8
         ],
         "xaxis": "x",
         "y": [
          92000,
          92000,
          92000,
          92000
         ],
         "yaxis": "y"
        },
        {
         "hovertemplate": "Current Salary=%{y}<br>Years of experience=%{x}<extra></extra>",
         "legendgroup": "125000.0",
         "line": {
          "color": "#FF6692",
          "dash": "solid"
         },
         "mode": "lines",
         "name": "125000.0",
         "showlegend": true,
         "type": "scatter",
         "x": [
          6,
          8
         ],
         "xaxis": "x",
         "y": [
          125000,
          125000
         ],
         "yaxis": "y"
        },
        {
         "hovertemplate": "Current Salary=%{y}<br>Years of experience=%{x}<extra></extra>",
         "legendgroup": "76000.0",
         "line": {
          "color": "#B6E880",
          "dash": "solid"
         },
         "mode": "lines",
         "name": "76000.0",
         "showlegend": true,
         "type": "scatter",
         "x": [
          6,
          10
         ],
         "xaxis": "x",
         "y": [
          76000,
          76000
         ],
         "yaxis": "y"
        },
        {
         "hovertemplate": "Current Salary=%{y}<br>Years of experience=%{x}<extra></extra>",
         "legendgroup": "48500.0",
         "line": {
          "color": "#FF97FF",
          "dash": "solid"
         },
         "mode": "lines",
         "name": "48500.0",
         "showlegend": true,
         "type": "scatter",
         "x": [
          3
         ],
         "xaxis": "x",
         "y": [
          48500
         ],
         "yaxis": "y"
        },
        {
         "hovertemplate": "Current Salary=%{y}<br>Years of experience=%{x}<extra></extra>",
         "legendgroup": "34000.0",
         "line": {
          "color": "#FECB52",
          "dash": "solid"
         },
         "mode": "lines",
         "name": "34000.0",
         "showlegend": true,
         "type": "scatter",
         "x": [
          7,
          5
         ],
         "xaxis": "x",
         "y": [
          34000,
          34000
         ],
         "yaxis": "y"
        },
        {
         "hovertemplate": "Current Salary=%{y}<br>Years of experience=%{x}<extra></extra>",
         "legendgroup": "70500.0",
         "line": {
          "color": "#636efa",
          "dash": "solid"
         },
         "mode": "lines",
         "name": "70500.0",
         "showlegend": true,
         "type": "scatter",
         "x": [
          7
         ],
         "xaxis": "x",
         "y": [
          70500
         ],
         "yaxis": "y"
        },
        {
         "hovertemplate": "Current Salary=%{y}<br>Years of experience=%{x}<extra></extra>",
         "legendgroup": "96000.0",
         "line": {
          "color": "#EF553B",
          "dash": "solid"
         },
         "mode": "lines",
         "name": "96000.0",
         "showlegend": true,
         "type": "scatter",
         "x": [
          20,
          10,
          10,
          7
         ],
         "xaxis": "x",
         "y": [
          96000,
          96000,
          96000,
          96000
         ],
         "yaxis": "y"
        },
        {
         "hovertemplate": "Current Salary=%{y}<br>Years of experience=%{x}<extra></extra>",
         "legendgroup": "86000.0",
         "line": {
          "color": "#00cc96",
          "dash": "solid"
         },
         "mode": "lines",
         "name": "86000.0",
         "showlegend": true,
         "type": "scatter",
         "x": [
          10,
          16,
          15
         ],
         "xaxis": "x",
         "y": [
          86000,
          86000,
          86000
         ],
         "yaxis": "y"
        },
        {
         "hovertemplate": "Current Salary=%{y}<br>Years of experience=%{x}<extra></extra>",
         "legendgroup": "200000.0",
         "line": {
          "color": "#ab63fa",
          "dash": "solid"
         },
         "mode": "lines",
         "name": "200000.0",
         "showlegend": true,
         "type": "scatter",
         "x": [
          20
         ],
         "xaxis": "x",
         "y": [
          200000
         ],
         "yaxis": "y"
        },
        {
         "hovertemplate": "Current Salary=%{y}<br>Years of experience=%{x}<extra></extra>",
         "legendgroup": "73300.0",
         "line": {
          "color": "#FFA15A",
          "dash": "solid"
         },
         "mode": "lines",
         "name": "73300.0",
         "showlegend": true,
         "type": "scatter",
         "x": [
          8.548497267759563
         ],
         "xaxis": "x",
         "y": [
          73300
         ],
         "yaxis": "y"
        },
        {
         "hovertemplate": "Current Salary=%{y}<br>Years of experience=%{x}<extra></extra>",
         "legendgroup": "73500.0",
         "line": {
          "color": "#19d3f3",
          "dash": "solid"
         },
         "mode": "lines",
         "name": "73500.0",
         "showlegend": true,
         "type": "scatter",
         "x": [
          12
         ],
         "xaxis": "x",
         "y": [
          73500
         ],
         "yaxis": "y"
        },
        {
         "hovertemplate": "Current Salary=%{y}<br>Years of experience=%{x}<extra></extra>",
         "legendgroup": "130000.0",
         "line": {
          "color": "#FF6692",
          "dash": "solid"
         },
         "mode": "lines",
         "name": "130000.0",
         "showlegend": true,
         "type": "scatter",
         "x": [
          9,
          10,
          7,
          9,
          15,
          10
         ],
         "xaxis": "x",
         "y": [
          130000,
          130000,
          130000,
          130000,
          130000,
          130000
         ],
         "yaxis": "y"
        },
        {
         "hovertemplate": "Current Salary=%{y}<br>Years of experience=%{x}<extra></extra>",
         "legendgroup": "47500.0",
         "line": {
          "color": "#B6E880",
          "dash": "solid"
         },
         "mode": "lines",
         "name": "47500.0",
         "showlegend": true,
         "type": "scatter",
         "x": [
          5
         ],
         "xaxis": "x",
         "y": [
          47500
         ],
         "yaxis": "y"
        },
        {
         "hovertemplate": "Current Salary=%{y}<br>Years of experience=%{x}<extra></extra>",
         "legendgroup": "81000.0",
         "line": {
          "color": "#FF97FF",
          "dash": "solid"
         },
         "mode": "lines",
         "name": "81000.0",
         "showlegend": true,
         "type": "scatter",
         "x": [
          5
         ],
         "xaxis": "x",
         "y": [
          81000
         ],
         "yaxis": "y"
        },
        {
         "hovertemplate": "Current Salary=%{y}<br>Years of experience=%{x}<extra></extra>",
         "legendgroup": "140000.0",
         "line": {
          "color": "#FECB52",
          "dash": "solid"
         },
         "mode": "lines",
         "name": "140000.0",
         "showlegend": true,
         "type": "scatter",
         "x": [
          25,
          18
         ],
         "xaxis": "x",
         "y": [
          140000,
          140000
         ],
         "yaxis": "y"
        },
        {
         "hovertemplate": "Current Salary=%{y}<br>Years of experience=%{x}<extra></extra>",
         "legendgroup": "53500.0",
         "line": {
          "color": "#636efa",
          "dash": "solid"
         },
         "mode": "lines",
         "name": "53500.0",
         "showlegend": true,
         "type": "scatter",
         "x": [
          8
         ],
         "xaxis": "x",
         "y": [
          53500
         ],
         "yaxis": "y"
        },
        {
         "hovertemplate": "Current Salary=%{y}<br>Years of experience=%{x}<extra></extra>",
         "legendgroup": "87975.0",
         "line": {
          "color": "#EF553B",
          "dash": "solid"
         },
         "mode": "lines",
         "name": "87975.0",
         "showlegend": true,
         "type": "scatter",
         "x": [
          4
         ],
         "xaxis": "x",
         "y": [
          87975
         ],
         "yaxis": "y"
        },
        {
         "hovertemplate": "Current Salary=%{y}<br>Years of experience=%{x}<extra></extra>",
         "legendgroup": "68381.76533333333",
         "line": {
          "color": "#00cc96",
          "dash": "solid"
         },
         "mode": "lines",
         "name": "68381.76533333333",
         "showlegend": true,
         "type": "scatter",
         "x": [
          4,
          8.548497267759563,
          8.548497267759563,
          8.548497267759563,
          8.548497267759563,
          8.548497267759563,
          8.548497267759563,
          8.548497267759563,
          8.548497267759563,
          8.548497267759563,
          8.548497267759563,
          8.548497267759563,
          8.548497267759563,
          8.548497267759563,
          8.548497267759563
         ],
         "xaxis": "x",
         "y": [
          68381.76533333333,
          68381.76533333333,
          68381.76533333333,
          68381.76533333333,
          68381.76533333333,
          68381.76533333333,
          68381.76533333333,
          68381.76533333333,
          68381.76533333333,
          68381.76533333333,
          68381.76533333333,
          68381.76533333333,
          68381.76533333333,
          68381.76533333333,
          68381.76533333333
         ],
         "yaxis": "y"
        },
        {
         "hovertemplate": "Current Salary=%{y}<br>Years of experience=%{x}<extra></extra>",
         "legendgroup": "31500.0",
         "line": {
          "color": "#ab63fa",
          "dash": "solid"
         },
         "mode": "lines",
         "name": "31500.0",
         "showlegend": true,
         "type": "scatter",
         "x": [
          10
         ],
         "xaxis": "x",
         "y": [
          31500
         ],
         "yaxis": "y"
        },
        {
         "hovertemplate": "Current Salary=%{y}<br>Years of experience=%{x}<extra></extra>",
         "legendgroup": "110000.0",
         "line": {
          "color": "#FFA15A",
          "dash": "solid"
         },
         "mode": "lines",
         "name": "110000.0",
         "showlegend": true,
         "type": "scatter",
         "x": [
          15,
          19,
          10
         ],
         "xaxis": "x",
         "y": [
          110000,
          110000,
          110000
         ],
         "yaxis": "y"
        },
        {
         "hovertemplate": "Current Salary=%{y}<br>Years of experience=%{x}<extra></extra>",
         "legendgroup": "112000.0",
         "line": {
          "color": "#19d3f3",
          "dash": "solid"
         },
         "mode": "lines",
         "name": "112000.0",
         "showlegend": true,
         "type": "scatter",
         "x": [
          7,
          14
         ],
         "xaxis": "x",
         "y": [
          112000,
          112000
         ],
         "yaxis": "y"
        },
        {
         "hovertemplate": "Current Salary=%{y}<br>Years of experience=%{x}<extra></extra>",
         "legendgroup": "59000.0",
         "line": {
          "color": "#FF6692",
          "dash": "solid"
         },
         "mode": "lines",
         "name": "59000.0",
         "showlegend": true,
         "type": "scatter",
         "x": [
          6
         ],
         "xaxis": "x",
         "y": [
          59000
         ],
         "yaxis": "y"
        },
        {
         "hovertemplate": "Current Salary=%{y}<br>Years of experience=%{x}<extra></extra>",
         "legendgroup": "47000.0",
         "line": {
          "color": "#B6E880",
          "dash": "solid"
         },
         "mode": "lines",
         "name": "47000.0",
         "showlegend": true,
         "type": "scatter",
         "x": [
          9,
          1,
          3,
          7,
          10
         ],
         "xaxis": "x",
         "y": [
          47000,
          47000,
          47000,
          47000,
          47000
         ],
         "yaxis": "y"
        },
        {
         "hovertemplate": "Current Salary=%{y}<br>Years of experience=%{x}<extra></extra>",
         "legendgroup": "68400.0",
         "line": {
          "color": "#FF97FF",
          "dash": "solid"
         },
         "mode": "lines",
         "name": "68400.0",
         "showlegend": true,
         "type": "scatter",
         "x": [
          5
         ],
         "xaxis": "x",
         "y": [
          68400
         ],
         "yaxis": "y"
        },
        {
         "hovertemplate": "Current Salary=%{y}<br>Years of experience=%{x}<extra></extra>",
         "legendgroup": "67200.0",
         "line": {
          "color": "#FECB52",
          "dash": "solid"
         },
         "mode": "lines",
         "name": "67200.0",
         "showlegend": true,
         "type": "scatter",
         "x": [
          15
         ],
         "xaxis": "x",
         "y": [
          67200
         ],
         "yaxis": "y"
        },
        {
         "hovertemplate": "Current Salary=%{y}<br>Years of experience=%{x}<extra></extra>",
         "legendgroup": "111000.0",
         "line": {
          "color": "#636efa",
          "dash": "solid"
         },
         "mode": "lines",
         "name": "111000.0",
         "showlegend": true,
         "type": "scatter",
         "x": [
          12
         ],
         "xaxis": "x",
         "y": [
          111000
         ],
         "yaxis": "y"
        },
        {
         "hovertemplate": "Current Salary=%{y}<br>Years of experience=%{x}<extra></extra>",
         "legendgroup": "40800.0",
         "line": {
          "color": "#EF553B",
          "dash": "solid"
         },
         "mode": "lines",
         "name": "40800.0",
         "showlegend": true,
         "type": "scatter",
         "x": [
          6,
          4
         ],
         "xaxis": "x",
         "y": [
          40800,
          40800
         ],
         "yaxis": "y"
        },
        {
         "hovertemplate": "Current Salary=%{y}<br>Years of experience=%{x}<extra></extra>",
         "legendgroup": "92100.0",
         "line": {
          "color": "#00cc96",
          "dash": "solid"
         },
         "mode": "lines",
         "name": "92100.0",
         "showlegend": true,
         "type": "scatter",
         "x": [
          18
         ],
         "xaxis": "x",
         "y": [
          92100
         ],
         "yaxis": "y"
        },
        {
         "hovertemplate": "Current Salary=%{y}<br>Years of experience=%{x}<extra></extra>",
         "legendgroup": "38000.0",
         "line": {
          "color": "#ab63fa",
          "dash": "solid"
         },
         "mode": "lines",
         "name": "38000.0",
         "showlegend": true,
         "type": "scatter",
         "x": [
          3
         ],
         "xaxis": "x",
         "y": [
          38000
         ],
         "yaxis": "y"
        },
        {
         "hovertemplate": "Current Salary=%{y}<br>Years of experience=%{x}<extra></extra>",
         "legendgroup": "10300.0",
         "line": {
          "color": "#FFA15A",
          "dash": "solid"
         },
         "mode": "lines",
         "name": "10300.0",
         "showlegend": true,
         "type": "scatter",
         "x": [
          1
         ],
         "xaxis": "x",
         "y": [
          10300
         ],
         "yaxis": "y"
        },
        {
         "hovertemplate": "Current Salary=%{y}<br>Years of experience=%{x}<extra></extra>",
         "legendgroup": "24000.0",
         "line": {
          "color": "#19d3f3",
          "dash": "solid"
         },
         "mode": "lines",
         "name": "24000.0",
         "showlegend": true,
         "type": "scatter",
         "x": [
          2.5,
          2,
          2,
          5
         ],
         "xaxis": "x",
         "y": [
          24000,
          24000,
          24000,
          24000
         ],
         "yaxis": "y"
        },
        {
         "hovertemplate": "Current Salary=%{y}<br>Years of experience=%{x}<extra></extra>",
         "legendgroup": "39600.0",
         "line": {
          "color": "#FF6692",
          "dash": "solid"
         },
         "mode": "lines",
         "name": "39600.0",
         "showlegend": true,
         "type": "scatter",
         "x": [
          10,
          12
         ],
         "xaxis": "x",
         "y": [
          39600,
          39600
         ],
         "yaxis": "y"
        },
        {
         "hovertemplate": "Current Salary=%{y}<br>Years of experience=%{x}<extra></extra>",
         "legendgroup": "64400.0",
         "line": {
          "color": "#B6E880",
          "dash": "solid"
         },
         "mode": "lines",
         "name": "64400.0",
         "showlegend": true,
         "type": "scatter",
         "x": [
          9
         ],
         "xaxis": "x",
         "y": [
          64400
         ],
         "yaxis": "y"
        },
        {
         "hovertemplate": "Current Salary=%{y}<br>Years of experience=%{x}<extra></extra>",
         "legendgroup": "57800.0",
         "line": {
          "color": "#FF97FF",
          "dash": "solid"
         },
         "mode": "lines",
         "name": "57800.0",
         "showlegend": true,
         "type": "scatter",
         "x": [
          8
         ],
         "xaxis": "x",
         "y": [
          57800
         ],
         "yaxis": "y"
        },
        {
         "hovertemplate": "Current Salary=%{y}<br>Years of experience=%{x}<extra></extra>",
         "legendgroup": "20400.0",
         "line": {
          "color": "#FECB52",
          "dash": "solid"
         },
         "mode": "lines",
         "name": "20400.0",
         "showlegend": true,
         "type": "scatter",
         "x": [
          4
         ],
         "xaxis": "x",
         "y": [
          20400
         ],
         "yaxis": "y"
        },
        {
         "hovertemplate": "Current Salary=%{y}<br>Years of experience=%{x}<extra></extra>",
         "legendgroup": "47300.0",
         "line": {
          "color": "#636efa",
          "dash": "solid"
         },
         "mode": "lines",
         "name": "47300.0",
         "showlegend": true,
         "type": "scatter",
         "x": [
          4
         ],
         "xaxis": "x",
         "y": [
          47300
         ],
         "yaxis": "y"
        },
        {
         "hovertemplate": "Current Salary=%{y}<br>Years of experience=%{x}<extra></extra>",
         "legendgroup": "23162.0",
         "line": {
          "color": "#EF553B",
          "dash": "solid"
         },
         "mode": "lines",
         "name": "23162.0",
         "showlegend": true,
         "type": "scatter",
         "x": [
          10
         ],
         "xaxis": "x",
         "y": [
          23162
         ],
         "yaxis": "y"
        },
        {
         "hovertemplate": "Current Salary=%{y}<br>Years of experience=%{x}<extra></extra>",
         "legendgroup": "17532.0",
         "line": {
          "color": "#00cc96",
          "dash": "solid"
         },
         "mode": "lines",
         "name": "17532.0",
         "showlegend": true,
         "type": "scatter",
         "x": [
          2
         ],
         "xaxis": "x",
         "y": [
          17532
         ],
         "yaxis": "y"
        },
        {
         "hovertemplate": "Current Salary=%{y}<br>Years of experience=%{x}<extra></extra>",
         "legendgroup": "19200.0",
         "line": {
          "color": "#ab63fa",
          "dash": "solid"
         },
         "mode": "lines",
         "name": "19200.0",
         "showlegend": true,
         "type": "scatter",
         "x": [
          2
         ],
         "xaxis": "x",
         "y": [
          19200
         ],
         "yaxis": "y"
        },
        {
         "hovertemplate": "Current Salary=%{y}<br>Years of experience=%{x}<extra></extra>",
         "legendgroup": "51750.0",
         "line": {
          "color": "#FFA15A",
          "dash": "solid"
         },
         "mode": "lines",
         "name": "51750.0",
         "showlegend": true,
         "type": "scatter",
         "x": [
          5
         ],
         "xaxis": "x",
         "y": [
          51750
         ],
         "yaxis": "y"
        },
        {
         "hovertemplate": "Current Salary=%{y}<br>Years of experience=%{x}<extra></extra>",
         "legendgroup": "108000.0",
         "line": {
          "color": "#19d3f3",
          "dash": "solid"
         },
         "mode": "lines",
         "name": "108000.0",
         "showlegend": true,
         "type": "scatter",
         "x": [
          12
         ],
         "xaxis": "x",
         "y": [
          108000
         ],
         "yaxis": "y"
        },
        {
         "hovertemplate": "Current Salary=%{y}<br>Years of experience=%{x}<extra></extra>",
         "legendgroup": "38400.0",
         "line": {
          "color": "#FF6692",
          "dash": "solid"
         },
         "mode": "lines",
         "name": "38400.0",
         "showlegend": true,
         "type": "scatter",
         "x": [
          10
         ],
         "xaxis": "x",
         "y": [
          38400
         ],
         "yaxis": "y"
        },
        {
         "hovertemplate": "Current Salary=%{y}<br>Years of experience=%{x}<extra></extra>",
         "legendgroup": "51000.0",
         "line": {
          "color": "#B6E880",
          "dash": "solid"
         },
         "mode": "lines",
         "name": "51000.0",
         "showlegend": true,
         "type": "scatter",
         "x": [
          6,
          1
         ],
         "xaxis": "x",
         "y": [
          51000,
          51000
         ],
         "yaxis": "y"
        },
        {
         "hovertemplate": "Current Salary=%{y}<br>Years of experience=%{x}<extra></extra>",
         "legendgroup": "69600.0",
         "line": {
          "color": "#FF97FF",
          "dash": "solid"
         },
         "mode": "lines",
         "name": "69600.0",
         "showlegend": true,
         "type": "scatter",
         "x": [
          12
         ],
         "xaxis": "x",
         "y": [
          69600
         ],
         "yaxis": "y"
        },
        {
         "hovertemplate": "Current Salary=%{y}<br>Years of experience=%{x}<extra></extra>",
         "legendgroup": "58500.0",
         "line": {
          "color": "#FECB52",
          "dash": "solid"
         },
         "mode": "lines",
         "name": "58500.0",
         "showlegend": true,
         "type": "scatter",
         "x": [
          6,
          5
         ],
         "xaxis": "x",
         "y": [
          58500,
          58500
         ],
         "yaxis": "y"
        },
        {
         "hovertemplate": "Current Salary=%{y}<br>Years of experience=%{x}<extra></extra>",
         "legendgroup": "150000.0",
         "line": {
          "color": "#636efa",
          "dash": "solid"
         },
         "mode": "lines",
         "name": "150000.0",
         "showlegend": true,
         "type": "scatter",
         "x": [
          8.548497267759563
         ],
         "xaxis": "x",
         "y": [
          150000
         ],
         "yaxis": "y"
        },
        {
         "hovertemplate": "Current Salary=%{y}<br>Years of experience=%{x}<extra></extra>",
         "legendgroup": "47250.0",
         "line": {
          "color": "#EF553B",
          "dash": "solid"
         },
         "mode": "lines",
         "name": "47250.0",
         "showlegend": true,
         "type": "scatter",
         "x": [
          2
         ],
         "xaxis": "x",
         "y": [
          47250
         ],
         "yaxis": "y"
        },
        {
         "hovertemplate": "Current Salary=%{y}<br>Years of experience=%{x}<extra></extra>",
         "legendgroup": "39000.0",
         "line": {
          "color": "#00cc96",
          "dash": "solid"
         },
         "mode": "lines",
         "name": "39000.0",
         "showlegend": true,
         "type": "scatter",
         "x": [
          3
         ],
         "xaxis": "x",
         "y": [
          39000
         ],
         "yaxis": "y"
        },
        {
         "hovertemplate": "Current Salary=%{y}<br>Years of experience=%{x}<extra></extra>",
         "legendgroup": "64500.0",
         "line": {
          "color": "#ab63fa",
          "dash": "solid"
         },
         "mode": "lines",
         "name": "64500.0",
         "showlegend": true,
         "type": "scatter",
         "x": [
          10
         ],
         "xaxis": "x",
         "y": [
          64500
         ],
         "yaxis": "y"
        },
        {
         "hovertemplate": "Current Salary=%{y}<br>Years of experience=%{x}<extra></extra>",
         "legendgroup": "122000.0",
         "line": {
          "color": "#FFA15A",
          "dash": "solid"
         },
         "mode": "lines",
         "name": "122000.0",
         "showlegend": true,
         "type": "scatter",
         "x": [
          10
         ],
         "xaxis": "x",
         "y": [
          122000
         ],
         "yaxis": "y"
        },
        {
         "hovertemplate": "Current Salary=%{y}<br>Years of experience=%{x}<extra></extra>",
         "legendgroup": "165000.0",
         "line": {
          "color": "#19d3f3",
          "dash": "solid"
         },
         "mode": "lines",
         "name": "165000.0",
         "showlegend": true,
         "type": "scatter",
         "x": [
          15
         ],
         "xaxis": "x",
         "y": [
          165000
         ],
         "yaxis": "y"
        },
        {
         "hovertemplate": "Current Salary=%{y}<br>Years of experience=%{x}<extra></extra>",
         "legendgroup": "138000.0",
         "line": {
          "color": "#FF6692",
          "dash": "solid"
         },
         "mode": "lines",
         "name": "138000.0",
         "showlegend": true,
         "type": "scatter",
         "x": [
          9
         ],
         "xaxis": "x",
         "y": [
          138000
         ],
         "yaxis": "y"
        },
        {
         "hovertemplate": "Current Salary=%{y}<br>Years of experience=%{x}<extra></extra>",
         "legendgroup": "39150.0",
         "line": {
          "color": "#B6E880",
          "dash": "solid"
         },
         "mode": "lines",
         "name": "39150.0",
         "showlegend": true,
         "type": "scatter",
         "x": [
          4.5
         ],
         "xaxis": "x",
         "y": [
          39150
         ],
         "yaxis": "y"
        },
        {
         "hovertemplate": "Current Salary=%{y}<br>Years of experience=%{x}<extra></extra>",
         "legendgroup": "67500.0",
         "line": {
          "color": "#FF97FF",
          "dash": "solid"
         },
         "mode": "lines",
         "name": "67500.0",
         "showlegend": true,
         "type": "scatter",
         "x": [
          8
         ],
         "xaxis": "x",
         "y": [
          67500
         ],
         "yaxis": "y"
        },
        {
         "hovertemplate": "Current Salary=%{y}<br>Years of experience=%{x}<extra></extra>",
         "legendgroup": "37000.0",
         "line": {
          "color": "#FECB52",
          "dash": "solid"
         },
         "mode": "lines",
         "name": "37000.0",
         "showlegend": true,
         "type": "scatter",
         "x": [
          8.548497267759563,
          3
         ],
         "xaxis": "x",
         "y": [
          37000,
          37000
         ],
         "yaxis": "y"
        },
        {
         "hovertemplate": "Current Salary=%{y}<br>Years of experience=%{x}<extra></extra>",
         "legendgroup": "33600.0",
         "line": {
          "color": "#636efa",
          "dash": "solid"
         },
         "mode": "lines",
         "name": "33600.0",
         "showlegend": true,
         "type": "scatter",
         "x": [
          5
         ],
         "xaxis": "x",
         "y": [
          33600
         ],
         "yaxis": "y"
        },
        {
         "hovertemplate": "Current Salary=%{y}<br>Years of experience=%{x}<extra></extra>",
         "legendgroup": "132000.0",
         "line": {
          "color": "#EF553B",
          "dash": "solid"
         },
         "mode": "lines",
         "name": "132000.0",
         "showlegend": true,
         "type": "scatter",
         "x": [
          8
         ],
         "xaxis": "x",
         "y": [
          132000
         ],
         "yaxis": "y"
        },
        {
         "hovertemplate": "Current Salary=%{y}<br>Years of experience=%{x}<extra></extra>",
         "legendgroup": "87500.0",
         "line": {
          "color": "#00cc96",
          "dash": "solid"
         },
         "mode": "lines",
         "name": "87500.0",
         "showlegend": true,
         "type": "scatter",
         "x": [
          5
         ],
         "xaxis": "x",
         "y": [
          87500
         ],
         "yaxis": "y"
        },
        {
         "hovertemplate": "Current Salary=%{y}<br>Years of experience=%{x}<extra></extra>",
         "legendgroup": "128000.0",
         "line": {
          "color": "#ab63fa",
          "dash": "solid"
         },
         "mode": "lines",
         "name": "128000.0",
         "showlegend": true,
         "type": "scatter",
         "x": [
          14
         ],
         "xaxis": "x",
         "y": [
          128000
         ],
         "yaxis": "y"
        },
        {
         "hovertemplate": "Current Salary=%{y}<br>Years of experience=%{x}<extra></extra>",
         "legendgroup": "180000.0",
         "line": {
          "color": "#FFA15A",
          "dash": "solid"
         },
         "mode": "lines",
         "name": "180000.0",
         "showlegend": true,
         "type": "scatter",
         "x": [
          18
         ],
         "xaxis": "x",
         "y": [
          180000
         ],
         "yaxis": "y"
        },
        {
         "hovertemplate": "Current Salary=%{y}<br>Years of experience=%{x}<extra></extra>",
         "legendgroup": "57500.0",
         "line": {
          "color": "#19d3f3",
          "dash": "solid"
         },
         "mode": "lines",
         "name": "57500.0",
         "showlegend": true,
         "type": "scatter",
         "x": [
          7
         ],
         "xaxis": "x",
         "y": [
          57500
         ],
         "yaxis": "y"
        },
        {
         "hovertemplate": "Current Salary=%{y}<br>Years of experience=%{x}<extra></extra>",
         "legendgroup": "103000.0",
         "line": {
          "color": "#FF6692",
          "dash": "solid"
         },
         "mode": "lines",
         "name": "103000.0",
         "showlegend": true,
         "type": "scatter",
         "x": [
          16
         ],
         "xaxis": "x",
         "y": [
          103000
         ],
         "yaxis": "y"
        },
        {
         "hovertemplate": "Current Salary=%{y}<br>Years of experience=%{x}<extra></extra>",
         "legendgroup": "53600.0",
         "line": {
          "color": "#B6E880",
          "dash": "solid"
         },
         "mode": "lines",
         "name": "53600.0",
         "showlegend": true,
         "type": "scatter",
         "x": [
          15
         ],
         "xaxis": "x",
         "y": [
          53600
         ],
         "yaxis": "y"
        },
        {
         "hovertemplate": "Current Salary=%{y}<br>Years of experience=%{x}<extra></extra>",
         "legendgroup": "51600.0",
         "line": {
          "color": "#FF97FF",
          "dash": "solid"
         },
         "mode": "lines",
         "name": "51600.0",
         "showlegend": true,
         "type": "scatter",
         "x": [
          3
         ],
         "xaxis": "x",
         "y": [
          51600
         ],
         "yaxis": "y"
        },
        {
         "hovertemplate": "Current Salary=%{y}<br>Years of experience=%{x}<extra></extra>",
         "legendgroup": "60500.0",
         "line": {
          "color": "#FECB52",
          "dash": "solid"
         },
         "mode": "lines",
         "name": "60500.0",
         "showlegend": true,
         "type": "scatter",
         "x": [
          3
         ],
         "xaxis": "x",
         "y": [
          60500
         ],
         "yaxis": "y"
        },
        {
         "hovertemplate": "Current Salary=%{y}<br>Years of experience=%{x}<extra></extra>",
         "legendgroup": "15000.0",
         "line": {
          "color": "#636efa",
          "dash": "solid"
         },
         "mode": "lines",
         "name": "15000.0",
         "showlegend": true,
         "type": "scatter",
         "x": [
          10
         ],
         "xaxis": "x",
         "y": [
          15000
         ],
         "yaxis": "y"
        },
        {
         "hovertemplate": "Current Salary=%{y}<br>Years of experience=%{x}<extra></extra>",
         "legendgroup": "127000.0",
         "line": {
          "color": "#EF553B",
          "dash": "solid"
         },
         "mode": "lines",
         "name": "127000.0",
         "showlegend": true,
         "type": "scatter",
         "x": [
          18
         ],
         "xaxis": "x",
         "y": [
          127000
         ],
         "yaxis": "y"
        },
        {
         "hovertemplate": "Current Salary=%{y}<br>Years of experience=%{x}<extra></extra>",
         "legendgroup": "93000.0",
         "line": {
          "color": "#00cc96",
          "dash": "solid"
         },
         "mode": "lines",
         "name": "93000.0",
         "showlegend": true,
         "type": "scatter",
         "x": [
          20
         ],
         "xaxis": "x",
         "y": [
          93000
         ],
         "yaxis": "y"
        },
        {
         "hovertemplate": "Current Salary=%{y}<br>Years of experience=%{x}<extra></extra>",
         "legendgroup": "27000.0",
         "line": {
          "color": "#ab63fa",
          "dash": "solid"
         },
         "mode": "lines",
         "name": "27000.0",
         "showlegend": true,
         "type": "scatter",
         "x": [
          3
         ],
         "xaxis": "x",
         "y": [
          27000
         ],
         "yaxis": "y"
        },
        {
         "hovertemplate": "Current Salary=%{y}<br>Years of experience=%{x}<extra></extra>",
         "legendgroup": "33000.0",
         "line": {
          "color": "#FFA15A",
          "dash": "solid"
         },
         "mode": "lines",
         "name": "33000.0",
         "showlegend": true,
         "type": "scatter",
         "x": [
          7
         ],
         "xaxis": "x",
         "y": [
          33000
         ],
         "yaxis": "y"
        },
        {
         "hovertemplate": "Current Salary=%{y}<br>Years of experience=%{x}<extra></extra>",
         "legendgroup": "83200.0",
         "line": {
          "color": "#19d3f3",
          "dash": "solid"
         },
         "mode": "lines",
         "name": "83200.0",
         "showlegend": true,
         "type": "scatter",
         "x": [
          0
         ],
         "xaxis": "x",
         "y": [
          83200
         ],
         "yaxis": "y"
        },
        {
         "hovertemplate": "Current Salary=%{y}<br>Years of experience=%{x}<extra></extra>",
         "legendgroup": "80400.0",
         "line": {
          "color": "#FF6692",
          "dash": "solid"
         },
         "mode": "lines",
         "name": "80400.0",
         "showlegend": true,
         "type": "scatter",
         "x": [
          8
         ],
         "xaxis": "x",
         "y": [
          80400
         ],
         "yaxis": "y"
        },
        {
         "hovertemplate": "Current Salary=%{y}<br>Years of experience=%{x}<extra></extra>",
         "legendgroup": "13000.0",
         "line": {
          "color": "#B6E880",
          "dash": "solid"
         },
         "mode": "lines",
         "name": "13000.0",
         "showlegend": true,
         "type": "scatter",
         "x": [
          2
         ],
         "xaxis": "x",
         "y": [
          13000
         ],
         "yaxis": "y"
        },
        {
         "hovertemplate": "Current Salary=%{y}<br>Years of experience=%{x}<extra></extra>",
         "legendgroup": "71500.0",
         "line": {
          "color": "#FF97FF",
          "dash": "solid"
         },
         "mode": "lines",
         "name": "71500.0",
         "showlegend": true,
         "type": "scatter",
         "x": [
          9
         ],
         "xaxis": "x",
         "y": [
          71500
         ],
         "yaxis": "y"
        },
        {
         "hovertemplate": "Current Salary=%{y}<br>Years of experience=%{x}<extra></extra>",
         "legendgroup": "55555.0",
         "line": {
          "color": "#FECB52",
          "dash": "solid"
         },
         "mode": "lines",
         "name": "55555.0",
         "showlegend": true,
         "type": "scatter",
         "x": [
          3
         ],
         "xaxis": "x",
         "y": [
          55555
         ],
         "yaxis": "y"
        }
       ],
       "layout": {
        "legend": {
         "title": {
          "text": "Current Salary"
         },
         "tracegroupgap": 0
        },
        "template": {
         "data": {
          "bar": [
           {
            "error_x": {
             "color": "#2a3f5f"
            },
            "error_y": {
             "color": "#2a3f5f"
            },
            "marker": {
             "line": {
              "color": "#E5ECF6",
              "width": 0.5
             }
            },
            "type": "bar"
           }
          ],
          "barpolar": [
           {
            "marker": {
             "line": {
              "color": "#E5ECF6",
              "width": 0.5
             }
            },
            "type": "barpolar"
           }
          ],
          "carpet": [
           {
            "aaxis": {
             "endlinecolor": "#2a3f5f",
             "gridcolor": "white",
             "linecolor": "white",
             "minorgridcolor": "white",
             "startlinecolor": "#2a3f5f"
            },
            "baxis": {
             "endlinecolor": "#2a3f5f",
             "gridcolor": "white",
             "linecolor": "white",
             "minorgridcolor": "white",
             "startlinecolor": "#2a3f5f"
            },
            "type": "carpet"
           }
          ],
          "choropleth": [
           {
            "colorbar": {
             "outlinewidth": 0,
             "ticks": ""
            },
            "type": "choropleth"
           }
          ],
          "contour": [
           {
            "colorbar": {
             "outlinewidth": 0,
             "ticks": ""
            },
            "colorscale": [
             [
              0,
              "#0d0887"
             ],
             [
              0.1111111111111111,
              "#46039f"
             ],
             [
              0.2222222222222222,
              "#7201a8"
             ],
             [
              0.3333333333333333,
              "#9c179e"
             ],
             [
              0.4444444444444444,
              "#bd3786"
             ],
             [
              0.5555555555555556,
              "#d8576b"
             ],
             [
              0.6666666666666666,
              "#ed7953"
             ],
             [
              0.7777777777777778,
              "#fb9f3a"
             ],
             [
              0.8888888888888888,
              "#fdca26"
             ],
             [
              1,
              "#f0f921"
             ]
            ],
            "type": "contour"
           }
          ],
          "contourcarpet": [
           {
            "colorbar": {
             "outlinewidth": 0,
             "ticks": ""
            },
            "type": "contourcarpet"
           }
          ],
          "heatmap": [
           {
            "colorbar": {
             "outlinewidth": 0,
             "ticks": ""
            },
            "colorscale": [
             [
              0,
              "#0d0887"
             ],
             [
              0.1111111111111111,
              "#46039f"
             ],
             [
              0.2222222222222222,
              "#7201a8"
             ],
             [
              0.3333333333333333,
              "#9c179e"
             ],
             [
              0.4444444444444444,
              "#bd3786"
             ],
             [
              0.5555555555555556,
              "#d8576b"
             ],
             [
              0.6666666666666666,
              "#ed7953"
             ],
             [
              0.7777777777777778,
              "#fb9f3a"
             ],
             [
              0.8888888888888888,
              "#fdca26"
             ],
             [
              1,
              "#f0f921"
             ]
            ],
            "type": "heatmap"
           }
          ],
          "heatmapgl": [
           {
            "colorbar": {
             "outlinewidth": 0,
             "ticks": ""
            },
            "colorscale": [
             [
              0,
              "#0d0887"
             ],
             [
              0.1111111111111111,
              "#46039f"
             ],
             [
              0.2222222222222222,
              "#7201a8"
             ],
             [
              0.3333333333333333,
              "#9c179e"
             ],
             [
              0.4444444444444444,
              "#bd3786"
             ],
             [
              0.5555555555555556,
              "#d8576b"
             ],
             [
              0.6666666666666666,
              "#ed7953"
             ],
             [
              0.7777777777777778,
              "#fb9f3a"
             ],
             [
              0.8888888888888888,
              "#fdca26"
             ],
             [
              1,
              "#f0f921"
             ]
            ],
            "type": "heatmapgl"
           }
          ],
          "histogram": [
           {
            "marker": {
             "colorbar": {
              "outlinewidth": 0,
              "ticks": ""
             }
            },
            "type": "histogram"
           }
          ],
          "histogram2d": [
           {
            "colorbar": {
             "outlinewidth": 0,
             "ticks": ""
            },
            "colorscale": [
             [
              0,
              "#0d0887"
             ],
             [
              0.1111111111111111,
              "#46039f"
             ],
             [
              0.2222222222222222,
              "#7201a8"
             ],
             [
              0.3333333333333333,
              "#9c179e"
             ],
             [
              0.4444444444444444,
              "#bd3786"
             ],
             [
              0.5555555555555556,
              "#d8576b"
             ],
             [
              0.6666666666666666,
              "#ed7953"
             ],
             [
              0.7777777777777778,
              "#fb9f3a"
             ],
             [
              0.8888888888888888,
              "#fdca26"
             ],
             [
              1,
              "#f0f921"
             ]
            ],
            "type": "histogram2d"
           }
          ],
          "histogram2dcontour": [
           {
            "colorbar": {
             "outlinewidth": 0,
             "ticks": ""
            },
            "colorscale": [
             [
              0,
              "#0d0887"
             ],
             [
              0.1111111111111111,
              "#46039f"
             ],
             [
              0.2222222222222222,
              "#7201a8"
             ],
             [
              0.3333333333333333,
              "#9c179e"
             ],
             [
              0.4444444444444444,
              "#bd3786"
             ],
             [
              0.5555555555555556,
              "#d8576b"
             ],
             [
              0.6666666666666666,
              "#ed7953"
             ],
             [
              0.7777777777777778,
              "#fb9f3a"
             ],
             [
              0.8888888888888888,
              "#fdca26"
             ],
             [
              1,
              "#f0f921"
             ]
            ],
            "type": "histogram2dcontour"
           }
          ],
          "mesh3d": [
           {
            "colorbar": {
             "outlinewidth": 0,
             "ticks": ""
            },
            "type": "mesh3d"
           }
          ],
          "parcoords": [
           {
            "line": {
             "colorbar": {
              "outlinewidth": 0,
              "ticks": ""
             }
            },
            "type": "parcoords"
           }
          ],
          "pie": [
           {
            "automargin": true,
            "type": "pie"
           }
          ],
          "scatter": [
           {
            "marker": {
             "colorbar": {
              "outlinewidth": 0,
              "ticks": ""
             }
            },
            "type": "scatter"
           }
          ],
          "scatter3d": [
           {
            "line": {
             "colorbar": {
              "outlinewidth": 0,
              "ticks": ""
             }
            },
            "marker": {
             "colorbar": {
              "outlinewidth": 0,
              "ticks": ""
             }
            },
            "type": "scatter3d"
           }
          ],
          "scattercarpet": [
           {
            "marker": {
             "colorbar": {
              "outlinewidth": 0,
              "ticks": ""
             }
            },
            "type": "scattercarpet"
           }
          ],
          "scattergeo": [
           {
            "marker": {
             "colorbar": {
              "outlinewidth": 0,
              "ticks": ""
             }
            },
            "type": "scattergeo"
           }
          ],
          "scattergl": [
           {
            "marker": {
             "colorbar": {
              "outlinewidth": 0,
              "ticks": ""
             }
            },
            "type": "scattergl"
           }
          ],
          "scattermapbox": [
           {
            "marker": {
             "colorbar": {
              "outlinewidth": 0,
              "ticks": ""
             }
            },
            "type": "scattermapbox"
           }
          ],
          "scatterpolar": [
           {
            "marker": {
             "colorbar": {
              "outlinewidth": 0,
              "ticks": ""
             }
            },
            "type": "scatterpolar"
           }
          ],
          "scatterpolargl": [
           {
            "marker": {
             "colorbar": {
              "outlinewidth": 0,
              "ticks": ""
             }
            },
            "type": "scatterpolargl"
           }
          ],
          "scatterternary": [
           {
            "marker": {
             "colorbar": {
              "outlinewidth": 0,
              "ticks": ""
             }
            },
            "type": "scatterternary"
           }
          ],
          "surface": [
           {
            "colorbar": {
             "outlinewidth": 0,
             "ticks": ""
            },
            "colorscale": [
             [
              0,
              "#0d0887"
             ],
             [
              0.1111111111111111,
              "#46039f"
             ],
             [
              0.2222222222222222,
              "#7201a8"
             ],
             [
              0.3333333333333333,
              "#9c179e"
             ],
             [
              0.4444444444444444,
              "#bd3786"
             ],
             [
              0.5555555555555556,
              "#d8576b"
             ],
             [
              0.6666666666666666,
              "#ed7953"
             ],
             [
              0.7777777777777778,
              "#fb9f3a"
             ],
             [
              0.8888888888888888,
              "#fdca26"
             ],
             [
              1,
              "#f0f921"
             ]
            ],
            "type": "surface"
           }
          ],
          "table": [
           {
            "cells": {
             "fill": {
              "color": "#EBF0F8"
             },
             "line": {
              "color": "white"
             }
            },
            "header": {
             "fill": {
              "color": "#C8D4E3"
             },
             "line": {
              "color": "white"
             }
            },
            "type": "table"
           }
          ]
         },
         "layout": {
          "annotationdefaults": {
           "arrowcolor": "#2a3f5f",
           "arrowhead": 0,
           "arrowwidth": 1
          },
          "coloraxis": {
           "colorbar": {
            "outlinewidth": 0,
            "ticks": ""
           }
          },
          "colorscale": {
           "diverging": [
            [
             0,
             "#8e0152"
            ],
            [
             0.1,
             "#c51b7d"
            ],
            [
             0.2,
             "#de77ae"
            ],
            [
             0.3,
             "#f1b6da"
            ],
            [
             0.4,
             "#fde0ef"
            ],
            [
             0.5,
             "#f7f7f7"
            ],
            [
             0.6,
             "#e6f5d0"
            ],
            [
             0.7,
             "#b8e186"
            ],
            [
             0.8,
             "#7fbc41"
            ],
            [
             0.9,
             "#4d9221"
            ],
            [
             1,
             "#276419"
            ]
           ],
           "sequential": [
            [
             0,
             "#0d0887"
            ],
            [
             0.1111111111111111,
             "#46039f"
            ],
            [
             0.2222222222222222,
             "#7201a8"
            ],
            [
             0.3333333333333333,
             "#9c179e"
            ],
            [
             0.4444444444444444,
             "#bd3786"
            ],
            [
             0.5555555555555556,
             "#d8576b"
            ],
            [
             0.6666666666666666,
             "#ed7953"
            ],
            [
             0.7777777777777778,
             "#fb9f3a"
            ],
            [
             0.8888888888888888,
             "#fdca26"
            ],
            [
             1,
             "#f0f921"
            ]
           ],
           "sequentialminus": [
            [
             0,
             "#0d0887"
            ],
            [
             0.1111111111111111,
             "#46039f"
            ],
            [
             0.2222222222222222,
             "#7201a8"
            ],
            [
             0.3333333333333333,
             "#9c179e"
            ],
            [
             0.4444444444444444,
             "#bd3786"
            ],
            [
             0.5555555555555556,
             "#d8576b"
            ],
            [
             0.6666666666666666,
             "#ed7953"
            ],
            [
             0.7777777777777778,
             "#fb9f3a"
            ],
            [
             0.8888888888888888,
             "#fdca26"
            ],
            [
             1,
             "#f0f921"
            ]
           ]
          },
          "colorway": [
           "#636efa",
           "#EF553B",
           "#00cc96",
           "#ab63fa",
           "#FFA15A",
           "#19d3f3",
           "#FF6692",
           "#B6E880",
           "#FF97FF",
           "#FECB52"
          ],
          "font": {
           "color": "#2a3f5f"
          },
          "geo": {
           "bgcolor": "white",
           "lakecolor": "white",
           "landcolor": "#E5ECF6",
           "showlakes": true,
           "showland": true,
           "subunitcolor": "white"
          },
          "hoverlabel": {
           "align": "left"
          },
          "hovermode": "closest",
          "mapbox": {
           "style": "light"
          },
          "paper_bgcolor": "white",
          "plot_bgcolor": "#E5ECF6",
          "polar": {
           "angularaxis": {
            "gridcolor": "white",
            "linecolor": "white",
            "ticks": ""
           },
           "bgcolor": "#E5ECF6",
           "radialaxis": {
            "gridcolor": "white",
            "linecolor": "white",
            "ticks": ""
           }
          },
          "scene": {
           "xaxis": {
            "backgroundcolor": "#E5ECF6",
            "gridcolor": "white",
            "gridwidth": 2,
            "linecolor": "white",
            "showbackground": true,
            "ticks": "",
            "zerolinecolor": "white"
           },
           "yaxis": {
            "backgroundcolor": "#E5ECF6",
            "gridcolor": "white",
            "gridwidth": 2,
            "linecolor": "white",
            "showbackground": true,
            "ticks": "",
            "zerolinecolor": "white"
           },
           "zaxis": {
            "backgroundcolor": "#E5ECF6",
            "gridcolor": "white",
            "gridwidth": 2,
            "linecolor": "white",
            "showbackground": true,
            "ticks": "",
            "zerolinecolor": "white"
           }
          },
          "shapedefaults": {
           "line": {
            "color": "#2a3f5f"
           }
          },
          "ternary": {
           "aaxis": {
            "gridcolor": "white",
            "linecolor": "white",
            "ticks": ""
           },
           "baxis": {
            "gridcolor": "white",
            "linecolor": "white",
            "ticks": ""
           },
           "bgcolor": "#E5ECF6",
           "caxis": {
            "gridcolor": "white",
            "linecolor": "white",
            "ticks": ""
           }
          },
          "title": {
           "x": 0.05
          },
          "xaxis": {
           "automargin": true,
           "gridcolor": "white",
           "linecolor": "white",
           "ticks": "",
           "title": {
            "standoff": 15
           },
           "zerolinecolor": "white",
           "zerolinewidth": 2
          },
          "yaxis": {
           "automargin": true,
           "gridcolor": "white",
           "linecolor": "white",
           "ticks": "",
           "title": {
            "standoff": 15
           },
           "zerolinecolor": "white",
           "zerolinewidth": 2
          }
         }
        },
        "title": {
         "text": "Years of XP vs Salary-- year 2018"
        },
        "xaxis": {
         "anchor": "y",
         "domain": [
          0,
          1
         ],
         "title": {
          "text": "Years of experience"
         }
        },
        "yaxis": {
         "anchor": "x",
         "categoryarray": [
          55555,
          71500,
          13000,
          80400,
          83200,
          33000,
          27000,
          93000,
          127000,
          15000,
          60500,
          51600,
          53600,
          103000,
          57500,
          180000,
          128000,
          87500,
          132000,
          33600,
          37000,
          67500,
          39150,
          138000,
          165000,
          122000,
          64500,
          39000,
          47250,
          150000,
          58500,
          69600,
          51000,
          38400,
          108000,
          51750,
          19200,
          17532,
          23162,
          47300,
          20400,
          57800,
          64400,
          39600,
          24000,
          10300,
          38000,
          92100,
          40800,
          111000,
          67200,
          68400,
          47000,
          59000,
          112000,
          110000,
          31500,
          68381.76533333333,
          87975,
          53500,
          140000,
          81000,
          47500,
          130000,
          73500,
          73300,
          200000,
          86000,
          96000,
          70500,
          34000,
          48500,
          76000,
          125000,
          92000,
          44000,
          176000,
          115000,
          55800,
          35000,
          102000,
          72500,
          74000,
          42000,
          32000,
          50400,
          63000,
          64000,
          107000,
          43000,
          89000,
          78600,
          120000,
          100000,
          83000,
          62000,
          67000,
          82000,
          85000,
          73000,
          87000,
          61000,
          48000,
          54000,
          40000,
          45000,
          30000,
          56000,
          49000,
          71000,
          50000,
          113000,
          90000,
          75000,
          36000,
          58000,
          57000,
          84000,
          75800,
          66000,
          72000,
          95000,
          52000,
          53000,
          132250,
          80000,
          62500,
          68000,
          46000,
          94500,
          55000,
          70000,
          60000,
          109000,
          98000,
          69000,
          78000,
          88000,
          65000,
          77000
         ],
         "categoryorder": "array",
         "domain": [
          0,
          1
         ],
         "title": {
          "text": "Current Salary"
         }
        }
       }
      },
      "text/html": [
       "<div>\n",
       "        \n",
       "        \n",
       "            <div id=\"3d65ae0a-eddd-4751-974e-aa4cd15e8ef1\" class=\"plotly-graph-div\" style=\"height:525px; width:100%;\"></div>\n",
       "            <script type=\"text/javascript\">\n",
       "                require([\"plotly\"], function(Plotly) {\n",
       "                    window.PLOTLYENV=window.PLOTLYENV || {};\n",
       "                    \n",
       "                if (document.getElementById(\"3d65ae0a-eddd-4751-974e-aa4cd15e8ef1\")) {\n",
       "                    Plotly.newPlot(\n",
       "                        '3d65ae0a-eddd-4751-974e-aa4cd15e8ef1',\n",
       "                        [{\"hovertemplate\": \"Current Salary=%{y}<br>Years of experience=%{x}<extra></extra>\", \"legendgroup\": \"77000.0\", \"line\": {\"color\": \"#636efa\", \"dash\": \"solid\"}, \"mode\": \"lines\", \"name\": \"77000.0\", \"showlegend\": true, \"type\": \"scatter\", \"x\": [11.0, 15.0, 6.0, 8.0, 5.0, 8.0], \"xaxis\": \"x\", \"y\": [77000.0, 77000.0, 77000.0, 77000.0, 77000.0, 77000.0], \"yaxis\": \"y\"}, {\"hovertemplate\": \"Current Salary=%{y}<br>Years of experience=%{x}<extra></extra>\", \"legendgroup\": \"65000.0\", \"line\": {\"color\": \"#EF553B\", \"dash\": \"solid\"}, \"mode\": \"lines\", \"name\": \"65000.0\", \"showlegend\": true, \"type\": \"scatter\", \"x\": [8.0, 5.0, 3.0, 10.0, 11.0, 7.5, 4.0, 4.0, 1.0, 4.0, 4.0, 12.0, 11.0, 4.0, 7.0, 4.0, 10.0, 14.0, 6.0, 11.0, 11.0, 5.0, 13.0, 6.0, 12.0, 5.0, 8.0, 3.0, 15.0, 5.0, 8.0, 8.0, 10.0, 10.0, 10.0, 5.0, 7.0, 8.0, 9.0, 10.0, 8.0, 3.0, 30.0, 8.0, 9.0, 12.0, 4.0, 11.0, 4.0, 6.0, 13.0, 10.0, 4.0, 10.0, 9.0, 12.0, 10.0, 8.0, 10.0, 15.0, 5.0, 9.0, 15.0, 6.0, 20.0, 11.0, 11.0, 6.0], \"xaxis\": \"x\", \"y\": [65000.0, 65000.0, 65000.0, 65000.0, 65000.0, 65000.0, 65000.0, 65000.0, 65000.0, 65000.0, 65000.0, 65000.0, 65000.0, 65000.0, 65000.0, 65000.0, 65000.0, 65000.0, 65000.0, 65000.0, 65000.0, 65000.0, 65000.0, 65000.0, 65000.0, 65000.0, 65000.0, 65000.0, 65000.0, 65000.0, 65000.0, 65000.0, 65000.0, 65000.0, 65000.0, 65000.0, 65000.0, 65000.0, 65000.0, 65000.0, 65000.0, 65000.0, 65000.0, 65000.0, 65000.0, 65000.0, 65000.0, 65000.0, 65000.0, 65000.0, 65000.0, 65000.0, 65000.0, 65000.0, 65000.0, 65000.0, 65000.0, 65000.0, 65000.0, 65000.0, 65000.0, 65000.0, 65000.0, 65000.0, 65000.0, 65000.0, 65000.0, 65000.0], \"yaxis\": \"y\"}, {\"hovertemplate\": \"Current Salary=%{y}<br>Years of experience=%{x}<extra></extra>\", \"legendgroup\": \"88000.0\", \"line\": {\"color\": \"#00cc96\", \"dash\": \"solid\"}, \"mode\": \"lines\", \"name\": \"88000.0\", \"showlegend\": true, \"type\": \"scatter\", \"x\": [10.0, 10.0], \"xaxis\": \"x\", \"y\": [88000.0, 88000.0], \"yaxis\": \"y\"}, {\"hovertemplate\": \"Current Salary=%{y}<br>Years of experience=%{x}<extra></extra>\", \"legendgroup\": \"78000.0\", \"line\": {\"color\": \"#ab63fa\", \"dash\": \"solid\"}, \"mode\": \"lines\", \"name\": \"78000.0\", \"showlegend\": true, \"type\": \"scatter\", \"x\": [6.0, 10.0, 6.0, 14.0, 4.0, 6.0, 11.0, 7.0, 10.0, 12.0, 25.0], \"xaxis\": \"x\", \"y\": [78000.0, 78000.0, 78000.0, 78000.0, 78000.0, 78000.0, 78000.0, 78000.0, 78000.0, 78000.0, 78000.0], \"yaxis\": \"y\"}, {\"hovertemplate\": \"Current Salary=%{y}<br>Years of experience=%{x}<extra></extra>\", \"legendgroup\": \"69000.0\", \"line\": {\"color\": \"#FFA15A\", \"dash\": \"solid\"}, \"mode\": \"lines\", \"name\": \"69000.0\", \"showlegend\": true, \"type\": \"scatter\", \"x\": [10.0, 7.0, 18.0, 3.0, 5.0, 10.0, 10.0, 15.0, 7.0], \"xaxis\": \"x\", \"y\": [69000.0, 69000.0, 69000.0, 69000.0, 69000.0, 69000.0, 69000.0, 69000.0, 69000.0], \"yaxis\": \"y\"}, {\"hovertemplate\": \"Current Salary=%{y}<br>Years of experience=%{x}<extra></extra>\", \"legendgroup\": \"98000.0\", \"line\": {\"color\": \"#19d3f3\", \"dash\": \"solid\"}, \"mode\": \"lines\", \"name\": \"98000.0\", \"showlegend\": true, \"type\": \"scatter\", \"x\": [8.0], \"xaxis\": \"x\", \"y\": [98000.0], \"yaxis\": \"y\"}, {\"hovertemplate\": \"Current Salary=%{y}<br>Years of experience=%{x}<extra></extra>\", \"legendgroup\": \"109000.0\", \"line\": {\"color\": \"#FF6692\", \"dash\": \"solid\"}, \"mode\": \"lines\", \"name\": \"109000.0\", \"showlegend\": true, \"type\": \"scatter\", \"x\": [8.0], \"xaxis\": \"x\", \"y\": [109000.0], \"yaxis\": \"y\"}, {\"hovertemplate\": \"Current Salary=%{y}<br>Years of experience=%{x}<extra></extra>\", \"legendgroup\": \"60000.0\", \"line\": {\"color\": \"#B6E880\", \"dash\": \"solid\"}, \"mode\": \"lines\", \"name\": \"60000.0\", \"showlegend\": true, \"type\": \"scatter\", \"x\": [8.0, 4.0, 10.0, 6.0, 1.0, 3.0, 7.0, 12.0, 5.0, 5.0, 0.5, 5.0, 3.0, 6.0, 8.548497267759563, 5.0, 11.0, 12.0, 9.0, 5.0, 9.0, 3.0, 4.0, 5.0, 5.0, 8.0, 7.0, 20.0, 5.0, 4.0, 8.0, 7.0, 10.0, 9.0, 10.0, 6.0, 7.0, 8.0, 1.0, 11.0, 11.0, 9.0, 12.0, 15.0, 6.0, 10.0, 15.0, 15.0, 13.0, 11.0, 5.0, 15.0, 7.0, 5.0, 12.0, 18.0, 4.0, 10.0, 6.0, 2.0, 8.0, 5.0, 10.0, 6.0, 4.0, 7.0, 7.0, 5.0, 9.0, 5.0, 11.0, 12.0, 4.0], \"xaxis\": \"x\", \"y\": [60000.0, 60000.0, 60000.0, 60000.0, 60000.0, 60000.0, 60000.0, 60000.0, 60000.0, 60000.0, 60000.0, 60000.0, 60000.0, 60000.0, 60000.0, 60000.0, 60000.0, 60000.0, 60000.0, 60000.0, 60000.0, 60000.0, 60000.0, 60000.0, 60000.0, 60000.0, 60000.0, 60000.0, 60000.0, 60000.0, 60000.0, 60000.0, 60000.0, 60000.0, 60000.0, 60000.0, 60000.0, 60000.0, 60000.0, 60000.0, 60000.0, 60000.0, 60000.0, 60000.0, 60000.0, 60000.0, 60000.0, 60000.0, 60000.0, 60000.0, 60000.0, 60000.0, 60000.0, 60000.0, 60000.0, 60000.0, 60000.0, 60000.0, 60000.0, 60000.0, 60000.0, 60000.0, 60000.0, 60000.0, 60000.0, 60000.0, 60000.0, 60000.0, 60000.0, 60000.0, 60000.0, 60000.0, 60000.0], \"yaxis\": \"y\"}, {\"hovertemplate\": \"Current Salary=%{y}<br>Years of experience=%{x}<extra></extra>\", \"legendgroup\": \"70000.0\", \"line\": {\"color\": \"#FF97FF\", \"dash\": \"solid\"}, \"mode\": \"lines\", \"name\": \"70000.0\", \"showlegend\": true, \"type\": \"scatter\", \"x\": [18.0, 8.0, 10.0, 6.0, 10.0, 6.0, 10.0, 13.0, 17.0, 7.0, 8.0, 7.0, 14.0, 1.5, 5.0, 15.0, 5.0, 7.0, 8.548497267759563, 12.0, 8.548497267759563, 6.0, 10.0, 4.0, 9.0, 11.0, 14.0, 9.0, 10.0, 7.0, 9.0, 18.0, 9.0, 8.0, 10.0, 8.0, 6.0, 6.0, 7.0, 12.0, 7.0, 10.0, 9.0, 5.0, 9.0, 10.0, 4.0, 12.0, 12.0, 8.548497267759563], \"xaxis\": \"x\", \"y\": [70000.0, 70000.0, 70000.0, 70000.0, 70000.0, 70000.0, 70000.0, 70000.0, 70000.0, 70000.0, 70000.0, 70000.0, 70000.0, 70000.0, 70000.0, 70000.0, 70000.0, 70000.0, 70000.0, 70000.0, 70000.0, 70000.0, 70000.0, 70000.0, 70000.0, 70000.0, 70000.0, 70000.0, 70000.0, 70000.0, 70000.0, 70000.0, 70000.0, 70000.0, 70000.0, 70000.0, 70000.0, 70000.0, 70000.0, 70000.0, 70000.0, 70000.0, 70000.0, 70000.0, 70000.0, 70000.0, 70000.0, 70000.0, 70000.0, 70000.0], \"yaxis\": \"y\"}, {\"hovertemplate\": \"Current Salary=%{y}<br>Years of experience=%{x}<extra></extra>\", \"legendgroup\": \"55000.0\", \"line\": {\"color\": \"#FECB52\", \"dash\": \"solid\"}, \"mode\": \"lines\", \"name\": \"55000.0\", \"showlegend\": true, \"type\": \"scatter\", \"x\": [8.548497267759563, 6.0, 15.0, 1.0, 4.0, 5.0, 5.0, 8.0, 4.0, 5.0, 8.548497267759563, 5.0, 5.0, 5.0, 1.0, 4.0, 3.0, 15.0, 8.0, 5.0, 7.0, 9.0, 6.0, 5.0, 2.0, 14.0, 11.0, 10.0, 4.0, 7.0], \"xaxis\": \"x\", \"y\": [55000.0, 55000.0, 55000.0, 55000.0, 55000.0, 55000.0, 55000.0, 55000.0, 55000.0, 55000.0, 55000.0, 55000.0, 55000.0, 55000.0, 55000.0, 55000.0, 55000.0, 55000.0, 55000.0, 55000.0, 55000.0, 55000.0, 55000.0, 55000.0, 55000.0, 55000.0, 55000.0, 55000.0, 55000.0, 55000.0], \"yaxis\": \"y\"}, {\"hovertemplate\": \"Current Salary=%{y}<br>Years of experience=%{x}<extra></extra>\", \"legendgroup\": \"94500.0\", \"line\": {\"color\": \"#636efa\", \"dash\": \"solid\"}, \"mode\": \"lines\", \"name\": \"94500.0\", \"showlegend\": true, \"type\": \"scatter\", \"x\": [11.0], \"xaxis\": \"x\", \"y\": [94500.0], \"yaxis\": \"y\"}, {\"hovertemplate\": \"Current Salary=%{y}<br>Years of experience=%{x}<extra></extra>\", \"legendgroup\": \"46000.0\", \"line\": {\"color\": \"#EF553B\", \"dash\": \"solid\"}, \"mode\": \"lines\", \"name\": \"46000.0\", \"showlegend\": true, \"type\": \"scatter\", \"x\": [3.0, 4.0, 4.0, 8.0, 1.5], \"xaxis\": \"x\", \"y\": [46000.0, 46000.0, 46000.0, 46000.0, 46000.0], \"yaxis\": \"y\"}, {\"hovertemplate\": \"Current Salary=%{y}<br>Years of experience=%{x}<extra></extra>\", \"legendgroup\": \"68000.0\", \"line\": {\"color\": \"#00cc96\", \"dash\": \"solid\"}, \"mode\": \"lines\", \"name\": \"68000.0\", \"showlegend\": true, \"type\": \"scatter\", \"x\": [11.0, 10.0, 10.0, 15.0, 5.0, 3.0, 6.0, 10.0, 8.0, 10.0, 7.0, 10.0, 15.0, 7.0, 7.0, 14.0, 14.0, 7.0, 10.0, 18.0], \"xaxis\": \"x\", \"y\": [68000.0, 68000.0, 68000.0, 68000.0, 68000.0, 68000.0, 68000.0, 68000.0, 68000.0, 68000.0, 68000.0, 68000.0, 68000.0, 68000.0, 68000.0, 68000.0, 68000.0, 68000.0, 68000.0, 68000.0], \"yaxis\": \"y\"}, {\"hovertemplate\": \"Current Salary=%{y}<br>Years of experience=%{x}<extra></extra>\", \"legendgroup\": \"62500.0\", \"line\": {\"color\": \"#ab63fa\", \"dash\": \"solid\"}, \"mode\": \"lines\", \"name\": \"62500.0\", \"showlegend\": true, \"type\": \"scatter\", \"x\": [17.0, 7.0, 5.0], \"xaxis\": \"x\", \"y\": [62500.0, 62500.0, 62500.0], \"yaxis\": \"y\"}, {\"hovertemplate\": \"Current Salary=%{y}<br>Years of experience=%{x}<extra></extra>\", \"legendgroup\": \"80000.0\", \"line\": {\"color\": \"#FFA15A\", \"dash\": \"solid\"}, \"mode\": \"lines\", \"name\": \"80000.0\", \"showlegend\": true, \"type\": \"scatter\", \"x\": [19.0, 8.0, 8.548497267759563, 5.0, 5.0, 13.0, 12.0, 9.0, 11.0, 9.0, 17.0, 12.0, 8.0, 6.0, 10.0, 10.0, 20.0, 13.0, 10.0, 8.548497267759563, 20.0, 6.0, 8.0, 15.0, 11.0, 7.0, 10.0, 8.0], \"xaxis\": \"x\", \"y\": [80000.0, 80000.0, 80000.0, 80000.0, 80000.0, 80000.0, 80000.0, 80000.0, 80000.0, 80000.0, 80000.0, 80000.0, 80000.0, 80000.0, 80000.0, 80000.0, 80000.0, 80000.0, 80000.0, 80000.0, 80000.0, 80000.0, 80000.0, 80000.0, 80000.0, 80000.0, 80000.0, 80000.0], \"yaxis\": \"y\"}, {\"hovertemplate\": \"Current Salary=%{y}<br>Years of experience=%{x}<extra></extra>\", \"legendgroup\": \"132250.0\", \"line\": {\"color\": \"#19d3f3\", \"dash\": \"solid\"}, \"mode\": \"lines\", \"name\": \"132250.0\", \"showlegend\": true, \"type\": \"scatter\", \"x\": [10.0], \"xaxis\": \"x\", \"y\": [132250.0], \"yaxis\": \"y\"}, {\"hovertemplate\": \"Current Salary=%{y}<br>Years of experience=%{x}<extra></extra>\", \"legendgroup\": \"53000.0\", \"line\": {\"color\": \"#FF6692\", \"dash\": \"solid\"}, \"mode\": \"lines\", \"name\": \"53000.0\", \"showlegend\": true, \"type\": \"scatter\", \"x\": [10.0, 6.0, 7.0, 10.0, 5.0, 2.0, 8.0, 5.0, 5.0, 5.0], \"xaxis\": \"x\", \"y\": [53000.0, 53000.0, 53000.0, 53000.0, 53000.0, 53000.0, 53000.0, 53000.0, 53000.0, 53000.0], \"yaxis\": \"y\"}, {\"hovertemplate\": \"Current Salary=%{y}<br>Years of experience=%{x}<extra></extra>\", \"legendgroup\": \"52000.0\", \"line\": {\"color\": \"#B6E880\", \"dash\": \"solid\"}, \"mode\": \"lines\", \"name\": \"52000.0\", \"showlegend\": true, \"type\": \"scatter\", \"x\": [5.0, 5.0, 2.0, 2.5, 6.0, 2.0, 6.0, 2.0, 9.0, 5.0, 3.0], \"xaxis\": \"x\", \"y\": [52000.0, 52000.0, 52000.0, 52000.0, 52000.0, 52000.0, 52000.0, 52000.0, 52000.0, 52000.0, 52000.0], \"yaxis\": \"y\"}, {\"hovertemplate\": \"Current Salary=%{y}<br>Years of experience=%{x}<extra></extra>\", \"legendgroup\": \"95000.0\", \"line\": {\"color\": \"#FF97FF\", \"dash\": \"solid\"}, \"mode\": \"lines\", \"name\": \"95000.0\", \"showlegend\": true, \"type\": \"scatter\", \"x\": [10.0, 10.0, 8.0, 8.0, 10.0, 10.0, 16.0, 17.0], \"xaxis\": \"x\", \"y\": [95000.0, 95000.0, 95000.0, 95000.0, 95000.0, 95000.0, 95000.0, 95000.0], \"yaxis\": \"y\"}, {\"hovertemplate\": \"Current Salary=%{y}<br>Years of experience=%{x}<extra></extra>\", \"legendgroup\": \"72000.0\", \"line\": {\"color\": \"#FECB52\", \"dash\": \"solid\"}, \"mode\": \"lines\", \"name\": \"72000.0\", \"showlegend\": true, \"type\": \"scatter\", \"x\": [4.0, 12.0, 10.0, 11.0, 8.0, 9.0, 7.0, 8.548497267759563, 13.0, 8.0, 12.0, 5.0, 12.0, 6.0, 5.0, 15.0, 20.0, 8.0, 8.0, 10.0, 11.0, 11.0, 8.548497267759563], \"xaxis\": \"x\", \"y\": [72000.0, 72000.0, 72000.0, 72000.0, 72000.0, 72000.0, 72000.0, 72000.0, 72000.0, 72000.0, 72000.0, 72000.0, 72000.0, 72000.0, 72000.0, 72000.0, 72000.0, 72000.0, 72000.0, 72000.0, 72000.0, 72000.0, 72000.0], \"yaxis\": \"y\"}, {\"hovertemplate\": \"Current Salary=%{y}<br>Years of experience=%{x}<extra></extra>\", \"legendgroup\": \"66000.0\", \"line\": {\"color\": \"#636efa\", \"dash\": \"solid\"}, \"mode\": \"lines\", \"name\": \"66000.0\", \"showlegend\": true, \"type\": \"scatter\", \"x\": [5.0, 5.0, 7.0, 4.0, 2.5, 8.0, 8.0, 10.0, 12.0, 8.0, 11.0, 12.0], \"xaxis\": \"x\", \"y\": [66000.0, 66000.0, 66000.0, 66000.0, 66000.0, 66000.0, 66000.0, 66000.0, 66000.0, 66000.0, 66000.0, 66000.0], \"yaxis\": \"y\"}, {\"hovertemplate\": \"Current Salary=%{y}<br>Years of experience=%{x}<extra></extra>\", \"legendgroup\": \"75800.0\", \"line\": {\"color\": \"#EF553B\", \"dash\": \"solid\"}, \"mode\": \"lines\", \"name\": \"75800.0\", \"showlegend\": true, \"type\": \"scatter\", \"x\": [10.0], \"xaxis\": \"x\", \"y\": [75800.0], \"yaxis\": \"y\"}, {\"hovertemplate\": \"Current Salary=%{y}<br>Years of experience=%{x}<extra></extra>\", \"legendgroup\": \"84000.0\", \"line\": {\"color\": \"#00cc96\", \"dash\": \"solid\"}, \"mode\": \"lines\", \"name\": \"84000.0\", \"showlegend\": true, \"type\": \"scatter\", \"x\": [12.0, 10.0, 20.0, 18.0, 12.0], \"xaxis\": \"x\", \"y\": [84000.0, 84000.0, 84000.0, 84000.0, 84000.0], \"yaxis\": \"y\"}, {\"hovertemplate\": \"Current Salary=%{y}<br>Years of experience=%{x}<extra></extra>\", \"legendgroup\": \"57000.0\", \"line\": {\"color\": \"#ab63fa\", \"dash\": \"solid\"}, \"mode\": \"lines\", \"name\": \"57000.0\", \"showlegend\": true, \"type\": \"scatter\", \"x\": [4.0, 3.0, 3.0, 10.0, 7.0, 10.0, 12.0, 4.0, 15.0, 6.0, 8.0], \"xaxis\": \"x\", \"y\": [57000.0, 57000.0, 57000.0, 57000.0, 57000.0, 57000.0, 57000.0, 57000.0, 57000.0, 57000.0, 57000.0], \"yaxis\": \"y\"}, {\"hovertemplate\": \"Current Salary=%{y}<br>Years of experience=%{x}<extra></extra>\", \"legendgroup\": \"58000.0\", \"line\": {\"color\": \"#FFA15A\", \"dash\": \"solid\"}, \"mode\": \"lines\", \"name\": \"58000.0\", \"showlegend\": true, \"type\": \"scatter\", \"x\": [2.0, 8.548497267759563, 3.0, 5.0, 4.0, 4.0, 2.0, 16.0, 3.0, 4.0, 13.0, 6.0, 5.0, 38.0, 5.0, 5.0, 3.0], \"xaxis\": \"x\", \"y\": [58000.0, 58000.0, 58000.0, 58000.0, 58000.0, 58000.0, 58000.0, 58000.0, 58000.0, 58000.0, 58000.0, 58000.0, 58000.0, 58000.0, 58000.0, 58000.0, 58000.0], \"yaxis\": \"y\"}, {\"hovertemplate\": \"Current Salary=%{y}<br>Years of experience=%{x}<extra></extra>\", \"legendgroup\": \"36000.0\", \"line\": {\"color\": \"#19d3f3\", \"dash\": \"solid\"}, \"mode\": \"lines\", \"name\": \"36000.0\", \"showlegend\": true, \"type\": \"scatter\", \"x\": [1.0, 1.0], \"xaxis\": \"x\", \"y\": [36000.0, 36000.0], \"yaxis\": \"y\"}, {\"hovertemplate\": \"Current Salary=%{y}<br>Years of experience=%{x}<extra></extra>\", \"legendgroup\": \"75000.0\", \"line\": {\"color\": \"#FF6692\", \"dash\": \"solid\"}, \"mode\": \"lines\", \"name\": \"75000.0\", \"showlegend\": true, \"type\": \"scatter\", \"x\": [5.0, 7.0, 9.0, 10.0, 10.0, 13.0, 7.0, 10.0, 10.0, 8.0, 12.0, 12.0, 8.0, 8.0, 9.0, 6.0, 7.0, 10.0, 12.0, 15.0, 20.0, 12.0, 9.0, 3.0, 6.0, 8.0, 9.0, 10.0, 18.0, 7.0, 15.0, 6.0, 10.0, 15.0, 12.0, 8.0, 10.0, 5.0, 11.0, 10.0, 20.0, 11.0, 10.0], \"xaxis\": \"x\", \"y\": [75000.0, 75000.0, 75000.0, 75000.0, 75000.0, 75000.0, 75000.0, 75000.0, 75000.0, 75000.0, 75000.0, 75000.0, 75000.0, 75000.0, 75000.0, 75000.0, 75000.0, 75000.0, 75000.0, 75000.0, 75000.0, 75000.0, 75000.0, 75000.0, 75000.0, 75000.0, 75000.0, 75000.0, 75000.0, 75000.0, 75000.0, 75000.0, 75000.0, 75000.0, 75000.0, 75000.0, 75000.0, 75000.0, 75000.0, 75000.0, 75000.0, 75000.0, 75000.0], \"yaxis\": \"y\"}, {\"hovertemplate\": \"Current Salary=%{y}<br>Years of experience=%{x}<extra></extra>\", \"legendgroup\": \"90000.0\", \"line\": {\"color\": \"#B6E880\", \"dash\": \"solid\"}, \"mode\": \"lines\", \"name\": \"90000.0\", \"showlegend\": true, \"type\": \"scatter\", \"x\": [9.0, 8.548497267759563, 13.0, 13.0, 9.0, 9.0, 9.0, 5.0, 4.0, 7.0, 8.548497267759563, 10.0, 21.0, 5.0, 6.0, 6.0, 6.0, 8.548497267759563, 8.548497267759563], \"xaxis\": \"x\", \"y\": [90000.0, 90000.0, 90000.0, 90000.0, 90000.0, 90000.0, 90000.0, 90000.0, 90000.0, 90000.0, 90000.0, 90000.0, 90000.0, 90000.0, 90000.0, 90000.0, 90000.0, 90000.0, 90000.0], \"yaxis\": \"y\"}, {\"hovertemplate\": \"Current Salary=%{y}<br>Years of experience=%{x}<extra></extra>\", \"legendgroup\": \"113000.0\", \"line\": {\"color\": \"#FF97FF\", \"dash\": \"solid\"}, \"mode\": \"lines\", \"name\": \"113000.0\", \"showlegend\": true, \"type\": \"scatter\", \"x\": [20.0], \"xaxis\": \"x\", \"y\": [113000.0], \"yaxis\": \"y\"}, {\"hovertemplate\": \"Current Salary=%{y}<br>Years of experience=%{x}<extra></extra>\", \"legendgroup\": \"50000.0\", \"line\": {\"color\": \"#FECB52\", \"dash\": \"solid\"}, \"mode\": \"lines\", \"name\": \"50000.0\", \"showlegend\": true, \"type\": \"scatter\", \"x\": [7.0, 6.0, 2.0, 3.0, 5.0, 5.0, 2.5, 6.0, 10.0, 5.0, 5.0, 6.0, 5.0, 8.0, 3.0, 1.0, 10.0, 0.0, 5.0, 12.0], \"xaxis\": \"x\", \"y\": [50000.0, 50000.0, 50000.0, 50000.0, 50000.0, 50000.0, 50000.0, 50000.0, 50000.0, 50000.0, 50000.0, 50000.0, 50000.0, 50000.0, 50000.0, 50000.0, 50000.0, 50000.0, 50000.0, 50000.0], \"yaxis\": \"y\"}, {\"hovertemplate\": \"Current Salary=%{y}<br>Years of experience=%{x}<extra></extra>\", \"legendgroup\": \"71000.0\", \"line\": {\"color\": \"#636efa\", \"dash\": \"solid\"}, \"mode\": \"lines\", \"name\": \"71000.0\", \"showlegend\": true, \"type\": \"scatter\", \"x\": [10.0, 7.0], \"xaxis\": \"x\", \"y\": [71000.0, 71000.0], \"yaxis\": \"y\"}, {\"hovertemplate\": \"Current Salary=%{y}<br>Years of experience=%{x}<extra></extra>\", \"legendgroup\": \"49000.0\", \"line\": {\"color\": \"#EF553B\", \"dash\": \"solid\"}, \"mode\": \"lines\", \"name\": \"49000.0\", \"showlegend\": true, \"type\": \"scatter\", \"x\": [1.0, 0.0], \"xaxis\": \"x\", \"y\": [49000.0, 49000.0], \"yaxis\": \"y\"}, {\"hovertemplate\": \"Current Salary=%{y}<br>Years of experience=%{x}<extra></extra>\", \"legendgroup\": \"56000.0\", \"line\": {\"color\": \"#00cc96\", \"dash\": \"solid\"}, \"mode\": \"lines\", \"name\": \"56000.0\", \"showlegend\": true, \"type\": \"scatter\", \"x\": [10.0, 4.0, 5.0, 5.0, 5.0, 10.0, 1.0], \"xaxis\": \"x\", \"y\": [56000.0, 56000.0, 56000.0, 56000.0, 56000.0, 56000.0, 56000.0], \"yaxis\": \"y\"}, {\"hovertemplate\": \"Current Salary=%{y}<br>Years of experience=%{x}<extra></extra>\", \"legendgroup\": \"30000.0\", \"line\": {\"color\": \"#ab63fa\", \"dash\": \"solid\"}, \"mode\": \"lines\", \"name\": \"30000.0\", \"showlegend\": true, \"type\": \"scatter\", \"x\": [3.0, 8.0, 3.0, 1.0, 2.0], \"xaxis\": \"x\", \"y\": [30000.0, 30000.0, 30000.0, 30000.0, 30000.0], \"yaxis\": \"y\"}, {\"hovertemplate\": \"Current Salary=%{y}<br>Years of experience=%{x}<extra></extra>\", \"legendgroup\": \"45000.0\", \"line\": {\"color\": \"#FFA15A\", \"dash\": \"solid\"}, \"mode\": \"lines\", \"name\": \"45000.0\", \"showlegend\": true, \"type\": \"scatter\", \"x\": [5.0, 4.0, 5.0, 11.0, 4.0, 3.0, 1.0, 1.0], \"xaxis\": \"x\", \"y\": [45000.0, 45000.0, 45000.0, 45000.0, 45000.0, 45000.0, 45000.0, 45000.0], \"yaxis\": \"y\"}, {\"hovertemplate\": \"Current Salary=%{y}<br>Years of experience=%{x}<extra></extra>\", \"legendgroup\": \"40000.0\", \"line\": {\"color\": \"#19d3f3\", \"dash\": \"solid\"}, \"mode\": \"lines\", \"name\": \"40000.0\", \"showlegend\": true, \"type\": \"scatter\", \"x\": [6.0, 7.0, 1.0, 5.0, 8.0], \"xaxis\": \"x\", \"y\": [40000.0, 40000.0, 40000.0, 40000.0, 40000.0], \"yaxis\": \"y\"}, {\"hovertemplate\": \"Current Salary=%{y}<br>Years of experience=%{x}<extra></extra>\", \"legendgroup\": \"54000.0\", \"line\": {\"color\": \"#FF6692\", \"dash\": \"solid\"}, \"mode\": \"lines\", \"name\": \"54000.0\", \"showlegend\": true, \"type\": \"scatter\", \"x\": [5.0, 15.0, 4.0, 10.0, 4.0], \"xaxis\": \"x\", \"y\": [54000.0, 54000.0, 54000.0, 54000.0, 54000.0], \"yaxis\": \"y\"}, {\"hovertemplate\": \"Current Salary=%{y}<br>Years of experience=%{x}<extra></extra>\", \"legendgroup\": \"48000.0\", \"line\": {\"color\": \"#B6E880\", \"dash\": \"solid\"}, \"mode\": \"lines\", \"name\": \"48000.0\", \"showlegend\": true, \"type\": \"scatter\", \"x\": [3.0, 4.0, 4.0, 20.0, 15.0, 6.0], \"xaxis\": \"x\", \"y\": [48000.0, 48000.0, 48000.0, 48000.0, 48000.0, 48000.0], \"yaxis\": \"y\"}, {\"hovertemplate\": \"Current Salary=%{y}<br>Years of experience=%{x}<extra></extra>\", \"legendgroup\": \"61000.0\", \"line\": {\"color\": \"#FF97FF\", \"dash\": \"solid\"}, \"mode\": \"lines\", \"name\": \"61000.0\", \"showlegend\": true, \"type\": \"scatter\", \"x\": [8.0, 11.0, 10.0, 12.0, 3.0], \"xaxis\": \"x\", \"y\": [61000.0, 61000.0, 61000.0, 61000.0, 61000.0], \"yaxis\": \"y\"}, {\"hovertemplate\": \"Current Salary=%{y}<br>Years of experience=%{x}<extra></extra>\", \"legendgroup\": \"87000.0\", \"line\": {\"color\": \"#FECB52\", \"dash\": \"solid\"}, \"mode\": \"lines\", \"name\": \"87000.0\", \"showlegend\": true, \"type\": \"scatter\", \"x\": [10.0, 17.0, 5.0, 11.0, 12.0], \"xaxis\": \"x\", \"y\": [87000.0, 87000.0, 87000.0, 87000.0, 87000.0], \"yaxis\": \"y\"}, {\"hovertemplate\": \"Current Salary=%{y}<br>Years of experience=%{x}<extra></extra>\", \"legendgroup\": \"73000.0\", \"line\": {\"color\": \"#636efa\", \"dash\": \"solid\"}, \"mode\": \"lines\", \"name\": \"73000.0\", \"showlegend\": true, \"type\": \"scatter\", \"x\": [14.0, 10.0, 5.0, 7.0, 5.0], \"xaxis\": \"x\", \"y\": [73000.0, 73000.0, 73000.0, 73000.0, 73000.0], \"yaxis\": \"y\"}, {\"hovertemplate\": \"Current Salary=%{y}<br>Years of experience=%{x}<extra></extra>\", \"legendgroup\": \"85000.0\", \"line\": {\"color\": \"#EF553B\", \"dash\": \"solid\"}, \"mode\": \"lines\", \"name\": \"85000.0\", \"showlegend\": true, \"type\": \"scatter\", \"x\": [15.0, 5.0, 12.0, 19.0, 15.0, 15.0, 5.0, 15.0, 12.0, 12.0, 14.0, 9.0, 10.0, 12.0, 7.0, 10.0, 17.0], \"xaxis\": \"x\", \"y\": [85000.0, 85000.0, 85000.0, 85000.0, 85000.0, 85000.0, 85000.0, 85000.0, 85000.0, 85000.0, 85000.0, 85000.0, 85000.0, 85000.0, 85000.0, 85000.0, 85000.0], \"yaxis\": \"y\"}, {\"hovertemplate\": \"Current Salary=%{y}<br>Years of experience=%{x}<extra></extra>\", \"legendgroup\": \"82000.0\", \"line\": {\"color\": \"#00cc96\", \"dash\": \"solid\"}, \"mode\": \"lines\", \"name\": \"82000.0\", \"showlegend\": true, \"type\": \"scatter\", \"x\": [14.0], \"xaxis\": \"x\", \"y\": [82000.0], \"yaxis\": \"y\"}, {\"hovertemplate\": \"Current Salary=%{y}<br>Years of experience=%{x}<extra></extra>\", \"legendgroup\": \"67000.0\", \"line\": {\"color\": \"#ab63fa\", \"dash\": \"solid\"}, \"mode\": \"lines\", \"name\": \"67000.0\", \"showlegend\": true, \"type\": \"scatter\", \"x\": [10.0, 18.0, 4.0, 12.0, 15.0], \"xaxis\": \"x\", \"y\": [67000.0, 67000.0, 67000.0, 67000.0, 67000.0], \"yaxis\": \"y\"}, {\"hovertemplate\": \"Current Salary=%{y}<br>Years of experience=%{x}<extra></extra>\", \"legendgroup\": \"62000.0\", \"line\": {\"color\": \"#FFA15A\", \"dash\": \"solid\"}, \"mode\": \"lines\", \"name\": \"62000.0\", \"showlegend\": true, \"type\": \"scatter\", \"x\": [3.0, 6.0, 15.0, 5.0, 7.0, 3.0, 8.548497267759563, 4.0], \"xaxis\": \"x\", \"y\": [62000.0, 62000.0, 62000.0, 62000.0, 62000.0, 62000.0, 62000.0, 62000.0], \"yaxis\": \"y\"}, {\"hovertemplate\": \"Current Salary=%{y}<br>Years of experience=%{x}<extra></extra>\", \"legendgroup\": \"83000.0\", \"line\": {\"color\": \"#19d3f3\", \"dash\": \"solid\"}, \"mode\": \"lines\", \"name\": \"83000.0\", \"showlegend\": true, \"type\": \"scatter\", \"x\": [19.0, 10.0, 11.0, 10.0, 9.0], \"xaxis\": \"x\", \"y\": [83000.0, 83000.0, 83000.0, 83000.0, 83000.0], \"yaxis\": \"y\"}, {\"hovertemplate\": \"Current Salary=%{y}<br>Years of experience=%{x}<extra></extra>\", \"legendgroup\": \"100000.0\", \"line\": {\"color\": \"#FF6692\", \"dash\": \"solid\"}, \"mode\": \"lines\", \"name\": \"100000.0\", \"showlegend\": true, \"type\": \"scatter\", \"x\": [8.0, 11.0, 10.0, 11.0], \"xaxis\": \"x\", \"y\": [100000.0, 100000.0, 100000.0, 100000.0], \"yaxis\": \"y\"}, {\"hovertemplate\": \"Current Salary=%{y}<br>Years of experience=%{x}<extra></extra>\", \"legendgroup\": \"120000.0\", \"line\": {\"color\": \"#B6E880\", \"dash\": \"solid\"}, \"mode\": \"lines\", \"name\": \"120000.0\", \"showlegend\": true, \"type\": \"scatter\", \"x\": [15.0, 10.0, 20.0, 10.0, 11.0, 11.0, 9.0, 7.0], \"xaxis\": \"x\", \"y\": [120000.0, 120000.0, 120000.0, 120000.0, 120000.0, 120000.0, 120000.0, 120000.0], \"yaxis\": \"y\"}, {\"hovertemplate\": \"Current Salary=%{y}<br>Years of experience=%{x}<extra></extra>\", \"legendgroup\": \"78600.0\", \"line\": {\"color\": \"#FF97FF\", \"dash\": \"solid\"}, \"mode\": \"lines\", \"name\": \"78600.0\", \"showlegend\": true, \"type\": \"scatter\", \"x\": [12.0], \"xaxis\": \"x\", \"y\": [78600.0], \"yaxis\": \"y\"}, {\"hovertemplate\": \"Current Salary=%{y}<br>Years of experience=%{x}<extra></extra>\", \"legendgroup\": \"89000.0\", \"line\": {\"color\": \"#FECB52\", \"dash\": \"solid\"}, \"mode\": \"lines\", \"name\": \"89000.0\", \"showlegend\": true, \"type\": \"scatter\", \"x\": [8.0, 15.0, 18.0], \"xaxis\": \"x\", \"y\": [89000.0, 89000.0, 89000.0], \"yaxis\": \"y\"}, {\"hovertemplate\": \"Current Salary=%{y}<br>Years of experience=%{x}<extra></extra>\", \"legendgroup\": \"43000.0\", \"line\": {\"color\": \"#636efa\", \"dash\": \"solid\"}, \"mode\": \"lines\", \"name\": \"43000.0\", \"showlegend\": true, \"type\": \"scatter\", \"x\": [3.0, 10.0], \"xaxis\": \"x\", \"y\": [43000.0, 43000.0], \"yaxis\": \"y\"}, {\"hovertemplate\": \"Current Salary=%{y}<br>Years of experience=%{x}<extra></extra>\", \"legendgroup\": \"107000.0\", \"line\": {\"color\": \"#EF553B\", \"dash\": \"solid\"}, \"mode\": \"lines\", \"name\": \"107000.0\", \"showlegend\": true, \"type\": \"scatter\", \"x\": [10.0], \"xaxis\": \"x\", \"y\": [107000.0], \"yaxis\": \"y\"}, {\"hovertemplate\": \"Current Salary=%{y}<br>Years of experience=%{x}<extra></extra>\", \"legendgroup\": \"64000.0\", \"line\": {\"color\": \"#00cc96\", \"dash\": \"solid\"}, \"mode\": \"lines\", \"name\": \"64000.0\", \"showlegend\": true, \"type\": \"scatter\", \"x\": [7.0, 3.0, 15.0], \"xaxis\": \"x\", \"y\": [64000.0, 64000.0, 64000.0], \"yaxis\": \"y\"}, {\"hovertemplate\": \"Current Salary=%{y}<br>Years of experience=%{x}<extra></extra>\", \"legendgroup\": \"63000.0\", \"line\": {\"color\": \"#ab63fa\", \"dash\": \"solid\"}, \"mode\": \"lines\", \"name\": \"63000.0\", \"showlegend\": true, \"type\": \"scatter\", \"x\": [6.0, 12.0, 6.0, 5.0, 6.0, 13.0, 30.0], \"xaxis\": \"x\", \"y\": [63000.0, 63000.0, 63000.0, 63000.0, 63000.0, 63000.0, 63000.0], \"yaxis\": \"y\"}, {\"hovertemplate\": \"Current Salary=%{y}<br>Years of experience=%{x}<extra></extra>\", \"legendgroup\": \"50400.0\", \"line\": {\"color\": \"#FFA15A\", \"dash\": \"solid\"}, \"mode\": \"lines\", \"name\": \"50400.0\", \"showlegend\": true, \"type\": \"scatter\", \"x\": [3.0], \"xaxis\": \"x\", \"y\": [50400.0], \"yaxis\": \"y\"}, {\"hovertemplate\": \"Current Salary=%{y}<br>Years of experience=%{x}<extra></extra>\", \"legendgroup\": \"32000.0\", \"line\": {\"color\": \"#19d3f3\", \"dash\": \"solid\"}, \"mode\": \"lines\", \"name\": \"32000.0\", \"showlegend\": true, \"type\": \"scatter\", \"x\": [0.5], \"xaxis\": \"x\", \"y\": [32000.0], \"yaxis\": \"y\"}, {\"hovertemplate\": \"Current Salary=%{y}<br>Years of experience=%{x}<extra></extra>\", \"legendgroup\": \"42000.0\", \"line\": {\"color\": \"#FF6692\", \"dash\": \"solid\"}, \"mode\": \"lines\", \"name\": \"42000.0\", \"showlegend\": true, \"type\": \"scatter\", \"x\": [15.0, 7.0, 4.0, 18.0, 7.0, 1.0, 2.0, 9.0, 1.0], \"xaxis\": \"x\", \"y\": [42000.0, 42000.0, 42000.0, 42000.0, 42000.0, 42000.0, 42000.0, 42000.0, 42000.0], \"yaxis\": \"y\"}, {\"hovertemplate\": \"Current Salary=%{y}<br>Years of experience=%{x}<extra></extra>\", \"legendgroup\": \"74000.0\", \"line\": {\"color\": \"#B6E880\", \"dash\": \"solid\"}, \"mode\": \"lines\", \"name\": \"74000.0\", \"showlegend\": true, \"type\": \"scatter\", \"x\": [8.0, 20.0, 7.0, 10.0], \"xaxis\": \"x\", \"y\": [74000.0, 74000.0, 74000.0, 74000.0], \"yaxis\": \"y\"}, {\"hovertemplate\": \"Current Salary=%{y}<br>Years of experience=%{x}<extra></extra>\", \"legendgroup\": \"72500.0\", \"line\": {\"color\": \"#FF97FF\", \"dash\": \"solid\"}, \"mode\": \"lines\", \"name\": \"72500.0\", \"showlegend\": true, \"type\": \"scatter\", \"x\": [8.0], \"xaxis\": \"x\", \"y\": [72500.0], \"yaxis\": \"y\"}, {\"hovertemplate\": \"Current Salary=%{y}<br>Years of experience=%{x}<extra></extra>\", \"legendgroup\": \"102000.0\", \"line\": {\"color\": \"#FECB52\", \"dash\": \"solid\"}, \"mode\": \"lines\", \"name\": \"102000.0\", \"showlegend\": true, \"type\": \"scatter\", \"x\": [13.0], \"xaxis\": \"x\", \"y\": [102000.0], \"yaxis\": \"y\"}, {\"hovertemplate\": \"Current Salary=%{y}<br>Years of experience=%{x}<extra></extra>\", \"legendgroup\": \"35000.0\", \"line\": {\"color\": \"#636efa\", \"dash\": \"solid\"}, \"mode\": \"lines\", \"name\": \"35000.0\", \"showlegend\": true, \"type\": \"scatter\", \"x\": [5.0, 2.5, 17.0], \"xaxis\": \"x\", \"y\": [35000.0, 35000.0, 35000.0], \"yaxis\": \"y\"}, {\"hovertemplate\": \"Current Salary=%{y}<br>Years of experience=%{x}<extra></extra>\", \"legendgroup\": \"55800.0\", \"line\": {\"color\": \"#EF553B\", \"dash\": \"solid\"}, \"mode\": \"lines\", \"name\": \"55800.0\", \"showlegend\": true, \"type\": \"scatter\", \"x\": [8.0], \"xaxis\": \"x\", \"y\": [55800.0], \"yaxis\": \"y\"}, {\"hovertemplate\": \"Current Salary=%{y}<br>Years of experience=%{x}<extra></extra>\", \"legendgroup\": \"115000.0\", \"line\": {\"color\": \"#00cc96\", \"dash\": \"solid\"}, \"mode\": \"lines\", \"name\": \"115000.0\", \"showlegend\": true, \"type\": \"scatter\", \"x\": [8.0, 11.0, 10.0, 10.0], \"xaxis\": \"x\", \"y\": [115000.0, 115000.0, 115000.0, 115000.0], \"yaxis\": \"y\"}, {\"hovertemplate\": \"Current Salary=%{y}<br>Years of experience=%{x}<extra></extra>\", \"legendgroup\": \"176000.0\", \"line\": {\"color\": \"#ab63fa\", \"dash\": \"solid\"}, \"mode\": \"lines\", \"name\": \"176000.0\", \"showlegend\": true, \"type\": \"scatter\", \"x\": [13.0], \"xaxis\": \"x\", \"y\": [176000.0], \"yaxis\": \"y\"}, {\"hovertemplate\": \"Current Salary=%{y}<br>Years of experience=%{x}<extra></extra>\", \"legendgroup\": \"44000.0\", \"line\": {\"color\": \"#FFA15A\", \"dash\": \"solid\"}, \"mode\": \"lines\", \"name\": \"44000.0\", \"showlegend\": true, \"type\": \"scatter\", \"x\": [7.0, 10.0, 3.0, 7.0, 9.0, 1.0], \"xaxis\": \"x\", \"y\": [44000.0, 44000.0, 44000.0, 44000.0, 44000.0, 44000.0], \"yaxis\": \"y\"}, {\"hovertemplate\": \"Current Salary=%{y}<br>Years of experience=%{x}<extra></extra>\", \"legendgroup\": \"92000.0\", \"line\": {\"color\": \"#19d3f3\", \"dash\": \"solid\"}, \"mode\": \"lines\", \"name\": \"92000.0\", \"showlegend\": true, \"type\": \"scatter\", \"x\": [5.0, 15.0, 11.0, 8.0], \"xaxis\": \"x\", \"y\": [92000.0, 92000.0, 92000.0, 92000.0], \"yaxis\": \"y\"}, {\"hovertemplate\": \"Current Salary=%{y}<br>Years of experience=%{x}<extra></extra>\", \"legendgroup\": \"125000.0\", \"line\": {\"color\": \"#FF6692\", \"dash\": \"solid\"}, \"mode\": \"lines\", \"name\": \"125000.0\", \"showlegend\": true, \"type\": \"scatter\", \"x\": [6.0, 8.0], \"xaxis\": \"x\", \"y\": [125000.0, 125000.0], \"yaxis\": \"y\"}, {\"hovertemplate\": \"Current Salary=%{y}<br>Years of experience=%{x}<extra></extra>\", \"legendgroup\": \"76000.0\", \"line\": {\"color\": \"#B6E880\", \"dash\": \"solid\"}, \"mode\": \"lines\", \"name\": \"76000.0\", \"showlegend\": true, \"type\": \"scatter\", \"x\": [6.0, 10.0], \"xaxis\": \"x\", \"y\": [76000.0, 76000.0], \"yaxis\": \"y\"}, {\"hovertemplate\": \"Current Salary=%{y}<br>Years of experience=%{x}<extra></extra>\", \"legendgroup\": \"48500.0\", \"line\": {\"color\": \"#FF97FF\", \"dash\": \"solid\"}, \"mode\": \"lines\", \"name\": \"48500.0\", \"showlegend\": true, \"type\": \"scatter\", \"x\": [3.0], \"xaxis\": \"x\", \"y\": [48500.0], \"yaxis\": \"y\"}, {\"hovertemplate\": \"Current Salary=%{y}<br>Years of experience=%{x}<extra></extra>\", \"legendgroup\": \"34000.0\", \"line\": {\"color\": \"#FECB52\", \"dash\": \"solid\"}, \"mode\": \"lines\", \"name\": \"34000.0\", \"showlegend\": true, \"type\": \"scatter\", \"x\": [7.0, 5.0], \"xaxis\": \"x\", \"y\": [34000.0, 34000.0], \"yaxis\": \"y\"}, {\"hovertemplate\": \"Current Salary=%{y}<br>Years of experience=%{x}<extra></extra>\", \"legendgroup\": \"70500.0\", \"line\": {\"color\": \"#636efa\", \"dash\": \"solid\"}, \"mode\": \"lines\", \"name\": \"70500.0\", \"showlegend\": true, \"type\": \"scatter\", \"x\": [7.0], \"xaxis\": \"x\", \"y\": [70500.0], \"yaxis\": \"y\"}, {\"hovertemplate\": \"Current Salary=%{y}<br>Years of experience=%{x}<extra></extra>\", \"legendgroup\": \"96000.0\", \"line\": {\"color\": \"#EF553B\", \"dash\": \"solid\"}, \"mode\": \"lines\", \"name\": \"96000.0\", \"showlegend\": true, \"type\": \"scatter\", \"x\": [20.0, 10.0, 10.0, 7.0], \"xaxis\": \"x\", \"y\": [96000.0, 96000.0, 96000.0, 96000.0], \"yaxis\": \"y\"}, {\"hovertemplate\": \"Current Salary=%{y}<br>Years of experience=%{x}<extra></extra>\", \"legendgroup\": \"86000.0\", \"line\": {\"color\": \"#00cc96\", \"dash\": \"solid\"}, \"mode\": \"lines\", \"name\": \"86000.0\", \"showlegend\": true, \"type\": \"scatter\", \"x\": [10.0, 16.0, 15.0], \"xaxis\": \"x\", \"y\": [86000.0, 86000.0, 86000.0], \"yaxis\": \"y\"}, {\"hovertemplate\": \"Current Salary=%{y}<br>Years of experience=%{x}<extra></extra>\", \"legendgroup\": \"200000.0\", \"line\": {\"color\": \"#ab63fa\", \"dash\": \"solid\"}, \"mode\": \"lines\", \"name\": \"200000.0\", \"showlegend\": true, \"type\": \"scatter\", \"x\": [20.0], \"xaxis\": \"x\", \"y\": [200000.0], \"yaxis\": \"y\"}, {\"hovertemplate\": \"Current Salary=%{y}<br>Years of experience=%{x}<extra></extra>\", \"legendgroup\": \"73300.0\", \"line\": {\"color\": \"#FFA15A\", \"dash\": \"solid\"}, \"mode\": \"lines\", \"name\": \"73300.0\", \"showlegend\": true, \"type\": \"scatter\", \"x\": [8.548497267759563], \"xaxis\": \"x\", \"y\": [73300.0], \"yaxis\": \"y\"}, {\"hovertemplate\": \"Current Salary=%{y}<br>Years of experience=%{x}<extra></extra>\", \"legendgroup\": \"73500.0\", \"line\": {\"color\": \"#19d3f3\", \"dash\": \"solid\"}, \"mode\": \"lines\", \"name\": \"73500.0\", \"showlegend\": true, \"type\": \"scatter\", \"x\": [12.0], \"xaxis\": \"x\", \"y\": [73500.0], \"yaxis\": \"y\"}, {\"hovertemplate\": \"Current Salary=%{y}<br>Years of experience=%{x}<extra></extra>\", \"legendgroup\": \"130000.0\", \"line\": {\"color\": \"#FF6692\", \"dash\": \"solid\"}, \"mode\": \"lines\", \"name\": \"130000.0\", \"showlegend\": true, \"type\": \"scatter\", \"x\": [9.0, 10.0, 7.0, 9.0, 15.0, 10.0], \"xaxis\": \"x\", \"y\": [130000.0, 130000.0, 130000.0, 130000.0, 130000.0, 130000.0], \"yaxis\": \"y\"}, {\"hovertemplate\": \"Current Salary=%{y}<br>Years of experience=%{x}<extra></extra>\", \"legendgroup\": \"47500.0\", \"line\": {\"color\": \"#B6E880\", \"dash\": \"solid\"}, \"mode\": \"lines\", \"name\": \"47500.0\", \"showlegend\": true, \"type\": \"scatter\", \"x\": [5.0], \"xaxis\": \"x\", \"y\": [47500.0], \"yaxis\": \"y\"}, {\"hovertemplate\": \"Current Salary=%{y}<br>Years of experience=%{x}<extra></extra>\", \"legendgroup\": \"81000.0\", \"line\": {\"color\": \"#FF97FF\", \"dash\": \"solid\"}, \"mode\": \"lines\", \"name\": \"81000.0\", \"showlegend\": true, \"type\": \"scatter\", \"x\": [5.0], \"xaxis\": \"x\", \"y\": [81000.0], \"yaxis\": \"y\"}, {\"hovertemplate\": \"Current Salary=%{y}<br>Years of experience=%{x}<extra></extra>\", \"legendgroup\": \"140000.0\", \"line\": {\"color\": \"#FECB52\", \"dash\": \"solid\"}, \"mode\": \"lines\", \"name\": \"140000.0\", \"showlegend\": true, \"type\": \"scatter\", \"x\": [25.0, 18.0], \"xaxis\": \"x\", \"y\": [140000.0, 140000.0], \"yaxis\": \"y\"}, {\"hovertemplate\": \"Current Salary=%{y}<br>Years of experience=%{x}<extra></extra>\", \"legendgroup\": \"53500.0\", \"line\": {\"color\": \"#636efa\", \"dash\": \"solid\"}, \"mode\": \"lines\", \"name\": \"53500.0\", \"showlegend\": true, \"type\": \"scatter\", \"x\": [8.0], \"xaxis\": \"x\", \"y\": [53500.0], \"yaxis\": \"y\"}, {\"hovertemplate\": \"Current Salary=%{y}<br>Years of experience=%{x}<extra></extra>\", \"legendgroup\": \"87975.0\", \"line\": {\"color\": \"#EF553B\", \"dash\": \"solid\"}, \"mode\": \"lines\", \"name\": \"87975.0\", \"showlegend\": true, \"type\": \"scatter\", \"x\": [4.0], \"xaxis\": \"x\", \"y\": [87975.0], \"yaxis\": \"y\"}, {\"hovertemplate\": \"Current Salary=%{y}<br>Years of experience=%{x}<extra></extra>\", \"legendgroup\": \"68381.76533333333\", \"line\": {\"color\": \"#00cc96\", \"dash\": \"solid\"}, \"mode\": \"lines\", \"name\": \"68381.76533333333\", \"showlegend\": true, \"type\": \"scatter\", \"x\": [4.0, 8.548497267759563, 8.548497267759563, 8.548497267759563, 8.548497267759563, 8.548497267759563, 8.548497267759563, 8.548497267759563, 8.548497267759563, 8.548497267759563, 8.548497267759563, 8.548497267759563, 8.548497267759563, 8.548497267759563, 8.548497267759563], \"xaxis\": \"x\", \"y\": [68381.76533333333, 68381.76533333333, 68381.76533333333, 68381.76533333333, 68381.76533333333, 68381.76533333333, 68381.76533333333, 68381.76533333333, 68381.76533333333, 68381.76533333333, 68381.76533333333, 68381.76533333333, 68381.76533333333, 68381.76533333333, 68381.76533333333], \"yaxis\": \"y\"}, {\"hovertemplate\": \"Current Salary=%{y}<br>Years of experience=%{x}<extra></extra>\", \"legendgroup\": \"31500.0\", \"line\": {\"color\": \"#ab63fa\", \"dash\": \"solid\"}, \"mode\": \"lines\", \"name\": \"31500.0\", \"showlegend\": true, \"type\": \"scatter\", \"x\": [10.0], \"xaxis\": \"x\", \"y\": [31500.0], \"yaxis\": \"y\"}, {\"hovertemplate\": \"Current Salary=%{y}<br>Years of experience=%{x}<extra></extra>\", \"legendgroup\": \"110000.0\", \"line\": {\"color\": \"#FFA15A\", \"dash\": \"solid\"}, \"mode\": \"lines\", \"name\": \"110000.0\", \"showlegend\": true, \"type\": \"scatter\", \"x\": [15.0, 19.0, 10.0], \"xaxis\": \"x\", \"y\": [110000.0, 110000.0, 110000.0], \"yaxis\": \"y\"}, {\"hovertemplate\": \"Current Salary=%{y}<br>Years of experience=%{x}<extra></extra>\", \"legendgroup\": \"112000.0\", \"line\": {\"color\": \"#19d3f3\", \"dash\": \"solid\"}, \"mode\": \"lines\", \"name\": \"112000.0\", \"showlegend\": true, \"type\": \"scatter\", \"x\": [7.0, 14.0], \"xaxis\": \"x\", \"y\": [112000.0, 112000.0], \"yaxis\": \"y\"}, {\"hovertemplate\": \"Current Salary=%{y}<br>Years of experience=%{x}<extra></extra>\", \"legendgroup\": \"59000.0\", \"line\": {\"color\": \"#FF6692\", \"dash\": \"solid\"}, \"mode\": \"lines\", \"name\": \"59000.0\", \"showlegend\": true, \"type\": \"scatter\", \"x\": [6.0], \"xaxis\": \"x\", \"y\": [59000.0], \"yaxis\": \"y\"}, {\"hovertemplate\": \"Current Salary=%{y}<br>Years of experience=%{x}<extra></extra>\", \"legendgroup\": \"47000.0\", \"line\": {\"color\": \"#B6E880\", \"dash\": \"solid\"}, \"mode\": \"lines\", \"name\": \"47000.0\", \"showlegend\": true, \"type\": \"scatter\", \"x\": [9.0, 1.0, 3.0, 7.0, 10.0], \"xaxis\": \"x\", \"y\": [47000.0, 47000.0, 47000.0, 47000.0, 47000.0], \"yaxis\": \"y\"}, {\"hovertemplate\": \"Current Salary=%{y}<br>Years of experience=%{x}<extra></extra>\", \"legendgroup\": \"68400.0\", \"line\": {\"color\": \"#FF97FF\", \"dash\": \"solid\"}, \"mode\": \"lines\", \"name\": \"68400.0\", \"showlegend\": true, \"type\": \"scatter\", \"x\": [5.0], \"xaxis\": \"x\", \"y\": [68400.0], \"yaxis\": \"y\"}, {\"hovertemplate\": \"Current Salary=%{y}<br>Years of experience=%{x}<extra></extra>\", \"legendgroup\": \"67200.0\", \"line\": {\"color\": \"#FECB52\", \"dash\": \"solid\"}, \"mode\": \"lines\", \"name\": \"67200.0\", \"showlegend\": true, \"type\": \"scatter\", \"x\": [15.0], \"xaxis\": \"x\", \"y\": [67200.0], \"yaxis\": \"y\"}, {\"hovertemplate\": \"Current Salary=%{y}<br>Years of experience=%{x}<extra></extra>\", \"legendgroup\": \"111000.0\", \"line\": {\"color\": \"#636efa\", \"dash\": \"solid\"}, \"mode\": \"lines\", \"name\": \"111000.0\", \"showlegend\": true, \"type\": \"scatter\", \"x\": [12.0], \"xaxis\": \"x\", \"y\": [111000.0], \"yaxis\": \"y\"}, {\"hovertemplate\": \"Current Salary=%{y}<br>Years of experience=%{x}<extra></extra>\", \"legendgroup\": \"40800.0\", \"line\": {\"color\": \"#EF553B\", \"dash\": \"solid\"}, \"mode\": \"lines\", \"name\": \"40800.0\", \"showlegend\": true, \"type\": \"scatter\", \"x\": [6.0, 4.0], \"xaxis\": \"x\", \"y\": [40800.0, 40800.0], \"yaxis\": \"y\"}, {\"hovertemplate\": \"Current Salary=%{y}<br>Years of experience=%{x}<extra></extra>\", \"legendgroup\": \"92100.0\", \"line\": {\"color\": \"#00cc96\", \"dash\": \"solid\"}, \"mode\": \"lines\", \"name\": \"92100.0\", \"showlegend\": true, \"type\": \"scatter\", \"x\": [18.0], \"xaxis\": \"x\", \"y\": [92100.0], \"yaxis\": \"y\"}, {\"hovertemplate\": \"Current Salary=%{y}<br>Years of experience=%{x}<extra></extra>\", \"legendgroup\": \"38000.0\", \"line\": {\"color\": \"#ab63fa\", \"dash\": \"solid\"}, \"mode\": \"lines\", \"name\": \"38000.0\", \"showlegend\": true, \"type\": \"scatter\", \"x\": [3.0], \"xaxis\": \"x\", \"y\": [38000.0], \"yaxis\": \"y\"}, {\"hovertemplate\": \"Current Salary=%{y}<br>Years of experience=%{x}<extra></extra>\", \"legendgroup\": \"10300.0\", \"line\": {\"color\": \"#FFA15A\", \"dash\": \"solid\"}, \"mode\": \"lines\", \"name\": \"10300.0\", \"showlegend\": true, \"type\": \"scatter\", \"x\": [1.0], \"xaxis\": \"x\", \"y\": [10300.0], \"yaxis\": \"y\"}, {\"hovertemplate\": \"Current Salary=%{y}<br>Years of experience=%{x}<extra></extra>\", \"legendgroup\": \"24000.0\", \"line\": {\"color\": \"#19d3f3\", \"dash\": \"solid\"}, \"mode\": \"lines\", \"name\": \"24000.0\", \"showlegend\": true, \"type\": \"scatter\", \"x\": [2.5, 2.0, 2.0, 5.0], \"xaxis\": \"x\", \"y\": [24000.0, 24000.0, 24000.0, 24000.0], \"yaxis\": \"y\"}, {\"hovertemplate\": \"Current Salary=%{y}<br>Years of experience=%{x}<extra></extra>\", \"legendgroup\": \"39600.0\", \"line\": {\"color\": \"#FF6692\", \"dash\": \"solid\"}, \"mode\": \"lines\", \"name\": \"39600.0\", \"showlegend\": true, \"type\": \"scatter\", \"x\": [10.0, 12.0], \"xaxis\": \"x\", \"y\": [39600.0, 39600.0], \"yaxis\": \"y\"}, {\"hovertemplate\": \"Current Salary=%{y}<br>Years of experience=%{x}<extra></extra>\", \"legendgroup\": \"64400.0\", \"line\": {\"color\": \"#B6E880\", \"dash\": \"solid\"}, \"mode\": \"lines\", \"name\": \"64400.0\", \"showlegend\": true, \"type\": \"scatter\", \"x\": [9.0], \"xaxis\": \"x\", \"y\": [64400.0], \"yaxis\": \"y\"}, {\"hovertemplate\": \"Current Salary=%{y}<br>Years of experience=%{x}<extra></extra>\", \"legendgroup\": \"57800.0\", \"line\": {\"color\": \"#FF97FF\", \"dash\": \"solid\"}, \"mode\": \"lines\", \"name\": \"57800.0\", \"showlegend\": true, \"type\": \"scatter\", \"x\": [8.0], \"xaxis\": \"x\", \"y\": [57800.0], \"yaxis\": \"y\"}, {\"hovertemplate\": \"Current Salary=%{y}<br>Years of experience=%{x}<extra></extra>\", \"legendgroup\": \"20400.0\", \"line\": {\"color\": \"#FECB52\", \"dash\": \"solid\"}, \"mode\": \"lines\", \"name\": \"20400.0\", \"showlegend\": true, \"type\": \"scatter\", \"x\": [4.0], \"xaxis\": \"x\", \"y\": [20400.0], \"yaxis\": \"y\"}, {\"hovertemplate\": \"Current Salary=%{y}<br>Years of experience=%{x}<extra></extra>\", \"legendgroup\": \"47300.0\", \"line\": {\"color\": \"#636efa\", \"dash\": \"solid\"}, \"mode\": \"lines\", \"name\": \"47300.0\", \"showlegend\": true, \"type\": \"scatter\", \"x\": [4.0], \"xaxis\": \"x\", \"y\": [47300.0], \"yaxis\": \"y\"}, {\"hovertemplate\": \"Current Salary=%{y}<br>Years of experience=%{x}<extra></extra>\", \"legendgroup\": \"23162.0\", \"line\": {\"color\": \"#EF553B\", \"dash\": \"solid\"}, \"mode\": \"lines\", \"name\": \"23162.0\", \"showlegend\": true, \"type\": \"scatter\", \"x\": [10.0], \"xaxis\": \"x\", \"y\": [23162.0], \"yaxis\": \"y\"}, {\"hovertemplate\": \"Current Salary=%{y}<br>Years of experience=%{x}<extra></extra>\", \"legendgroup\": \"17532.0\", \"line\": {\"color\": \"#00cc96\", \"dash\": \"solid\"}, \"mode\": \"lines\", \"name\": \"17532.0\", \"showlegend\": true, \"type\": \"scatter\", \"x\": [2.0], \"xaxis\": \"x\", \"y\": [17532.0], \"yaxis\": \"y\"}, {\"hovertemplate\": \"Current Salary=%{y}<br>Years of experience=%{x}<extra></extra>\", \"legendgroup\": \"19200.0\", \"line\": {\"color\": \"#ab63fa\", \"dash\": \"solid\"}, \"mode\": \"lines\", \"name\": \"19200.0\", \"showlegend\": true, \"type\": \"scatter\", \"x\": [2.0], \"xaxis\": \"x\", \"y\": [19200.0], \"yaxis\": \"y\"}, {\"hovertemplate\": \"Current Salary=%{y}<br>Years of experience=%{x}<extra></extra>\", \"legendgroup\": \"51750.0\", \"line\": {\"color\": \"#FFA15A\", \"dash\": \"solid\"}, \"mode\": \"lines\", \"name\": \"51750.0\", \"showlegend\": true, \"type\": \"scatter\", \"x\": [5.0], \"xaxis\": \"x\", \"y\": [51750.0], \"yaxis\": \"y\"}, {\"hovertemplate\": \"Current Salary=%{y}<br>Years of experience=%{x}<extra></extra>\", \"legendgroup\": \"108000.0\", \"line\": {\"color\": \"#19d3f3\", \"dash\": \"solid\"}, \"mode\": \"lines\", \"name\": \"108000.0\", \"showlegend\": true, \"type\": \"scatter\", \"x\": [12.0], \"xaxis\": \"x\", \"y\": [108000.0], \"yaxis\": \"y\"}, {\"hovertemplate\": \"Current Salary=%{y}<br>Years of experience=%{x}<extra></extra>\", \"legendgroup\": \"38400.0\", \"line\": {\"color\": \"#FF6692\", \"dash\": \"solid\"}, \"mode\": \"lines\", \"name\": \"38400.0\", \"showlegend\": true, \"type\": \"scatter\", \"x\": [10.0], \"xaxis\": \"x\", \"y\": [38400.0], \"yaxis\": \"y\"}, {\"hovertemplate\": \"Current Salary=%{y}<br>Years of experience=%{x}<extra></extra>\", \"legendgroup\": \"51000.0\", \"line\": {\"color\": \"#B6E880\", \"dash\": \"solid\"}, \"mode\": \"lines\", \"name\": \"51000.0\", \"showlegend\": true, \"type\": \"scatter\", \"x\": [6.0, 1.0], \"xaxis\": \"x\", \"y\": [51000.0, 51000.0], \"yaxis\": \"y\"}, {\"hovertemplate\": \"Current Salary=%{y}<br>Years of experience=%{x}<extra></extra>\", \"legendgroup\": \"69600.0\", \"line\": {\"color\": \"#FF97FF\", \"dash\": \"solid\"}, \"mode\": \"lines\", \"name\": \"69600.0\", \"showlegend\": true, \"type\": \"scatter\", \"x\": [12.0], \"xaxis\": \"x\", \"y\": [69600.0], \"yaxis\": \"y\"}, {\"hovertemplate\": \"Current Salary=%{y}<br>Years of experience=%{x}<extra></extra>\", \"legendgroup\": \"58500.0\", \"line\": {\"color\": \"#FECB52\", \"dash\": \"solid\"}, \"mode\": \"lines\", \"name\": \"58500.0\", \"showlegend\": true, \"type\": \"scatter\", \"x\": [6.0, 5.0], \"xaxis\": \"x\", \"y\": [58500.0, 58500.0], \"yaxis\": \"y\"}, {\"hovertemplate\": \"Current Salary=%{y}<br>Years of experience=%{x}<extra></extra>\", \"legendgroup\": \"150000.0\", \"line\": {\"color\": \"#636efa\", \"dash\": \"solid\"}, \"mode\": \"lines\", \"name\": \"150000.0\", \"showlegend\": true, \"type\": \"scatter\", \"x\": [8.548497267759563], \"xaxis\": \"x\", \"y\": [150000.0], \"yaxis\": \"y\"}, {\"hovertemplate\": \"Current Salary=%{y}<br>Years of experience=%{x}<extra></extra>\", \"legendgroup\": \"47250.0\", \"line\": {\"color\": \"#EF553B\", \"dash\": \"solid\"}, \"mode\": \"lines\", \"name\": \"47250.0\", \"showlegend\": true, \"type\": \"scatter\", \"x\": [2.0], \"xaxis\": \"x\", \"y\": [47250.0], \"yaxis\": \"y\"}, {\"hovertemplate\": \"Current Salary=%{y}<br>Years of experience=%{x}<extra></extra>\", \"legendgroup\": \"39000.0\", \"line\": {\"color\": \"#00cc96\", \"dash\": \"solid\"}, \"mode\": \"lines\", \"name\": \"39000.0\", \"showlegend\": true, \"type\": \"scatter\", \"x\": [3.0], \"xaxis\": \"x\", \"y\": [39000.0], \"yaxis\": \"y\"}, {\"hovertemplate\": \"Current Salary=%{y}<br>Years of experience=%{x}<extra></extra>\", \"legendgroup\": \"64500.0\", \"line\": {\"color\": \"#ab63fa\", \"dash\": \"solid\"}, \"mode\": \"lines\", \"name\": \"64500.0\", \"showlegend\": true, \"type\": \"scatter\", \"x\": [10.0], \"xaxis\": \"x\", \"y\": [64500.0], \"yaxis\": \"y\"}, {\"hovertemplate\": \"Current Salary=%{y}<br>Years of experience=%{x}<extra></extra>\", \"legendgroup\": \"122000.0\", \"line\": {\"color\": \"#FFA15A\", \"dash\": \"solid\"}, \"mode\": \"lines\", \"name\": \"122000.0\", \"showlegend\": true, \"type\": \"scatter\", \"x\": [10.0], \"xaxis\": \"x\", \"y\": [122000.0], \"yaxis\": \"y\"}, {\"hovertemplate\": \"Current Salary=%{y}<br>Years of experience=%{x}<extra></extra>\", \"legendgroup\": \"165000.0\", \"line\": {\"color\": \"#19d3f3\", \"dash\": \"solid\"}, \"mode\": \"lines\", \"name\": \"165000.0\", \"showlegend\": true, \"type\": \"scatter\", \"x\": [15.0], \"xaxis\": \"x\", \"y\": [165000.0], \"yaxis\": \"y\"}, {\"hovertemplate\": \"Current Salary=%{y}<br>Years of experience=%{x}<extra></extra>\", \"legendgroup\": \"138000.0\", \"line\": {\"color\": \"#FF6692\", \"dash\": \"solid\"}, \"mode\": \"lines\", \"name\": \"138000.0\", \"showlegend\": true, \"type\": \"scatter\", \"x\": [9.0], \"xaxis\": \"x\", \"y\": [138000.0], \"yaxis\": \"y\"}, {\"hovertemplate\": \"Current Salary=%{y}<br>Years of experience=%{x}<extra></extra>\", \"legendgroup\": \"39150.0\", \"line\": {\"color\": \"#B6E880\", \"dash\": \"solid\"}, \"mode\": \"lines\", \"name\": \"39150.0\", \"showlegend\": true, \"type\": \"scatter\", \"x\": [4.5], \"xaxis\": \"x\", \"y\": [39150.0], \"yaxis\": \"y\"}, {\"hovertemplate\": \"Current Salary=%{y}<br>Years of experience=%{x}<extra></extra>\", \"legendgroup\": \"67500.0\", \"line\": {\"color\": \"#FF97FF\", \"dash\": \"solid\"}, \"mode\": \"lines\", \"name\": \"67500.0\", \"showlegend\": true, \"type\": \"scatter\", \"x\": [8.0], \"xaxis\": \"x\", \"y\": [67500.0], \"yaxis\": \"y\"}, {\"hovertemplate\": \"Current Salary=%{y}<br>Years of experience=%{x}<extra></extra>\", \"legendgroup\": \"37000.0\", \"line\": {\"color\": \"#FECB52\", \"dash\": \"solid\"}, \"mode\": \"lines\", \"name\": \"37000.0\", \"showlegend\": true, \"type\": \"scatter\", \"x\": [8.548497267759563, 3.0], \"xaxis\": \"x\", \"y\": [37000.0, 37000.0], \"yaxis\": \"y\"}, {\"hovertemplate\": \"Current Salary=%{y}<br>Years of experience=%{x}<extra></extra>\", \"legendgroup\": \"33600.0\", \"line\": {\"color\": \"#636efa\", \"dash\": \"solid\"}, \"mode\": \"lines\", \"name\": \"33600.0\", \"showlegend\": true, \"type\": \"scatter\", \"x\": [5.0], \"xaxis\": \"x\", \"y\": [33600.0], \"yaxis\": \"y\"}, {\"hovertemplate\": \"Current Salary=%{y}<br>Years of experience=%{x}<extra></extra>\", \"legendgroup\": \"132000.0\", \"line\": {\"color\": \"#EF553B\", \"dash\": \"solid\"}, \"mode\": \"lines\", \"name\": \"132000.0\", \"showlegend\": true, \"type\": \"scatter\", \"x\": [8.0], \"xaxis\": \"x\", \"y\": [132000.0], \"yaxis\": \"y\"}, {\"hovertemplate\": \"Current Salary=%{y}<br>Years of experience=%{x}<extra></extra>\", \"legendgroup\": \"87500.0\", \"line\": {\"color\": \"#00cc96\", \"dash\": \"solid\"}, \"mode\": \"lines\", \"name\": \"87500.0\", \"showlegend\": true, \"type\": \"scatter\", \"x\": [5.0], \"xaxis\": \"x\", \"y\": [87500.0], \"yaxis\": \"y\"}, {\"hovertemplate\": \"Current Salary=%{y}<br>Years of experience=%{x}<extra></extra>\", \"legendgroup\": \"128000.0\", \"line\": {\"color\": \"#ab63fa\", \"dash\": \"solid\"}, \"mode\": \"lines\", \"name\": \"128000.0\", \"showlegend\": true, \"type\": \"scatter\", \"x\": [14.0], \"xaxis\": \"x\", \"y\": [128000.0], \"yaxis\": \"y\"}, {\"hovertemplate\": \"Current Salary=%{y}<br>Years of experience=%{x}<extra></extra>\", \"legendgroup\": \"180000.0\", \"line\": {\"color\": \"#FFA15A\", \"dash\": \"solid\"}, \"mode\": \"lines\", \"name\": \"180000.0\", \"showlegend\": true, \"type\": \"scatter\", \"x\": [18.0], \"xaxis\": \"x\", \"y\": [180000.0], \"yaxis\": \"y\"}, {\"hovertemplate\": \"Current Salary=%{y}<br>Years of experience=%{x}<extra></extra>\", \"legendgroup\": \"57500.0\", \"line\": {\"color\": \"#19d3f3\", \"dash\": \"solid\"}, \"mode\": \"lines\", \"name\": \"57500.0\", \"showlegend\": true, \"type\": \"scatter\", \"x\": [7.0], \"xaxis\": \"x\", \"y\": [57500.0], \"yaxis\": \"y\"}, {\"hovertemplate\": \"Current Salary=%{y}<br>Years of experience=%{x}<extra></extra>\", \"legendgroup\": \"103000.0\", \"line\": {\"color\": \"#FF6692\", \"dash\": \"solid\"}, \"mode\": \"lines\", \"name\": \"103000.0\", \"showlegend\": true, \"type\": \"scatter\", \"x\": [16.0], \"xaxis\": \"x\", \"y\": [103000.0], \"yaxis\": \"y\"}, {\"hovertemplate\": \"Current Salary=%{y}<br>Years of experience=%{x}<extra></extra>\", \"legendgroup\": \"53600.0\", \"line\": {\"color\": \"#B6E880\", \"dash\": \"solid\"}, \"mode\": \"lines\", \"name\": \"53600.0\", \"showlegend\": true, \"type\": \"scatter\", \"x\": [15.0], \"xaxis\": \"x\", \"y\": [53600.0], \"yaxis\": \"y\"}, {\"hovertemplate\": \"Current Salary=%{y}<br>Years of experience=%{x}<extra></extra>\", \"legendgroup\": \"51600.0\", \"line\": {\"color\": \"#FF97FF\", \"dash\": \"solid\"}, \"mode\": \"lines\", \"name\": \"51600.0\", \"showlegend\": true, \"type\": \"scatter\", \"x\": [3.0], \"xaxis\": \"x\", \"y\": [51600.0], \"yaxis\": \"y\"}, {\"hovertemplate\": \"Current Salary=%{y}<br>Years of experience=%{x}<extra></extra>\", \"legendgroup\": \"60500.0\", \"line\": {\"color\": \"#FECB52\", \"dash\": \"solid\"}, \"mode\": \"lines\", \"name\": \"60500.0\", \"showlegend\": true, \"type\": \"scatter\", \"x\": [3.0], \"xaxis\": \"x\", \"y\": [60500.0], \"yaxis\": \"y\"}, {\"hovertemplate\": \"Current Salary=%{y}<br>Years of experience=%{x}<extra></extra>\", \"legendgroup\": \"15000.0\", \"line\": {\"color\": \"#636efa\", \"dash\": \"solid\"}, \"mode\": \"lines\", \"name\": \"15000.0\", \"showlegend\": true, \"type\": \"scatter\", \"x\": [10.0], \"xaxis\": \"x\", \"y\": [15000.0], \"yaxis\": \"y\"}, {\"hovertemplate\": \"Current Salary=%{y}<br>Years of experience=%{x}<extra></extra>\", \"legendgroup\": \"127000.0\", \"line\": {\"color\": \"#EF553B\", \"dash\": \"solid\"}, \"mode\": \"lines\", \"name\": \"127000.0\", \"showlegend\": true, \"type\": \"scatter\", \"x\": [18.0], \"xaxis\": \"x\", \"y\": [127000.0], \"yaxis\": \"y\"}, {\"hovertemplate\": \"Current Salary=%{y}<br>Years of experience=%{x}<extra></extra>\", \"legendgroup\": \"93000.0\", \"line\": {\"color\": \"#00cc96\", \"dash\": \"solid\"}, \"mode\": \"lines\", \"name\": \"93000.0\", \"showlegend\": true, \"type\": \"scatter\", \"x\": [20.0], \"xaxis\": \"x\", \"y\": [93000.0], \"yaxis\": \"y\"}, {\"hovertemplate\": \"Current Salary=%{y}<br>Years of experience=%{x}<extra></extra>\", \"legendgroup\": \"27000.0\", \"line\": {\"color\": \"#ab63fa\", \"dash\": \"solid\"}, \"mode\": \"lines\", \"name\": \"27000.0\", \"showlegend\": true, \"type\": \"scatter\", \"x\": [3.0], \"xaxis\": \"x\", \"y\": [27000.0], \"yaxis\": \"y\"}, {\"hovertemplate\": \"Current Salary=%{y}<br>Years of experience=%{x}<extra></extra>\", \"legendgroup\": \"33000.0\", \"line\": {\"color\": \"#FFA15A\", \"dash\": \"solid\"}, \"mode\": \"lines\", \"name\": \"33000.0\", \"showlegend\": true, \"type\": \"scatter\", \"x\": [7.0], \"xaxis\": \"x\", \"y\": [33000.0], \"yaxis\": \"y\"}, {\"hovertemplate\": \"Current Salary=%{y}<br>Years of experience=%{x}<extra></extra>\", \"legendgroup\": \"83200.0\", \"line\": {\"color\": \"#19d3f3\", \"dash\": \"solid\"}, \"mode\": \"lines\", \"name\": \"83200.0\", \"showlegend\": true, \"type\": \"scatter\", \"x\": [0.0], \"xaxis\": \"x\", \"y\": [83200.0], \"yaxis\": \"y\"}, {\"hovertemplate\": \"Current Salary=%{y}<br>Years of experience=%{x}<extra></extra>\", \"legendgroup\": \"80400.0\", \"line\": {\"color\": \"#FF6692\", \"dash\": \"solid\"}, \"mode\": \"lines\", \"name\": \"80400.0\", \"showlegend\": true, \"type\": \"scatter\", \"x\": [8.0], \"xaxis\": \"x\", \"y\": [80400.0], \"yaxis\": \"y\"}, {\"hovertemplate\": \"Current Salary=%{y}<br>Years of experience=%{x}<extra></extra>\", \"legendgroup\": \"13000.0\", \"line\": {\"color\": \"#B6E880\", \"dash\": \"solid\"}, \"mode\": \"lines\", \"name\": \"13000.0\", \"showlegend\": true, \"type\": \"scatter\", \"x\": [2.0], \"xaxis\": \"x\", \"y\": [13000.0], \"yaxis\": \"y\"}, {\"hovertemplate\": \"Current Salary=%{y}<br>Years of experience=%{x}<extra></extra>\", \"legendgroup\": \"71500.0\", \"line\": {\"color\": \"#FF97FF\", \"dash\": \"solid\"}, \"mode\": \"lines\", \"name\": \"71500.0\", \"showlegend\": true, \"type\": \"scatter\", \"x\": [9.0], \"xaxis\": \"x\", \"y\": [71500.0], \"yaxis\": \"y\"}, {\"hovertemplate\": \"Current Salary=%{y}<br>Years of experience=%{x}<extra></extra>\", \"legendgroup\": \"55555.0\", \"line\": {\"color\": \"#FECB52\", \"dash\": \"solid\"}, \"mode\": \"lines\", \"name\": \"55555.0\", \"showlegend\": true, \"type\": \"scatter\", \"x\": [3.0], \"xaxis\": \"x\", \"y\": [55555.0], \"yaxis\": \"y\"}],\n",
       "                        {\"legend\": {\"title\": {\"text\": \"Current Salary\"}, \"tracegroupgap\": 0}, \"template\": {\"data\": {\"bar\": [{\"error_x\": {\"color\": \"#2a3f5f\"}, \"error_y\": {\"color\": \"#2a3f5f\"}, \"marker\": {\"line\": {\"color\": \"#E5ECF6\", \"width\": 0.5}}, \"type\": \"bar\"}], \"barpolar\": [{\"marker\": {\"line\": {\"color\": \"#E5ECF6\", \"width\": 0.5}}, \"type\": \"barpolar\"}], \"carpet\": [{\"aaxis\": {\"endlinecolor\": \"#2a3f5f\", \"gridcolor\": \"white\", \"linecolor\": \"white\", \"minorgridcolor\": \"white\", \"startlinecolor\": \"#2a3f5f\"}, \"baxis\": {\"endlinecolor\": \"#2a3f5f\", \"gridcolor\": \"white\", \"linecolor\": \"white\", \"minorgridcolor\": \"white\", \"startlinecolor\": \"#2a3f5f\"}, \"type\": \"carpet\"}], \"choropleth\": [{\"colorbar\": {\"outlinewidth\": 0, \"ticks\": \"\"}, \"type\": \"choropleth\"}], \"contour\": [{\"colorbar\": {\"outlinewidth\": 0, \"ticks\": \"\"}, \"colorscale\": [[0.0, \"#0d0887\"], [0.1111111111111111, \"#46039f\"], [0.2222222222222222, \"#7201a8\"], [0.3333333333333333, \"#9c179e\"], [0.4444444444444444, \"#bd3786\"], [0.5555555555555556, \"#d8576b\"], [0.6666666666666666, \"#ed7953\"], [0.7777777777777778, \"#fb9f3a\"], [0.8888888888888888, \"#fdca26\"], [1.0, \"#f0f921\"]], \"type\": \"contour\"}], \"contourcarpet\": [{\"colorbar\": {\"outlinewidth\": 0, \"ticks\": \"\"}, \"type\": \"contourcarpet\"}], \"heatmap\": [{\"colorbar\": {\"outlinewidth\": 0, \"ticks\": \"\"}, \"colorscale\": [[0.0, \"#0d0887\"], [0.1111111111111111, \"#46039f\"], [0.2222222222222222, \"#7201a8\"], [0.3333333333333333, \"#9c179e\"], [0.4444444444444444, \"#bd3786\"], [0.5555555555555556, \"#d8576b\"], [0.6666666666666666, \"#ed7953\"], [0.7777777777777778, \"#fb9f3a\"], [0.8888888888888888, \"#fdca26\"], [1.0, \"#f0f921\"]], \"type\": \"heatmap\"}], \"heatmapgl\": [{\"colorbar\": {\"outlinewidth\": 0, \"ticks\": \"\"}, \"colorscale\": [[0.0, \"#0d0887\"], [0.1111111111111111, \"#46039f\"], [0.2222222222222222, \"#7201a8\"], [0.3333333333333333, \"#9c179e\"], [0.4444444444444444, \"#bd3786\"], [0.5555555555555556, \"#d8576b\"], [0.6666666666666666, \"#ed7953\"], [0.7777777777777778, \"#fb9f3a\"], [0.8888888888888888, \"#fdca26\"], [1.0, \"#f0f921\"]], \"type\": \"heatmapgl\"}], \"histogram\": [{\"marker\": {\"colorbar\": {\"outlinewidth\": 0, \"ticks\": \"\"}}, \"type\": \"histogram\"}], \"histogram2d\": [{\"colorbar\": {\"outlinewidth\": 0, \"ticks\": \"\"}, \"colorscale\": [[0.0, \"#0d0887\"], [0.1111111111111111, \"#46039f\"], [0.2222222222222222, \"#7201a8\"], [0.3333333333333333, \"#9c179e\"], [0.4444444444444444, \"#bd3786\"], [0.5555555555555556, \"#d8576b\"], [0.6666666666666666, \"#ed7953\"], [0.7777777777777778, \"#fb9f3a\"], [0.8888888888888888, \"#fdca26\"], [1.0, \"#f0f921\"]], \"type\": \"histogram2d\"}], \"histogram2dcontour\": [{\"colorbar\": {\"outlinewidth\": 0, \"ticks\": \"\"}, \"colorscale\": [[0.0, \"#0d0887\"], [0.1111111111111111, \"#46039f\"], [0.2222222222222222, \"#7201a8\"], [0.3333333333333333, \"#9c179e\"], [0.4444444444444444, \"#bd3786\"], [0.5555555555555556, \"#d8576b\"], [0.6666666666666666, \"#ed7953\"], [0.7777777777777778, \"#fb9f3a\"], [0.8888888888888888, \"#fdca26\"], [1.0, \"#f0f921\"]], \"type\": \"histogram2dcontour\"}], \"mesh3d\": [{\"colorbar\": {\"outlinewidth\": 0, \"ticks\": \"\"}, \"type\": \"mesh3d\"}], \"parcoords\": [{\"line\": {\"colorbar\": {\"outlinewidth\": 0, \"ticks\": \"\"}}, \"type\": \"parcoords\"}], \"pie\": [{\"automargin\": true, \"type\": \"pie\"}], \"scatter\": [{\"marker\": {\"colorbar\": {\"outlinewidth\": 0, \"ticks\": \"\"}}, \"type\": \"scatter\"}], \"scatter3d\": [{\"line\": {\"colorbar\": {\"outlinewidth\": 0, \"ticks\": \"\"}}, \"marker\": {\"colorbar\": {\"outlinewidth\": 0, \"ticks\": \"\"}}, \"type\": \"scatter3d\"}], \"scattercarpet\": [{\"marker\": {\"colorbar\": {\"outlinewidth\": 0, \"ticks\": \"\"}}, \"type\": \"scattercarpet\"}], \"scattergeo\": [{\"marker\": {\"colorbar\": {\"outlinewidth\": 0, \"ticks\": \"\"}}, \"type\": \"scattergeo\"}], \"scattergl\": [{\"marker\": {\"colorbar\": {\"outlinewidth\": 0, \"ticks\": \"\"}}, \"type\": \"scattergl\"}], \"scattermapbox\": [{\"marker\": {\"colorbar\": {\"outlinewidth\": 0, \"ticks\": \"\"}}, \"type\": \"scattermapbox\"}], \"scatterpolar\": [{\"marker\": {\"colorbar\": {\"outlinewidth\": 0, \"ticks\": \"\"}}, \"type\": \"scatterpolar\"}], \"scatterpolargl\": [{\"marker\": {\"colorbar\": {\"outlinewidth\": 0, \"ticks\": \"\"}}, \"type\": \"scatterpolargl\"}], \"scatterternary\": [{\"marker\": {\"colorbar\": {\"outlinewidth\": 0, \"ticks\": \"\"}}, \"type\": \"scatterternary\"}], \"surface\": [{\"colorbar\": {\"outlinewidth\": 0, \"ticks\": \"\"}, \"colorscale\": [[0.0, \"#0d0887\"], [0.1111111111111111, \"#46039f\"], [0.2222222222222222, \"#7201a8\"], [0.3333333333333333, \"#9c179e\"], [0.4444444444444444, \"#bd3786\"], [0.5555555555555556, \"#d8576b\"], [0.6666666666666666, \"#ed7953\"], [0.7777777777777778, \"#fb9f3a\"], [0.8888888888888888, \"#fdca26\"], [1.0, \"#f0f921\"]], \"type\": \"surface\"}], \"table\": [{\"cells\": {\"fill\": {\"color\": \"#EBF0F8\"}, \"line\": {\"color\": \"white\"}}, \"header\": {\"fill\": {\"color\": \"#C8D4E3\"}, \"line\": {\"color\": \"white\"}}, \"type\": \"table\"}]}, \"layout\": {\"annotationdefaults\": {\"arrowcolor\": \"#2a3f5f\", \"arrowhead\": 0, \"arrowwidth\": 1}, \"coloraxis\": {\"colorbar\": {\"outlinewidth\": 0, \"ticks\": \"\"}}, \"colorscale\": {\"diverging\": [[0, \"#8e0152\"], [0.1, \"#c51b7d\"], [0.2, \"#de77ae\"], [0.3, \"#f1b6da\"], [0.4, \"#fde0ef\"], [0.5, \"#f7f7f7\"], [0.6, \"#e6f5d0\"], [0.7, \"#b8e186\"], [0.8, \"#7fbc41\"], [0.9, \"#4d9221\"], [1, \"#276419\"]], \"sequential\": [[0.0, \"#0d0887\"], [0.1111111111111111, \"#46039f\"], [0.2222222222222222, \"#7201a8\"], [0.3333333333333333, \"#9c179e\"], [0.4444444444444444, \"#bd3786\"], [0.5555555555555556, \"#d8576b\"], [0.6666666666666666, \"#ed7953\"], [0.7777777777777778, \"#fb9f3a\"], [0.8888888888888888, \"#fdca26\"], [1.0, \"#f0f921\"]], \"sequentialminus\": [[0.0, \"#0d0887\"], [0.1111111111111111, \"#46039f\"], [0.2222222222222222, \"#7201a8\"], [0.3333333333333333, \"#9c179e\"], [0.4444444444444444, \"#bd3786\"], [0.5555555555555556, \"#d8576b\"], [0.6666666666666666, \"#ed7953\"], [0.7777777777777778, \"#fb9f3a\"], [0.8888888888888888, \"#fdca26\"], [1.0, \"#f0f921\"]]}, \"colorway\": [\"#636efa\", \"#EF553B\", \"#00cc96\", \"#ab63fa\", \"#FFA15A\", \"#19d3f3\", \"#FF6692\", \"#B6E880\", \"#FF97FF\", \"#FECB52\"], \"font\": {\"color\": \"#2a3f5f\"}, \"geo\": {\"bgcolor\": \"white\", \"lakecolor\": \"white\", \"landcolor\": \"#E5ECF6\", \"showlakes\": true, \"showland\": true, \"subunitcolor\": \"white\"}, \"hoverlabel\": {\"align\": \"left\"}, \"hovermode\": \"closest\", \"mapbox\": {\"style\": \"light\"}, \"paper_bgcolor\": \"white\", \"plot_bgcolor\": \"#E5ECF6\", \"polar\": {\"angularaxis\": {\"gridcolor\": \"white\", \"linecolor\": \"white\", \"ticks\": \"\"}, \"bgcolor\": \"#E5ECF6\", \"radialaxis\": {\"gridcolor\": \"white\", \"linecolor\": \"white\", \"ticks\": \"\"}}, \"scene\": {\"xaxis\": {\"backgroundcolor\": \"#E5ECF6\", \"gridcolor\": \"white\", \"gridwidth\": 2, \"linecolor\": \"white\", \"showbackground\": true, \"ticks\": \"\", \"zerolinecolor\": \"white\"}, \"yaxis\": {\"backgroundcolor\": \"#E5ECF6\", \"gridcolor\": \"white\", \"gridwidth\": 2, \"linecolor\": \"white\", \"showbackground\": true, \"ticks\": \"\", \"zerolinecolor\": \"white\"}, \"zaxis\": {\"backgroundcolor\": \"#E5ECF6\", \"gridcolor\": \"white\", \"gridwidth\": 2, \"linecolor\": \"white\", \"showbackground\": true, \"ticks\": \"\", \"zerolinecolor\": \"white\"}}, \"shapedefaults\": {\"line\": {\"color\": \"#2a3f5f\"}}, \"ternary\": {\"aaxis\": {\"gridcolor\": \"white\", \"linecolor\": \"white\", \"ticks\": \"\"}, \"baxis\": {\"gridcolor\": \"white\", \"linecolor\": \"white\", \"ticks\": \"\"}, \"bgcolor\": \"#E5ECF6\", \"caxis\": {\"gridcolor\": \"white\", \"linecolor\": \"white\", \"ticks\": \"\"}}, \"title\": {\"x\": 0.05}, \"xaxis\": {\"automargin\": true, \"gridcolor\": \"white\", \"linecolor\": \"white\", \"ticks\": \"\", \"title\": {\"standoff\": 15}, \"zerolinecolor\": \"white\", \"zerolinewidth\": 2}, \"yaxis\": {\"automargin\": true, \"gridcolor\": \"white\", \"linecolor\": \"white\", \"ticks\": \"\", \"title\": {\"standoff\": 15}, \"zerolinecolor\": \"white\", \"zerolinewidth\": 2}}}, \"title\": {\"text\": \"Years of XP vs Salary-- year 2018\"}, \"xaxis\": {\"anchor\": \"y\", \"domain\": [0.0, 1.0], \"title\": {\"text\": \"Years of experience\"}}, \"yaxis\": {\"anchor\": \"x\", \"categoryarray\": [55555.0, 71500.0, 13000.0, 80400.0, 83200.0, 33000.0, 27000.0, 93000.0, 127000.0, 15000.0, 60500.0, 51600.0, 53600.0, 103000.0, 57500.0, 180000.0, 128000.0, 87500.0, 132000.0, 33600.0, 37000.0, 67500.0, 39150.0, 138000.0, 165000.0, 122000.0, 64500.0, 39000.0, 47250.0, 150000.0, 58500.0, 69600.0, 51000.0, 38400.0, 108000.0, 51750.0, 19200.0, 17532.0, 23162.0, 47300.0, 20400.0, 57800.0, 64400.0, 39600.0, 24000.0, 10300.0, 38000.0, 92100.0, 40800.0, 111000.0, 67200.0, 68400.0, 47000.0, 59000.0, 112000.0, 110000.0, 31500.0, 68381.76533333333, 87975.0, 53500.0, 140000.0, 81000.0, 47500.0, 130000.0, 73500.0, 73300.0, 200000.0, 86000.0, 96000.0, 70500.0, 34000.0, 48500.0, 76000.0, 125000.0, 92000.0, 44000.0, 176000.0, 115000.0, 55800.0, 35000.0, 102000.0, 72500.0, 74000.0, 42000.0, 32000.0, 50400.0, 63000.0, 64000.0, 107000.0, 43000.0, 89000.0, 78600.0, 120000.0, 100000.0, 83000.0, 62000.0, 67000.0, 82000.0, 85000.0, 73000.0, 87000.0, 61000.0, 48000.0, 54000.0, 40000.0, 45000.0, 30000.0, 56000.0, 49000.0, 71000.0, 50000.0, 113000.0, 90000.0, 75000.0, 36000.0, 58000.0, 57000.0, 84000.0, 75800.0, 66000.0, 72000.0, 95000.0, 52000.0, 53000.0, 132250.0, 80000.0, 62500.0, 68000.0, 46000.0, 94500.0, 55000.0, 70000.0, 60000.0, 109000.0, 98000.0, 69000.0, 78000.0, 88000.0, 65000.0, 77000.0], \"categoryorder\": \"array\", \"domain\": [0.0, 1.0], \"title\": {\"text\": \"Current Salary\"}}},\n",
       "                        {\"responsive\": true}\n",
       "                    ).then(function(){\n",
       "                            \n",
       "var gd = document.getElementById('3d65ae0a-eddd-4751-974e-aa4cd15e8ef1');\n",
       "var x = new MutationObserver(function (mutations, observer) {{\n",
       "        var display = window.getComputedStyle(gd).display;\n",
       "        if (!display || display === 'none') {{\n",
       "            console.log([gd, 'removed!']);\n",
       "            Plotly.purge(gd);\n",
       "            observer.disconnect();\n",
       "        }}\n",
       "}});\n",
       "\n",
       "// Listen for the removal of the full notebook cells\n",
       "var notebookContainer = gd.closest('#notebook-container');\n",
       "if (notebookContainer) {{\n",
       "    x.observe(notebookContainer, {childList: true});\n",
       "}}\n",
       "\n",
       "// Listen for the clearing of the current output cell\n",
       "var outputEl = gd.closest('.output');\n",
       "if (outputEl) {{\n",
       "    x.observe(outputEl, {childList: true});\n",
       "}}\n",
       "\n",
       "                        })\n",
       "                };\n",
       "                });\n",
       "            </script>\n",
       "        </div>"
      ]
     },
     "metadata": {},
     "output_type": "display_data"
    }
   ],
   "source": [
    "fig = px.line(data_2018, x=\"Years of experience\", y='Current Salary',color=\"Current Salary\", title='Years of XP vs Salary-- year 2018')\n",
    "fig.show()"
   ]
  },
  {
   "cell_type": "markdown",
   "metadata": {
    "id": "eZhk-3nbFl2n"
   },
   "source": [
    "# Conclusion\n",
    "This brings us to the end of the assignment and to the bootcamp. We hope you had a great learning time. :)\n",
    "\n",
    "Now, you can submit your notebook for assessment. "
   ]
  },
  {
   "cell_type": "code",
   "execution_count": 203,
   "metadata": {
    "ExecuteTime": {
     "end_time": "2021-03-23T17:55:22.159833Z",
     "start_time": "2021-03-23T17:55:22.134848Z"
    },
    "colab": {
     "base_uri": "https://localhost:8080/"
    },
    "id": "OcnO4t9zkaBK",
    "outputId": "a3734653-b450-424c-feb3-8b8b8c4246ac"
   },
   "outputs": [
    {
     "data": {
      "text/plain": [
       "Index(['Age', 'Gender', 'City', 'Position', 'Years of experience',\n",
       "       'Seniority level', 'Current Salary', 'Salary one year ago',\n",
       "       'Salary two years ago', 'Are you getting any Stock Options?',\n",
       "       'Main language at work', 'Company size', 'Company type'],\n",
       "      dtype='object')"
      ]
     },
     "execution_count": 203,
     "metadata": {},
     "output_type": "execute_result"
    }
   ],
   "source": [
    "data_2018.columns"
   ]
  },
  {
   "cell_type": "code",
   "execution_count": 204,
   "metadata": {
    "ExecuteTime": {
     "end_time": "2021-03-23T17:55:22.175825Z",
     "start_time": "2021-03-23T17:55:22.163832Z"
    },
    "id": "U8QeEZFykb-G"
   },
   "outputs": [],
   "source": [
    "data_2018['Year'] = 2018"
   ]
  },
  {
   "cell_type": "code",
   "execution_count": 205,
   "metadata": {
    "ExecuteTime": {
     "end_time": "2021-03-23T17:55:22.206826Z",
     "start_time": "2021-03-23T17:55:22.182827Z"
    },
    "id": "fCDgjXV4kg3x"
   },
   "outputs": [],
   "source": [
    "data_2019['Year'] = 2019 \n",
    "data_2020['Year'] = 2020"
   ]
  },
  {
   "cell_type": "code",
   "execution_count": 206,
   "metadata": {
    "ExecuteTime": {
     "end_time": "2021-03-23T17:55:22.222797Z",
     "start_time": "2021-03-23T17:55:22.209806Z"
    },
    "id": "3ff_wYt1kjbx"
   },
   "outputs": [],
   "source": [
    "#df =pd.concat([data_2018, data_2019,data_2020])"
   ]
  },
  {
   "cell_type": "code",
   "execution_count": 207,
   "metadata": {
    "ExecuteTime": {
     "end_time": "2021-03-23T17:55:22.238788Z",
     "start_time": "2021-03-23T17:55:22.224796Z"
    },
    "colab": {
     "base_uri": "https://localhost:8080/"
    },
    "id": "22bt7KwVliIX",
    "outputId": "1b53f4a6-e824-4c51-852f-0071479988f1"
   },
   "outputs": [
    {
     "data": {
      "text/plain": [
       "Index(['Age', 'Gender', 'City', 'Position', 'Years of experience',\n",
       "       'Seniority level', 'Current Salary', 'Salary one year ago',\n",
       "       'Salary two years ago', 'Are you getting any Stock Options?',\n",
       "       'Main language at work', 'Company size', 'Company type', 'Year'],\n",
       "      dtype='object')"
      ]
     },
     "execution_count": 207,
     "metadata": {},
     "output_type": "execute_result"
    }
   ],
   "source": [
    "data_2018.columns"
   ]
  },
  {
   "cell_type": "code",
   "execution_count": 208,
   "metadata": {
    "ExecuteTime": {
     "end_time": "2021-03-23T17:55:22.254778Z",
     "start_time": "2021-03-23T17:55:22.241787Z"
    },
    "colab": {
     "base_uri": "https://localhost:8080/"
    },
    "id": "R84GyIpYmPW3",
    "outputId": "48bbee4f-544f-4a3a-94e5-36d43d9837b4"
   },
   "outputs": [
    {
     "data": {
      "text/plain": [
       "Index(['Age', 'Gender', 'City', 'Seniority level', 'Position',\n",
       "       'Years of experience', 'Your main technology / programming language',\n",
       "       'Yearly brutto salary (without bonus and stocks)', 'Yearly bonus',\n",
       "       'Yearly stocks',\n",
       "       'Yearly brutto salary (without bonus and stocks) one year ago. Only answer if staying in same country',\n",
       "       'Yearly bonus one year ago. Only answer if staying in same country',\n",
       "       'Yearly stocks one year ago. Only answer if staying in same country',\n",
       "       'Number of vacation days', 'Number of home office days per month',\n",
       "       'Main language at work', 'Company name', 'Company size', 'Company type',\n",
       "       'Сontract duration', 'Company business sector', 'Year'],\n",
       "      dtype='object')"
      ]
     },
     "execution_count": 208,
     "metadata": {},
     "output_type": "execute_result"
    }
   ],
   "source": [
    "data_2019.columns"
   ]
  },
  {
   "cell_type": "code",
   "execution_count": 209,
   "metadata": {
    "ExecuteTime": {
     "end_time": "2021-03-23T17:55:22.270769Z",
     "start_time": "2021-03-23T17:55:22.256777Z"
    },
    "colab": {
     "base_uri": "https://localhost:8080/"
    },
    "id": "X0yhfiUzmWKJ",
    "outputId": "4b5aed23-c70f-49aa-88c0-da0bae95bbd6"
   },
   "outputs": [
    {
     "data": {
      "text/plain": [
       "Index(['Age', 'Gender', 'City', 'Position', 'Total years of experience',\n",
       "       'Years of experience in Germany', 'Seniority level',\n",
       "       'Your main technology / programming language',\n",
       "       'Other technologies/programming languages you use often',\n",
       "       'Yearly brutto salary (without bonus and stocks) in EUR',\n",
       "       'Yearly bonus + stocks in EUR',\n",
       "       'Annual brutto salary (without bonus and stocks) one year ago. Only answer if staying in the same country',\n",
       "       'Annual bonus+stocks one year ago. Only answer if staying in same country',\n",
       "       'Number of vacation days', 'Employment status', 'Сontract duration',\n",
       "       'Main language at work', 'Company size', 'Company type',\n",
       "       'Have you lost your job due to the coronavirus outbreak?',\n",
       "       'Have you been forced to have a shorter working week (Kurzarbeit)? If yes, how many hours per week',\n",
       "       'Have you received additional monetary support from your employer due to Work From Home? If yes, how much in 2020 in EUR',\n",
       "       'Year'],\n",
       "      dtype='object')"
      ]
     },
     "execution_count": 209,
     "metadata": {},
     "output_type": "execute_result"
    }
   ],
   "source": [
    "data_2020.columns"
   ]
  },
  {
   "cell_type": "code",
   "execution_count": 210,
   "metadata": {
    "ExecuteTime": {
     "end_time": "2021-03-23T17:55:22.286760Z",
     "start_time": "2021-03-23T17:55:22.274767Z"
    },
    "id": "p2vQPI4HnV5h"
   },
   "outputs": [],
   "source": [
    "df_18 = data_2018.copy()\n",
    "df_19 = data_2019.copy()\n",
    "df_20 = data_2020.copy()"
   ]
  },
  {
   "cell_type": "code",
   "execution_count": 211,
   "metadata": {
    "ExecuteTime": {
     "end_time": "2021-03-23T17:55:22.301751Z",
     "start_time": "2021-03-23T17:55:22.288759Z"
    },
    "id": "U67ftuyxp1Lo"
   },
   "outputs": [],
   "source": [
    "df_18.rename(columns={'Current Salary':'Salary_in_EUR'},inplace=True)\n",
    "df_19.rename(columns={'Yearly brutto salary (without bonus and stocks)':'Salary_in_EUR'},inplace=True)\n",
    "df_20.rename(columns={'Yearly brutto salary (without bonus and stocks) in EUR':'Salary_in_EUR','Total years of experience':'Years of experience'},inplace=True)\n"
   ]
  },
  {
   "cell_type": "code",
   "execution_count": 212,
   "metadata": {
    "ExecuteTime": {
     "end_time": "2021-03-23T17:55:22.317742Z",
     "start_time": "2021-03-23T17:55:22.304750Z"
    },
    "colab": {
     "base_uri": "https://localhost:8080/"
    },
    "id": "6_rzpR4cqqTt",
    "outputId": "28d9a1ac-bc95-4433-f0f2-e729f20e4fd8"
   },
   "outputs": [
    {
     "data": {
      "text/plain": [
       "Index(['Age', 'Gender', 'City', 'Seniority level', 'Position',\n",
       "       'Years of experience', 'Your main technology / programming language',\n",
       "       'Salary_in_EUR', 'Yearly bonus', 'Yearly stocks',\n",
       "       'Yearly brutto salary (without bonus and stocks) one year ago. Only answer if staying in same country',\n",
       "       'Yearly bonus one year ago. Only answer if staying in same country',\n",
       "       'Yearly stocks one year ago. Only answer if staying in same country',\n",
       "       'Number of vacation days', 'Number of home office days per month',\n",
       "       'Main language at work', 'Company name', 'Company size', 'Company type',\n",
       "       'Сontract duration', 'Company business sector', 'Year'],\n",
       "      dtype='object')"
      ]
     },
     "execution_count": 212,
     "metadata": {},
     "output_type": "execute_result"
    }
   ],
   "source": [
    "df_19.columns"
   ]
  },
  {
   "cell_type": "code",
   "execution_count": 213,
   "metadata": {
    "ExecuteTime": {
     "end_time": "2021-03-23T17:55:22.332734Z",
     "start_time": "2021-03-23T17:55:22.320741Z"
    },
    "id": "r0j0bwr6nk6K"
   },
   "outputs": [],
   "source": [
    "cols_18_19_20 = ['Age', \n",
    "'Gender', \n",
    "'City', \n",
    "'Position', \n",
    "'Years of experience',\n",
    "'Seniority level', \n",
    "'Salary_in_EUR',\n",
    "'Main language at work', \n",
    "'Company size', \n",
    "'Company type', \n",
    "'Year']"
   ]
  },
  {
   "cell_type": "code",
   "execution_count": 214,
   "metadata": {
    "ExecuteTime": {
     "end_time": "2021-03-23T17:55:22.348724Z",
     "start_time": "2021-03-23T17:55:22.335732Z"
    },
    "id": "likobW1Hrr_o"
   },
   "outputs": [],
   "source": [
    "# I will take only the Cols above to Create a good Viz usin Dash\n",
    "df_sur_18 = df_18[cols_18_19_20]\n",
    "df_sur_19 = df_19[cols_18_19_20]\n",
    "df_sur_20 = df_20[cols_18_19_20]"
   ]
  },
  {
   "cell_type": "code",
   "execution_count": 215,
   "metadata": {
    "ExecuteTime": {
     "end_time": "2021-03-23T17:55:22.380704Z",
     "start_time": "2021-03-23T17:55:22.350722Z"
    },
    "colab": {
     "base_uri": "https://localhost:8080/",
     "height": 198
    },
    "id": "r_2zX_VyrwYh",
    "outputId": "f10ef120-fa58-4234-809f-0965a37d46ee"
   },
   "outputs": [
    {
     "data": {
      "text/html": [
       "<div>\n",
       "<style scoped>\n",
       "    .dataframe tbody tr th:only-of-type {\n",
       "        vertical-align: middle;\n",
       "    }\n",
       "\n",
       "    .dataframe tbody tr th {\n",
       "        vertical-align: top;\n",
       "    }\n",
       "\n",
       "    .dataframe thead th {\n",
       "        text-align: right;\n",
       "    }\n",
       "</style>\n",
       "<table border=\"1\" class=\"dataframe\">\n",
       "  <thead>\n",
       "    <tr style=\"text-align: right;\">\n",
       "      <th></th>\n",
       "      <th>Age</th>\n",
       "      <th>Gender</th>\n",
       "      <th>City</th>\n",
       "      <th>Position</th>\n",
       "      <th>Years of experience</th>\n",
       "      <th>Seniority level</th>\n",
       "      <th>Salary_in_EUR</th>\n",
       "      <th>Main language at work</th>\n",
       "      <th>Company size</th>\n",
       "      <th>Company type</th>\n",
       "      <th>Year</th>\n",
       "    </tr>\n",
       "  </thead>\n",
       "  <tbody>\n",
       "    <tr>\n",
       "      <th>0</th>\n",
       "      <td>43.0</td>\n",
       "      <td>M</td>\n",
       "      <td>München</td>\n",
       "      <td>QA Ingenieur</td>\n",
       "      <td>11.0</td>\n",
       "      <td>Senior</td>\n",
       "      <td>77000.0</td>\n",
       "      <td>Deutsch</td>\n",
       "      <td>100-1000</td>\n",
       "      <td>Product</td>\n",
       "      <td>2018</td>\n",
       "    </tr>\n",
       "    <tr>\n",
       "      <th>1</th>\n",
       "      <td>33.0</td>\n",
       "      <td>F</td>\n",
       "      <td>München</td>\n",
       "      <td>Senior PHP Magento developer</td>\n",
       "      <td>8.0</td>\n",
       "      <td>Senior</td>\n",
       "      <td>65000.0</td>\n",
       "      <td>Deutsch</td>\n",
       "      <td>50-100</td>\n",
       "      <td>Product</td>\n",
       "      <td>2018</td>\n",
       "    </tr>\n",
       "    <tr>\n",
       "      <th>2</th>\n",
       "      <td>32.0</td>\n",
       "      <td>M</td>\n",
       "      <td>München</td>\n",
       "      <td>Software Engineer</td>\n",
       "      <td>10.0</td>\n",
       "      <td>Senior</td>\n",
       "      <td>88000.0</td>\n",
       "      <td>Deutsch</td>\n",
       "      <td>1000+</td>\n",
       "      <td>Product</td>\n",
       "      <td>2018</td>\n",
       "    </tr>\n",
       "    <tr>\n",
       "      <th>3</th>\n",
       "      <td>25.0</td>\n",
       "      <td>M</td>\n",
       "      <td>München</td>\n",
       "      <td>Senior Frontend Developer</td>\n",
       "      <td>6.0</td>\n",
       "      <td>Senior</td>\n",
       "      <td>78000.0</td>\n",
       "      <td>English</td>\n",
       "      <td>1000+</td>\n",
       "      <td>Product</td>\n",
       "      <td>2018</td>\n",
       "    </tr>\n",
       "    <tr>\n",
       "      <th>4</th>\n",
       "      <td>39.0</td>\n",
       "      <td>M</td>\n",
       "      <td>München</td>\n",
       "      <td>UX Designer</td>\n",
       "      <td>10.0</td>\n",
       "      <td>Senior</td>\n",
       "      <td>69000.0</td>\n",
       "      <td>English</td>\n",
       "      <td>100-1000</td>\n",
       "      <td>Ecom retailer</td>\n",
       "      <td>2018</td>\n",
       "    </tr>\n",
       "  </tbody>\n",
       "</table>\n",
       "</div>"
      ],
      "text/plain": [
       "    Age Gender     City                       Position  Years of experience  \\\n",
       "0  43.0      M  München                   QA Ingenieur                 11.0   \n",
       "1  33.0      F  München  Senior PHP Magento developer                   8.0   \n",
       "2  32.0      M  München              Software Engineer                 10.0   \n",
       "3  25.0      M  München      Senior Frontend Developer                  6.0   \n",
       "4  39.0      M  München                    UX Designer                 10.0   \n",
       "\n",
       "  Seniority level  Salary_in_EUR Main language at work Company size  \\\n",
       "0          Senior        77000.0               Deutsch     100-1000   \n",
       "1          Senior        65000.0               Deutsch       50-100   \n",
       "2          Senior        88000.0               Deutsch        1000+   \n",
       "3          Senior        78000.0               English        1000+   \n",
       "4          Senior        69000.0               English     100-1000   \n",
       "\n",
       "    Company type  Year  \n",
       "0        Product  2018  \n",
       "1        Product  2018  \n",
       "2        Product  2018  \n",
       "3        Product  2018  \n",
       "4  Ecom retailer  2018  "
      ]
     },
     "execution_count": 215,
     "metadata": {},
     "output_type": "execute_result"
    }
   ],
   "source": [
    "df_sur_18.head()"
   ]
  },
  {
   "cell_type": "code",
   "execution_count": 216,
   "metadata": {
    "ExecuteTime": {
     "end_time": "2021-03-23T17:55:22.412686Z",
     "start_time": "2021-03-23T17:55:22.383704Z"
    },
    "colab": {
     "base_uri": "https://localhost:8080/",
     "height": 198
    },
    "id": "kwsoRT9hryej",
    "outputId": "d1c3e75b-ffb3-4c16-e1bb-19c66c986aef"
   },
   "outputs": [
    {
     "data": {
      "text/html": [
       "<div>\n",
       "<style scoped>\n",
       "    .dataframe tbody tr th:only-of-type {\n",
       "        vertical-align: middle;\n",
       "    }\n",
       "\n",
       "    .dataframe tbody tr th {\n",
       "        vertical-align: top;\n",
       "    }\n",
       "\n",
       "    .dataframe thead th {\n",
       "        text-align: right;\n",
       "    }\n",
       "</style>\n",
       "<table border=\"1\" class=\"dataframe\">\n",
       "  <thead>\n",
       "    <tr style=\"text-align: right;\">\n",
       "      <th></th>\n",
       "      <th>Age</th>\n",
       "      <th>Gender</th>\n",
       "      <th>City</th>\n",
       "      <th>Position</th>\n",
       "      <th>Years of experience</th>\n",
       "      <th>Seniority level</th>\n",
       "      <th>Salary_in_EUR</th>\n",
       "      <th>Main language at work</th>\n",
       "      <th>Company size</th>\n",
       "      <th>Company type</th>\n",
       "      <th>Year</th>\n",
       "    </tr>\n",
       "  </thead>\n",
       "  <tbody>\n",
       "    <tr>\n",
       "      <th>0</th>\n",
       "      <td>33.0000</td>\n",
       "      <td>Male</td>\n",
       "      <td>Berlin</td>\n",
       "      <td>Fullstack Developer</td>\n",
       "      <td>13.0</td>\n",
       "      <td>Senior</td>\n",
       "      <td>64000.0</td>\n",
       "      <td>English</td>\n",
       "      <td>50-100</td>\n",
       "      <td>Startup</td>\n",
       "      <td>2019</td>\n",
       "    </tr>\n",
       "    <tr>\n",
       "      <th>1</th>\n",
       "      <td>29.0000</td>\n",
       "      <td>Male</td>\n",
       "      <td>Berlin</td>\n",
       "      <td>Backend Developer</td>\n",
       "      <td>3.0</td>\n",
       "      <td>Middle</td>\n",
       "      <td>55000.0</td>\n",
       "      <td>English</td>\n",
       "      <td>10-50</td>\n",
       "      <td>Product</td>\n",
       "      <td>2019</td>\n",
       "    </tr>\n",
       "    <tr>\n",
       "      <th>2</th>\n",
       "      <td>32.4161</td>\n",
       "      <td>Male</td>\n",
       "      <td>Berlin</td>\n",
       "      <td>Mobile Developer</td>\n",
       "      <td>4.0</td>\n",
       "      <td>Middle</td>\n",
       "      <td>70000.0</td>\n",
       "      <td>English</td>\n",
       "      <td>1000+</td>\n",
       "      <td>Startup</td>\n",
       "      <td>2019</td>\n",
       "    </tr>\n",
       "    <tr>\n",
       "      <th>3</th>\n",
       "      <td>30.0000</td>\n",
       "      <td>Male</td>\n",
       "      <td>Berlin</td>\n",
       "      <td>Backend Developer</td>\n",
       "      <td>6.0</td>\n",
       "      <td>Senior</td>\n",
       "      <td>63000.0</td>\n",
       "      <td>English</td>\n",
       "      <td>100-1000</td>\n",
       "      <td>Product</td>\n",
       "      <td>2019</td>\n",
       "    </tr>\n",
       "    <tr>\n",
       "      <th>4</th>\n",
       "      <td>32.0000</td>\n",
       "      <td>Male</td>\n",
       "      <td>Berlin</td>\n",
       "      <td>Embedded Developer</td>\n",
       "      <td>10.0</td>\n",
       "      <td>Senior</td>\n",
       "      <td>66000.0</td>\n",
       "      <td>English</td>\n",
       "      <td>50-100</td>\n",
       "      <td>Product</td>\n",
       "      <td>2019</td>\n",
       "    </tr>\n",
       "  </tbody>\n",
       "</table>\n",
       "</div>"
      ],
      "text/plain": [
       "       Age Gender    City             Position  Years of experience  \\\n",
       "0  33.0000   Male  Berlin  Fullstack Developer                 13.0   \n",
       "1  29.0000   Male  Berlin    Backend Developer                  3.0   \n",
       "2  32.4161   Male  Berlin     Mobile Developer                  4.0   \n",
       "3  30.0000   Male  Berlin    Backend Developer                  6.0   \n",
       "4  32.0000   Male  Berlin   Embedded Developer                 10.0   \n",
       "\n",
       "  Seniority level  Salary_in_EUR Main language at work Company size  \\\n",
       "0          Senior        64000.0               English       50-100   \n",
       "1          Middle        55000.0               English        10-50   \n",
       "2          Middle        70000.0               English        1000+   \n",
       "3          Senior        63000.0               English     100-1000   \n",
       "4          Senior        66000.0               English       50-100   \n",
       "\n",
       "  Company type  Year  \n",
       "0      Startup  2019  \n",
       "1      Product  2019  \n",
       "2      Startup  2019  \n",
       "3      Product  2019  \n",
       "4      Product  2019  "
      ]
     },
     "execution_count": 216,
     "metadata": {},
     "output_type": "execute_result"
    }
   ],
   "source": [
    "df_sur_19.head()"
   ]
  },
  {
   "cell_type": "code",
   "execution_count": 217,
   "metadata": {
    "ExecuteTime": {
     "end_time": "2021-03-23T17:55:22.444668Z",
     "start_time": "2021-03-23T17:55:22.415685Z"
    },
    "colab": {
     "base_uri": "https://localhost:8080/",
     "height": 198
    },
    "id": "2RN9jjz3sUH_",
    "outputId": "27b2217b-2bfc-4984-90e4-b991e0e80e1a"
   },
   "outputs": [
    {
     "data": {
      "text/html": [
       "<div>\n",
       "<style scoped>\n",
       "    .dataframe tbody tr th:only-of-type {\n",
       "        vertical-align: middle;\n",
       "    }\n",
       "\n",
       "    .dataframe tbody tr th {\n",
       "        vertical-align: top;\n",
       "    }\n",
       "\n",
       "    .dataframe thead th {\n",
       "        text-align: right;\n",
       "    }\n",
       "</style>\n",
       "<table border=\"1\" class=\"dataframe\">\n",
       "  <thead>\n",
       "    <tr style=\"text-align: right;\">\n",
       "      <th></th>\n",
       "      <th>Age</th>\n",
       "      <th>Gender</th>\n",
       "      <th>City</th>\n",
       "      <th>Position</th>\n",
       "      <th>Years of experience</th>\n",
       "      <th>Seniority level</th>\n",
       "      <th>Salary_in_EUR</th>\n",
       "      <th>Main language at work</th>\n",
       "      <th>Company size</th>\n",
       "      <th>Company type</th>\n",
       "      <th>Year</th>\n",
       "    </tr>\n",
       "  </thead>\n",
       "  <tbody>\n",
       "    <tr>\n",
       "      <th>0</th>\n",
       "      <td>26.0</td>\n",
       "      <td>Male</td>\n",
       "      <td>Munich</td>\n",
       "      <td>Software Engineer</td>\n",
       "      <td>5</td>\n",
       "      <td>Senior</td>\n",
       "      <td>80000.0</td>\n",
       "      <td>English</td>\n",
       "      <td>51-100</td>\n",
       "      <td>Product</td>\n",
       "      <td>2020</td>\n",
       "    </tr>\n",
       "    <tr>\n",
       "      <th>1</th>\n",
       "      <td>26.0</td>\n",
       "      <td>Male</td>\n",
       "      <td>Berlin</td>\n",
       "      <td>Backend Developer</td>\n",
       "      <td>7</td>\n",
       "      <td>Senior</td>\n",
       "      <td>80000.0</td>\n",
       "      <td>English</td>\n",
       "      <td>101-1000</td>\n",
       "      <td>Product</td>\n",
       "      <td>2020</td>\n",
       "    </tr>\n",
       "    <tr>\n",
       "      <th>2</th>\n",
       "      <td>29.0</td>\n",
       "      <td>Male</td>\n",
       "      <td>Berlin</td>\n",
       "      <td>Software Engineer</td>\n",
       "      <td>12</td>\n",
       "      <td>Lead</td>\n",
       "      <td>120000.0</td>\n",
       "      <td>English</td>\n",
       "      <td>101-1000</td>\n",
       "      <td>Product</td>\n",
       "      <td>2020</td>\n",
       "    </tr>\n",
       "    <tr>\n",
       "      <th>3</th>\n",
       "      <td>28.0</td>\n",
       "      <td>Male</td>\n",
       "      <td>Berlin</td>\n",
       "      <td>Frontend Developer</td>\n",
       "      <td>4</td>\n",
       "      <td>Junior</td>\n",
       "      <td>54000.0</td>\n",
       "      <td>English</td>\n",
       "      <td>51-100</td>\n",
       "      <td>Startup</td>\n",
       "      <td>2020</td>\n",
       "    </tr>\n",
       "    <tr>\n",
       "      <th>4</th>\n",
       "      <td>37.0</td>\n",
       "      <td>Male</td>\n",
       "      <td>Berlin</td>\n",
       "      <td>Backend Developer</td>\n",
       "      <td>17</td>\n",
       "      <td>Senior</td>\n",
       "      <td>62000.0</td>\n",
       "      <td>English</td>\n",
       "      <td>101-1000</td>\n",
       "      <td>Product</td>\n",
       "      <td>2020</td>\n",
       "    </tr>\n",
       "  </tbody>\n",
       "</table>\n",
       "</div>"
      ],
      "text/plain": [
       "    Age Gender    City            Position Years of experience  \\\n",
       "0  26.0   Male  Munich   Software Engineer                   5   \n",
       "1  26.0   Male  Berlin   Backend Developer                   7   \n",
       "2  29.0   Male  Berlin   Software Engineer                  12   \n",
       "3  28.0   Male  Berlin  Frontend Developer                   4   \n",
       "4  37.0   Male  Berlin   Backend Developer                  17   \n",
       "\n",
       "  Seniority level  Salary_in_EUR Main language at work Company size  \\\n",
       "0          Senior        80000.0               English       51-100   \n",
       "1          Senior        80000.0               English     101-1000   \n",
       "2            Lead       120000.0               English     101-1000   \n",
       "3          Junior        54000.0               English       51-100   \n",
       "4          Senior        62000.0               English     101-1000   \n",
       "\n",
       "  Company type  Year  \n",
       "0      Product  2020  \n",
       "1      Product  2020  \n",
       "2      Product  2020  \n",
       "3      Startup  2020  \n",
       "4      Product  2020  "
      ]
     },
     "execution_count": 217,
     "metadata": {},
     "output_type": "execute_result"
    }
   ],
   "source": [
    "df_sur_20.head()"
   ]
  },
  {
   "cell_type": "code",
   "execution_count": 218,
   "metadata": {
    "ExecuteTime": {
     "end_time": "2021-03-23T17:55:22.476649Z",
     "start_time": "2021-03-23T17:55:22.448666Z"
    },
    "id": "NjOcf1BEscVL"
   },
   "outputs": [],
   "source": [
    "survey_18_20 =pd.concat([df_sur_18, df_sur_19,df_sur_20])"
   ]
  },
  {
   "cell_type": "code",
   "execution_count": 219,
   "metadata": {
    "ExecuteTime": {
     "end_time": "2021-03-23T17:55:22.522623Z",
     "start_time": "2021-03-23T17:55:22.479647Z"
    },
    "colab": {
     "base_uri": "https://localhost:8080/",
     "height": 442
    },
    "id": "R8Q4wRzes-p1",
    "outputId": "7229a1c4-a0f5-40cd-cbb8-bd447a1d7f0c"
   },
   "outputs": [
    {
     "data": {
      "text/html": [
       "<div>\n",
       "<style scoped>\n",
       "    .dataframe tbody tr th:only-of-type {\n",
       "        vertical-align: middle;\n",
       "    }\n",
       "\n",
       "    .dataframe tbody tr th {\n",
       "        vertical-align: top;\n",
       "    }\n",
       "\n",
       "    .dataframe thead th {\n",
       "        text-align: right;\n",
       "    }\n",
       "</style>\n",
       "<table border=\"1\" class=\"dataframe\">\n",
       "  <thead>\n",
       "    <tr style=\"text-align: right;\">\n",
       "      <th></th>\n",
       "      <th>Age</th>\n",
       "      <th>Gender</th>\n",
       "      <th>City</th>\n",
       "      <th>Position</th>\n",
       "      <th>Years of experience</th>\n",
       "      <th>Seniority level</th>\n",
       "      <th>Salary_in_EUR</th>\n",
       "      <th>Main language at work</th>\n",
       "      <th>Company size</th>\n",
       "      <th>Company type</th>\n",
       "      <th>Year</th>\n",
       "    </tr>\n",
       "  </thead>\n",
       "  <tbody>\n",
       "    <tr>\n",
       "      <th>0</th>\n",
       "      <td>43.0</td>\n",
       "      <td>M</td>\n",
       "      <td>München</td>\n",
       "      <td>QA Ingenieur</td>\n",
       "      <td>11</td>\n",
       "      <td>Senior</td>\n",
       "      <td>77000.0</td>\n",
       "      <td>Deutsch</td>\n",
       "      <td>100-1000</td>\n",
       "      <td>Product</td>\n",
       "      <td>2018</td>\n",
       "    </tr>\n",
       "    <tr>\n",
       "      <th>1</th>\n",
       "      <td>33.0</td>\n",
       "      <td>F</td>\n",
       "      <td>München</td>\n",
       "      <td>Senior PHP Magento developer</td>\n",
       "      <td>8</td>\n",
       "      <td>Senior</td>\n",
       "      <td>65000.0</td>\n",
       "      <td>Deutsch</td>\n",
       "      <td>50-100</td>\n",
       "      <td>Product</td>\n",
       "      <td>2018</td>\n",
       "    </tr>\n",
       "    <tr>\n",
       "      <th>2</th>\n",
       "      <td>32.0</td>\n",
       "      <td>M</td>\n",
       "      <td>München</td>\n",
       "      <td>Software Engineer</td>\n",
       "      <td>10</td>\n",
       "      <td>Senior</td>\n",
       "      <td>88000.0</td>\n",
       "      <td>Deutsch</td>\n",
       "      <td>1000+</td>\n",
       "      <td>Product</td>\n",
       "      <td>2018</td>\n",
       "    </tr>\n",
       "    <tr>\n",
       "      <th>3</th>\n",
       "      <td>25.0</td>\n",
       "      <td>M</td>\n",
       "      <td>München</td>\n",
       "      <td>Senior Frontend Developer</td>\n",
       "      <td>6</td>\n",
       "      <td>Senior</td>\n",
       "      <td>78000.0</td>\n",
       "      <td>English</td>\n",
       "      <td>1000+</td>\n",
       "      <td>Product</td>\n",
       "      <td>2018</td>\n",
       "    </tr>\n",
       "    <tr>\n",
       "      <th>4</th>\n",
       "      <td>39.0</td>\n",
       "      <td>M</td>\n",
       "      <td>München</td>\n",
       "      <td>UX Designer</td>\n",
       "      <td>10</td>\n",
       "      <td>Senior</td>\n",
       "      <td>69000.0</td>\n",
       "      <td>English</td>\n",
       "      <td>100-1000</td>\n",
       "      <td>Ecom retailer</td>\n",
       "      <td>2018</td>\n",
       "    </tr>\n",
       "    <tr>\n",
       "      <th>...</th>\n",
       "      <td>...</td>\n",
       "      <td>...</td>\n",
       "      <td>...</td>\n",
       "      <td>...</td>\n",
       "      <td>...</td>\n",
       "      <td>...</td>\n",
       "      <td>...</td>\n",
       "      <td>...</td>\n",
       "      <td>...</td>\n",
       "      <td>...</td>\n",
       "      <td>...</td>\n",
       "    </tr>\n",
       "    <tr>\n",
       "      <th>1248</th>\n",
       "      <td>31.0</td>\n",
       "      <td>Male</td>\n",
       "      <td>Berlin</td>\n",
       "      <td>Backend Developer</td>\n",
       "      <td>9</td>\n",
       "      <td>Senior</td>\n",
       "      <td>70000.0</td>\n",
       "      <td>English</td>\n",
       "      <td>51-100</td>\n",
       "      <td>Product</td>\n",
       "      <td>2020</td>\n",
       "    </tr>\n",
       "    <tr>\n",
       "      <th>1249</th>\n",
       "      <td>33.0</td>\n",
       "      <td>Male</td>\n",
       "      <td>Berlin</td>\n",
       "      <td>Researcher/ Consumer Insights Analyst</td>\n",
       "      <td>10</td>\n",
       "      <td>Senior</td>\n",
       "      <td>60000.0</td>\n",
       "      <td>English</td>\n",
       "      <td>1000+</td>\n",
       "      <td>Product</td>\n",
       "      <td>2020</td>\n",
       "    </tr>\n",
       "    <tr>\n",
       "      <th>1250</th>\n",
       "      <td>39.0</td>\n",
       "      <td>Male</td>\n",
       "      <td>Munich</td>\n",
       "      <td>IT Operations Manager</td>\n",
       "      <td>15</td>\n",
       "      <td>Lead</td>\n",
       "      <td>110000.0</td>\n",
       "      <td>English</td>\n",
       "      <td>101-1000</td>\n",
       "      <td>eCommerce</td>\n",
       "      <td>2020</td>\n",
       "    </tr>\n",
       "    <tr>\n",
       "      <th>1251</th>\n",
       "      <td>26.0</td>\n",
       "      <td>Male</td>\n",
       "      <td>Saarbrücken</td>\n",
       "      <td>Frontend Developer</td>\n",
       "      <td>7</td>\n",
       "      <td>Middle</td>\n",
       "      <td>38350.0</td>\n",
       "      <td>German</td>\n",
       "      <td>101-1000</td>\n",
       "      <td>Product</td>\n",
       "      <td>2020</td>\n",
       "    </tr>\n",
       "    <tr>\n",
       "      <th>1252</th>\n",
       "      <td>26.0</td>\n",
       "      <td>Male</td>\n",
       "      <td>Berlin</td>\n",
       "      <td>DevOps</td>\n",
       "      <td>2</td>\n",
       "      <td>Middle</td>\n",
       "      <td>65000.0</td>\n",
       "      <td>English</td>\n",
       "      <td>51-100</td>\n",
       "      <td>Startup</td>\n",
       "      <td>2020</td>\n",
       "    </tr>\n",
       "  </tbody>\n",
       "</table>\n",
       "<p>3009 rows × 11 columns</p>\n",
       "</div>"
      ],
      "text/plain": [
       "       Age Gender         City                                Position  \\\n",
       "0     43.0      M      München                            QA Ingenieur   \n",
       "1     33.0      F      München           Senior PHP Magento developer    \n",
       "2     32.0      M      München                       Software Engineer   \n",
       "3     25.0      M      München               Senior Frontend Developer   \n",
       "4     39.0      M      München                             UX Designer   \n",
       "...    ...    ...          ...                                     ...   \n",
       "1248  31.0   Male       Berlin                       Backend Developer   \n",
       "1249  33.0   Male       Berlin  Researcher/ Consumer Insights Analyst    \n",
       "1250  39.0   Male       Munich                   IT Operations Manager   \n",
       "1251  26.0   Male  Saarbrücken                      Frontend Developer   \n",
       "1252  26.0   Male       Berlin                                  DevOps   \n",
       "\n",
       "     Years of experience Seniority level  Salary_in_EUR Main language at work  \\\n",
       "0                     11          Senior        77000.0               Deutsch   \n",
       "1                      8          Senior        65000.0               Deutsch   \n",
       "2                     10          Senior        88000.0               Deutsch   \n",
       "3                      6          Senior        78000.0               English   \n",
       "4                     10          Senior        69000.0               English   \n",
       "...                  ...             ...            ...                   ...   \n",
       "1248                   9          Senior        70000.0               English   \n",
       "1249                  10          Senior        60000.0               English   \n",
       "1250                  15            Lead       110000.0               English   \n",
       "1251                   7          Middle        38350.0                German   \n",
       "1252                   2          Middle        65000.0               English   \n",
       "\n",
       "     Company size   Company type  Year  \n",
       "0        100-1000        Product  2018  \n",
       "1          50-100        Product  2018  \n",
       "2           1000+        Product  2018  \n",
       "3           1000+        Product  2018  \n",
       "4        100-1000  Ecom retailer  2018  \n",
       "...           ...            ...   ...  \n",
       "1248       51-100        Product  2020  \n",
       "1249        1000+        Product  2020  \n",
       "1250     101-1000      eCommerce  2020  \n",
       "1251     101-1000        Product  2020  \n",
       "1252       51-100        Startup  2020  \n",
       "\n",
       "[3009 rows x 11 columns]"
      ]
     },
     "execution_count": 219,
     "metadata": {},
     "output_type": "execute_result"
    }
   ],
   "source": [
    "survey_18_20"
   ]
  },
  {
   "cell_type": "code",
   "execution_count": 220,
   "metadata": {
    "ExecuteTime": {
     "end_time": "2021-03-23T17:55:22.554604Z",
     "start_time": "2021-03-23T17:55:22.524622Z"
    },
    "colab": {
     "base_uri": "https://localhost:8080/"
    },
    "id": "YWglYxG8tAQs",
    "outputId": "54822623-81fe-4fe9-d2c4-862b0d39bd9f"
   },
   "outputs": [
    {
     "name": "stdout",
     "output_type": "stream",
     "text": [
      "<class 'pandas.core.frame.DataFrame'>\n",
      "Int64Index: 3009 entries, 0 to 1252\n",
      "Data columns (total 11 columns):\n",
      " #   Column                 Non-Null Count  Dtype  \n",
      "---  ------                 --------------  -----  \n",
      " 0   Age                    3009 non-null   float64\n",
      " 1   Gender                 3009 non-null   object \n",
      " 2   City                   3009 non-null   object \n",
      " 3   Position               3009 non-null   object \n",
      " 4   Years of experience    3009 non-null   object \n",
      " 5   Seniority level        3009 non-null   object \n",
      " 6   Salary_in_EUR          3009 non-null   float64\n",
      " 7   Main language at work  3009 non-null   object \n",
      " 8   Company size           3009 non-null   object \n",
      " 9   Company type           3009 non-null   object \n",
      " 10  Year                   3009 non-null   int64  \n",
      "dtypes: float64(2), int64(1), object(8)\n",
      "memory usage: 282.1+ KB\n"
     ]
    }
   ],
   "source": [
    "survey_18_20.info()"
   ]
  },
  {
   "cell_type": "code",
   "execution_count": 221,
   "metadata": {
    "ExecuteTime": {
     "end_time": "2021-03-23T17:55:22.570594Z",
     "start_time": "2021-03-23T17:55:22.557602Z"
    }
   },
   "outputs": [
    {
     "data": {
      "text/plain": [
       "Male       1897\n",
       "M           660\n",
       "Female      345\n",
       "F           105\n",
       "Diverse       2\n",
       "Name: Gender, dtype: int64"
      ]
     },
     "execution_count": 221,
     "metadata": {},
     "output_type": "execute_result"
    }
   ],
   "source": [
    "survey_18_20['Gender'].value_counts()"
   ]
  },
  {
   "cell_type": "code",
   "execution_count": 222,
   "metadata": {
    "ExecuteTime": {
     "end_time": "2021-03-23T17:55:22.586585Z",
     "start_time": "2021-03-23T17:55:22.572593Z"
    }
   },
   "outputs": [],
   "source": [
    "survey_18_20['Gender'] = survey_18_20['Gender'].replace('M','Male')\n",
    "survey_18_20['Gender'] = survey_18_20['Gender'].replace('F','Female')"
   ]
  },
  {
   "cell_type": "code",
   "execution_count": 223,
   "metadata": {
    "ExecuteTime": {
     "end_time": "2021-03-23T17:55:22.602576Z",
     "start_time": "2021-03-23T17:55:22.589583Z"
    }
   },
   "outputs": [
    {
     "data": {
      "text/plain": [
       "Male       2557\n",
       "Female      450\n",
       "Diverse       2\n",
       "Name: Gender, dtype: int64"
      ]
     },
     "execution_count": 223,
     "metadata": {},
     "output_type": "execute_result"
    }
   ],
   "source": [
    "survey_18_20['Gender'].value_counts()"
   ]
  },
  {
   "cell_type": "code",
   "execution_count": 224,
   "metadata": {
    "ExecuteTime": {
     "end_time": "2021-03-23T17:55:22.634557Z",
     "start_time": "2021-03-23T17:55:22.604575Z"
    }
   },
   "outputs": [
    {
     "data": {
      "text/plain": [
       "32    459\n",
       "30    274\n",
       "33    231\n",
       "31    218\n",
       "29    187\n",
       "28    181\n",
       "35    181\n",
       "34    171\n",
       "27    136\n",
       "36    126\n",
       "26    119\n",
       "37    106\n",
       "38     95\n",
       "25     95\n",
       "40     64\n",
       "24     60\n",
       "39     55\n",
       "42     43\n",
       "43     28\n",
       "41     28\n",
       "23     25\n",
       "45     24\n",
       "44     19\n",
       "22     18\n",
       "46     13\n",
       "48      9\n",
       "47      8\n",
       "21      6\n",
       "52      5\n",
       "50      5\n",
       "49      5\n",
       "54      3\n",
       "51      2\n",
       "56      2\n",
       "20      2\n",
       "69      1\n",
       "60      1\n",
       "65      1\n",
       "53      1\n",
       "59      1\n",
       "66      1\n",
       "Name: Age, dtype: int64"
      ]
     },
     "execution_count": 224,
     "metadata": {},
     "output_type": "execute_result"
    }
   ],
   "source": [
    "survey_18_20['Age'] = survey_18_20['Age'].astype(int)\n",
    "survey_18_20['Age'].value_counts()"
   ]
  },
  {
   "cell_type": "code",
   "execution_count": 225,
   "metadata": {
    "ExecuteTime": {
     "end_time": "2021-03-23T17:55:22.650548Z",
     "start_time": "2021-03-23T17:55:22.637555Z"
    }
   },
   "outputs": [
    {
     "data": {
      "text/plain": [
       "Index(['Age', 'Gender', 'City', 'Position', 'Years of experience',\n",
       "       'Seniority level', 'Salary_in_EUR', 'Main language at work',\n",
       "       'Company size', 'Company type', 'Year'],\n",
       "      dtype='object')"
      ]
     },
     "execution_count": 225,
     "metadata": {},
     "output_type": "execute_result"
    }
   ],
   "source": [
    "survey_18_20.columns"
   ]
  },
  {
   "cell_type": "code",
   "execution_count": 226,
   "metadata": {
    "ExecuteTime": {
     "end_time": "2021-03-23T17:55:22.682528Z",
     "start_time": "2021-03-23T17:55:22.652546Z"
    }
   },
   "outputs": [
    {
     "name": "stdout",
     "output_type": "stream",
     "text": [
      "<class 'pandas.core.frame.DataFrame'>\n",
      "Int64Index: 3009 entries, 0 to 1252\n",
      "Data columns (total 11 columns):\n",
      " #   Column                 Non-Null Count  Dtype  \n",
      "---  ------                 --------------  -----  \n",
      " 0   Age                    3009 non-null   int32  \n",
      " 1   Gender                 3009 non-null   object \n",
      " 2   City                   3009 non-null   object \n",
      " 3   Position               3009 non-null   object \n",
      " 4   Years of experience    3009 non-null   object \n",
      " 5   Seniority level        3009 non-null   object \n",
      " 6   Salary_in_EUR          3009 non-null   float64\n",
      " 7   Main language at work  3009 non-null   object \n",
      " 8   Company size           3009 non-null   object \n",
      " 9   Company type           3009 non-null   object \n",
      " 10  Year                   3009 non-null   int64  \n",
      "dtypes: float64(1), int32(1), int64(1), object(8)\n",
      "memory usage: 270.3+ KB\n"
     ]
    }
   ],
   "source": [
    "survey_18_20.info()"
   ]
  },
  {
   "cell_type": "code",
   "execution_count": 227,
   "metadata": {
    "ExecuteTime": {
     "end_time": "2021-03-23T17:55:22.712511Z",
     "start_time": "2021-03-23T17:55:22.687525Z"
    }
   },
   "outputs": [
    {
     "data": {
      "text/plain": [
       "BERLIN            1431\n",
       "MUNICH             476\n",
       "MÜNCHEN            249\n",
       "FRANKFURT          127\n",
       "AMSTERDAM          104\n",
       "                  ... \n",
       "WÜRZBURG             1\n",
       "MEMMINGEN            1\n",
       "WARSAW, POLAND       1\n",
       "FRANKONIA            1\n",
       "CRACOVIA             1\n",
       "Name: City, Length: 180, dtype: int64"
      ]
     },
     "execution_count": 227,
     "metadata": {},
     "output_type": "execute_result"
    }
   ],
   "source": [
    "survey_18_20['City'] = survey_18_20['City'].str.upper()\n",
    "survey_18_20['City'].value_counts()"
   ]
  },
  {
   "cell_type": "code",
   "execution_count": 228,
   "metadata": {
    "ExecuteTime": {
     "end_time": "2021-03-23T17:55:22.743494Z",
     "start_time": "2021-03-23T17:55:22.715509Z"
    }
   },
   "outputs": [
    {
     "data": {
      "text/plain": [
       "BACKEND DEVELOPER                434\n",
       "SOFTWARE ENGINEER                433\n",
       "DATA SCIENTIST                   248\n",
       "FRONTEND DEVELOPER               175\n",
       "DEVOPS                           126\n",
       "                                ... \n",
       "IT CONSULTING                      1\n",
       "SALES OPS TEAM LEAD                1\n",
       "SOFTWARE DEVELOPMENT ENGINEER      1\n",
       "BUSINESS ANALYST/RE                1\n",
       "SEM MANAGER                        1\n",
       "Name: Position, Length: 452, dtype: int64"
      ]
     },
     "execution_count": 228,
     "metadata": {},
     "output_type": "execute_result"
    }
   ],
   "source": [
    "survey_18_20['Position'] = survey_18_20['Position'].str.upper()\n",
    "survey_18_20['Position'].value_counts()"
   ]
  },
  {
   "cell_type": "code",
   "execution_count": 243,
   "metadata": {
    "ExecuteTime": {
     "end_time": "2021-03-23T18:04:09.423124Z",
     "start_time": "2021-03-23T18:04:09.400755Z"
    }
   },
   "outputs": [
    {
     "data": {
      "text/plain": [
       "10.0    367\n",
       "5.0     300\n",
       "8.0     240\n",
       "6.0     223\n",
       "7.0     219\n",
       "4.0     183\n",
       "3.0     174\n",
       "12.0    164\n",
       "15.0    154\n",
       "9.0     151\n",
       "2.0     129\n",
       "11.0    126\n",
       "1.0      93\n",
       "13.0     85\n",
       "14.0     72\n",
       "20.0     64\n",
       "16.0     47\n",
       "18.0     44\n",
       "8.5      33\n",
       "17.0     28\n",
       "19.0     18\n",
       "25.0     15\n",
       "0.0      15\n",
       "2.5      10\n",
       "22.0      9\n",
       "30.0      7\n",
       "1.5       6\n",
       "21.0      4\n",
       "0.5       3\n",
       "4.5       3\n",
       "28.0      3\n",
       "7.5       2\n",
       "24.0      2\n",
       "23.0      2\n",
       "27.0      2\n",
       "3.5       2\n",
       "0.8       2\n",
       "38.0      1\n",
       "38.3      1\n",
       "40.0      1\n",
       "26.0      1\n",
       "5.5       1\n",
       "6.5       1\n",
       "29.0      1\n",
       "31.0      1\n",
       "Name: Years of experience, dtype: int64"
      ]
     },
     "execution_count": 243,
     "metadata": {},
     "output_type": "execute_result"
    }
   ],
   "source": [
    "survey_18_20['Years of experience'] = survey_18_20['Years of experience'].astype(float).round(1)\n",
    "survey_18_20['Years of experience'].value_counts()"
   ]
  },
  {
   "cell_type": "code",
   "execution_count": 232,
   "metadata": {
    "ExecuteTime": {
     "end_time": "2021-03-23T17:57:40.722932Z",
     "start_time": "2021-03-23T17:57:40.699930Z"
    }
   },
   "outputs": [
    {
     "data": {
      "text/plain": [
       "SENIOR                                       1698\n",
       "MIDDLE                                        844\n",
       "LEAD                                          201\n",
       "JUNIOR                                        192\n",
       "HEAD                                           50\n",
       "PRINCIPAL                                       6\n",
       "INTERN                                          2\n",
       "STUDENT                                         2\n",
       "SELF EMPLOYED                                   1\n",
       "VP                                              1\n",
       "C-LEVEL EXECUTIVE MANAGER                       1\n",
       "DIRECTOR                                        1\n",
       "WORKING STUDENT                                 1\n",
       "MANAGER                                         1\n",
       "NO IDEA, THERE ARE NO RANGES IN THE FIRM        1\n",
       "ENTRY LEVEL                                     1\n",
       "WORK CENTER MANAGER                             1\n",
       "NO LEVEL                                        1\n",
       "KEY                                             1\n",
       "NO LEVEL                                        1\n",
       "CTO                                             1\n",
       "C-LEVEL                                         1\n",
       "Name: Seniority level, dtype: int64"
      ]
     },
     "execution_count": 232,
     "metadata": {},
     "output_type": "execute_result"
    }
   ],
   "source": [
    "survey_18_20['Seniority level'] = survey_18_20['Seniority level'].str.upper()\n",
    "survey_18_20['Seniority level'].value_counts()"
   ]
  },
  {
   "cell_type": "code",
   "execution_count": 254,
   "metadata": {
    "ExecuteTime": {
     "end_time": "2021-03-23T18:09:06.804481Z",
     "start_time": "2021-03-23T18:09:06.784496Z"
    }
   },
   "outputs": [
    {
     "data": {
      "text/plain": [
       "60000.0        211\n",
       "65000.0        204\n",
       "70000.0        196\n",
       "75000.0        169\n",
       "80000.0        131\n",
       "              ... \n",
       "500000000.0      1\n",
       "74200.0          1\n",
       "6000.0           1\n",
       "11000.0          1\n",
       "95500.0          1\n",
       "Name: Salary_in_EUR, Length: 307, dtype: int64"
      ]
     },
     "execution_count": 254,
     "metadata": {},
     "output_type": "execute_result"
    }
   ],
   "source": [
    "survey_18_20['Salary_in_EUR'] = survey_18_20['Salary_in_EUR'].astype(float).round(1)\n",
    "survey_18_20['Salary_in_EUR'].value_counts()"
   ]
  },
  {
   "cell_type": "code",
   "execution_count": 255,
   "metadata": {
    "ExecuteTime": {
     "end_time": "2021-03-23T18:09:14.245604Z",
     "start_time": "2021-03-23T18:09:14.224619Z"
    }
   },
   "outputs": [
    {
     "data": {
      "text/plain": [
       "60000.0    211\n",
       "65000.0    204\n",
       "70000.0    196\n",
       "75000.0    169\n",
       "80000.0    131\n",
       "          ... \n",
       "6000.0       1\n",
       "11000.0      1\n",
       "33200.0      1\n",
       "39400.0      1\n",
       "27977.0      1\n",
       "Name: Salary_in_EUR, Length: 299, dtype: int64"
      ]
     },
     "execution_count": 255,
     "metadata": {},
     "output_type": "execute_result"
    }
   ],
   "source": [
    "survey_18_20 = survey_18_20[survey_18_20['Salary_in_EUR'] <= 200000.0]\n",
    "survey_18_20['Salary_in_EUR'].value_counts()"
   ]
  },
  {
   "cell_type": "code",
   "execution_count": 256,
   "metadata": {
    "ExecuteTime": {
     "end_time": "2021-03-23T18:10:27.725178Z",
     "start_time": "2021-03-23T18:10:27.710167Z"
    }
   },
   "outputs": [
    {
     "data": {
      "text/plain": [
       "English                                  2382\n",
       "Deutsch                                   315\n",
       "German                                    186\n",
       "Russian                                    78\n",
       "French                                      8\n",
       "Polish                                      6\n",
       "Italian                                     5\n",
       "Spanish                                     4\n",
       "Czech                                       2\n",
       "English and German                          2\n",
       "Русский                                     2\n",
       "Polish+English                              1\n",
       "Russian, English                            1\n",
       "Team - Russian; Cross-team - English;       1\n",
       "Ukrainian                                   1\n",
       "English+Deutsch                             1\n",
       "both                                        1\n",
       "Deutsch/Englisch                            1\n",
       "50/50                                       1\n",
       "Deuglisch                                   1\n",
       "Dutch                                       1\n",
       "Name: Main language at work, dtype: int64"
      ]
     },
     "execution_count": 256,
     "metadata": {},
     "output_type": "execute_result"
    }
   ],
   "source": [
    "survey_18_20['Main language at work'].value_counts()"
   ]
  },
  {
   "cell_type": "code",
   "execution_count": 260,
   "metadata": {
    "ExecuteTime": {
     "end_time": "2021-03-23T18:18:37.081243Z",
     "start_time": "2021-03-23T18:18:37.056256Z"
    },
    "collapsed": true
   },
   "outputs": [
    {
     "name": "stderr",
     "output_type": "stream",
     "text": [
      "<ipython-input-260-a297ca4eec02>:1: SettingWithCopyWarning:\n",
      "\n",
      "\n",
      "A value is trying to be set on a copy of a slice from a DataFrame.\n",
      "Try using .loc[row_indexer,col_indexer] = value instead\n",
      "\n",
      "See the caveats in the documentation: https://pandas.pydata.org/pandas-docs/stable/user_guide/indexing.html#returning-a-view-versus-a-copy\n",
      "\n",
      "<ipython-input-260-a297ca4eec02>:2: SettingWithCopyWarning:\n",
      "\n",
      "\n",
      "A value is trying to be set on a copy of a slice from a DataFrame.\n",
      "Try using .loc[row_indexer,col_indexer] = value instead\n",
      "\n",
      "See the caveats in the documentation: https://pandas.pydata.org/pandas-docs/stable/user_guide/indexing.html#returning-a-view-versus-a-copy\n",
      "\n",
      "<ipython-input-260-a297ca4eec02>:3: SettingWithCopyWarning:\n",
      "\n",
      "\n",
      "A value is trying to be set on a copy of a slice from a DataFrame.\n",
      "Try using .loc[row_indexer,col_indexer] = value instead\n",
      "\n",
      "See the caveats in the documentation: https://pandas.pydata.org/pandas-docs/stable/user_guide/indexing.html#returning-a-view-versus-a-copy\n",
      "\n",
      "<ipython-input-260-a297ca4eec02>:4: SettingWithCopyWarning:\n",
      "\n",
      "\n",
      "A value is trying to be set on a copy of a slice from a DataFrame.\n",
      "Try using .loc[row_indexer,col_indexer] = value instead\n",
      "\n",
      "See the caveats in the documentation: https://pandas.pydata.org/pandas-docs/stable/user_guide/indexing.html#returning-a-view-versus-a-copy\n",
      "\n",
      "<ipython-input-260-a297ca4eec02>:5: SettingWithCopyWarning:\n",
      "\n",
      "\n",
      "A value is trying to be set on a copy of a slice from a DataFrame.\n",
      "Try using .loc[row_indexer,col_indexer] = value instead\n",
      "\n",
      "See the caveats in the documentation: https://pandas.pydata.org/pandas-docs/stable/user_guide/indexing.html#returning-a-view-versus-a-copy\n",
      "\n"
     ]
    }
   ],
   "source": [
    "survey_18_20['Main language at work'] = survey_18_20['Main language at work'].replace(['Russian, English','Team - Russian; Cross-team - English;'],'Russian_&_English')\n",
    "survey_18_20['Main language at work'] = survey_18_20['Main language at work'].replace(['English+Deutsch','Deutsch/Englisch','Deuglisch'],'Deutsch_&_English')\n",
    "survey_18_20['Main language at work'] = survey_18_20['Main language at work'].replace(['English and German','50/50','both'],'German_&_English')\n",
    "survey_18_20['Main language at work'] = survey_18_20['Main language at work'].replace('Dutch','Deutsch')\n",
    "survey_18_20['Main language at work'] = survey_18_20['Main language at work'].replace('Polish+English','Polish_&_English')\n"
   ]
  },
  {
   "cell_type": "code",
   "execution_count": 261,
   "metadata": {
    "ExecuteTime": {
     "end_time": "2021-03-23T18:18:43.618260Z",
     "start_time": "2021-03-23T18:18:43.605251Z"
    }
   },
   "outputs": [
    {
     "data": {
      "text/plain": [
       "English              2382\n",
       "Deutsch               316\n",
       "German                186\n",
       "Russian                78\n",
       "French                  8\n",
       "Polish                  6\n",
       "Italian                 5\n",
       "Spanish                 4\n",
       "German_&_English        4\n",
       "Deutsch_&_English       3\n",
       "Czech                   2\n",
       "Русский                 2\n",
       "Russian_&_English       2\n",
       "Ukrainian               1\n",
       "Polish_&_English        1\n",
       "Name: Main language at work, dtype: int64"
      ]
     },
     "execution_count": 261,
     "metadata": {},
     "output_type": "execute_result"
    }
   ],
   "source": [
    "survey_18_20['Main language at work'].value_counts()"
   ]
  },
  {
   "cell_type": "code",
   "execution_count": 262,
   "metadata": {
    "ExecuteTime": {
     "end_time": "2021-03-23T18:19:15.082227Z",
     "start_time": "2021-03-23T18:19:15.062241Z"
    }
   },
   "outputs": [
    {
     "data": {
      "text/plain": [
       "1000+       1026\n",
       "100-1000     654\n",
       "101-1000     403\n",
       "50-100       252\n",
       "10-50        222\n",
       "11-50        174\n",
       "51-100       147\n",
       "up to 10     122\n",
       "Name: Company size, dtype: int64"
      ]
     },
     "execution_count": 262,
     "metadata": {},
     "output_type": "execute_result"
    }
   ],
   "source": [
    "survey_18_20['Company size'].value_counts()"
   ]
  },
  {
   "cell_type": "code",
   "execution_count": 266,
   "metadata": {
    "ExecuteTime": {
     "end_time": "2021-03-23T18:21:48.148959Z",
     "start_time": "2021-03-23T18:21:48.125955Z"
    }
   },
   "outputs": [
    {
     "name": "stderr",
     "output_type": "stream",
     "text": [
      "<ipython-input-266-ef1d5248bb0b>:1: SettingWithCopyWarning:\n",
      "\n",
      "\n",
      "A value is trying to be set on a copy of a slice from a DataFrame.\n",
      "Try using .loc[row_indexer,col_indexer] = value instead\n",
      "\n",
      "See the caveats in the documentation: https://pandas.pydata.org/pandas-docs/stable/user_guide/indexing.html#returning-a-view-versus-a-copy\n",
      "\n"
     ]
    },
    {
     "data": {
      "text/plain": [
       "PRODUCT                               1914\n",
       "STARTUP                                576\n",
       "CONSULTING / AGENCY                    259\n",
       "AGENCY                                  74\n",
       "BODYSHOP / OUTSOURCE                    30\n",
       "                                      ... \n",
       "PROJECT-BASED SOFTWARE DEVELOPMENT       1\n",
       "SYSTEMHAUS                               1\n",
       "SCIENCE INSTITUTE                        1\n",
       "IT CONSULTANCY                           1\n",
       "FREELANCE                                1\n",
       "Name: Company type, Length: 96, dtype: int64"
      ]
     },
     "execution_count": 266,
     "metadata": {},
     "output_type": "execute_result"
    }
   ],
   "source": [
    "survey_18_20['Company type']= survey_18_20['Company type'].str.upper()\n",
    "survey_18_20['Company type'].value_counts()"
   ]
  },
  {
   "cell_type": "code",
   "execution_count": 276,
   "metadata": {
    "ExecuteTime": {
     "end_time": "2021-03-23T18:30:48.394000Z",
     "start_time": "2021-03-23T18:30:48.348026Z"
    }
   },
   "outputs": [
    {
     "name": "stdout",
     "output_type": "stream",
     "text": [
      "succesfully saved\n"
     ]
    }
   ],
   "source": [
    "survey_18_20.to_csv('survey_18_20.csv')\n",
    "print('succesfully saved')"
   ]
  },
  {
   "cell_type": "markdown",
   "metadata": {
    "ExecuteTime": {
     "end_time": "2021-03-24T22:36:32.783354Z",
     "start_time": "2021-03-24T22:36:32.762174Z"
    }
   },
   "source": [
    "# to launch app see Script : \n",
    "\n",
    "* Script of Dash App Dashboard: \n",
    "    \n",
    "    **dash_app_IT_Sal_Survey_Ayoub_Berdeddouch.py**\n",
    "\n",
    "run through line of commande : `python dash_app_IT_Sal_Survey_Ayoub_Berdeddouch.py`"
   ]
  }
 ],
 "metadata": {
  "colab": {
   "collapsed_sections": [
    "ZTfhIScP_AHG"
   ],
   "name": "DA_&_VIZ_DASH_APP_AyoubBerdeddouch.ipynb",
   "provenance": []
  },
  "kernelspec": {
   "display_name": "Python 3",
   "language": "python",
   "name": "python3"
  },
  "language_info": {
   "codemirror_mode": {
    "name": "ipython",
    "version": 3
   },
   "file_extension": ".py",
   "mimetype": "text/x-python",
   "name": "python",
   "nbconvert_exporter": "python",
   "pygments_lexer": "ipython3",
   "version": "3.8.5"
  },
  "toc": {
   "base_numbering": 1,
   "nav_menu": {},
   "number_sections": true,
   "sideBar": true,
   "skip_h1_title": false,
   "title_cell": "Table of Contents",
   "title_sidebar": "Contents",
   "toc_cell": false,
   "toc_position": {},
   "toc_section_display": true,
   "toc_window_display": false
  }
 },
 "nbformat": 4,
 "nbformat_minor": 1
}
